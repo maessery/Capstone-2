{
 "cells": [
  {
   "cell_type": "code",
   "execution_count": 1,
   "metadata": {},
   "outputs": [
    {
     "name": "stderr",
     "output_type": "stream",
     "text": [
      "\n",
      "Bad key text.latex.unicode in file c:\\users\\squatch\\appdata\\local\\programs\\python\\python36-32\\lib\\site-packages\\matplotlib\\mpl-data\\stylelib\\_classic_test.mplstyle, line 112 ('text.latex.unicode : False # use \"ucs\" and \"inputenc\" LaTeX packages for handling')\n",
      "You probably need to get an updated matplotlibrc file from\n",
      "https://github.com/matplotlib/matplotlib/blob/v3.3.4/matplotlibrc.template\n",
      "or from the matplotlib source distribution\n",
      "\n",
      "Bad key savefig.frameon in file c:\\users\\squatch\\appdata\\local\\programs\\python\\python36-32\\lib\\site-packages\\matplotlib\\mpl-data\\stylelib\\_classic_test.mplstyle, line 423 ('savefig.frameon : True')\n",
      "You probably need to get an updated matplotlibrc file from\n",
      "https://github.com/matplotlib/matplotlib/blob/v3.3.4/matplotlibrc.template\n",
      "or from the matplotlib source distribution\n",
      "\n",
      "Bad key nbagg.transparent in file c:\\users\\squatch\\appdata\\local\\programs\\python\\python36-32\\lib\\site-packages\\matplotlib\\mpl-data\\stylelib\\_classic_test.mplstyle, line 426 ('nbagg.transparent: True')\n",
      "You probably need to get an updated matplotlibrc file from\n",
      "https://github.com/matplotlib/matplotlib/blob/v3.3.4/matplotlibrc.template\n",
      "or from the matplotlib source distribution\n",
      "\n",
      "Bad key pgf.debug in file c:\\users\\squatch\\appdata\\local\\programs\\python\\python36-32\\lib\\site-packages\\matplotlib\\mpl-data\\stylelib\\_classic_test.mplstyle, line 446 ('pgf.debug           : False')\n",
      "You probably need to get an updated matplotlibrc file from\n",
      "https://github.com/matplotlib/matplotlib/blob/v3.3.4/matplotlibrc.template\n",
      "or from the matplotlib source distribution\n",
      "\n",
      "Bad key verbose.level in file c:\\users\\squatch\\appdata\\local\\programs\\python\\python36-32\\lib\\site-packages\\matplotlib\\mpl-data\\stylelib\\_classic_test.mplstyle, line 477 ('verbose.level  : silent      # one of silent, helpful, debug, debug-annoying')\n",
      "You probably need to get an updated matplotlibrc file from\n",
      "https://github.com/matplotlib/matplotlib/blob/v3.3.4/matplotlibrc.template\n",
      "or from the matplotlib source distribution\n",
      "\n",
      "Bad key verbose.fileo in file c:\\users\\squatch\\appdata\\local\\programs\\python\\python36-32\\lib\\site-packages\\matplotlib\\mpl-data\\stylelib\\_classic_test.mplstyle, line 478 ('verbose.fileo  : sys.stdout  # a log filename, sys.stdout or sys.stderr')\n",
      "You probably need to get an updated matplotlibrc file from\n",
      "https://github.com/matplotlib/matplotlib/blob/v3.3.4/matplotlibrc.template\n",
      "or from the matplotlib source distribution\n",
      "\n",
      "Bad key animation.mencoder_path in file c:\\users\\squatch\\appdata\\local\\programs\\python\\python36-32\\lib\\site-packages\\matplotlib\\mpl-data\\stylelib\\_classic_test.mplstyle, line 509 ('animation.mencoder_path: mencoder')\n",
      "You probably need to get an updated matplotlibrc file from\n",
      "https://github.com/matplotlib/matplotlib/blob/v3.3.4/matplotlibrc.template\n",
      "or from the matplotlib source distribution\n",
      "\n",
      "Bad key animation.mencoder_args in file c:\\users\\squatch\\appdata\\local\\programs\\python\\python36-32\\lib\\site-packages\\matplotlib\\mpl-data\\stylelib\\_classic_test.mplstyle, line 512 ('animation.mencoder_args:          # Additional arguments to pass to mencoder')\n",
      "You probably need to get an updated matplotlibrc file from\n",
      "https://github.com/matplotlib/matplotlib/blob/v3.3.4/matplotlibrc.template\n",
      "or from the matplotlib source distribution\n",
      "In c:\\users\\squatch\\appdata\\local\\programs\\python\\python36-32\\lib\\site-packages\\matplotlib\\mpl-data\\stylelib\\_classic_test.mplstyle: \n",
      "The text.latex.preview rcparam was deprecated in Matplotlib 3.3 and will be removed two minor releases later.\n",
      "In c:\\users\\squatch\\appdata\\local\\programs\\python\\python36-32\\lib\\site-packages\\matplotlib\\mpl-data\\stylelib\\_classic_test.mplstyle: \n",
      "The mathtext.fallback_to_cm rcparam was deprecated in Matplotlib 3.3 and will be removed two minor releases later.\n",
      "In c:\\users\\squatch\\appdata\\local\\programs\\python\\python36-32\\lib\\site-packages\\matplotlib\\mpl-data\\stylelib\\_classic_test.mplstyle: Support for setting the 'mathtext.fallback_to_cm' rcParam is deprecated since 3.3 and will be removed two minor releases later; use 'mathtext.fallback : 'cm' instead.\n",
      "In c:\\users\\squatch\\appdata\\local\\programs\\python\\python36-32\\lib\\site-packages\\matplotlib\\mpl-data\\stylelib\\_classic_test.mplstyle: \n",
      "The validate_bool_maybe_none function was deprecated in Matplotlib 3.3 and will be removed two minor releases later.\n",
      "In c:\\users\\squatch\\appdata\\local\\programs\\python\\python36-32\\lib\\site-packages\\matplotlib\\mpl-data\\stylelib\\_classic_test.mplstyle: \n",
      "The savefig.jpeg_quality rcparam was deprecated in Matplotlib 3.3 and will be removed two minor releases later.\n",
      "In c:\\users\\squatch\\appdata\\local\\programs\\python\\python36-32\\lib\\site-packages\\matplotlib\\mpl-data\\stylelib\\_classic_test.mplstyle: \n",
      "The keymap.all_axes rcparam was deprecated in Matplotlib 3.3 and will be removed two minor releases later.\n",
      "In c:\\users\\squatch\\appdata\\local\\programs\\python\\python36-32\\lib\\site-packages\\matplotlib\\mpl-data\\stylelib\\_classic_test.mplstyle: \n",
      "The animation.avconv_path rcparam was deprecated in Matplotlib 3.3 and will be removed two minor releases later.\n",
      "In c:\\users\\squatch\\appdata\\local\\programs\\python\\python36-32\\lib\\site-packages\\matplotlib\\mpl-data\\stylelib\\_classic_test.mplstyle: \n",
      "The animation.avconv_args rcparam was deprecated in Matplotlib 3.3 and will be removed two minor releases later.\n"
     ]
    }
   ],
   "source": [
    "import pandas as pd\n",
    "import numpy as np\n",
    "import matplotlib\n",
    "#from matplotlib import pyplot as plt\n",
    "import os\n",
    "import seaborn as sns\n",
    "from datetime import datetime\n",
    "import fnmatch\n",
    "import sys\n",
    "import glob"
   ]
  },
  {
   "cell_type": "code",
   "execution_count": 2,
   "metadata": {},
   "outputs": [
    {
     "data": {
      "text/plain": [
       "['.ipynb_checkpoints',\n",
       " 'clean_contracts.csv',\n",
       " 'skaters2008.csv',\n",
       " 'skaters2009.csv',\n",
       " 'skaters2010.csv',\n",
       " 'skaters2011.csv',\n",
       " 'skaters2012.csv',\n",
       " 'skaters2013.csv',\n",
       " 'skaters2014.csv',\n",
       " 'skaters2015.csv',\n",
       " 'skaters2016.csv',\n",
       " 'skaters2017.csv',\n",
       " 'skaters2018.csv',\n",
       " 'skaters2019.csv',\n",
       " 'skaters2020.csv']"
      ]
     },
     "execution_count": 2,
     "metadata": {},
     "output_type": "execute_result"
    }
   ],
   "source": [
    "path = r'C:\\Users\\Squatch\\Desktop\\Springboard Course\\Assignments\\Springboard\\Capstone 2\\Clean'\n",
    "files = os.listdir(path)\n",
    "files"
   ]
  },
  {
   "cell_type": "code",
   "execution_count": 3,
   "metadata": {},
   "outputs": [
    {
     "data": {
      "text/plain": [
       "['clean_contracts.csv',\n",
       " 'skaters2008.csv',\n",
       " 'skaters2009.csv',\n",
       " 'skaters2010.csv',\n",
       " 'skaters2011.csv',\n",
       " 'skaters2012.csv',\n",
       " 'skaters2013.csv',\n",
       " 'skaters2014.csv',\n",
       " 'skaters2015.csv',\n",
       " 'skaters2016.csv',\n",
       " 'skaters2017.csv',\n",
       " 'skaters2018.csv',\n",
       " 'skaters2019.csv',\n",
       " 'skaters2020.csv']"
      ]
     },
     "execution_count": 3,
     "metadata": {},
     "output_type": "execute_result"
    }
   ],
   "source": [
    "work_files=[]\n",
    "for file in files:\n",
    "    if file.endswith('.csv'):\n",
    "        work_files.append(file)\n",
    "\n",
    "work_files"
   ]
  },
  {
   "cell_type": "code",
   "execution_count": 5,
   "metadata": {},
   "outputs": [
    {
     "ename": "SyntaxError",
     "evalue": "invalid syntax (<ipython-input-5-de38b2e72ef9>, line 5)",
     "output_type": "error",
     "traceback": [
      "\u001b[1;36m  File \u001b[1;32m\"<ipython-input-5-de38b2e72ef9>\"\u001b[1;36m, line \u001b[1;32m5\u001b[0m\n\u001b[1;33m    dictionary= {'Player_Name':,\u001b[0m\n\u001b[1;37m                               ^\u001b[0m\n\u001b[1;31mSyntaxError\u001b[0m\u001b[1;31m:\u001b[0m invalid syntax\n"
     ]
    }
   ],
   "source": [
    "random_list=[]\n",
    "\n",
    "contracts_data= pd.read_csv('clean_contracts.csv')\n",
    "\n",
    "for file in work_files:\n",
    "    dictionary= {'Player_Name':,\n",
    "                'Contract_year':,\n",
    "                'Current_yr_stats':,\n",
    "                'Agg_stats':}\n",
    "    stat_data= pd.read_csv('')\n",
    "    for contract in contracts_data:\n",
    "        if contract.Player == file.startswith('skater').Player:\n",
    "            c= {}\n",
    "        "
   ]
  },
  {
   "cell_type": "code",
   "execution_count": null,
   "metadata": {},
   "outputs": [],
   "source": [
    "case_list = []\n",
    "for entry in entries_list:\n",
    "    case = {'key1': entry[0], 'key2': entry[1], 'key3':entry[2] }\n",
    "    case_list.append(case)"
   ]
  },
  {
   "cell_type": "code",
   "execution_count": null,
   "metadata": {},
   "outputs": [],
   "source": []
  }
 ],
 "metadata": {
  "kernelspec": {
   "display_name": "Python 3",
   "language": "python",
   "name": "python3"
  },
  "language_info": {
   "codemirror_mode": {
    "name": "ipython",
    "version": 3
   },
   "file_extension": ".py",
   "mimetype": "text/x-python",
   "name": "python",
   "nbconvert_exporter": "python",
   "pygments_lexer": "ipython3",
   "version": "3.6.1"
  }
 },
 "nbformat": 4,
 "nbformat_minor": 4
}
