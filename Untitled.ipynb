{
 "cells": [
  {
   "cell_type": "code",
   "execution_count": 11,
   "metadata": {},
   "outputs": [],
   "source": [
    "import pandas as pd\n",
    "import numpy as np\n",
    "import matplotlib\n",
    "#from matplotlib import pyplot as plt\n",
    "import os\n",
    "import seaborn as sns\n",
    "from datetime import datetime\n",
    "import fnmatch\n",
    "import sys\n",
    "import glob"
   ]
  },
  {
   "cell_type": "code",
   "execution_count": 14,
   "metadata": {},
   "outputs": [
    {
     "data": {
      "text/plain": [
       "['.ipynb_checkpoints',\n",
       " 'clean_contracts.csv',\n",
       " 'skaters2008.csv',\n",
       " 'skaters2009.csv',\n",
       " 'skaters2010.csv',\n",
       " 'skaters2011.csv',\n",
       " 'skaters2012.csv',\n",
       " 'skaters2013.csv',\n",
       " 'skaters2014.csv',\n",
       " 'skaters2015.csv',\n",
       " 'skaters2016.csv',\n",
       " 'skaters2017.csv',\n",
       " 'skaters2018.csv',\n",
       " 'skaters2019.csv',\n",
       " 'skaters2020.csv']"
      ]
     },
     "execution_count": 14,
     "metadata": {},
     "output_type": "execute_result"
    }
   ],
   "source": [
    "path = r'C:\\Users\\Squatch\\Desktop\\Springboard Course\\Assignments\\Springboard\\Capstone 2\\Clean'\n",
    "files = os.listdir(path)\n",
    "files"
   ]
  },
  {
   "cell_type": "code",
   "execution_count": 16,
   "metadata": {},
   "outputs": [
    {
     "data": {
      "text/plain": [
       "['clean_contracts.csv',\n",
       " 'skaters2008.csv',\n",
       " 'skaters2009.csv',\n",
       " 'skaters2010.csv',\n",
       " 'skaters2011.csv',\n",
       " 'skaters2012.csv',\n",
       " 'skaters2013.csv',\n",
       " 'skaters2014.csv',\n",
       " 'skaters2015.csv',\n",
       " 'skaters2016.csv',\n",
       " 'skaters2017.csv',\n",
       " 'skaters2018.csv',\n",
       " 'skaters2019.csv',\n",
       " 'skaters2020.csv']"
      ]
     },
     "execution_count": 16,
     "metadata": {},
     "output_type": "execute_result"
    }
   ],
   "source": [
    "work_files=[]\n",
    "for file in files:\n",
    "    if file.endswith('.csv'):\n",
    "        work_files.append(file)\n",
    "\n",
    "work_files"
   ]
  },
  {
   "cell_type": "code",
   "execution_count": null,
   "metadata": {},
   "outputs": [],
   "source": [
    "random_list=[]\n",
    "\n",
    "for file in work_files:\n",
    "    contracts_data= pd.read_csv('clean_contracts.csv')\n",
    "    \n",
    "        "
   ]
  }
 ],
 "metadata": {
  "kernelspec": {
   "display_name": "Python 3",
   "language": "python",
   "name": "python3"
  },
  "language_info": {
   "codemirror_mode": {
    "name": "ipython",
    "version": 3
   },
   "file_extension": ".py",
   "mimetype": "text/x-python",
   "name": "python",
   "nbconvert_exporter": "python",
   "pygments_lexer": "ipython3",
   "version": "3.6.1"
  }
 },
 "nbformat": 4,
 "nbformat_minor": 4
}
