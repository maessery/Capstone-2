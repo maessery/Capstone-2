{
 "cells": [
  {
   "cell_type": "code",
   "execution_count": 1,
   "metadata": {},
   "outputs": [],
   "source": [
    "import pandas as pd\n",
    "import numpy as np\n",
    "from sklearn.model_selection import train_test_split, cross_validate, GridSearchCV, learning_curve\n",
    "#from sklearn.ensemble import RandomForestRegressor\n",
    "from sklearn.inspection import permutation_importance\n",
    "import matplotlib.pyplot as plt\n",
    "import seaborn as sns\n",
    "from sklearn.preprocessing import RobustScaler, StandardScaler, scale\n",
    "from sklearn.linear_model import LinearRegression, RidgeCV, ElasticNetCV, SGDRegressor, RANSACRegressor\n",
    "from sklearn.svm import SVR\n",
    "from sklearn.feature_selection import SelectKBest, f_regression\n",
    "from sklearn.metrics import r2_score, mean_squared_error, mean_absolute_error\n",
    "from sklearn.pipeline import make_pipeline\n",
    "\n",
    "pd.set_option('display.max_columns', None) "
   ]
  },
  {
   "cell_type": "code",
   "execution_count": 2,
   "metadata": {},
   "outputs": [],
   "source": [
    "## DOWNLOAD THE SKEWAUTOTRANSFORM function from github"
   ]
  },
  {
   "cell_type": "code",
   "execution_count": 2,
   "metadata": {},
   "outputs": [],
   "source": [
    "forwards= pd.read_csv('forwards_final.csv')\n",
    "defense= pd.read_csv('defense_final.csv')\n",
    "goalies= pd.read_csv('goalies_final.csv')"
   ]
  },
  {
   "cell_type": "code",
   "execution_count": 3,
   "metadata": {},
   "outputs": [],
   "source": [
    "forwards= forwards.drop(columns='Unnamed: 0')\n",
    "defense= defense.drop(columns='Unnamed: 0')\n",
    "goalies= goalies.drop(columns='Unnamed: 0')"
   ]
  },
  {
   "cell_type": "markdown",
   "metadata": {},
   "source": [
    "## FORWARDS"
   ]
  },
  {
   "cell_type": "code",
   "execution_count": 54,
   "metadata": {},
   "outputs": [],
   "source": [
    "X= forwards.iloc[:,1:-1]\n",
    "y= forwards.iloc[:, -1]"
   ]
  },
  {
   "cell_type": "code",
   "execution_count": 50,
   "metadata": {},
   "outputs": [
    {
     "data": {
      "text/plain": [
       "array([[2.02100000e+03, 3.20000000e+01, 0.00000000e+00, ...,\n",
       "        3.33333333e-01, 0.00000000e+00, 2.00000000e+00],\n",
       "       [2.02100000e+03, 2.80000000e+01, 1.00000000e+00, ...,\n",
       "        2.00000000e+00, 1.66666667e+01, 8.00000000e+00],\n",
       "       [2.02100000e+03, 2.30000000e+01, 1.00000000e+00, ...,\n",
       "        0.00000000e+00, 0.00000000e+00, 2.00000000e+00],\n",
       "       ...,\n",
       "       [2.00900000e+03, 2.80000000e+01, 1.00000000e+00, ...,\n",
       "        6.00000000e+00, 3.33000000e+01, 1.20000000e+01],\n",
       "       [2.00900000e+03, 3.90000000e+01, 0.00000000e+00, ...,\n",
       "        0.00000000e+00, 0.00000000e+00, 1.00000000e+00],\n",
       "       [2.00900000e+03, 2.00000000e+01, 1.00000000e+00, ...,\n",
       "        0.00000000e+00, 0.00000000e+00, 4.00000000e+00]])"
      ]
     },
     "execution_count": 50,
     "metadata": {},
     "output_type": "execute_result"
    }
   ],
   "source": [
    "# kb= SelectKBest(f_regression, k=\"all\").fit_transform(X, y)\n",
    "# kb"
   ]
  },
  {
   "cell_type": "code",
   "execution_count": 51,
   "metadata": {},
   "outputs": [],
   "source": [
    "#k= SelectKBest(f_regression, k=4).fit_transform(X,y)"
   ]
  },
  {
   "cell_type": "code",
   "execution_count": 56,
   "metadata": {},
   "outputs": [],
   "source": [
    "X_train, X_test, y_train, y_test= train_test_split(X,y, test_size=0.2, random_state=12)"
   ]
  },
  {
   "cell_type": "code",
   "execution_count": 50,
   "metadata": {},
   "outputs": [],
   "source": [
    "# rs = RobustScaler()\n",
    "# data = rs.fit_transform(X)\n",
    "# dataset= pd.DataFrame(data)\n",
    "# dataset.columns= X.columns"
   ]
  },
  {
   "cell_type": "code",
   "execution_count": 57,
   "metadata": {},
   "outputs": [],
   "source": [
    "robust= RobustScaler()\n",
    "standard= StandardScaler()\n",
    "\n",
    "linreg= LinearRegression()\n",
    "ridge= RidgeCV()\n",
    "elastic= ElasticNetCV()\n",
    "grad= SGDRegressor()\n",
    "ransac= RANSACRegressor()\n",
    "svr= SVR()\n",
    "\n"
   ]
  },
  {
   "cell_type": "markdown",
   "metadata": {},
   "source": [
    "### [notes/need to implement:] \n",
    "\n",
    "###### -- SelectKBest(score_func= f_regression)\n",
    "###### -- gridsearch\n",
    "###### -- make a fnc ==> input all data into it,  it distinguishes what position, then apply the proper predicting pipeline for that position  to get salary\n",
    "##### -- with imputation idea for project (ie just input 20 g and 86 hits), use knn to guess the other stats in ordrer to have a full row of data to predict a salary"
   ]
  },
  {
   "cell_type": "code",
   "execution_count": 67,
   "metadata": {},
   "outputs": [],
   "source": [
    "pipe_std_lr = make_pipeline(standard, linreg)\n",
    "#pipe_rs_lr= make_pipeline(robust, linreg)"
   ]
  },
  {
   "cell_type": "code",
   "execution_count": 68,
   "metadata": {},
   "outputs": [
    {
     "data": {
      "text/plain": [
       "Pipeline(steps=[('standardscaler', StandardScaler()),\n",
       "                ('linearregression', LinearRegression())])"
      ]
     },
     "execution_count": 68,
     "metadata": {},
     "output_type": "execute_result"
    }
   ],
   "source": [
    "pipe_std_lr.fit(X_train, y_train) "
   ]
  },
  {
   "cell_type": "code",
   "execution_count": 39,
   "metadata": {},
   "outputs": [],
   "source": [
    "y_tr_pred= pipe_std_lr.predict(X_train)\n",
    "y_te_pred= pipe_std_lr.predict(X_test)"
   ]
  },
  {
   "cell_type": "code",
   "execution_count": 40,
   "metadata": {},
   "outputs": [
    {
     "name": "stdout",
     "output_type": "stream",
     "text": [
      "R2 Score, train data: 0.8541049960684546\n",
      "R2 Score, test data: 0.8367597694999502\n"
     ]
    }
   ],
   "source": [
    "print(\"R2 Score, train data: %s\" % r2_score(y_train, y_tr_pred))\n",
    "\n",
    "print(\"R2 Score, test data: %s\" % r2_score(y_test, y_te_pred))"
   ]
  },
  {
   "cell_type": "code",
   "execution_count": 41,
   "metadata": {},
   "outputs": [
    {
     "name": "stdout",
     "output_type": "stream",
     "text": [
      "MAE, train data: 542738.3430431896 \n",
      "MAE, test data: 556610.8497457454 \n"
     ]
    }
   ],
   "source": [
    "print(\"MAE, train data: %s \" % mean_absolute_error(y_train, y_tr_pred))\n",
    "\n",
    "print(\"MAE, test data: %s \" % mean_absolute_error(y_test, y_te_pred))"
   ]
  },
  {
   "cell_type": "code",
   "execution_count": 42,
   "metadata": {},
   "outputs": [],
   "source": [
    "cv_results = cross_validate(pipe_std_lr, X_train, y_train, cv=5)"
   ]
  },
  {
   "cell_type": "code",
   "execution_count": 43,
   "metadata": {},
   "outputs": [
    {
     "data": {
      "text/plain": [
       "array([0.8302214 , 0.82479221, 0.84633286, 0.82930559, 0.82665217])"
      ]
     },
     "execution_count": 43,
     "metadata": {},
     "output_type": "execute_result"
    }
   ],
   "source": [
    "cv_results= cv_results['test_score']\n",
    "cv_results"
   ]
  },
  {
   "cell_type": "code",
   "execution_count": 44,
   "metadata": {},
   "outputs": [
    {
     "name": "stdout",
     "output_type": "stream",
     "text": [
      "Cross Val Mean: 0.8314608449560719\n",
      "Cross Val Std: 0.007680522665259875\n"
     ]
    }
   ],
   "source": [
    "print(\"Cross Val Mean: %s\" % np.mean(cv_results))\n",
    "\n",
    "print(\"Cross Val Std: %s\" % np.std(cv_results))"
   ]
  },
  {
   "cell_type": "code",
   "execution_count": 28,
   "metadata": {},
   "outputs": [
    {
     "data": {
      "text/plain": [
       "dict_keys(['memory', 'steps', 'verbose', 'standardscaler', 'linearregression', 'standardscaler__copy', 'standardscaler__with_mean', 'standardscaler__with_std', 'linearregression__copy_X', 'linearregression__fit_intercept', 'linearregression__n_jobs', 'linearregression__normalize', 'linearregression__positive'])"
      ]
     },
     "execution_count": 28,
     "metadata": {},
     "output_type": "execute_result"
    }
   ],