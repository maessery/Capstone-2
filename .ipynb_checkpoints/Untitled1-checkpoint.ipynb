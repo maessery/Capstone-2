{
 "cells": [
  {
   "cell_type": "code",
   "execution_count": 56,
   "metadata": {},
   "outputs": [],
   "source": [
    "import requests\n",
    "import json\n",
    "import itertools\n",
    "from itertools import groupby\n",
    "import os\n",
    "import pandas as pd"
   ]
  },
  {
   "cell_type": "code",
   "execution_count": 21,
   "metadata": {},
   "outputs": [],
   "source": [
    "my_key= '7fabe2be2f3a428897a61f44f002715b'"
   ]
  },
  {
   "cell_type": "code",
   "execution_count": 53,
   "metadata": {},
   "outputs": [],
   "source": [
    "response= requests.get('https://www.capology.com/api/v2/hockey/nhl/salaries/2018-19&x-api-key=7fabe2be2f3a428897a61f44f002715b')"
   ]
  },
  {
   "cell_type": "code",
   "execution_count": 54,
   "metadata": {},
   "outputs": [
    {
     "name": "stdout",
     "output_type": "stream",
     "text": [
      "<Response [200]>\n"
     ]
    }
   ],
   "source": [
    "print(response)"
   ]
  },
  {
   "cell_type": "code",
   "execution_count": 46,
   "metadata": {
    "collapsed": true
   },
   "outputs": [
    {
     "data": {
      "text/plain": [
       "['.ipynb_checkpoints',\n",
       " 'clean_contracts.csv',\n",
       " 'goalies2008.csv',\n",
       " 'goalies2009.csv',\n",
       " 'goalies2010.csv',\n",
       " 'goalies2011.csv',\n",
       " 'goalies2012.csv',\n",
       " 'goalies2013.csv',\n",
       " 'goalies2014.csv',\n",
       " 'goalies2015.csv',\n",
       " 'goalies2016.csv',\n",
       " 'goalies2017.csv',\n",
       " 'goalies2018.csv',\n",
       " 'goalies2019.csv',\n",
       " 'goalies2020.csv',\n",
       " 'skaters2008.csv',\n",
       " 'skaters2009.csv',\n",
       " 'skaters2010.csv',\n",
       " 'skaters2011.csv',\n",
       " 'skaters2012.csv',\n",
       " 'skaters2013.csv',\n",
       " 'skaters2014.csv',\n",
       " 'skaters2015.csv',\n",
       " 'skaters2016.csv',\n",
       " 'skaters2017.csv',\n",
       " 'skaters2018.csv',\n",
       " 'skaters2019.csv',\n",
       " 'skaters2020.csv']"
      ]
     },
     "execution_count": 46,
     "metadata": {},
     "output_type": "execute_result"
    }
   ],
   "source": [
    "path = r'C:\\Users\\Squatch\\Desktop\\Springboard Course\\Assignments\\Springboard\\Capstone 2\\Clean'\n",
    "files = os.listdir(path)\n",
    "files"
   ]
  },
  {
   "cell_type": "code",
   "execution_count": null,
   "metadata": {},
   "outputs": [],
   "source": [
    "#### download capfriendly info, match on columns between statfile and taht file\n",
    "\n",
    "#### get rid of team affiliation for now, and just take totals for any duplicates in name column\n",
    " \n",
    "### use basic (goal, assist, points,etc) from normal stat files and the use the advance statistics from capfriednly file, then concat the shootout info on the end of the df as well\n",
    " #    - no basic stats on capfriendly until 2011-12\n"
   ]
  },
  {
   "cell_type": "code",
   "execution_count": null,
   "metadata": {},
   "outputs": [],
   "source": [
    "workable_files=[]\n",
    "\n",
    "for file in player_files:\n",
    "    if file.endswith('skaters.xlsx'):\n",
    "        or file.endswith('misc.xlsx') or file.endswith('adv.xlsx') or file.endswith('skaters_shootout.xlsx'):\n",
    "        workable_files.append(file)"
   ]
  },
  {
   "cell_type": "code",
   "execution_count": null,
   "metadata": {},
   "outputs": [],
   "source": [
    "def clean_cf(cf_file):\n",
    "    \n",
    "    "
   ]
  },
  {
   "cell_type": "code",
   "execution_count": null,
   "metadata": {},
   "outputs": [],
   "source": [
    "def player_preclean(file):\n",
    "    file=file.drop(columns='Unnamed: 0')\n",
    "    file=file.T\n",
    "    file=file.set_index(0)\n",
    "    file=file.T\n",
    "    return (file)\n",
    "    \n",
    "\n",
    "\n",
    "\n",
    "\n",
    "def cleaner(somefile):\n",
    "    with open(somefile):\n",
    "        if somefile.Pos == 'C' or 'RW' or 'Lw':\n",
    "            p= player_preclean(somefile)\n",
    "            \n",
    "            \n",
    "            "
   ]
  },
  {
   "cell_type": "code",
   "execution_count": null,
   "metadata": {},
   "outputs": [],
   "source": [
    "def combining_dfs(skaterfile,goaliefile,contractfile):\n",
    "    ####skaterfile cleaning??\n",
    "    skater=pd.DataFrame\n",
    "    skater=pd.read_excel(skaterfile, engine='oenpyxl')\n",
    "    \n",
    "    ####goaliefile cleaning\n",
    "    ### contract cleaning\n",
    "    ### concat skater and goalie\n",
    "    ### merge contract file (inner join?)"
   ]
  },
  {
   "cell_type": "code",
   "execution_count": 79,
   "metadata": {},
   "outputs": [
    {
     "name": "stdout",
     "output_type": "stream",
     "text": [
      "{'2008': ['goalies2008.csv', 'skaters2008.csv'], '2009': ['goalies2009.csv', 'skaters2009.csv'], '2010': ['goalies2010.csv', 'skaters2010.csv'], '2011': ['goalies2011.csv', 'skaters2011.csv'], '2012': ['goalies2012.csv', 'skaters2012.csv'], '2013': ['goalies2013.csv', 'skaters2013.csv'], '2014': ['goalies2014.csv', 'skaters2014.csv'], '2015': ['goalies2015.csv', 'skaters2015.csv'], '2016': ['goalies2016.csv', 'skaters2016.csv'], '2017': ['goalies2017.csv', 'skaters2017.csv'], '2018': ['goalies2018.csv', 'skaters2018.csv'], '2019': ['goalies2019.csv', 'skaters2019.csv'], '2020': ['goalies2020.csv', 'skaters2020.csv']}\n",
      "_______________ \n",
      "\n",
      "[['goalies2008.csv', 'skaters2008.csv'], ['goalies2009.csv', 'skaters2009.csv'], ['goalies2010.csv', 'skaters2010.csv'], ['goalies2011.csv', 'skaters2011.csv'], ['goalies2012.csv', 'skaters2012.csv'], ['goalies2013.csv', 'skaters2013.csv'], ['goalies2014.csv', 'skaters2014.csv'], ['goalies2015.csv', 'skaters2015.csv'], ['goalies2016.csv', 'skaters2016.csv'], ['goalies2017.csv', 'skaters2017.csv'], ['goalies2018.csv', 'skaters2018.csv'], ['goalies2019.csv', 'skaters2019.csv'], ['goalies2020.csv', 'skaters2020.csv']]\n",
      "_______________ \n",
      "\n",
      "['goalies2008.csv', 'skaters2008.csv']\n",
      "_______________ \n",
      "\n",
      "                  0                1\n",
      "0   goalies2008.csv  skaters2008.csv\n",
      "1   goalies2009.csv  skaters2009.csv\n",
      "2   goalies2010.csv  skaters2010.csv\n",
      "3   goalies2011.csv  skaters2011.csv\n",
      "4   goalies2012.csv  skaters2012.csv\n",
      "5   goalies2013.csv  skaters2013.csv\n",
      "6   goalies2014.csv  skaters2014.csv\n",
      "7   goalies2015.csv  skaters2015.csv\n",
      "8   goalies2016.csv  skaters2016.csv\n",
      "9   goalies2017.csv  skaters2017.csv\n",
      "10  goalies2018.csv  skaters2018.csv\n",
      "11  goalies2019.csv  skaters2019.csv\n",
      "12  goalies2020.csv  skaters2020.csv\n"
     ]
    }
   ],
   "source": [
    "dictionary= {}\n",
    "for x in files:\n",
    "    if x.startswith('clean') or x.startswith('.ipy'):\n",
    "        pass\n",
    "    else:\n",
    "        key= x[-8:-4]\n",
    "        group= dictionary.get(key,[])\n",
    "        group.append(x)\n",
    "        dictionary[key]= group\n",
    "print(dictionary)\n",
    "\n",
    "print('_______________ \\n')\n",
    "        \n",
    "list=[]\n",
    "\n",
    "for item in dictionary.values():\n",
    "    list.append(item)\n",
    "\n",
    "print(list)\n",
    "\n",
    "print('_______________ \\n')\n",
    "\n",
    "print(list[0])\n",
    "\n",
    "print('_______________ \\n')\n",
    "\n",
    "for item in list:\n",
    "    pd.read_csv()\n",
    "df= pd.DataFrame(list)\n",
    "print (df)"
   ]
  },
  {
   "cell_type": "code",
   "execution_count": 1,
   "metadata": {},
   "outputs": [
    {
     "ename": "IndentationError",
     "evalue": "expected an indented block (<ipython-input-1-68e1dcea04c8>, line 30)",
     "output_type": "error",
     "traceback": [
      "\u001b[1;36m  File \u001b[1;32m\"<ipython-input-1-68e1dcea04c8>\"\u001b[1;36m, line \u001b[1;32m30\u001b[0m\n\u001b[1;33m    pass\u001b[0m\n\u001b[1;37m       ^\u001b[0m\n\u001b[1;31mIndentationError\u001b[0m\u001b[1;31m:\u001b[0m expected an indented block\n"
     ]
    }
   ],
   "source": [
    "class exploring_data(object):\n",
    "    pass\n",
    "\n",
    "class skater:\n",
    "\n",
    "    skater object \n",
    "    columns are attricubtes\n",
    "    imprtot and construct obects\n",
    "    \n",
    "    \n",
    "    goalie object\n",
    "    \n",
    "    def __init__(self):    \n",
    "#        , name, position, goals, wins, salary):\n",
    "#        self.name= name\n",
    "#        self.position= position\n",
    "#        self.goals= goals\n",
    "#        self.wins= wins\n",
    "#        self.salary= salary\n",
    "        self.database= _________## file path\n",
    "        self.FileName= '_____'## file name\n",
    "        self.data= pd.read_csv(self.FileName)\n",
    "    \n",
    "    @classmethod\n",
    "    def cleanup(self):\n",
    "        if ______.startswith('skater'):\n",
    "            #do player stat cleaning\n",
    "            pass\n",
    "        \n",
    "        elif ____.startswith('goalie'):\n",
    "            #do goalie stat cleanign\n",
    "            pass\n",
    "            \n",
    "        else:\n",
    "            pass\n",
    "    \n",
    "    \n",
    "    yearly=[]\n",
    "    \n",
    "    @classmethod\n",
    "    def create_yearly_df(self):\n",
    "        for files in work_files:\n",
    "            if file.endswith()\n",
    "            \n",
    "        ## takes 3 dfs from same year and combines them together\n",
    "        pass\n",
    "    \n",
    "    @classmethod\n",
    "    def combine_yearly_df(self):\n",
    "        ## takes all yearly dfs and combines them into one df\n",
    "        ## make a blank list, fill it up with the dfs from each year, then use pd.concat on the list to combine it\n",
    "        pass\n",
    "    \n",
    "    @classmethod\n",
    "    def fit(self):\n",
    "        ## takes file paths of everything and uses the oter methods created to output to the final df\n",
    "        pass\n",
    "    \n",
    "    @classmethod\n",
    "    def random_cleaning:\n",
    "        pass\n",
    "    \n",
    "        "
   ]
  },
  {
   "cell_type": "code",
   "execution_count": null,
   "metadata": {},
   "outputs": [],
   "source": []
  }
 ],
 "metadata": {
  "kernelspec": {
   "display_name": "Python 3",
   "language": "python",
   "name": "python3"
  },
  "language_info": {
   "codemirror_mode": {
    "name": "ipython",
    "version": 3
   },
   "file_extension": ".py",
   "mimetype": "text/x-python",
   "name": "python",
   "nbconvert_exporter": "python",
   "pygments_lexer": "ipython3",
   "version": "3.6.1"
  }
 },
 "nbformat": 4,
 "nbformat_minor": 4
}
