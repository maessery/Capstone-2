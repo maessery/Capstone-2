{
 "cells": [
  {
   "cell_type": "code",
   "execution_count": 1,
   "metadata": {
    "colab": {
     "base_uri": "https://localhost:8080/"
    },
    "id": "ob7vfxQimY2S",
    "outputId": "0c781f58-1146-4bfb-a58a-9ff58e014d83"
   },
   "outputs": [],
   "source": [
    "# open in Google Colab in order to run shap\n",
    "#!pip install shap"
   ]
  },
  {
   "cell_type": "code",
   "execution_count": 3,
   "metadata": {},
   "outputs": [
    {
     "name": "stdout",
     "output_type": "stream",
     "text": [
      "Collecting statsmodels"
     ]
    },
    {
     "name": "stderr",
     "output_type": "stream",
     "text": [
      "WARNING: You are using pip version 21.2.3; however, version 21.2.4 is available.\n",
      "You should consider upgrading via the 'C:\\Users\\essmar\\AppData\\Local\\Programs\\Python\\Python39\\python.exe -m pip install --upgrade pip' command.\n"
     ]
    },
    {
     "name": "stdout",
     "output_type": "stream",
     "text": [
      "\n",
      "  Downloading statsmodels-0.13.0-cp39-none-win_amd64.whl (9.4 MB)\n",
      "Requirement already satisfied: pandas>=0.25 in c:\\users\\essmar\\appdata\\local\\programs\\python\\python39\\lib\\site-packages (from statsmodels) (1.3.2)\n",
      "Collecting patsy>=0.5.2\n",
      "  Downloading patsy-0.5.2-py2.py3-none-any.whl (233 kB)\n",
      "Requirement already satisfied: numpy>=1.17 in c:\\users\\essmar\\appdata\\local\\programs\\python\\python39\\lib\\site-packages (from statsmodels) (1.20.3)\n",
      "Requirement already satisfied: scipy>=1.3 in c:\\users\\essmar\\appdata\\local\\programs\\python\\python39\\lib\\site-packages (from statsmodels) (1.7.1)\n",
      "Requirement already satisfied: python-dateutil>=2.7.3 in c:\\users\\essmar\\appdata\\local\\programs\\python\\python39\\lib\\site-packages (from pandas>=0.25->statsmodels) (2.8.2)\n",
      "Requirement already satisfied: pytz>=2017.3 in c:\\users\\essmar\\appdata\\local\\programs\\python\\python39\\lib\\site-packages (from pandas>=0.25->statsmodels) (2021.1)\n",
      "Requirement already satisfied: six in c:\\users\\essmar\\appdata\\local\\programs\\python\\python39\\lib\\site-packages (from patsy>=0.5.2->statsmodels) (1.16.0)\n",
      "Installing collected packages: patsy, statsmodels\n",
      "Successfully installed patsy-0.5.2 statsmodels-0.13.0\n"
     ]
    }
   ],
   "source": [
    "#!pip install statsmodels"
   ]
  },
  {
   "cell_type": "code",
   "execution_count": 160,
   "metadata": {
    "id": "Cwg29Ay61dDj"
   },
   "outputs": [],
   "source": [
    "import pandas as pd\n",
    "import numpy as np\n",
    "import pickle\n",
    "from sklearn.ensemble import RandomForestRegressor, ExtraTreesRegressor , GradientBoostingRegressor\n",
    "from sklearn.inspection import permutation_importance\n",
    "import statsmodels.api as sm\n",
    "from statsmodels.stats.outliers_influence import variance_inflation_factor\n",
    "import matplotlib.pyplot as plt\n",
    "import seaborn as sns\n",
    "from sklearn.preprocessing import RobustScaler, StandardScaler\n",
    "from sklearn.model_selection import GridSearchCV,  cross_validate, train_test_split, cross_val_score, learning_curve\n",
    "from sklearn.feature_selection import SelectKBest, f_regression\n",
    "from sklearn.pipeline import make_pipeline\n",
    "from sklearn.linear_model import LinearRegression, RidgeCV, ElasticNetCV, SGDRegressor, RANSACRegressor, LassoCV, Lasso, Ridge, ElasticNet\n",
    "from sklearn.metrics import r2_score, mean_absolute_error, mean_squared_error\n",
    "from sklearn.svm import LinearSVR, SVR\n",
    "from sklearn import __version__ as sklearn_version\n",
    "import datetime\n",
    "import joblib\n",
    "import os\n",
    "\n",
    "\n",
    "#import shap\n",
    "\n",
    "\n",
    "pd.set_option('display.max_columns', None) \n",
    "\n"
   ]
  },
  {
   "cell_type": "code",
   "execution_count": 54,
   "metadata": {
    "id": "IW_aZ0Fr1_Vl"
   },
   "outputs": [],
   "source": [
    "# Colab cell\n",
    "\n",
    "# from google.colab import files\n",
    "# import io"
   ]
  },
  {
   "cell_type": "code",
   "execution_count": 55,
   "metadata": {
    "colab": {
     "base_uri": "https://localhost:8080/",
     "height": 174,
     "resources": {
      "http://localhost:8080/nbextensions/google.colab/files.js": {
       "data": "Ly8gQ29weXJpZ2h0IDIwMTcgR29vZ2xlIExMQwovLwovLyBMaWNlbnNlZCB1bmRlciB0aGUgQXBhY2hlIExpY2Vuc2UsIFZlcnNpb24gMi4wICh0aGUgIkxpY2Vuc2UiKTsKLy8geW91IG1heSBub3QgdXNlIHRoaXMgZmlsZSBleGNlcHQgaW4gY29tcGxpYW5jZSB3aXRoIHRoZSBMaWNlbnNlLgovLyBZb3UgbWF5IG9idGFpbiBhIGNvcHkgb2YgdGhlIExpY2Vuc2UgYXQKLy8KLy8gICAgICBodHRwOi8vd3d3LmFwYWNoZS5vcmcvbGljZW5zZXMvTElDRU5TRS0yLjAKLy8KLy8gVW5sZXNzIHJlcXVpcmVkIGJ5IGFwcGxpY2FibGUgbGF3IG9yIGFncmVlZCB0byBpbiB3cml0aW5nLCBzb2Z0d2FyZQovLyBkaXN0cmlidXRlZCB1bmRlciB0aGUgTGljZW5zZSBpcyBkaXN0cmlidXRlZCBvbiBhbiAiQVMgSVMiIEJBU0lTLAovLyBXSVRIT1VUIFdBUlJBTlRJRVMgT1IgQ09ORElUSU9OUyBPRiBBTlkgS0lORCwgZWl0aGVyIGV4cHJlc3Mgb3IgaW1wbGllZC4KLy8gU2VlIHRoZSBMaWNlbnNlIGZvciB0aGUgc3BlY2lmaWMgbGFuZ3VhZ2UgZ292ZXJuaW5nIHBlcm1pc3Npb25zIGFuZAovLyBsaW1pdGF0aW9ucyB1bmRlciB0aGUgTGljZW5zZS4KCi8qKgogKiBAZmlsZW92ZXJ2aWV3IEhlbHBlcnMgZm9yIGdvb2dsZS5jb2xhYiBQeXRob24gbW9kdWxlLgogKi8KKGZ1bmN0aW9uKHNjb3BlKSB7CmZ1bmN0aW9uIHNwYW4odGV4dCwgc3R5bGVBdHRyaWJ1dGVzID0ge30pIHsKICBjb25zdCBlbGVtZW50ID0gZG9jdW1lbnQuY3JlYXRlRWxlbWVudCgnc3BhbicpOwogIGVsZW1lbnQudGV4dENvbnRlbnQgPSB0ZXh0OwogIGZvciAoY29uc3Qga2V5IG9mIE9iamVjdC5rZXlzKHN0eWxlQXR0cmlidXRlcykpIHsKICAgIGVsZW1lbnQuc3R5bGVba2V5XSA9IHN0eWxlQXR0cmlidXRlc1trZXldOwogIH0KICByZXR1cm4gZWxlbWVudDsKfQoKLy8gTWF4IG51bWJlciBvZiBieXRlcyB3aGljaCB3aWxsIGJlIHVwbG9hZGVkIGF0IGEgdGltZS4KY29uc3QgTUFYX1BBWUxPQURfU0laRSA9IDEwMCAqIDEwMjQ7CgpmdW5jdGlvbiBfdXBsb2FkRmlsZXMoaW5wdXRJZCwgb3V0cHV0SWQpIHsKICBjb25zdCBzdGVwcyA9IHVwbG9hZEZpbGVzU3RlcChpbnB1dElkLCBvdXRwdXRJZCk7CiAgY29uc3Qgb3V0cHV0RWxlbWVudCA9IGRvY3VtZW50LmdldEVsZW1lbnRCeUlkKG91dHB1dElkKTsKICAvLyBDYWNoZSBzdGVwcyBvbiB0aGUgb3V0cHV0RWxlbWVudCB0byBtYWtlIGl0IGF2YWlsYWJsZSBmb3IgdGhlIG5leHQgY2FsbAogIC8vIHRvIHVwbG9hZEZpbGVzQ29udGludWUgZnJvbSBQeXRob24uCiAgb3V0cHV0RWxlbWVudC5zdGVwcyA9IHN0ZXBzOwoKICByZXR1cm4gX3VwbG9hZEZpbGVzQ29udGludWUob3V0cHV0SWQpOwp9CgovLyBUaGlzIGlzIHJvdWdobHkgYW4gYXN5bmMgZ2VuZXJhdG9yIChub3Qgc3VwcG9ydGVkIGluIHRoZSBicm93c2VyIHlldCksCi8vIHdoZXJlIHRoZXJlIGFyZSBtdWx0aXBsZSBhc3luY2hyb25vdXMgc3RlcHMgYW5kIHRoZSBQeXRob24gc2lkZSBpcyBnb2luZwovLyB0byBwb2xsIGZvciBjb21wbGV0aW9uIG9mIGVhY2ggc3RlcC4KLy8gVGhpcyB1c2VzIGEgUHJvbWlzZSB0byBibG9jayB0aGUgcHl0aG9uIHNpZGUgb24gY29tcGxldGlvbiBvZiBlYWNoIHN0ZXAsCi8vIHRoZW4gcGFzc2VzIHRoZSByZXN1bHQgb2YgdGhlIHByZXZpb3VzIHN0ZXAgYXMgdGhlIGlucHV0IHRvIHRoZSBuZXh0IHN0ZXAuCmZ1bmN0aW9uIF91cGxvYWRGaWxlc0NvbnRpbnVlKG91dHB1dElkKSB7CiAgY29uc3Qgb3V0cHV0RWxlbWVudCA9IGRvY3VtZW50LmdldEVsZW1lbnRCeUlkKG91dHB1dElkKTsKICBjb25zdCBzdGVwcyA9IG91dHB1dEVsZW1lbnQuc3RlcHM7CgogIGNvbnN0IG5leHQgPSBzdGVwcy5uZXh0KG91dHB1dEVsZW1lbnQubGFzdFByb21pc2VWYWx1ZSk7CiAgcmV0dXJuIFByb21pc2UucmVzb2x2ZShuZXh0LnZhbHVlLnByb21pc2UpLnRoZW4oKHZhbHVlKSA9PiB7CiAgICAvLyBDYWNoZSB0aGUgbGFzdCBwcm9taXNlIHZhbHVlIHRvIG1ha2UgaXQgYXZhaWxhYmxlIHRvIHRoZSBuZXh0CiAgICAvLyBzdGVwIG9mIHRoZSBnZW5lcmF0b3IuCiAgICBvdXRwdXRFbGVtZW50Lmxhc3RQcm9taXNlVmFsdWUgPSB2YWx1ZTsKICAgIHJldHVybiBuZXh0LnZhbHVlLnJlc3BvbnNlOwogIH0pOwp9CgovKioKICogR2VuZXJhdG9yIGZ1bmN0aW9uIHdoaWNoIGlzIGNhbGxlZCBiZXR3ZWVuIGVhY2ggYXN5bmMgc3RlcCBvZiB0aGUgdXBsb2FkCiAqIHByb2Nlc3MuCiAqIEBwYXJhbSB7c3RyaW5nfSBpbnB1dElkIEVsZW1lbnQgSUQgb2YgdGhlIGlucHV0IGZpbGUgcGlja2VyIGVsZW1lbnQuCiAqIEBwYXJhbSB7c3RyaW5nfSBvdXRwdXRJZCBFbGVtZW50IElEIG9mIHRoZSBvdXRwdXQgZGlzcGxheS4KICogQHJldHVybiB7IUl0ZXJhYmxlPCFPYmplY3Q+fSBJdGVyYWJsZSBvZiBuZXh0IHN0ZXBzLgogKi8KZnVuY3Rpb24qIHVwbG9hZEZpbGVzU3RlcChpbnB1dElkLCBvdXRwdXRJZCkgewogIGNvbnN0IGlucHV0RWxlbWVudCA9IGRvY3VtZW50LmdldEVsZW1lbnRCeUlkKGlucHV0SWQpOwogIGlucHV0RWxlbWVudC5kaXNhYmxlZCA9IGZhbHNlOwoKICBjb25zdCBvdXRwdXRFbGVtZW50ID0gZG9jdW1lbnQuZ2V0RWxlbWVudEJ5SWQob3V0cHV0SWQpOwogIG91dHB1dEVsZW1lbnQuaW5uZXJIVE1MID0gJyc7CgogIGNvbnN0IHBpY2tlZFByb21pc2UgPSBuZXcgUHJvbWlzZSgocmVzb2x2ZSkgPT4gewogICAgaW5wdXRFbGVtZW50LmFkZEV2ZW50TGlzdGVuZXIoJ2NoYW5nZScsIChlKSA9PiB7CiAgICAgIHJlc29sdmUoZS50YXJnZXQuZmlsZXMpOwogICAgfSk7CiAgfSk7CgogIGNvbnN0IGNhbmNlbCA9IGRvY3VtZW50LmNyZWF0ZUVsZW1lbnQoJ2J1dHRvbicpOwogIGlucHV0RWxlbWVudC5wYXJlbnRFbGVtZW50LmFwcGVuZENoaWxkKGNhbmNlbCk7CiAgY2FuY2VsLnRleHRDb250ZW50ID0gJ0NhbmNlbCB1cGxvYWQnOwogIGNvbnN0IGNhbmNlbFByb21pc2UgPSBuZXcgUHJvbWlzZSgocmVzb2x2ZSkgPT4gewogICAgY2FuY2VsLm9uY2xpY2sgPSAoKSA9PiB7CiAgICAgIHJlc29sdmUobnVsbCk7CiAgICB9OwogIH0pOwoKICAvLyBXYWl0IGZvciB0aGUgdXNlciB0byBwaWNrIHRoZSBmaWxlcy4KICBjb25zdCBmaWxlcyA9IHlpZWxkIHsKICAgIHByb21pc2U6IFByb21pc2UucmFjZShbcGlja2VkUHJvbWlzZSwgY2FuY2VsUHJvbWlzZV0pLAogICAgcmVzcG9uc2U6IHsKICAgICAgYWN0aW9uOiAnc3RhcnRpbmcnLAogICAgfQogIH07CgogIGNhbmNlbC5yZW1vdmUoKTsKCiAgLy8gRGlzYWJsZSB0aGUgaW5wdXQgZWxlbWVudCBzaW5jZSBmdXJ0aGVyIHBpY2tzIGFyZSBub3QgYWxsb3dlZC4KICBpbnB1dEVsZW1lbnQuZGlzYWJsZWQgPSB0cnVlOwoKICBpZiAoIWZpbGVzKSB7CiAgICByZXR1cm4gewogICAgICByZXNwb25zZTogewogICAgICAgIGFjdGlvbjogJ2NvbXBsZXRlJywKICAgICAgfQogICAgfTsKICB9CgogIGZvciAoY29uc3QgZmlsZSBvZiBmaWxlcykgewogICAgY29uc3QgbGkgPSBkb2N1bWVudC5jcmVhdGVFbGVtZW50KCdsaScpOwogICAgbGkuYXBwZW5kKHNwYW4oZmlsZS5uYW1lLCB7Zm9udFdlaWdodDogJ2JvbGQnfSkpOwogICAgbGkuYXBwZW5kKHNwYW4oCiAgICAgICAgYCgke2ZpbGUudHlwZSB8fCAnbi9hJ30pIC0gJHtmaWxlLnNpemV9IGJ5dGVzLCBgICsKICAgICAgICBgbGFzdCBtb2RpZmllZDogJHsKICAgICAgICAgICAgZmlsZS5sYXN0TW9kaWZpZWREYXRlID8gZmlsZS5sYXN0TW9kaWZpZWREYXRlLnRvTG9jYWxlRGF0ZVN0cmluZygpIDoKICAgICAgICAgICAgICAgICAgICAgICAgICAgICAgICAgICAgJ24vYSd9IC0gYCkpOwogICAgY29uc3QgcGVyY2VudCA9IHNwYW4oJzAlIGRvbmUnKTsKICAgIGxpLmFwcGVuZENoaWxkKHBlcmNlbnQpOwoKICAgIG91dHB1dEVsZW1lbnQuYXBwZW5kQ2hpbGQobGkpOwoKICAgIGNvbnN0IGZpbGVEYXRhUHJvbWlzZSA9IG5ldyBQcm9taXNlKChyZXNvbHZlKSA9PiB7CiAgICAgIGNvbnN0IHJlYWRlciA9IG5ldyBGaWxlUmVhZGVyKCk7CiAgICAgIHJlYWRlci5vbmxvYWQgPSAoZSkgPT4gewogICAgICAgIHJlc29sdmUoZS50YXJnZXQucmVzdWx0KTsKICAgICAgfTsKICAgICAgcmVhZGVyLnJlYWRBc0FycmF5QnVmZmVyKGZpbGUpOwogICAgfSk7CiAgICAvLyBXYWl0IGZvciB0aGUgZGF0YSB0byBiZSByZWFkeS4KICAgIGxldCBmaWxlRGF0YSA9IHlpZWxkIHsKICAgICAgcHJvbWlzZTogZmlsZURhdGFQcm9taXNlLAogICAgICByZXNwb25zZTogewogICAgICAgIGFjdGlvbjogJ2NvbnRpbnVlJywKICAgICAgfQogICAgfTsKCiAgICAvLyBVc2UgYSBjaHVua2VkIHNlbmRpbmcgdG8gYXZvaWQgbWVzc2FnZSBzaXplIGxpbWl0cy4gU2VlIGIvNjIxMTU2NjAuCiAgICBsZXQgcG9zaXRpb24gPSAwOwogICAgZG8gewogICAgICBjb25zdCBsZW5ndGggPSBNYXRoLm1pbihmaWxlRGF0YS5ieXRlTGVuZ3RoIC0gcG9zaXRpb24sIE1BWF9QQVlMT0FEX1NJWkUpOwogICAgICBjb25zdCBjaHVuayA9IG5ldyBVaW50OEFycmF5KGZpbGVEYXRhLCBwb3NpdGlvbiwgbGVuZ3RoKTsKICAgICAgcG9zaXRpb24gKz0gbGVuZ3RoOwoKICAgICAgY29uc3QgYmFzZTY0ID0gYnRvYShTdHJpbmcuZnJvbUNoYXJDb2RlLmFwcGx5KG51bGwsIGNodW5rKSk7CiAgICAgIHlpZWxkIHsKICAgICAgICByZXNwb25zZTogewogICAgICAgICAgYWN0aW9uOiAnYXBwZW5kJywKICAgICAgICAgIGZpbGU6IGZpbGUubmFtZSwKICAgICAgICAgIGRhdGE6IGJhc2U2NCwKICAgICAgICB9LAogICAgICB9OwoKICAgICAgbGV0IHBlcmNlbnREb25lID0gZmlsZURhdGEuYnl0ZUxlbmd0aCA9PT0gMCA/CiAgICAgICAgICAxMDAgOgogICAgICAgICAgTWF0aC5yb3VuZCgocG9zaXRpb24gLyBmaWxlRGF0YS5ieXRlTGVuZ3RoKSAqIDEwMCk7CiAgICAgIHBlcmNlbnQudGV4dENvbnRlbnQgPSBgJHtwZXJjZW50RG9uZX0lIGRvbmVgOwoKICAgIH0gd2hpbGUgKHBvc2l0aW9uIDwgZmlsZURhdGEuYnl0ZUxlbmd0aCk7CiAgfQoKICAvLyBBbGwgZG9uZS4KICB5aWVsZCB7CiAgICByZXNwb25zZTogewogICAgICBhY3Rpb246ICdjb21wbGV0ZScsCiAgICB9CiAgfTsKfQoKc2NvcGUuZ29vZ2xlID0gc2NvcGUuZ29vZ2xlIHx8IHt9OwpzY29wZS5nb29nbGUuY29sYWIgPSBzY29wZS5nb29nbGUuY29sYWIgfHwge307CnNjb3BlLmdvb2dsZS5jb2xhYi5fZmlsZXMgPSB7CiAgX3VwbG9hZEZpbGVzLAogIF91cGxvYWRGaWxlc0NvbnRpbnVlLAp9Owp9KShzZWxmKTsK",
       "headers": [
        [
         "content-type",
         "application/javascript"
        ]
       ],
       "ok": true,
       "status": 200,
       "status_text": ""
      }
     }
    },
    "id": "w_Q8WEEINKNm",
    "outputId": "96427433-60ae-4924-ec64-e728ac15b3a8"
   },
   "outputs": [],
   "source": [
    "# Colab cell\n",
    "\n",
    "# uploaded= files.upload()"
   ]
  },
  {
   "cell_type": "code",
   "execution_count": 56,
   "metadata": {
    "id": "fo7M7cxR4bPS"
   },
   "outputs": [],
   "source": [
    "# Colab cell\n",
    "\n",
    "#sac= pd.read_csv(io.BytesIO(uploaded['stats_and_contracts.csv']))"
   ]
  },
  {
   "cell_type": "code",
   "execution_count": 57,
   "metadata": {
    "colab": {
     "base_uri": "https://localhost:8080/",
     "height": 309
    },
    "id": "c3sVmXcsWVx_",
    "outputId": "665e5c8a-34c0-40cb-a007-bc6d46d2ff42"
   },
   "outputs": [],
   "source": [
    "# Colab cell\n",
    "\n",
    "# sac= sac.drop(columns='Unnamed: 0')\n",
    "# sac.head()"
   ]
  },
  {
   "cell_type": "code",
   "execution_count": 205,
   "metadata": {
    "id": "xYPrIT7cWrW3"
   },
   "outputs": [],
   "source": [
    "sac= pd.read_csv('Data/stats_and_contracts.csv')\n",
    "skaters= sac.query('(Pos_G==0)')\n",
    "skaters= skaters.drop(columns=['GS','W','L','TplusOTL','GA','GA','SV','SA','SV_Pct','GAA','SUT','GPS','MIN','QS','RBS','TYPE', 'Pos_G'])\n",
    "skaters['AGE']= skaters['AGE'].astype(float)\n",
    "skaters['AAV']= skaters['AAV'].astype(float)\n",
    "skaters= skaters.dropna()\n",
    "skaters= skaters.reset_index()\n",
    "\n",
    "forwards= pd.read_csv('Data/forwards_final.csv')\n",
    "defense= pd.read_csv('Data/defense_final.csv')\n",
    "goalies=pd.read_csv('Data/goalies_final.csv')"
   ]
  },
  {
   "cell_type": "code",
   "execution_count": 59,
   "metadata": {
    "id": "89vQW4iYNMvp"
   },
   "outputs": [],
   "source": [
    "# Colab cell\n",
    "\n",
    "# forwards= pd.read_csv(io.BytesIO(uploaded['forwards_final.csv']))\n",
    "# defense= pd.read_csv(io.BytesIO(uploaded['defense_final.csv']))\n",
    "# goalies=pd.read_csv(io.BytesIO(uploaded['goalies_final.csv']))"
   ]
  },
  {
   "cell_type": "code",
   "execution_count": 60,
   "metadata": {
    "id": "Jxen5IkbST5G"
   },
   "outputs": [],
   "source": [
    "skaters= skaters.drop(columns=['index','Unnamed: 0'])\n",
    "forwards= forwards.drop(columns='Unnamed: 0')\n",
    "defense= defense.drop(columns='Unnamed: 0')\n",
    "goalies= goalies.drop(columns='Unnamed: 0')"
   ]
  },
  {
   "cell_type": "code",
   "execution_count": 61,
   "metadata": {
    "id": "G-J4D-M3xWu1"
   },
   "outputs": [],
   "source": [
    "### create a function called summarize\n",
    "### make an imputer such taht you input goals and hits and then use knn(???) to guess the other stats to have a full row of data to predict salary from\n",
    "### make a function that you can pass all the data through, then it filters by position and applies the correct predictive pipeline for that position\n",
    "### would it make sense to predict on length of contract using all stats + salary (even though we already predicted salary off it)\n",
    "\n",
    "\n",
    "### get a list of all players that are up for new contracts this year===> put their info in and see what they are predicted to make, then compare to what they actually made\n",
    "\n",
    "### how do i incorporate the k best features with "
   ]
  },
  {
   "cell_type": "code",
   "execution_count": null,
   "metadata": {
    "id": "6EbVU9Lbbz1M"
   },
   "outputs": [],
   "source": []
  },
  {
   "cell_type": "markdown",
   "metadata": {
    "id": "dD4Tde77P-bz"
   },
   "source": [
    "# **SKATERS**"
   ]
  },
  {
   "cell_type": "markdown",
   "metadata": {
    "id": "o8TpFE4Yxpfj"
   },
   "source": [
    "First order of business: Split the data into a distinct Training and Test set. The work in this notebook will build models from the training data and they will be assessed for accuracy and variability, as well as run through a GridSearch in order to find the most optimal parameters before moving to the model production stage."
   ]
  },
  {
   "cell_type": "code",
   "execution_count": 62,
   "metadata": {
    "colab": {
     "base_uri": "https://localhost:8080/"
    },
    "id": "IgMksr9Pm1n1",
    "outputId": "76471d3d-977c-4f2c-f0c7-ad0eb5ed7565"
   },
   "outputs": [
    {
     "data": {
      "text/plain": [
       "(2697, 50)"
      ]
     },
     "execution_count": 62,
     "metadata": {},
     "output_type": "execute_result"
    }
   ],
   "source": [
    "skaters.shape"
   ]
  },
  {
   "cell_type": "code",
   "execution_count": 63,
   "metadata": {
    "id": "lmfyfs_WPmSR"
   },
   "outputs": [],
   "source": [
    "X= skaters.iloc[:,1:-1]\n",
    "y= skaters.iloc[:, -1]\n",
    "\n",
    "X_train, X_test, y_train, y_test= train_test_split(X,y, test_size=0.2, random_state=12)"
   ]
  },
  {
   "cell_type": "code",
   "execution_count": 64,
   "metadata": {
    "id": "DCnXLGhc91y4"
   },
   "outputs": [],
   "source": [
    "robust= RobustScaler()\n",
    "standard= StandardScaler()\n",
    "\n",
    "linreg= LinearRegression()\n",
    "ridge= RidgeCV(cv=5)\n",
    "elastic= ElasticNetCV(cv=5)\n",
    "grad= SGDRegressor()\n",
    "ransac= RANSACRegressor()\n",
    "linsvr= LinearSVR()\n",
    "svr= SVR()\n",
    "lasso= LassoCV(cv=5)"
   ]
  },
  {
   "cell_type": "markdown",
   "metadata": {
    "id": "68j7aMm3GGEn"
   },
   "source": [
    "### **STANDARD-SCALED**"
   ]
  },
  {
   "cell_type": "markdown",
   "metadata": {
    "id": "4OnMOJJOlVUL"
   },
   "source": [
    "Our first rough-drafts at modeling will be using a StandardScaler, and a variety of regressors available through SKLearn. I will try a quick run at all of them first to get an idea of which direction to lean before making a pipeline."
   ]
  },
  {
   "cell_type": "code",
   "execution_count": 206,
   "metadata": {
    "id": "0D9RA5WdGqZL"
   },
   "outputs": [],
   "source": [
    "def results(scale, model, xtrain, ytrain):\n",
    "  pipe= make_pipeline(scale, model)\n",
    "  pipe.fit(xtrain, ytrain)\n",
    "  y_pred= pipe.predict(xtrain)\n",
    "  print('Train Pred Mean: %s' % np.mean(y_pred))\n",
    "  print('R2 Score on Training: %s' % r2_score(y_train, y_pred))\n",
    "  print('MAE on Training: %s' % mean_absolute_error(y_train, y_pred))\n"
   ]
  },
  {
   "cell_type": "code",
   "execution_count": 66,
   "metadata": {},
   "outputs": [
    {
     "data": {
      "text/html": [
       "<div>\n",
       "<style scoped>\n",
       "    .dataframe tbody tr th:only-of-type {\n",
       "        vertical-align: middle;\n",
       "    }\n",
       "\n",
       "    .dataframe tbody tr th {\n",
       "        vertical-align: top;\n",
       "    }\n",
       "\n",
       "    .dataframe thead th {\n",
       "        text-align: right;\n",
       "    }\n",
       "</style>\n",
       "<table border=\"1\" class=\"dataframe\">\n",
       "  <thead>\n",
       "    <tr style=\"text-align: right;\">\n",
       "      <th></th>\n",
       "      <th>Player</th>\n",
       "      <th>Season</th>\n",
       "      <th>AGE</th>\n",
       "      <th>Pos_C</th>\n",
       "      <th>Pos_LW</th>\n",
       "      <th>Pos_RW</th>\n",
       "      <th>Pos_D</th>\n",
       "      <th>GP</th>\n",
       "      <th>G</th>\n",
       "      <th>A</th>\n",
       "      <th>PTS</th>\n",
       "      <th>PlusMinus</th>\n",
       "      <th>ATOI</th>\n",
       "      <th>TOI(EV)</th>\n",
       "      <th>PIM</th>\n",
       "      <th>PS</th>\n",
       "      <th>EV_A</th>\n",
       "      <th>PP_A</th>\n",
       "      <th>SH_A</th>\n",
       "      <th>GW</th>\n",
       "      <th>S</th>\n",
       "      <th>S_Pct</th>\n",
       "      <th>BLK</th>\n",
       "      <th>HIT</th>\n",
       "      <th>FOW</th>\n",
       "      <th>FOL</th>\n",
       "      <th>FO_Pct</th>\n",
       "      <th>CF</th>\n",
       "      <th>CA</th>\n",
       "      <th>CF_Pct</th>\n",
       "      <th>CF_Pct_rel</th>\n",
       "      <th>FF</th>\n",
       "      <th>FA</th>\n",
       "      <th>FF_Pct</th>\n",
       "      <th>FF_Pct_rel</th>\n",
       "      <th>oiSH_Pct</th>\n",
       "      <th>oiSV_Pct</th>\n",
       "      <th>PDO</th>\n",
       "      <th>oZS_Pct</th>\n",
       "      <th>dZS_Pct</th>\n",
       "      <th>TK</th>\n",
       "      <th>GV</th>\n",
       "      <th>SAtt.</th>\n",
       "      <th>Thru_Pct</th>\n",
       "      <th>SOT_Att</th>\n",
       "      <th>SOT_Scored</th>\n",
       "      <th>SOT_Saved</th>\n",
       "      <th>SOT_Pct</th>\n",
       "      <th>LENGTH</th>\n",
       "      <th>AAV</th>\n",
       "    </tr>\n",
       "  </thead>\n",
       "  <tbody>\n",
       "    <tr>\n",
       "      <th>0</th>\n",
       "      <td>Wayne Simmonds</td>\n",
       "      <td>2021</td>\n",
       "      <td>32.0</td>\n",
       "      <td>0</td>\n",
       "      <td>1</td>\n",
       "      <td>1</td>\n",
       "      <td>0</td>\n",
       "      <td>61.666667</td>\n",
       "      <td>10.666667</td>\n",
       "      <td>10.666667</td>\n",
       "      <td>21.333333</td>\n",
       "      <td>-13.333333</td>\n",
       "      <td>14.188889</td>\n",
       "      <td>12.458333</td>\n",
       "      <td>70.000000</td>\n",
       "      <td>1.166667</td>\n",
       "      <td>6.333333</td>\n",
       "      <td>4.333333</td>\n",
       "      <td>0.000000</td>\n",
       "      <td>1.000000</td>\n",
       "      <td>112.666667</td>\n",
       "      <td>9.600000</td>\n",
       "      <td>24.000000</td>\n",
       "      <td>115.333333</td>\n",
       "      <td>13.000000</td>\n",
       "      <td>21.333333</td>\n",
       "      <td>37.566667</td>\n",
       "      <td>670.666667</td>\n",
       "      <td>716.333333</td>\n",
       "      <td>48.9</td>\n",
       "      <td>-0.533333</td>\n",
       "      <td>499.333333</td>\n",
       "      <td>519.000000</td>\n",
       "      <td>49.833333</td>\n",
       "      <td>-0.066667</td>\n",
       "      <td>6.500000</td>\n",
       "      <td>91.733333</td>\n",
       "      <td>98.233333</td>\n",
       "      <td>49.300000</td>\n",
       "      <td>50.700000</td>\n",
       "      <td>22.333333</td>\n",
       "      <td>25.000000</td>\n",
       "      <td>231.5</td>\n",
       "      <td>59.566667</td>\n",
       "      <td>0.333333</td>\n",
       "      <td>0.0</td>\n",
       "      <td>0.333333</td>\n",
       "      <td>0.000000</td>\n",
       "      <td>2</td>\n",
       "      <td>900000.0</td>\n",
       "    </tr>\n",
       "    <tr>\n",
       "      <th>1</th>\n",
       "      <td>Ryan Nugent-Hopkins</td>\n",
       "      <td>2021</td>\n",
       "      <td>28.0</td>\n",
       "      <td>1</td>\n",
       "      <td>1</td>\n",
       "      <td>0</td>\n",
       "      <td>0</td>\n",
       "      <td>66.333333</td>\n",
       "      <td>22.000000</td>\n",
       "      <td>33.000000</td>\n",
       "      <td>55.000000</td>\n",
       "      <td>-5.333333</td>\n",
       "      <td>20.444444</td>\n",
       "      <td>15.041667</td>\n",
       "      <td>27.000000</td>\n",
       "      <td>5.433333</td>\n",
       "      <td>13.666667</td>\n",
       "      <td>8.000000</td>\n",
       "      <td>0.333333</td>\n",
       "      <td>3.000000</td>\n",
       "      <td>171.666667</td>\n",
       "      <td>12.733333</td>\n",
       "      <td>37.666667</td>\n",
       "      <td>42.666667</td>\n",
       "      <td>219.000000</td>\n",
       "      <td>249.000000</td>\n",
       "      <td>47.133333</td>\n",
       "      <td>893.000000</td>\n",
       "      <td>966.333333</td>\n",
       "      <td>48.6</td>\n",
       "      <td>0.500000</td>\n",
       "      <td>667.666667</td>\n",
       "      <td>718.000000</td>\n",
       "      <td>48.700000</td>\n",
       "      <td>0.366667</td>\n",
       "      <td>9.733333</td>\n",
       "      <td>90.600000</td>\n",
       "      <td>100.300000</td>\n",
       "      <td>53.900000</td>\n",
       "      <td>46.100000</td>\n",
       "      <td>45.000000</td>\n",
       "      <td>42.666667</td>\n",
       "      <td>330.5</td>\n",
       "      <td>56.833333</td>\n",
       "      <td>3.000000</td>\n",
       "      <td>1.0</td>\n",
       "      <td>2.000000</td>\n",
       "      <td>16.666667</td>\n",
       "      <td>8</td>\n",
       "      <td>5125000.0</td>\n",
       "    </tr>\n",
       "    <tr>\n",
       "      <th>2</th>\n",
       "      <td>Trent Frederic</td>\n",
       "      <td>2021</td>\n",
       "      <td>23.0</td>\n",
       "      <td>1</td>\n",
       "      <td>1</td>\n",
       "      <td>0</td>\n",
       "      <td>0</td>\n",
       "      <td>19.666667</td>\n",
       "      <td>1.333333</td>\n",
       "      <td>0.333333</td>\n",
       "      <td>1.666667</td>\n",
       "      <td>-4.333333</td>\n",
       "      <td>9.027778</td>\n",
       "      <td>7.691667</td>\n",
       "      <td>26.666667</td>\n",
       "      <td>-0.200000</td>\n",
       "      <td>1.333333</td>\n",
       "      <td>0.000000</td>\n",
       "      <td>0.000000</td>\n",
       "      <td>1.000000</td>\n",
       "      <td>21.333333</td>\n",
       "      <td>3.033333</td>\n",
       "      <td>6.000000</td>\n",
       "      <td>29.000000</td>\n",
       "      <td>26.000000</td>\n",
       "      <td>24.333333</td>\n",
       "      <td>34.500000</td>\n",
       "      <td>150.666667</td>\n",
       "      <td>171.333333</td>\n",
       "      <td>35.2</td>\n",
       "      <td>-16.400000</td>\n",
       "      <td>113.333333</td>\n",
       "      <td>124.000000</td>\n",
       "      <td>34.366667</td>\n",
       "      <td>-19.300000</td>\n",
       "      <td>1.466667</td>\n",
       "      <td>91.233333</td>\n",
       "      <td>63.066667</td>\n",
       "      <td>49.400000</td>\n",
       "      <td>50.600000</td>\n",
       "      <td>4.666667</td>\n",
       "      <td>3.000000</td>\n",
       "      <td>12.5</td>\n",
       "      <td>79.300000</td>\n",
       "      <td>0.000000</td>\n",
       "      <td>0.0</td>\n",
       "      <td>0.000000</td>\n",
       "      <td>0.000000</td>\n",
       "      <td>2</td>\n",
       "      <td>1050000.0</td>\n",
       "    </tr>\n",
       "    <tr>\n",
       "      <th>3</th>\n",
       "      <td>Blake Lizotte</td>\n",
       "      <td>2021</td>\n",
       "      <td>23.0</td>\n",
       "      <td>1</td>\n",
       "      <td>0</td>\n",
       "      <td>0</td>\n",
       "      <td>0</td>\n",
       "      <td>35.666667</td>\n",
       "      <td>3.000000</td>\n",
       "      <td>8.000000</td>\n",
       "      <td>11.000000</td>\n",
       "      <td>-1.000000</td>\n",
       "      <td>12.622222</td>\n",
       "      <td>11.516667</td>\n",
       "      <td>12.000000</td>\n",
       "      <td>0.700000</td>\n",
       "      <td>1.666667</td>\n",
       "      <td>0.666667</td>\n",
       "      <td>0.666667</td>\n",
       "      <td>0.000000</td>\n",
       "      <td>43.333333</td>\n",
       "      <td>4.666667</td>\n",
       "      <td>14.666667</td>\n",
       "      <td>24.666667</td>\n",
       "      <td>165.333333</td>\n",
       "      <td>162.666667</td>\n",
       "      <td>50.333333</td>\n",
       "      <td>402.000000</td>\n",
       "      <td>348.333333</td>\n",
       "      <td>56.5</td>\n",
       "      <td>10.633333</td>\n",
       "      <td>302.666667</td>\n",
       "      <td>257.666667</td>\n",
       "      <td>56.633333</td>\n",
       "      <td>11.666667</td>\n",
       "      <td>4.633333</td>\n",
       "      <td>87.766667</td>\n",
       "      <td>92.366667</td>\n",
       "      <td>45.933333</td>\n",
       "      <td>54.066667</td>\n",
       "      <td>9.666667</td>\n",
       "      <td>9.000000</td>\n",
       "      <td>80.0</td>\n",
       "      <td>53.200000</td>\n",
       "      <td>0.000000</td>\n",
       "      <td>0.0</td>\n",
       "      <td>0.000000</td>\n",
       "      <td>0.000000</td>\n",
       "      <td>1</td>\n",
       "      <td>800000.0</td>\n",
       "    </tr>\n",
       "    <tr>\n",
       "      <th>4</th>\n",
       "      <td>Matt Nieto</td>\n",
       "      <td>2021</td>\n",
       "      <td>28.0</td>\n",
       "      <td>0</td>\n",
       "      <td>1</td>\n",
       "      <td>1</td>\n",
       "      <td>0</td>\n",
       "      <td>54.000000</td>\n",
       "      <td>5.666667</td>\n",
       "      <td>11.333333</td>\n",
       "      <td>17.000000</td>\n",
       "      <td>1.333333</td>\n",
       "      <td>13.755556</td>\n",
       "      <td>10.966667</td>\n",
       "      <td>6.000000</td>\n",
       "      <td>1.066667</td>\n",
       "      <td>4.666667</td>\n",
       "      <td>0.000000</td>\n",
       "      <td>1.000000</td>\n",
       "      <td>1.333333</td>\n",
       "      <td>72.000000</td>\n",
       "      <td>8.400000</td>\n",
       "      <td>22.666667</td>\n",
       "      <td>37.333333</td>\n",
       "      <td>5.000000</td>\n",
       "      <td>4.666667</td>\n",
       "      <td>50.000000</td>\n",
       "      <td>570.666667</td>\n",
       "      <td>568.333333</td>\n",
       "      <td>49.0</td>\n",
       "      <td>-0.800000</td>\n",
       "      <td>420.000000</td>\n",
       "      <td>414.666667</td>\n",
       "      <td>49.333333</td>\n",
       "      <td>-0.733333</td>\n",
       "      <td>8.033333</td>\n",
       "      <td>91.466667</td>\n",
       "      <td>99.500000</td>\n",
       "      <td>43.266667</td>\n",
       "      <td>56.733333</td>\n",
       "      <td>15.000000</td>\n",
       "      <td>11.000000</td>\n",
       "      <td>139.5</td>\n",
       "      <td>66.700000</td>\n",
       "      <td>0.000000</td>\n",
       "      <td>0.0</td>\n",
       "      <td>0.000000</td>\n",
       "      <td>0.000000</td>\n",
       "      <td>2</td>\n",
       "      <td>850000.0</td>\n",
       "    </tr>\n",
       "  </tbody>\n",
       "</table>\n",
       "</div>"
      ],
      "text/plain": [
       "                Player  Season   AGE  Pos_C  Pos_LW  Pos_RW  Pos_D         GP  \\\n",
       "0       Wayne Simmonds    2021  32.0      0       1       1      0  61.666667   \n",
       "1  Ryan Nugent-Hopkins    2021  28.0      1       1       0      0  66.333333   \n",
       "2       Trent Frederic    2021  23.0      1       1       0      0  19.666667   \n",
       "3        Blake Lizotte    2021  23.0      1       0       0      0  35.666667   \n",
       "4           Matt Nieto    2021  28.0      0       1       1      0  54.000000   \n",
       "\n",
       "           G          A        PTS  PlusMinus       ATOI    TOI(EV)  \\\n",
       "0  10.666667  10.666667  21.333333 -13.333333  14.188889  12.458333   \n",
       "1  22.000000  33.000000  55.000000  -5.333333  20.444444  15.041667   \n",
       "2   1.333333   0.333333   1.666667  -4.333333   9.027778   7.691667   \n",
       "3   3.000000   8.000000  11.000000  -1.000000  12.622222  11.516667   \n",
       "4   5.666667  11.333333  17.000000   1.333333  13.755556  10.966667   \n",
       "\n",
       "         PIM        PS       EV_A      PP_A      SH_A        GW           S  \\\n",
       "0  70.000000  1.166667   6.333333  4.333333  0.000000  1.000000  112.666667   \n",
       "1  27.000000  5.433333  13.666667  8.000000  0.333333  3.000000  171.666667   \n",
       "2  26.666667 -0.200000   1.333333  0.000000  0.000000  1.000000   21.333333   \n",
       "3  12.000000  0.700000   1.666667  0.666667  0.666667  0.000000   43.333333   \n",
       "4   6.000000  1.066667   4.666667  0.000000  1.000000  1.333333   72.000000   \n",
       "\n",
       "       S_Pct        BLK         HIT         FOW         FOL     FO_Pct  \\\n",
       "0   9.600000  24.000000  115.333333   13.000000   21.333333  37.566667   \n",
       "1  12.733333  37.666667   42.666667  219.000000  249.000000  47.133333   \n",
       "2   3.033333   6.000000   29.000000   26.000000   24.333333  34.500000   \n",
       "3   4.666667  14.666667   24.666667  165.333333  162.666667  50.333333   \n",
       "4   8.400000  22.666667   37.333333    5.000000    4.666667  50.000000   \n",
       "\n",
       "           CF          CA  CF_Pct  CF_Pct_rel          FF          FA  \\\n",
       "0  670.666667  716.333333    48.9   -0.533333  499.333333  519.000000   \n",
       "1  893.000000  966.333333    48.6    0.500000  667.666667  718.000000   \n",
       "2  150.666667  171.333333    35.2  -16.400000  113.333333  124.000000   \n",
       "3  402.000000  348.333333    56.5   10.633333  302.666667  257.666667   \n",
       "4  570.666667  568.333333    49.0   -0.800000  420.000000  414.666667   \n",
       "\n",
       "      FF_Pct  FF_Pct_rel  oiSH_Pct   oiSV_Pct         PDO    oZS_Pct  \\\n",
       "0  49.833333   -0.066667  6.500000  91.733333   98.233333  49.300000   \n",
       "1  48.700000    0.366667  9.733333  90.600000  100.300000  53.900000   \n",
       "2  34.366667  -19.300000  1.466667  91.233333   63.066667  49.400000   \n",
       "3  56.633333   11.666667  4.633333  87.766667   92.366667  45.933333   \n",
       "4  49.333333   -0.733333  8.033333  91.466667   99.500000  43.266667   \n",
       "\n",
       "     dZS_Pct         TK         GV  SAtt.   Thru_Pct   SOT_Att  SOT_Scored  \\\n",
       "0  50.700000  22.333333  25.000000  231.5  59.566667  0.333333         0.0   \n",
       "1  46.100000  45.000000  42.666667  330.5  56.833333  3.000000         1.0   \n",
       "2  50.600000   4.666667   3.000000   12.5  79.300000  0.000000         0.0   \n",
       "3  54.066667   9.666667   9.000000   80.0  53.200000  0.000000         0.0   \n",
       "4  56.733333  15.000000  11.000000  139.5  66.700000  0.000000         0.0   \n",
       "\n",
       "   SOT_Saved    SOT_Pct  LENGTH        AAV  \n",
       "0   0.333333   0.000000       2   900000.0  \n",
       "1   2.000000  16.666667       8  5125000.0  \n",
       "2   0.000000   0.000000       2  1050000.0  \n",
       "3   0.000000   0.000000       1   800000.0  \n",
       "4   0.000000   0.000000       2   850000.0  "
      ]
     },
     "execution_count": 66,
     "metadata": {},
     "output_type": "execute_result"
    }
   ],
   "source": [
    "skaters.head()"
   ]
  },
  {
   "cell_type": "code",
   "execution_count": 67,
   "metadata": {
    "colab": {
     "base_uri": "https://localhost:8080/"
    },
    "id": "vFmF7HO392QJ",
    "outputId": "57ddcb63-614a-41fc-d99e-b47900f3b064"
   },
   "outputs": [
    {
     "name": "stdout",
     "output_type": "stream",
     "text": [
      "Train Pred Mean: 2309271.893834029\n",
      "R2 Score on Training: 0.8396366625195615\n",
      "MAE on Training: 558756.6974147127\n"
     ]
    }
   ],
   "source": [
    "# Linear Regresssion\n",
    "\n",
    "results(standard, linreg, X_train, y_train)"
   ]
  },
  {
   "cell_type": "code",
   "execution_count": 68,
   "metadata": {
    "colab": {
     "base_uri": "https://localhost:8080/"
    },
    "id": "hv7qHtws92Th",
    "outputId": "07206342-daca-471a-ce12-7236da0d5b62"
   },
   "outputs": [
    {
     "name": "stdout",
     "output_type": "stream",
     "text": [
      "Train Pred Mean: 2309271.893834029\n",
      "R2 Score on Training: 0.011825839409266958\n",
      "MAE on Training: 1528583.4577023326\n"
     ]
    }
   ],
   "source": [
    "# Elastic Net\n",
    "results(standard,elastic, X_train, y_train)\n"
   ]
  },
  {
   "cell_type": "code",
   "execution_count": 69,
   "metadata": {
    "colab": {
     "base_uri": "https://localhost:8080/"
    },
    "id": "GWhPw3bm92W5",
    "outputId": "7008a898-25bd-4d0c-b914-2b8bf82dc4f8"
   },
   "outputs": [
    {
     "name": "stdout",
     "output_type": "stream",
     "text": [
      "Train Pred Mean: 2309271.893834029\n",
      "R2 Score on Training: 0.8395498932766944\n",
      "MAE on Training: 558472.7645941826\n"
     ]
    }
   ],
   "source": [
    "# Ridge\n",
    "\n",
    "results(standard, ridge, X_train, y_train)"
   ]
  },
  {
   "cell_type": "code",
   "execution_count": 70,
   "metadata": {
    "colab": {
     "base_uri": "https://localhost:8080/"
    },
    "id": "LtQg7dlz92aa",
    "outputId": "d9b38d3c-a773-452d-a561-2571b4ded6aa"
   },
   "outputs": [
    {
     "name": "stdout",
     "output_type": "stream",
     "text": [
      "Train Pred Mean: 2302675.515062595\n",
      "R2 Score on Training: 0.8363512653902522\n",
      "MAE on Training: 564044.3984719361\n"
     ]
    }
   ],
   "source": [
    "# Gradient\n",
    "\n",
    "results(standard, grad, X_train, y_train)"
   ]
  },
  {
   "cell_type": "code",
   "execution_count": 71,
   "metadata": {
    "colab": {
     "base_uri": "https://localhost:8080/"
    },
    "id": "fxGBy6c_92dX",
    "outputId": "a43850f6-bfdd-4cc2-8a93-8d9c3faf7eca"
   },
   "outputs": [
    {
     "name": "stdout",
     "output_type": "stream",
     "text": [
      "Train Pred Mean: 2180703.028096895\n",
      "R2 Score on Training: 0.10072490860134686\n",
      "MAE on Training: 912682.8417208971\n"
     ]
    }
   ],
   "source": [
    "# RANSAC\n",
    "\n",
    "results(standard, ransac, X_train, y_train)"
   ]
  },
  {
   "cell_type": "code",
   "execution_count": 72,
   "metadata": {
    "colab": {
     "base_uri": "https://localhost:8080/"
    },
    "id": "qPg-ouBzJmEr",
    "outputId": "263eb37a-6642-493c-8cfa-d71a55478dbe"
   },
   "outputs": [
    {
     "name": "stdout",
     "output_type": "stream",
     "text": [
      "Train Pred Mean: 2157.0\n",
      "R2 Score on Training: -1.415691240867146\n",
      "MAE on Training: 2307114.893834029\n"
     ]
    }
   ],
   "source": [
    "# Linear SVR\n",
    "####################### what is going on here ??\n",
    "results(standard, linsvr, X_train, y_train)"
   ]
  },
  {
   "cell_type": "code",
   "execution_count": 73,
   "metadata": {
    "colab": {
     "base_uri": "https://localhost:8080/"
    },
    "id": "mB9NEedXJmJN",
    "outputId": "12ba538a-59da-4d1f-ccf7-a8f047a9e8b6"
   },
   "outputs": [
    {
     "name": "stdout",
     "output_type": "stream",
     "text": [
      "Train Pred Mean: 1500032.12961663\n",
      "R2 Score on Training: -0.17409691864826482\n",
      "MAE on Training: 1424857.3891281905\n"
     ]
    }
   ],
   "source": [
    "# SVR (rbf?)\n",
    "################## negative r2 over 1?????\n",
    "results(standard, svr, X_train, y_train)"
   ]
  },
  {
   "cell_type": "code",
   "execution_count": 74,
   "metadata": {
    "colab": {
     "base_uri": "https://localhost:8080/"
    },
    "id": "9Y0ayquWQVgC",
    "outputId": "a7291afa-d1e0-489c-cede-4c47f9b55a45"
   },
   "outputs": [
    {
     "name": "stdout",
     "output_type": "stream",
     "text": [
      "Train Pred Mean: 2309271.893834029\n",
      "R2 Score on Training: 0.8385884648625961\n",
      "MAE on Training: 557917.4753354028\n"
     ]
    }
   ],
   "source": [
    "# Lasso\n",
    "results(standard, lasso, X_train, y_train)"
   ]
  },
  {
   "cell_type": "markdown",
   "metadata": {
    "id": "kB0mYEURl-WY"
   },
   "source": [
    "So far, scaling our data with a standard scaler works best when paired with a Linear Regressor model that gives us a 0.8508 R2 score. A Ridge Regression model came in at solid second option with an R2 score of 0.8525, with Lasso Regression close behind with 0.8509."
   ]
  },
  {
   "cell_type": "markdown",
   "metadata": {
    "id": "Qq0qK3htJ-pf"
   },
   "source": [
    "### **ROBUST-SCALED**"
   ]
  },
  {
   "cell_type": "markdown",
   "metadata": {
    "id": "N-fAqiaTm-bL"
   },
   "source": [
    "Another scaling option available is the Robust Scaler, which is more immune to the influences of outliers. Here, I repeat the same process as before to see which pairing is most optimal moving forward.\n"
   ]
  },
  {
   "cell_type": "code",
   "execution_count": 75,
   "metadata": {
    "colab": {
     "base_uri": "https://localhost:8080/"
    },
    "id": "K8M75Q0BJmOr",
    "outputId": "3e314f81-a235-40ae-ba36-f899327da029"
   },
   "outputs": [
    {
     "name": "stdout",
     "output_type": "stream",
     "text": [
      "Train Pred Mean: 2309271.893834029\n",
      "R2 Score on Training: 0.8396366625195615\n",
      "MAE on Training: 558756.6974147132\n"
     ]
    }
   ],
   "source": [
    "# Lin Reg\n",
    "\n",
    "results(robust, linreg, X_train, y_train)"
   ]
  },
  {
   "cell_type": "code",
   "execution_count": 76,
   "metadata": {
    "colab": {
     "base_uri": "https://localhost:8080/"
    },
    "id": "gS7LP2JSJmRp",
    "outputId": "a5ee5d40-6954-4578-b1d1-f9a1e55f71c7"
   },
   "outputs": [
    {
     "name": "stdout",
     "output_type": "stream",
     "text": [
      "Train Pred Mean: 2309271.8938340293\n",
      "R2 Score on Training: 0.00846463292914712\n",
      "MAE on Training: 1531525.7470996361\n"
     ]
    }
   ],
   "source": [
    "# Elastic\n",
    "\n",
    "results(robust, elastic, X_train, y_train)"
   ]
  },
  {
   "cell_type": "code",
   "execution_count": 77,
   "metadata": {
    "colab": {
     "base_uri": "https://localhost:8080/"
    },
    "id": "xgqsGt64JmT8",
    "outputId": "2706cc1b-202c-4102-f060-e8d12da61838"
   },
   "outputs": [
    {
     "name": "stdout",
     "output_type": "stream",
     "text": [
      "Train Pred Mean: 2309271.893834029\n",
      "R2 Score on Training: 0.8394069241754082\n",
      "MAE on Training: 558341.3252978465\n"
     ]
    }
   ],
   "source": [
    "# Ridge\n",
    "\n",
    "results(robust, ridge, X_train, y_train)"
   ]
  },
  {
   "cell_type": "code",
   "execution_count": 78,
   "metadata": {
    "colab": {
     "base_uri": "https://localhost:8080/"
    },
    "id": "fiVmc5kHJmWv",
    "outputId": "5e3e844a-a321-4e11-e3e7-2b6cc1c068cd"
   },
   "outputs": [
    {
     "name": "stdout",
     "output_type": "stream",
     "text": [
      "Train Pred Mean: 2331600.1722888467\n",
      "R2 Score on Training: 0.8292915653225174\n",
      "MAE on Training: 578013.4249605543\n"
     ]
    }
   ],
   "source": [
    "# Grad\n",
    "\n",
    "results(robust, grad, X_train, y_train)"
   ]
  },
  {
   "cell_type": "code",
   "execution_count": 79,
   "metadata": {
    "colab": {
     "base_uri": "https://localhost:8080/"
    },
    "id": "eM37Qo_3JmaK",
    "outputId": "7bfde16c-8ca7-46df-9364-5cd119d89bff"
   },
   "outputs": [
    {
     "name": "stdout",
     "output_type": "stream",
     "text": [
      "Train Pred Mean: 2129410.456137873\n",
      "R2 Score on Training: -0.02550481608355648\n",
      "MAE on Training: 827325.1493645206\n"
     ]
    }
   ],
   "source": [
    "# Ransac\n",
    "\n",
    "results(robust, ransac, X_train, y_train)"
   ]
  },
  {
   "cell_type": "code",
   "execution_count": 80,
   "metadata": {
    "colab": {
     "base_uri": "https://localhost:8080/"
    },
    "id": "cYhIDqs6JmcD",
    "outputId": "2cde4617-2fa2-47c9-ec63-5e243755e317"
   },
   "outputs": [
    {
     "name": "stdout",
     "output_type": "stream",
     "text": [
      "Train Pred Mean: 18234.225971313135\n",
      "R2 Score on Training: -1.3854582930687211\n",
      "MAE on Training: 2291037.6678627157\n"
     ]
    }
   ],
   "source": [
    "# Lin SVR\n",
    "\n",
    "results(robust, linsvr, X_train, y_train)"
   ]
  },
  {
   "cell_type": "code",
   "execution_count": 81,
   "metadata": {
    "colab": {
     "base_uri": "https://localhost:8080/"
    },
    "id": "qTXkJoWLJmfY",
    "outputId": "ff7a607e-b708-4dc6-b7f2-7a3958e4e529"
   },
   "outputs": [
    {
     "name": "stdout",
     "output_type": "stream",
     "text": [
      "Train Pred Mean: 1500024.0038980162\n",
      "R2 Score on Training: -0.17410499729508566\n",
      "MAE on Training: 1424864.8713987241\n"
     ]
    }
   ],
   "source": [
    "# SVR\n",
    "\n",
    "results(robust, svr, X_train, y_train)"
   ]
  },
  {
   "cell_type": "code",
   "execution_count": 82,
   "metadata": {
    "colab": {
     "base_uri": "https://localhost:8080/"
    },
    "id": "TWbIhyZr92gZ",
    "outputId": "f4b52df7-cd02-4fdb-8682-7f823c5d6a18"
   },
   "outputs": [
    {
     "name": "stdout",
     "output_type": "stream",
     "text": [
      "Train Pred Mean: 2309271.893834029\n",
      "R2 Score on Training: 0.8380292227966675\n",
      "MAE on Training: 558734.946594735\n"
     ]
    }
   ],
   "source": [
    "# Lasso\n",
    "\n",
    "results(robust, lasso, X_train, y_train)"
   ]
  },
  {
   "cell_type": "markdown",
   "metadata": {
    "id": "HgU_ndmNns23"
   },
   "source": [
    "Again, a Linear Regressor is the clear frontrunner with an identical R2 score as before, while a Ridge Regressor had an 0.8513, and Lasso a 0.8510. Our next step will to be to bulid pipelines and optimize them using a gridsearch."
   ]
  },
  {
   "cell_type": "markdown",
   "metadata": {
    "id": "B-e_Hcsla3Rb"
   },
   "source": [
    "\n",
    "# Pipelines\n",
    "\n"
   ]
  },
  {
   "cell_type": "markdown",
   "metadata": {
    "id": "dplBJROIpIJO"
   },
   "source": [
    "**Pipeline 1: StandardScaler, SelectKBest, LinearRegression**"
   ]
  },
  {
   "cell_type": "code",
   "execution_count": 83,
   "metadata": {
    "id": "xV_4EfxgUMoi"
   },
   "outputs": [],
   "source": [
    "# define pipeline\n",
    "\n",
    "pipe_sl= make_pipeline(StandardScaler(), SelectKBest(score_func=f_regression), LinearRegression())"
   ]
  },
  {
   "cell_type": "code",
   "execution_count": 84,
   "metadata": {
    "colab": {
     "base_uri": "https://localhost:8080/"
    },
    "id": "25LMAHg9UMsB",
    "outputId": "d7a5542f-20bb-47da-ac7b-a75338780311"
   },
   "outputs": [
    {
     "data": {
      "text/plain": [
       "Pipeline(steps=[('standardscaler', StandardScaler()),\n",
       "                ('selectkbest',\n",
       "                 SelectKBest(score_func=<function f_regression at 0x000001D9BE9353A0>)),\n",
       "                ('linearregression', LinearRegression())])"
      ]
     },
     "execution_count": 84,
     "metadata": {},
     "output_type": "execute_result"
    }
   ],
   "source": [
    "# fit pipeline\n",
    "\n",
    "pipe_sl.fit(X_train, y_train)"
   ]
  },
  {
   "cell_type": "code",
   "execution_count": 85,
   "metadata": {
    "id": "PajgoORgUMvP"
   },
   "outputs": [],
   "source": [
    "# assess performance\n",
    "\n",
    "cv_results= cross_validate(pipe_sl, X_train, y_train, cv=5)"
   ]
  },
  {
   "cell_type": "code",
   "execution_count": 86,
   "metadata": {
    "colab": {
     "base_uri": "https://localhost:8080/"
    },
    "id": "rqvPe_eHVJ2S",
    "outputId": "35c2f88b-3b11-47b1-e23c-fedd35bb95f4"
   },
   "outputs": [
    {
     "data": {
      "text/plain": [
       "(0.7996524899915316, 0.03353302179283175)"
      ]
     },
     "execution_count": 86,
     "metadata": {},
     "output_type": "execute_result"
    }
   ],
   "source": [
    "np.mean(cv_results['test_score']), np.std(cv_results['test_score'])"
   ]
  },
  {
   "cell_type": "code",
   "execution_count": 87,
   "metadata": {
    "colab": {
     "base_uri": "https://localhost:8080/"
    },
    "id": "4TPcdDRrVJ46",
    "outputId": "6bec0b07-8768-448c-c5d5-0f5ff501ff6b"
   },
   "outputs": [
    {
     "data": {
      "text/plain": [
       "dict_keys(['memory', 'steps', 'verbose', 'standardscaler', 'selectkbest', 'linearregression', 'standardscaler__copy', 'standardscaler__with_mean', 'standardscaler__with_std', 'selectkbest__k', 'selectkbest__score_func', 'linearregression__copy_X', 'linearregression__fit_intercept', 'linearregression__n_jobs', 'linearregression__normalize', 'linearregression__positive'])"
      ]
     },
     "execution_count": 87,
     "metadata": {},
     "output_type": "execute_result"
    }
   ],
   "source": [
    "pipe_sl.get_params().keys()"
   ]
  },
  {
   "cell_type": "code",
   "execution_count": 88,
   "metadata": {
    "id": "1v_T02qgXSRN"
   },
   "outputs": [],
   "source": [
    "# hyperparameter search with gridsearchcv"
   ]
  },
  {
   "cell_type": "code",
   "execution_count": 89,
   "metadata": {
    "id": "5C1kN_haVJ7V"
   },
   "outputs": [],
   "source": [
    "k = [k+1 for k in range(len(X_train.columns))]\n",
    "grid = {'selectkbest__k': k}"
   ]
  },
  {
   "cell_type": "code",
   "execution_count": 90,
   "metadata": {
    "id": "mcxUU3mFVJ-P"
   },
   "outputs": [],
   "source": [
    "lr_grid_cv= GridSearchCV(pipe_sl, param_grid=grid, cv=5, n_jobs=-1)"
   ]
  },
  {
   "cell_type": "code",
   "execution_count": 91,
   "metadata": {
    "colab": {
     "base_uri": "https://localhost:8080/"
    },
    "id": "FFIsGGMEVKAj",
    "outputId": "7ea044b6-fc79-45fd-ea9b-9949039436c5"
   },
   "outputs": [
    {
     "data": {
      "text/plain": [
       "GridSearchCV(cv=5,\n",
       "             estimator=Pipeline(steps=[('standardscaler', StandardScaler()),\n",
       "                                       ('selectkbest',\n",
       "                                        SelectKBest(score_func=<function f_regression at 0x000001D9BE9353A0>)),\n",
       "                                       ('linearregression',\n",
       "                                        LinearRegression())]),\n",
       "             n_jobs=-1,\n",
       "             param_grid={'selectkbest__k': [1, 2, 3, 4, 5, 6, 7, 8, 9, 10, 11,\n",
       "                                            12, 13, 14, 15, 16, 17, 18, 19, 20,\n",
       "                                            21, 22, 23, 24, 25, 26, 27, 28, 29,\n",
       "                                            30, ...]})"
      ]
     },
     "execution_count": 91,
     "metadata": {},
     "output_type": "execute_result"
    }
   ],
   "source": [
    "lr_grid_cv.fit(X_train, y_train)"
   ]
  },
  {
   "cell_type": "code",
   "execution_count": 92,
   "metadata": {
    "id": "w4P3TsfAVKDC"
   },
   "outputs": [],
   "source": [
    "score_mean= lr_grid_cv.cv_results_['mean_test_score']\n",
    "score_std= lr_grid_cv.cv_results_['std_test_score']\n",
    "cv_k= [k for k in lr_grid_cv.cv_results_['param_selectkbest__k']]"
   ]
  },
  {
   "cell_type": "code",
   "execution_count": 93,
   "metadata": {
    "colab": {
     "base_uri": "https://localhost:8080/"
    },
    "id": "B210ZvlpVKF6",
    "outputId": "21d884ab-0b48-4257-8515-6be516d52dd6"
   },
   "outputs": [
    {
     "data": {
      "text/plain": [
       "{'selectkbest__k': 48}"
      ]
     },
     "execution_count": 93,
     "metadata": {},
     "output_type": "execute_result"
    }
   ],
   "source": [
    "lr_grid_cv.best_params_"
   ]
  },
  {
   "cell_type": "code",
   "execution_count": 94,
   "metadata": {
    "colab": {
     "base_uri": "https://localhost:8080/"
    },
    "id": "82hYjZHTrR0A",
    "outputId": "a2f63ab5-c5a0-442a-f676-fe6d0de5507d"
   },
   "outputs": [
    {
     "data": {
      "text/plain": [
       "(0.8034101446667495, 0.03330388833653566)"
      ]
     },
     "execution_count": 94,
     "metadata": {},
     "output_type": "execute_result"
    }
   ],
   "source": [
    "np.mean(score_mean), np.mean(score_std)"
   ]
  },
  {
   "cell_type": "code",
   "execution_count": 95,
   "metadata": {
    "colab": {
     "base_uri": "https://localhost:8080/",
     "height": 350
    },
    "id": "fNtargoZVKI4",
    "outputId": "150476aa-a733-41e4-a143-e505250e1ca1"
   },
   "outputs": [
    {
     "data": {
      "image/png": "[encoded data removed]",
      "text/plain": [
       "<Figure size 720x360 with 1 Axes>"
      ]
     },
     "metadata": {
      "needs_background": "light"
     },
     "output_type": "display_data"
    }
   ],
   "source": [
    "best_k = lr_grid_cv.best_params_['selectkbest__k']\n",
    "plt.subplots(figsize=(10, 5))\n",
    "plt.errorbar(cv_k, score_mean, yerr=score_std)\n",
    "plt.axvline(x=best_k, c='r', ls='--', alpha=.5)\n",
    "plt.xlabel('k')\n",
    "plt.ylabel('CV score (r-squared)')\n",
    "plt.title('Pipeline mean CV score (error bars +/- 1sd)');"
   ]
  },
  {
   "cell_type": "markdown",
   "metadata": {
    "id": "zuGnfOR5rhVH"
   },
   "source": [
    "A pipeline using a all 48 features an average R2 score of 0.8157076986439693, with an avg standard deviation 0.01667776890013122.\n",
    "\n",
    "A GridSearch tells us that an optimal model uses only 45 of the 48 total features, however this gives the model a slight drop in perfomance as it produces an average R2 of 0.8061950420775156 with a standadrd deviation of 0.01705895802453225. \n",
    "\n",
    "Using all our features produces a more accurate and less variable model. But analzying the plot above, the r2 score seems to level off after 8 or 9 features. \n",
    "\n",
    "So far, this is not a bad model, but it is worth exploring more.\n"
   ]
  },
  {
   "cell_type": "markdown",
   "metadata": {
    "id": "c8VfXXkvqc2O"
   },
   "source": [
    "**Pipeline 2: RobustScaler, SelectKBest, LinearRegression**"
   ]
  },
  {
   "cell_type": "code",
   "execution_count": 96,
   "metadata": {
    "colab": {
     "base_uri": "https://localhost:8080/"
    },
    "id": "OmHjIBHEsrsu",
    "outputId": "fea52bff-792c-48d0-9948-15198fd0a088"
   },
   "outputs": [
    {
     "data": {
      "text/plain": [
       "Pipeline(steps=[('robustscaler', RobustScaler()),\n",
       "                ('selectkbest',\n",
       "                 SelectKBest(score_func=<function f_regression at 0x000001D9BE9353A0>)),\n",
       "                ('linearregression', LinearRegression())])"
      ]
     },
     "execution_count": 96,
     "metadata": {},
     "output_type": "execute_result"
    }
   ],
   "source": [
    "pipe_rl= make_pipeline(RobustScaler(), SelectKBest(score_func=f_regression), LinearRegression())\n",
    "pipe_rl.fit(X_train, y_train)"
   ]
  },
  {
   "cell_type": "code",
   "execution_count": 97,
   "metadata": {
    "colab": {
     "base_uri": "https://localhost:8080/"
    },
    "id": "-yEzFcAVs2FD",
    "outputId": "1d0d1458-9838-4a39-a335-3e5be815f0b0"
   },
   "outputs": [
    {
     "data": {
      "text/plain": [
       "(0.7996524899915316, 0.03353302179283182)"
      ]
     },
     "execution_count": 97,
     "metadata": {},
     "output_type": "execute_result"
    }
   ],
   "source": [
    "cv_results= cross_validate(pipe_rl, X_train, y_train, cv=5)\n",
    "np.mean(cv_results['test_score']), np.std(cv_results['test_score'])"
   ]
  },
  {
   "cell_type": "code",
   "execution_count": 98,
   "metadata": {
    "id": "Gu3PCJcos2H8"
   },
   "outputs": [],
   "source": [
    "### ==> almost exactly the same, but slightly better\n"
   ]
  },
  {
   "cell_type": "code",
   "execution_count": 99,
   "metadata": {
    "colab": {
     "base_uri": "https://localhost:8080/"
    },
    "id": "bgeKAzVgqzWv",
    "outputId": "22a19d36-3070-4c14-e9b6-6b6685f32d4f"
   },
   "outputs": [
    {
     "data": {
      "text/plain": [
       "GridSearchCV(cv=5,\n",
       "             estimator=Pipeline(steps=[('robustscaler', RobustScaler()),\n",
       "                                       ('selectkbest',\n",
       "                                        SelectKBest(score_func=<function f_regression at 0x000001D9BE9353A0>)),\n",
       "                                       ('linearregression',\n",
       "                                        LinearRegression())]),\n",
       "             n_jobs=-1,\n",
       "             param_grid={'selectkbest__k': [1, 2, 3, 4, 5, 6, 7, 8, 9, 10, 11,\n",
       "                                            12, 13, 14, 15, 16, 17, 18, 19, 20,\n",
       "                                            21, 22, 23, 24, 25, 26, 27, 28, 29,\n",
       "                                            30, ...]})"
      ]
     },
     "execution_count": 99,
     "metadata": {},
     "output_type": "execute_result"
    }
   ],
   "source": [
    "lr_grid_cv= GridSearchCV(pipe_rl, param_grid=grid, cv=5, n_jobs=-1)\n",
    "lr_grid_cv.fit(X_train, y_train)\n"
   ]
  },
  {
   "cell_type": "code",
   "execution_count": 100,
   "metadata": {
    "id": "17NMNbONqzbK"
   },
   "outputs": [],
   "source": [
    "score_mean= lr_grid_cv.cv_results_['mean_test_score']\n",
    "score_std= lr_grid_cv.cv_results_['std_test_score']\n",
    "cv_k= [k for k in lr_grid_cv.cv_results_['param_selectkbest__k']]"
   ]
  },
  {
   "cell_type": "code",
   "execution_count": 101,
   "metadata": {
    "colab": {
     "base_uri": "https://localhost:8080/"
    },
    "id": "prBT8Tb_qzdz",
    "outputId": "59b5fa8b-1c33-42b2-b6c9-005077231989"
   },
   "outputs": [
    {
     "data": {
      "text/plain": [
       "(0.8033732360282917, 0.03324870761400348)"
      ]
     },
     "execution_count": 101,
     "metadata": {},
     "output_type": "execute_result"
    }
   ],
   "source": [
    "np.mean(score_mean), np.mean(score_std)"
   ]
  },
  {
   "cell_type": "code",
   "execution_count": 102,
   "metadata": {
    "colab": {
     "base_uri": "https://localhost:8080/"
    },
    "id": "s7eivJH-to3R",
    "outputId": "c44cb509-4d74-4abc-f02c-c1501e6a3b61"
   },
   "outputs": [
    {
     "data": {
      "text/plain": [
       "{'selectkbest__k': 48}"
      ]
     },
     "execution_count": 102,
     "metadata": {},
     "output_type": "execute_result"
    }
   ],
   "source": [
    "lr_grid_cv.best_params_"
   ]
  },
  {
   "cell_type": "markdown",
   "metadata": {
    "id": "4F3ij0ZeuN7s"
   },
   "source": [
    "Using a RobustScaler rather than a StandardScaler does not produce significantly better results, although it does show a miniscule improvement in both the mean R2 score and its standard deviation."
   ]
  },
  {
   "cell_type": "markdown",
   "metadata": {
    "id": "FHoWmAsGui8-"
   },
   "source": [
    "**Pipeline 3: Random Forest Regressor**"
   ]
  },
  {
   "cell_type": "code",
   "execution_count": 103,
   "metadata": {
    "id": "UPFhW2TUVKLp"
   },
   "outputs": [],
   "source": [
    "rf_pipe= make_pipeline(StandardScaler(), RandomForestRegressor(random_state=47))"
   ]
  },
  {
   "cell_type": "code",
   "execution_count": 104,
   "metadata": {
    "id": "5qQD-vuIVKOU"
   },
   "outputs": [],
   "source": [
    "rf_cv_results= cross_validate(rf_pipe, X_train, y_train, cv=5)"
   ]
  },
  {
   "cell_type": "code",
   "execution_count": 105,
   "metadata": {
    "colab": {
     "base_uri": "https://localhost:8080/"
    },
    "id": "OYMr-8UpahUG",
    "outputId": "c4fe6421-0a84-476b-ceea-bec945758699"
   },
   "outputs": [
    {
     "data": {
      "text/plain": [
       "(0.852723149702768, 0.019094193547075998)"
      ]
     },
     "execution_count": 105,
     "metadata": {},
     "output_type": "execute_result"
    }
   ],
   "source": [
    "np.mean(rf_cv_results['test_score']), np.std(rf_cv_results['test_score'])"
   ]
  },
  {
   "cell_type": "code",
   "execution_count": 106,
   "metadata": {
    "id": "UvoOhGsIahW4"
   },
   "outputs": [],
   "source": [
    "\n",
    "n_est = [int(n) for n in [5,10,20,30,40,50,60,70,80,90,100]]\n",
    "\n",
    "grid_params= {\n",
    "    'randomforestregressor__n_estimators': n_est,\n",
    "    'standardscaler': [StandardScaler(), RobustScaler(), None]\n",
    "}"
   ]
  },
  {
   "cell_type": "code",
   "execution_count": 107,
   "metadata": {
    "id": "OrwqsHAiahZi"
   },
   "outputs": [],
   "source": [
    "rf_grid_cv= GridSearchCV(rf_pipe, param_grid=grid_params, cv=5, n_jobs=-1)"
   ]
  },
  {
   "cell_type": "code",
   "execution_count": 108,
   "metadata": {
    "colab": {
     "base_uri": "https://localhost:8080/"
    },
    "id": "LoZO6FnsVKQx",
    "outputId": "a882535c-c803-4ecc-d7b9-aa1422b2efbc"
   },
   "outputs": [
    {
     "data": {
      "text/plain": [
       "GridSearchCV(cv=5,\n",
       "             estimator=Pipeline(steps=[('standardscaler', StandardScaler()),\n",
       "                                       ('randomforestregressor',\n",
       "                                        RandomForestRegressor(random_state=47))]),\n",
       "             n_jobs=-1,\n",
       "             param_grid={'randomforestregressor__n_estimators': [5, 10, 20, 30,\n",
       "                                                                 40, 50, 60, 70,\n",
       "                                                                 80, 90, 100],\n",
       "                         'standardscaler': [StandardScaler(), RobustScaler(),\n",
       "                                            None]})"
      ]
     },
     "execution_count": 108,
     "metadata": {},
     "output_type": "execute_result"
    }
   ],
   "source": [
    "rf_grid_cv.fit(X_train, y_train)"
   ]
  },
  {
   "cell_type": "code",
   "execution_count": 109,
   "metadata": {
    "colab": {
     "base_uri": "https://localhost:8080/"
    },
    "id": "98vCnATrVKTv",
    "outputId": "544dec2f-a0ba-4290-e230-a359ca0dbaa9"
   },
   "outputs": [
    {
     "data": {
      "text/plain": [
       "{'randomforestregressor__n_estimators': 80, 'standardscaler': None}"
      ]
     },
     "execution_count": 109,
     "metadata": {},
     "output_type": "execute_result"
    }
   ],
   "source": [
    "rf_grid_cv.best_params_"
   ]
  },
  {
   "cell_type": "code",
   "execution_count": 110,
   "metadata": {
    "colab": {
     "base_uri": "https://localhost:8080/"
    },
    "id": "TjD61Vn_dMbE",
    "outputId": "228890d2-4131-473d-a08e-5ed92b0db7a7"
   },
   "outputs": [
    {
     "data": {
      "text/plain": [
       "(0.8529803444585715, 0.01755187782688576)"
      ]
     },
     "execution_count": 110,
     "metadata": {},
     "output_type": "execute_result"
    }
   ],
   "source": [
    "best_scores= cross_validate(rf_grid_cv.best_estimator_, X_train, y_train, cv=5)\n",
    "best_scores= best_scores['test_score']\n",
    "np.mean(best_scores), np.std(best_scores)"
   ]
  },
  {
   "cell_type": "markdown",
   "metadata": {
    "id": "n0IY73jtv05J"
   },
   "source": [
    "A GridSearch reveals that the best scaling option is to use a RobustScaler, as well as using 80 estimators. This pipeline resulted in our best model yet, yielding an R2 score of 0.8711474716459952 with a standard deviation of 0.016167072308366642"
   ]
  },
  {
   "cell_type": "code",
   "execution_count": 111,
   "metadata": {
    "id": "I4imoBQHAOHr"
   },
   "outputs": [],
   "source": [
    "#quantity assessement"
   ]
  },
  {
   "cell_type": "code",
   "execution_count": 112,
   "metadata": {
    "id": "lhADIMo0AOKw"
   },
   "outputs": [],
   "source": [
    "fractions = [.2, .25, .3, .35, .4, .45, .5, .6, .75, .8, 1.0]\n",
    "train_size, train_scores, test_scores = learning_curve(rf_pipe, X_train, y_train, train_sizes=fractions)\n",
    "train_scores_mean = np.mean(train_scores, axis=1)\n",
    "train_scores_std = np.std(train_scores, axis=1)\n",
    "test_scores_mean = np.mean(test_scores, axis=1)\n",
    "test_scores_std = np.std(test_scores, axis=1)"
   ]
  },
  {
   "cell_type": "code",
   "execution_count": 113,
   "metadata": {
    "colab": {
     "base_uri": "https://localhost:8080/",
     "height": 350
    },
    "id": "hzVdXwTMAONw",
    "outputId": "e6be0cd0-859e-4c54-cca2-188356720040"
   },
   "outputs": [
    {
     "data": {
      "image/png": "[encoded data removed]",
      "text/plain": [
       "<Figure size 720x360 with 1 Axes>"
      ]
     },
     "metadata": {
      "needs_background": "light"
     },
     "output_type": "display_data"
    }
   ],
   "source": [
    "plt.subplots(figsize=(10, 5))\n",
    "plt.errorbar(train_size, test_scores_mean, yerr=test_scores_std)\n",
    "plt.xlabel('Training set size')\n",
    "plt.ylabel('CV scores')\n",
    "plt.title('Cross-validation score as training set size increases');"
   ]
  },
  {
   "cell_type": "markdown",
   "metadata": {
    "id": "Fa0YUi4ayxYn"
   },
   "source": [
    "Now, compare these results with the Linear Regression model from Pipeline 2"
   ]
  },
  {
   "cell_type": "code",
   "execution_count": 114,
   "metadata": {
    "colab": {
     "base_uri": "https://localhost:8080/",
     "height": 350
    },
    "id": "J-tmX5yyAOTX",
    "outputId": "9324a584-e4cf-4716-ee86-912cc8327149"
   },
   "outputs": [
    {
     "data": {
      "image/png": "[encoded data removed]",
      "text/plain": [
       "<Figure size 720x360 with 1 Axes>"
      ]
     },
     "metadata": {
      "needs_background": "light"
     },
     "output_type": "display_data"
    }
   ],
   "source": [
    "fractions = [.2, .25, .3, .35, .4, .45, .5, .6, .75, .8, 1.0]\n",
    "train_size, train_scores, test_scores = learning_curve(pipe_rl, X_train, y_train, train_sizes=fractions)\n",
    "train_scores_mean = np.mean(train_scores, axis=1)\n",
    "train_scores_std = np.std(train_scores, axis=1)\n",
    "test_scores_mean = np.mean(test_scores, axis=1)\n",
    "test_scores_std = np.std(test_scores, axis=1)\n",
    "\n",
    "plt.subplots(figsize=(10, 5))\n",
    "plt.errorbar(train_size, test_scores_mean, yerr=test_scores_std)\n",
    "plt.xlabel('Training set size')\n",
    "plt.ylabel('CV scores')\n",
    "plt.title('Cross-validation score as training set size increases');"
   ]
  },
  {
   "cell_type": "markdown",
   "metadata": {
    "id": "t64MN5hdzHVD"
   },
   "source": [
    "**Pipeline 4: Extra Trees Regressor, SelectKBest, Robust Scaler**"
   ]
  },
  {
   "cell_type": "code",
   "execution_count": 115,
   "metadata": {
    "id": "tBeQOUZ7Dzh_"
   },
   "outputs": [],
   "source": [
    "ef_pipe1 = make_pipeline(RobustScaler(), SelectKBest(score_func=f_regression), ExtraTreesRegressor(random_state=47))"
   ]
  },
  {
   "cell_type": "code",
   "execution_count": 116,
   "metadata": {
    "colab": {
     "base_uri": "https://localhost:8080/"
    },
    "id": "N-Owv6D_rmxX",
    "outputId": "2a888d18-d09a-4f31-9a87-3cf467985bce"
   },
   "outputs": [
    {
     "data": {
      "text/plain": [
       "{'memory': None,\n",
       " 'steps': [('robustscaler', RobustScaler()),\n",
       "  ('selectkbest',\n",
       "   SelectKBest(score_func=<function f_regression at 0x000001D9BE9353A0>)),\n",
       "  ('extratreesregressor', ExtraTreesRegressor(random_state=47))],\n",
       " 'verbose': False,\n",
       " 'robustscaler': RobustScaler(),\n",
       " 'selectkbest': SelectKBest(score_func=<function f_regression at 0x000001D9BE9353A0>),\n",
       " 'extratreesregressor': ExtraTreesRegressor(random_state=47),\n",
       " 'robustscaler__copy': True,\n",
       " 'robustscaler__quantile_range': (25.0, 75.0),\n",
       " 'robustscaler__unit_variance': False,\n",
       " 'robustscaler__with_centering': True,\n",
       " 'robustscaler__with_scaling': True,\n",
       " 'selectkbest__k': 10,\n",
       " 'selectkbest__score_func': <function sklearn.feature_selection._univariate_selection.f_regression(X, y, *, center=True)>,\n",
       " 'extratreesregressor__bootstrap': False,\n",
       " 'extratreesregressor__ccp_alpha': 0.0,\n",
       " 'extratreesregressor__criterion': 'mse',\n",
       " 'extratreesregressor__max_depth': None,\n",
       " 'extratreesregressor__max_features': 'auto',\n",
       " 'extratreesregressor__max_leaf_nodes': None,\n",
       " 'extratreesregressor__max_samples': None,\n",
       " 'extratreesregressor__min_impurity_decrease': 0.0,\n",
       " 'extratreesregressor__min_impurity_split': None,\n",
       " 'extratreesregressor__min_samples_leaf': 1,\n",
       " 'extratreesregressor__min_samples_split': 2,\n",
       " 'extratreesregressor__min_weight_fraction_leaf': 0.0,\n",
       " 'extratreesregressor__n_estimators': 100,\n",
       " 'extratreesregressor__n_jobs': None,\n",
       " 'extratreesregressor__oob_score': False,\n",
       " 'extratreesregressor__random_state': 47,\n",
       " 'extratreesregressor__verbose': 0,\n",
       " 'extratreesregressor__warm_start': False}"
      ]
     },
     "execution_count": 116,
     "metadata": {},
     "output_type": "execute_result"
    }
   ],
   "source": [
    "ef_pipe1.get_params()"
   ]
  },
  {
   "cell_type": "code",
   "execution_count": 117,
   "metadata": {
    "colab": {
     "base_uri": "https://localhost:8080/"
    },
    "id": "GLNuc_atDzk-",
    "outputId": "f8cdc7dd-233b-4673-bf89-648328f36ff9"
   },
   "outputs": [
    {
     "data": {
      "text/plain": [
       "Pipeline(steps=[('robustscaler', RobustScaler()),\n",
       "                ('selectkbest',\n",
       "                 SelectKBest(score_func=<function f_regression at 0x000001D9BE9353A0>)),\n",
       "                ('extratreesregressor', ExtraTreesRegressor(random_state=47))])"
      ]
     },
     "execution_count": 117,
     "metadata": {},
     "output_type": "execute_result"
    }
   ],
   "source": [
    "ef_pipe1.fit(X_train, y_train)"
   ]
  },
  {
   "cell_type": "code",
   "execution_count": 118,
   "metadata": {
    "id": "9xv-KMofDznc"
   },
   "outputs": [],
   "source": [
    "cv_results= cross_validate(ef_pipe1, X_train, y_train, cv=5)"
   ]
  },
  {
   "cell_type": "code",
   "execution_count": 119,
   "metadata": {
    "colab": {
     "base_uri": "https://localhost:8080/"
    },
    "id": "OVnVOK0_EEqA",
    "outputId": "0502e76d-364e-4cec-9ac8-05e652852ba6"
   },
   "outputs": [
    {
     "data": {
      "text/plain": [
       "(0.8151143503746212, 0.0295089663742763)"
      ]
     },
     "execution_count": 119,
     "metadata": {},
     "output_type": "execute_result"
    }
   ],
   "source": [
    "np.mean(cv_results['test_score']), np.std(cv_results['test_score'])"
   ]
  },
  {
   "cell_type": "markdown",
   "metadata": {
    "id": "RyquY6lc-kfP"
   },
   "source": [
    "**Pipeline 5: Extra Trees Regressor, thorough grid search**"
   ]
  },
  {
   "cell_type": "code",
   "execution_count": 120,
   "metadata": {
    "colab": {
     "base_uri": "https://localhost:8080/"
    },
    "id": "teC6D9MzdMdp",
    "outputId": "e2264fc1-06e6-4316-87a7-ce8b9826b4de"
   },
   "outputs": [
    {
     "data": {
      "text/plain": [
       "(0.8614315595463994, 0.018128406303029938)"
      ]
     },
     "execution_count": 120,
     "metadata": {},
     "output_type": "execute_result"
    }
   ],
   "source": [
    "ef_pipe2= make_pipeline( ExtraTreesRegressor( random_state=47, max_depth= None))\n",
    "cv_results= cross_validate(ef_pipe2, X_train, y_train, cv=5)\n",
    "np.mean(cv_results['test_score']), np.std(cv_results['test_score'])"
   ]
  },
  {
   "cell_type": "code",
   "execution_count": 121,
   "metadata": {
    "id": "qZnmlF2RfNkI"
   },
   "outputs": [],
   "source": [
    "#ef_pipe2.get_params()"
   ]
  },
  {
   "cell_type": "code",
   "execution_count": 181,
   "metadata": {
    "id": "_wDu6uHliL09"
   },
   "outputs": [],
   "source": [
    "extra_params= {\n",
    "    'extratreesregressor__criterion': ['mse','mae'],\n",
    "     'extratreesregressor__max_depth': [None, 4,5,6,7,8,9,10,11,12,15,20,30,40,50,70,90,120,150],\n",
    "    'extratreesregressor__max_features':['auto', 'sqrt','log2', 45],\n",
    "    'extratreesregressor__n_estimators':[5,10,20,30,40,50,60,65,70,80,90,100]\n",
    "}\n",
    "\n",
    "ep= {\n",
    "    'extratreesregressor__criterion': ['mse'],\n",
    "     'extratreesregressor__max_depth': [20,25,30],\n",
    "    'extratreesregressor__max_features':['auto'],\n",
    "    'extratreesregressor__n_estimators':[65,70,80]\n",
    "}\n"
   ]
  },
  {
   "cell_type": "code",
   "execution_count": 123,
   "metadata": {
    "id": "dYgCLXM66xoN"
   },
   "outputs": [],
   "source": [
    "ef_grid_cv= GridSearchCV(ef_pipe2, param_grid=ep, cv=5, n_jobs=-1)"
   ]
  },
  {
   "cell_type": "code",
   "execution_count": 124,
   "metadata": {
    "id": "RfVQrMQt7G-a"
   },
   "outputs": [],
   "source": [
    "#ef_grid_cv.get_params().keys()"
   ]
  },
  {
   "cell_type": "code",
   "execution_count": 125,
   "metadata": {
    "colab": {
     "base_uri": "https://localhost:8080/"
    },
    "id": "K6lffnRG6xrC",
    "outputId": "b8cfc553-9c57-4548-d48c-91c9915be05f"
   },
   "outputs": [
    {
     "data": {
      "text/plain": [
       "GridSearchCV(cv=5,\n",
       "             estimator=Pipeline(steps=[('extratreesregressor',\n",
       "                                        ExtraTreesRegressor(random_state=47))]),\n",
       "             n_jobs=-1,\n",
       "             param_grid={'extratreesregressor__criterion': ['mse'],\n",
       "                         'extratreesregressor__max_depth': [20, 25, 30],\n",
       "                         'extratreesregressor__max_features': ['auto'],\n",
       "                         'extratreesregressor__n_estimators': [65, 70, 80]})"
      ]
     },
     "execution_count": 125,
     "metadata": {},
     "output_type": "execute_result"
    }
   ],
   "source": [
    "ef_grid_cv.fit(X_train, y_train)"
   ]
  },
  {
   "cell_type": "code",
   "execution_count": 126,
   "metadata": {
    "id": "1qlplmd09TNI"
   },
   "outputs": [],
   "source": [
    "cv_results= cross_validate(ef_pipe2, X_train, y_train, cv=5)"
   ]
  },
  {
   "cell_type": "code",
   "execution_count": 127,
   "metadata": {
    "colab": {
     "base_uri": "https://localhost:8080/"
    },
    "id": "57sdau5-6xuC",
    "outputId": "fb0ac2c5-1876-4cc6-e87e-e4bc88361916",
    "scrolled": true
   },
   "outputs": [
    {
     "data": {
      "text/plain": [
       "(0.8614315595463994, 0.018128406303029938)"
      ]
     },
     "execution_count": 127,
     "metadata": {},
     "output_type": "execute_result"
    }
   ],
   "source": [
    "np.mean(cv_results['test_score']), np.std(cv_results['test_score'])"
   ]
  },
  {
   "cell_type": "code",
   "execution_count": 128,
   "metadata": {
    "colab": {
     "base_uri": "https://localhost:8080/"
    },
    "id": "AphsnXDM6xxH",
    "outputId": "d8fb9c7f-bcce-4bd7-d158-847efa22ad99"
   },
   "outputs": [
    {
     "data": {
      "text/plain": [
       "{'extratreesregressor__criterion': 'mse',\n",
       " 'extratreesregressor__max_depth': 20,\n",
       " 'extratreesregressor__max_features': 'auto',\n",
       " 'extratreesregressor__n_estimators': 80}"
      ]
     },
     "execution_count": 128,
     "metadata": {},
     "output_type": "execute_result"
    }
   ],
   "source": [
    "ef_grid_cv.best_params_"
   ]
  },
  {
   "cell_type": "markdown",
   "metadata": {
    "id": "0l_vmefWrEdl"
   },
   "source": [
    "**Save best model**"
   ]
  },
  {
   "cell_type": "code",
   "execution_count": 129,
   "metadata": {
    "id": "9VV19UalrC-s"
   },
   "outputs": [],
   "source": [
    "best_model= ef_grid_cv.best_estimator_\n",
    "best_model.version = '1.0'\n",
    "best_model.pandas_version = pd.__version__\n",
    "best_model.numpy_version = np.__version__\n",
    "best_model.sklearn_version = sklearn_version\n",
    "best_model.X_columns= [col for col in X_train.columns]\n",
    "best_model.build_datetime= datetime.datetime.now()"
   ]
  },
  {
   "cell_type": "code",
   "execution_count": 164,
   "metadata": {},
   "outputs": [
    {
     "data": {
      "text/plain": [
       "['D:\\\\Springboard Course\\\\Assignments\\\\Springboard\\\\NHL Salary Predictor\\\\Models/skater_model.pkl']"
      ]
     },
     "execution_count": 164,
     "metadata": {},
     "output_type": "execute_result"
    }
   ],
   "source": [
    "filename= r'D:\\Springboard Course\\Assignments\\Springboard\\NHL Salary Predictor\\Models/skater_model.pkl'\n",
    "joblib.dump(best_model, filename)"
   ]
  },
  {
   "cell_type": "markdown",
   "metadata": {
    "id": "hMhT4BOZzPuA"
   },
   "source": [
    "# This secition will dive into feature selection. First a Random Forest Regressor is utilized to determine which features are the most important for the model."
   ]
  },
  {
   "cell_type": "code",
   "execution_count": 131,
   "metadata": {
    "id": "zAnjvEwJ765X"
   },
   "outputs": [
    {
     "data": {
      "text/plain": [
       "Text(0.5, 0, 'Random Forest Feature Importance')"
      ]
     },
     "execution_count": 131,
     "metadata": {},
     "output_type": "execute_result"
    },
    {
     "data": {
      "image/png": "[encoded data removed]",
      "text/plain": [
       "<Figure size 648x648 with 1 Axes>"
      ]
     },
     "metadata": {
      "needs_background": "light"
     },
     "output_type": "display_data"
    }
   ],
   "source": [
    "rf= RandomForestRegressor(n_estimators=80, random_state=47)\n",
    "rf.fit(X_train, y_train)\n",
    "rf.feature_importances_\n",
    "\n",
    "plt.figure(figsize= (9,9))\n",
    "sorted_idx= rf.feature_importances_.argsort()\n",
    "plt.barh(X.columns[sorted_idx], rf.feature_importances_[sorted_idx])\n",
    "plt.xlabel('Random Forest Feature Importance')"
   ]
  },
  {
   "cell_type": "code",
   "execution_count": 132,
   "metadata": {
    "id": "a5bE6FtXY87a"
   },
   "outputs": [
    {
     "data": {
      "text/html": [
       "<div>\n",
       "<style scoped>\n",
       "    .dataframe tbody tr th:only-of-type {\n",
       "        vertical-align: middle;\n",
       "    }\n",
       "\n",
       "    .dataframe tbody tr th {\n",
       "        vertical-align: top;\n",
       "    }\n",
       "\n",
       "    .dataframe thead th {\n",
       "        text-align: right;\n",
       "    }\n",
       "</style>\n",
       "<table border=\"1\" class=\"dataframe\">\n",
       "  <thead>\n",
       "    <tr style=\"text-align: right;\">\n",
       "      <th></th>\n",
       "      <th>Season</th>\n",
       "      <th>AGE</th>\n",
       "      <th>Pos_C</th>\n",
       "      <th>Pos_LW</th>\n",
       "      <th>Pos_RW</th>\n",
       "      <th>Pos_D</th>\n",
       "      <th>GP</th>\n",
       "      <th>G</th>\n",
       "      <th>A</th>\n",
       "      <th>PTS</th>\n",
       "      <th>PlusMinus</th>\n",
       "      <th>ATOI</th>\n",
       "      <th>TOI(EV)</th>\n",
       "      <th>PIM</th>\n",
       "      <th>PS</th>\n",
       "      <th>EV_A</th>\n",
       "      <th>PP_A</th>\n",
       "      <th>SH_A</th>\n",
       "      <th>GW</th>\n",
       "      <th>S</th>\n",
       "      <th>S_Pct</th>\n",
       "      <th>BLK</th>\n",
       "      <th>HIT</th>\n",
       "      <th>FOW</th>\n",
       "      <th>FOL</th>\n",
       "      <th>FO_Pct</th>\n",
       "      <th>CF</th>\n",
       "      <th>CA</th>\n",
       "      <th>CF_Pct</th>\n",
       "      <th>CF_Pct_rel</th>\n",
       "      <th>FF</th>\n",
       "      <th>FA</th>\n",
       "      <th>FF_Pct</th>\n",
       "      <th>FF_Pct_rel</th>\n",
       "      <th>oiSH_Pct</th>\n",
       "      <th>oiSV_Pct</th>\n",
       "      <th>PDO</th>\n",
       "      <th>oZS_Pct</th>\n",
       "      <th>dZS_Pct</th>\n",
       "      <th>TK</th>\n",
       "      <th>GV</th>\n",
       "      <th>SAtt.</th>\n",
       "      <th>Thru_Pct</th>\n",
       "      <th>SOT_Att</th>\n",
       "      <th>SOT_Scored</th>\n",
       "      <th>SOT_Saved</th>\n",
       "      <th>SOT_Pct</th>\n",
       "      <th>LENGTH</th>\n",
       "    </tr>\n",
       "  </thead>\n",
       "  <tbody>\n",
       "    <tr>\n",
       "      <th>0</th>\n",
       "      <td>1.0</td>\n",
       "      <td>1.2</td>\n",
       "      <td>0.0</td>\n",
       "      <td>1.0</td>\n",
       "      <td>1.0</td>\n",
       "      <td>0.0</td>\n",
       "      <td>0.071429</td>\n",
       "      <td>0.491228</td>\n",
       "      <td>-0.025</td>\n",
       "      <td>0.179104</td>\n",
       "      <td>-1.604167</td>\n",
       "      <td>-0.235357</td>\n",
       "      <td>-0.167398</td>\n",
       "      <td>1.634146</td>\n",
       "      <td>-0.340659</td>\n",
       "      <td>0.227273</td>\n",
       "      <td>1.375</td>\n",
       "      <td>0.0</td>\n",
       "      <td>0.0</td>\n",
       "      <td>0.403017</td>\n",
       "      <td>0.317949</td>\n",
       "      <td>-0.162162</td>\n",
       "      <td>0.930556</td>\n",
       "      <td>0.136364</td>\n",
       "      <td>0.174242</td>\n",
       "      <td>0.090327</td>\n",
       "      <td>-0.042497</td>\n",
       "      <td>0.045852</td>\n",
       "      <td>-0.202797</td>\n",
       "      <td>0.048276</td>\n",
       "      <td>-0.037946</td>\n",
       "      <td>-0.002874</td>\n",
       "      <td>-0.007117</td>\n",
       "      <td>0.157143</td>\n",
       "      <td>-0.725806</td>\n",
       "      <td>-0.056604</td>\n",
       "      <td>-0.652778</td>\n",
       "      <td>-0.174274</td>\n",
       "      <td>0.174274</td>\n",
       "      <td>0.175439</td>\n",
       "      <td>0.236220</td>\n",
       "      <td>0.587282</td>\n",
       "      <td>0.350949</td>\n",
       "      <td>0.25</td>\n",
       "      <td>0.0</td>\n",
       "      <td>0.333333</td>\n",
       "      <td>0.000000</td>\n",
       "      <td>0.0</td>\n",
       "    </tr>\n",
       "    <tr>\n",
       "      <th>1</th>\n",
       "      <td>1.0</td>\n",
       "      <td>0.4</td>\n",
       "      <td>1.0</td>\n",
       "      <td>1.0</td>\n",
       "      <td>0.0</td>\n",
       "      <td>0.0</td>\n",
       "      <td>0.238095</td>\n",
       "      <td>1.684211</td>\n",
       "      <td>1.650</td>\n",
       "      <td>1.686567</td>\n",
       "      <td>-0.604167</td>\n",
       "      <td>0.963791</td>\n",
       "      <td>0.512427</td>\n",
       "      <td>0.060976</td>\n",
       "      <td>1.065934</td>\n",
       "      <td>1.227273</td>\n",
       "      <td>2.750</td>\n",
       "      <td>1.0</td>\n",
       "      <td>1.2</td>\n",
       "      <td>1.165948</td>\n",
       "      <td>0.800000</td>\n",
       "      <td>0.207207</td>\n",
       "      <td>-0.280556</td>\n",
       "      <td>3.093301</td>\n",
       "      <td>2.761364</td>\n",
       "      <td>0.294452</td>\n",
       "      <td>0.400398</td>\n",
       "      <td>0.591703</td>\n",
       "      <td>-0.265734</td>\n",
       "      <td>0.262069</td>\n",
       "      <td>0.412946</td>\n",
       "      <td>0.568966</td>\n",
       "      <td>-0.249110</td>\n",
       "      <td>0.250000</td>\n",
       "      <td>0.838710</td>\n",
       "      <td>-0.698113</td>\n",
       "      <td>0.208333</td>\n",
       "      <td>0.398340</td>\n",
       "      <td>-0.398340</td>\n",
       "      <td>1.368421</td>\n",
       "      <td>1.070866</td>\n",
       "      <td>1.327930</td>\n",
       "      <td>0.128726</td>\n",
       "      <td>2.25</td>\n",
       "      <td>3.0</td>\n",
       "      <td>2.000000</td>\n",
       "      <td>1.501502</td>\n",
       "      <td>3.0</td>\n",
       "    </tr>\n",
       "    <tr>\n",
       "      <th>2</th>\n",
       "      <td>1.0</td>\n",
       "      <td>-0.6</td>\n",
       "      <td>1.0</td>\n",
       "      <td>1.0</td>\n",
       "      <td>0.0</td>\n",
       "      <td>0.0</td>\n",
       "      <td>-1.428571</td>\n",
       "      <td>-0.491228</td>\n",
       "      <td>-0.800</td>\n",
       "      <td>-0.701493</td>\n",
       "      <td>-0.479167</td>\n",
       "      <td>-1.224707</td>\n",
       "      <td>-1.421784</td>\n",
       "      <td>0.048780</td>\n",
       "      <td>-0.791209</td>\n",
       "      <td>-0.454545</td>\n",
       "      <td>-0.250</td>\n",
       "      <td>0.0</td>\n",
       "      <td>0.0</td>\n",
       "      <td>-0.778017</td>\n",
       "      <td>-0.692308</td>\n",
       "      <td>-0.648649</td>\n",
       "      <td>-0.508333</td>\n",
       "      <td>0.322967</td>\n",
       "      <td>0.208333</td>\n",
       "      <td>0.024893</td>\n",
       "      <td>-1.078353</td>\n",
       "      <td>-1.144105</td>\n",
       "      <td>-3.076923</td>\n",
       "      <td>-3.234483</td>\n",
       "      <td>-1.071875</td>\n",
       "      <td>-1.137931</td>\n",
       "      <td>-3.309609</td>\n",
       "      <td>-3.964286</td>\n",
       "      <td>-3.161290</td>\n",
       "      <td>-0.339623</td>\n",
       "      <td>-15.305556</td>\n",
       "      <td>-0.161826</td>\n",
       "      <td>0.161826</td>\n",
       "      <td>-0.754386</td>\n",
       "      <td>-0.803150</td>\n",
       "      <td>-1.051122</td>\n",
       "      <td>1.955285</td>\n",
       "      <td>0.00</td>\n",
       "      <td>0.0</td>\n",
       "      <td>0.000000</td>\n",
       "      <td>0.000000</td>\n",
       "      <td>0.0</td>\n",
       "    </tr>\n",
       "    <tr>\n",
       "      <th>3</th>\n",
       "      <td>1.0</td>\n",
       "      <td>-0.6</td>\n",
       "      <td>1.0</td>\n",
       "      <td>0.0</td>\n",
       "      <td>0.0</td>\n",
       "      <td>0.0</td>\n",
       "      <td>-0.857143</td>\n",
       "      <td>-0.315789</td>\n",
       "      <td>-0.225</td>\n",
       "      <td>-0.283582</td>\n",
       "      <td>-0.062500</td>\n",
       "      <td>-0.535676</td>\n",
       "      <td>-0.415205</td>\n",
       "      <td>-0.487805</td>\n",
       "      <td>-0.494505</td>\n",
       "      <td>-0.409091</td>\n",
       "      <td>0.000</td>\n",
       "      <td>2.0</td>\n",
       "      <td>-0.6</td>\n",
       "      <td>-0.493534</td>\n",
       "      <td>-0.441026</td>\n",
       "      <td>-0.414414</td>\n",
       "      <td>-0.580556</td>\n",
       "      <td>2.322967</td>\n",
       "      <td>1.780303</td>\n",
       "      <td>0.362731</td>\n",
       "      <td>-0.577689</td>\n",
       "      <td>-0.757642</td>\n",
       "      <td>1.391608</td>\n",
       "      <td>2.358621</td>\n",
       "      <td>-0.564732</td>\n",
       "      <td>-0.753831</td>\n",
       "      <td>1.444840</td>\n",
       "      <td>2.671429</td>\n",
       "      <td>-1.629032</td>\n",
       "      <td>-2.301887</td>\n",
       "      <td>-3.097222</td>\n",
       "      <td>-0.593361</td>\n",
       "      <td>0.593361</td>\n",
       "      <td>-0.491228</td>\n",
       "      <td>-0.519685</td>\n",
       "      <td>-0.546135</td>\n",
       "      <td>-0.166667</td>\n",
       "      <td>0.00</td>\n",
       "      <td>0.0</td>\n",
       "      <td>0.000000</td>\n",
       "      <td>0.000000</td>\n",
       "      <td>-0.5</td>\n",
       "    </tr>\n",
       "    <tr>\n",
       "      <th>4</th>\n",
       "      <td>1.0</td>\n",
       "      <td>0.4</td>\n",
       "      <td>0.0</td>\n",
       "      <td>1.0</td>\n",
       "      <td>1.0</td>\n",
       "      <td>0.0</td>\n",
       "      <td>-0.202381</td>\n",
       "      <td>-0.035088</td>\n",
       "      <td>0.025</td>\n",
       "      <td>-0.014925</td>\n",
       "      <td>0.229167</td>\n",
       "      <td>-0.318424</td>\n",
       "      <td>-0.559942</td>\n",
       "      <td>-0.707317</td>\n",
       "      <td>-0.373626</td>\n",
       "      <td>0.000000</td>\n",
       "      <td>-0.250</td>\n",
       "      <td>3.0</td>\n",
       "      <td>0.2</td>\n",
       "      <td>-0.122845</td>\n",
       "      <td>0.133333</td>\n",
       "      <td>-0.198198</td>\n",
       "      <td>-0.369444</td>\n",
       "      <td>0.021531</td>\n",
       "      <td>-0.015152</td>\n",
       "      <td>0.355619</td>\n",
       "      <td>-0.241700</td>\n",
       "      <td>-0.277293</td>\n",
       "      <td>-0.181818</td>\n",
       "      <td>-0.006897</td>\n",
       "      <td>-0.250446</td>\n",
       "      <td>-0.302682</td>\n",
       "      <td>-0.113879</td>\n",
       "      <td>0.014286</td>\n",
       "      <td>0.016129</td>\n",
       "      <td>-0.207547</td>\n",
       "      <td>-0.125000</td>\n",
       "      <td>-0.925311</td>\n",
       "      <td>0.925311</td>\n",
       "      <td>-0.210526</td>\n",
       "      <td>-0.425197</td>\n",
       "      <td>-0.100998</td>\n",
       "      <td>0.930894</td>\n",
       "      <td>0.00</td>\n",
       "      <td>0.0</td>\n",
       "      <td>0.000000</td>\n",
       "      <td>0.000000</td>\n",
       "      <td>0.0</td>\n",
       "    </tr>\n",
       "    <tr>\n",
       "      <th>...</th>\n",
       "      <td>...</td>\n",
       "      <td>...</td>\n",
       "      <td>...</td>\n",
       "      <td>...</td>\n",
       "      <td>...</td>\n",
       "      <td>...</td>\n",
       "      <td>...</td>\n",
       "      <td>...</td>\n",
       "      <td>...</td>\n",
       "      <td>...</td>\n",
       "      <td>...</td>\n",
       "      <td>...</td>\n",
       "      <td>...</td>\n",
       "      <td>...</td>\n",
       "      <td>...</td>\n",
       "      <td>...</td>\n",
       "      <td>...</td>\n",
       "      <td>...</td>\n",
       "      <td>...</td>\n",
       "      <td>...</td>\n",
       "      <td>...</td>\n",
       "      <td>...</td>\n",
       "      <td>...</td>\n",
       "      <td>...</td>\n",
       "      <td>...</td>\n",
       "      <td>...</td>\n",
       "      <td>...</td>\n",
       "      <td>...</td>\n",
       "      <td>...</td>\n",
       "      <td>...</td>\n",
       "      <td>...</td>\n",
       "      <td>...</td>\n",
       "      <td>...</td>\n",
       "      <td>...</td>\n",
       "      <td>...</td>\n",
       "      <td>...</td>\n",
       "      <td>...</td>\n",
       "      <td>...</td>\n",
       "      <td>...</td>\n",
       "      <td>...</td>\n",
       "      <td>...</td>\n",
       "      <td>...</td>\n",
       "      <td>...</td>\n",
       "      <td>...</td>\n",
       "      <td>...</td>\n",
       "      <td>...</td>\n",
       "      <td>...</td>\n",
       "      <td>...</td>\n",
       "    </tr>\n",
       "    <tr>\n",
       "      <th>2692</th>\n",
       "      <td>-1.0</td>\n",
       "      <td>1.0</td>\n",
       "      <td>1.0</td>\n",
       "      <td>0.0</td>\n",
       "      <td>0.0</td>\n",
       "      <td>0.0</td>\n",
       "      <td>-0.488095</td>\n",
       "      <td>0.947368</td>\n",
       "      <td>1.350</td>\n",
       "      <td>1.194030</td>\n",
       "      <td>-1.562500</td>\n",
       "      <td>0.702875</td>\n",
       "      <td>0.422515</td>\n",
       "      <td>-0.048780</td>\n",
       "      <td>0.725275</td>\n",
       "      <td>0.454545</td>\n",
       "      <td>2.000</td>\n",
       "      <td>3.0</td>\n",
       "      <td>0.0</td>\n",
       "      <td>0.601293</td>\n",
       "      <td>0.641026</td>\n",
       "      <td>-0.324324</td>\n",
       "      <td>-0.591667</td>\n",
       "      <td>3.007177</td>\n",
       "      <td>1.681818</td>\n",
       "      <td>0.526316</td>\n",
       "      <td>-0.175299</td>\n",
       "      <td>-0.302038</td>\n",
       "      <td>0.447552</td>\n",
       "      <td>1.068966</td>\n",
       "      <td>-0.108482</td>\n",
       "      <td>-0.252874</td>\n",
       "      <td>0.519573</td>\n",
       "      <td>1.071429</td>\n",
       "      <td>0.677419</td>\n",
       "      <td>-3.018868</td>\n",
       "      <td>-1.583333</td>\n",
       "      <td>-0.522822</td>\n",
       "      <td>0.522822</td>\n",
       "      <td>-0.052632</td>\n",
       "      <td>0.094488</td>\n",
       "      <td>0.471322</td>\n",
       "      <td>0.329268</td>\n",
       "      <td>4.50</td>\n",
       "      <td>6.0</td>\n",
       "      <td>4.000000</td>\n",
       "      <td>3.000000</td>\n",
       "      <td>1.0</td>\n",
       "    </tr>\n",
       "    <tr>\n",
       "      <th>2693</th>\n",
       "      <td>-1.0</td>\n",
       "      <td>0.6</td>\n",
       "      <td>0.0</td>\n",
       "      <td>0.0</td>\n",
       "      <td>1.0</td>\n",
       "      <td>0.0</td>\n",
       "      <td>0.511905</td>\n",
       "      <td>-0.105263</td>\n",
       "      <td>-0.450</td>\n",
       "      <td>-0.328358</td>\n",
       "      <td>1.062500</td>\n",
       "      <td>-1.753994</td>\n",
       "      <td>-1.818713</td>\n",
       "      <td>4.012195</td>\n",
       "      <td>-0.395604</td>\n",
       "      <td>0.045455</td>\n",
       "      <td>-0.250</td>\n",
       "      <td>0.0</td>\n",
       "      <td>-0.6</td>\n",
       "      <td>-0.446121</td>\n",
       "      <td>0.471795</td>\n",
       "      <td>-0.432432</td>\n",
       "      <td>0.491667</td>\n",
       "      <td>-0.050239</td>\n",
       "      <td>-0.034091</td>\n",
       "      <td>-0.711238</td>\n",
       "      <td>-0.713147</td>\n",
       "      <td>-0.732169</td>\n",
       "      <td>-0.370629</td>\n",
       "      <td>-1.331034</td>\n",
       "      <td>-0.657589</td>\n",
       "      <td>-0.718391</td>\n",
       "      <td>-0.014235</td>\n",
       "      <td>-0.900000</td>\n",
       "      <td>0.967742</td>\n",
       "      <td>1.283019</td>\n",
       "      <td>1.791667</td>\n",
       "      <td>1.692946</td>\n",
       "      <td>-1.692946</td>\n",
       "      <td>-0.684211</td>\n",
       "      <td>-0.330709</td>\n",
       "      <td>-0.650873</td>\n",
       "      <td>1.296748</td>\n",
       "      <td>0.00</td>\n",
       "      <td>0.0</td>\n",
       "      <td>0.000000</td>\n",
       "      <td>0.000000</td>\n",
       "      <td>0.5</td>\n",
       "    </tr>\n",
       "    <tr>\n",
       "      <th>2694</th>\n",
       "      <td>-1.0</td>\n",
       "      <td>0.4</td>\n",
       "      <td>1.0</td>\n",
       "      <td>0.0</td>\n",
       "      <td>0.0</td>\n",
       "      <td>0.0</td>\n",
       "      <td>0.619048</td>\n",
       "      <td>2.631579</td>\n",
       "      <td>2.325</td>\n",
       "      <td>2.492537</td>\n",
       "      <td>1.687500</td>\n",
       "      <td>0.856230</td>\n",
       "      <td>0.321637</td>\n",
       "      <td>0.390244</td>\n",
       "      <td>1.945055</td>\n",
       "      <td>1.681818</td>\n",
       "      <td>4.250</td>\n",
       "      <td>6.0</td>\n",
       "      <td>2.4</td>\n",
       "      <td>2.941810</td>\n",
       "      <td>0.379487</td>\n",
       "      <td>0.027027</td>\n",
       "      <td>-0.091667</td>\n",
       "      <td>8.906699</td>\n",
       "      <td>6.136364</td>\n",
       "      <td>0.426031</td>\n",
       "      <td>1.093625</td>\n",
       "      <td>0.333333</td>\n",
       "      <td>2.000000</td>\n",
       "      <td>0.800000</td>\n",
       "      <td>1.198661</td>\n",
       "      <td>0.488506</td>\n",
       "      <td>1.779359</td>\n",
       "      <td>0.685714</td>\n",
       "      <td>0.048387</td>\n",
       "      <td>-0.528302</td>\n",
       "      <td>-0.375000</td>\n",
       "      <td>0.099585</td>\n",
       "      <td>-0.099585</td>\n",
       "      <td>1.210526</td>\n",
       "      <td>0.992126</td>\n",
       "      <td>2.618454</td>\n",
       "      <td>0.418699</td>\n",
       "      <td>6.75</td>\n",
       "      <td>9.0</td>\n",
       "      <td>6.000000</td>\n",
       "      <td>3.000000</td>\n",
       "      <td>5.0</td>\n",
       "    </tr>\n",
       "    <tr>\n",
       "      <th>2695</th>\n",
       "      <td>-1.0</td>\n",
       "      <td>2.6</td>\n",
       "      <td>0.0</td>\n",
       "      <td>1.0</td>\n",
       "      <td>0.0</td>\n",
       "      <td>0.0</td>\n",
       "      <td>-0.916667</td>\n",
       "      <td>0.000000</td>\n",
       "      <td>-0.225</td>\n",
       "      <td>-0.149254</td>\n",
       "      <td>-0.187500</td>\n",
       "      <td>-0.099042</td>\n",
       "      <td>-0.581871</td>\n",
       "      <td>0.134146</td>\n",
       "      <td>-0.362637</td>\n",
       "      <td>-0.090909</td>\n",
       "      <td>0.500</td>\n",
       "      <td>0.0</td>\n",
       "      <td>0.0</td>\n",
       "      <td>-0.058190</td>\n",
       "      <td>0.041026</td>\n",
       "      <td>-0.243243</td>\n",
       "      <td>-0.691667</td>\n",
       "      <td>0.122010</td>\n",
       "      <td>0.102273</td>\n",
       "      <td>0.236131</td>\n",
       "      <td>-0.764940</td>\n",
       "      <td>-0.725619</td>\n",
       "      <td>-0.832168</td>\n",
       "      <td>-2.510345</td>\n",
       "      <td>-0.754018</td>\n",
       "      <td>-0.712644</td>\n",
       "      <td>-0.825623</td>\n",
       "      <td>-2.871429</td>\n",
       "      <td>-0.629032</td>\n",
       "      <td>0.830189</td>\n",
       "      <td>0.083333</td>\n",
       "      <td>0.796680</td>\n",
       "      <td>-0.796680</td>\n",
       "      <td>-0.263158</td>\n",
       "      <td>-0.472441</td>\n",
       "      <td>-0.231920</td>\n",
       "      <td>0.573171</td>\n",
       "      <td>0.00</td>\n",
       "      <td>0.0</td>\n",
       "      <td>0.000000</td>\n",
       "      <td>0.000000</td>\n",
       "      <td>-0.5</td>\n",
       "    </tr>\n",
       "    <tr>\n",
       "      <th>2696</th>\n",
       "      <td>-1.0</td>\n",
       "      <td>-1.2</td>\n",
       "      <td>1.0</td>\n",
       "      <td>1.0</td>\n",
       "      <td>0.0</td>\n",
       "      <td>0.0</td>\n",
       "      <td>0.797619</td>\n",
       "      <td>1.684211</td>\n",
       "      <td>1.200</td>\n",
       "      <td>1.417910</td>\n",
       "      <td>0.687500</td>\n",
       "      <td>0.849840</td>\n",
       "      <td>0.225146</td>\n",
       "      <td>0.426829</td>\n",
       "      <td>0.758242</td>\n",
       "      <td>1.954545</td>\n",
       "      <td>0.500</td>\n",
       "      <td>3.0</td>\n",
       "      <td>1.2</td>\n",
       "      <td>1.092672</td>\n",
       "      <td>0.887179</td>\n",
       "      <td>0.675676</td>\n",
       "      <td>1.608333</td>\n",
       "      <td>8.088517</td>\n",
       "      <td>7.193182</td>\n",
       "      <td>0.291607</td>\n",
       "      <td>0.583665</td>\n",
       "      <td>0.700146</td>\n",
       "      <td>-0.139860</td>\n",
       "      <td>0.551724</td>\n",
       "      <td>0.577232</td>\n",
       "      <td>0.620690</td>\n",
       "      <td>-0.014235</td>\n",
       "      <td>0.235714</td>\n",
       "      <td>0.919355</td>\n",
       "      <td>-0.415094</td>\n",
       "      <td>0.500000</td>\n",
       "      <td>-1.331950</td>\n",
       "      <td>1.331950</td>\n",
       "      <td>1.368421</td>\n",
       "      <td>1.133858</td>\n",
       "      <td>1.099751</td>\n",
       "      <td>0.004065</td>\n",
       "      <td>0.00</td>\n",
       "      <td>0.0</td>\n",
       "      <td>0.000000</td>\n",
       "      <td>0.000000</td>\n",
       "      <td>1.0</td>\n",
       "    </tr>\n",
       "  </tbody>\n",
       "</table>\n",
       "<p>2697 rows × 48 columns</p>\n",
       "</div>"
      ],
      "text/plain": [
       "      Season  AGE  Pos_C  Pos_LW  Pos_RW  Pos_D        GP         G      A  \\\n",
       "0        1.0  1.2    0.0     1.0     1.0    0.0  0.071429  0.491228 -0.025   \n",
       "1        1.0  0.4    1.0     1.0     0.0    0.0  0.238095  1.684211  1.650   \n",
       "2        1.0 -0.6    1.0     1.0     0.0    0.0 -1.428571 -0.491228 -0.800   \n",
       "3        1.0 -0.6    1.0     0.0     0.0    0.0 -0.857143 -0.315789 -0.225   \n",
       "4        1.0  0.4    0.0     1.0     1.0    0.0 -0.202381 -0.035088  0.025   \n",
       "...      ...  ...    ...     ...     ...    ...       ...       ...    ...   \n",
       "2692    -1.0  1.0    1.0     0.0     0.0    0.0 -0.488095  0.947368  1.350   \n",
       "2693    -1.0  0.6    0.0     0.0     1.0    0.0  0.511905 -0.105263 -0.450   \n",
       "2694    -1.0  0.4    1.0     0.0     0.0    0.0  0.619048  2.631579  2.325   \n",
       "2695    -1.0  2.6    0.0     1.0     0.0    0.0 -0.916667  0.000000 -0.225   \n",
       "2696    -1.0 -1.2    1.0     1.0     0.0    0.0  0.797619  1.684211  1.200   \n",
       "\n",
       "           PTS  PlusMinus      ATOI   TOI(EV)       PIM        PS      EV_A  \\\n",
       "0     0.179104  -1.604167 -0.235357 -0.167398  1.634146 -0.340659  0.227273   \n",
       "1     1.686567  -0.604167  0.963791  0.512427  0.060976  1.065934  1.227273   \n",
       "2    -0.701493  -0.479167 -1.224707 -1.421784  0.048780 -0.791209 -0.454545   \n",
       "3    -0.283582  -0.062500 -0.535676 -0.415205 -0.487805 -0.494505 -0.409091   \n",
       "4    -0.014925   0.229167 -0.318424 -0.559942 -0.707317 -0.373626  0.000000   \n",
       "...        ...        ...       ...       ...       ...       ...       ...   \n",
       "2692  1.194030  -1.562500  0.702875  0.422515 -0.048780  0.725275  0.454545   \n",
       "2693 -0.328358   1.062500 -1.753994 -1.818713  4.012195 -0.395604  0.045455   \n",
       "2694  2.492537   1.687500  0.856230  0.321637  0.390244  1.945055  1.681818   \n",
       "2695 -0.149254  -0.187500 -0.099042 -0.581871  0.134146 -0.362637 -0.090909   \n",
       "2696  1.417910   0.687500  0.849840  0.225146  0.426829  0.758242  1.954545   \n",
       "\n",
       "       PP_A  SH_A   GW         S     S_Pct       BLK       HIT       FOW  \\\n",
       "0     1.375   0.0  0.0  0.403017  0.317949 -0.162162  0.930556  0.136364   \n",
       "1     2.750   1.0  1.2  1.165948  0.800000  0.207207 -0.280556  3.093301   \n",
       "2    -0.250   0.0  0.0 -0.778017 -0.692308 -0.648649 -0.508333  0.322967   \n",
       "3     0.000   2.0 -0.6 -0.493534 -0.441026 -0.414414 -0.580556  2.322967   \n",
       "4    -0.250   3.0  0.2 -0.122845  0.133333 -0.198198 -0.369444  0.021531   \n",
       "...     ...   ...  ...       ...       ...       ...       ...       ...   \n",
       "2692  2.000   3.0  0.0  0.601293  0.641026 -0.324324 -0.591667  3.007177   \n",
       "2693 -0.250   0.0 -0.6 -0.446121  0.471795 -0.432432  0.491667 -0.050239   \n",
       "2694  4.250   6.0  2.4  2.941810  0.379487  0.027027 -0.091667  8.906699   \n",
       "2695  0.500   0.0  0.0 -0.058190  0.041026 -0.243243 -0.691667  0.122010   \n",
       "2696  0.500   3.0  1.2  1.092672  0.887179  0.675676  1.608333  8.088517   \n",
       "\n",
       "           FOL    FO_Pct        CF        CA    CF_Pct  CF_Pct_rel        FF  \\\n",
       "0     0.174242  0.090327 -0.042497  0.045852 -0.202797    0.048276 -0.037946   \n",
       "1     2.761364  0.294452  0.400398  0.591703 -0.265734    0.262069  0.412946   \n",
       "2     0.208333  0.024893 -1.078353 -1.144105 -3.076923   -3.234483 -1.071875   \n",
       "3     1.780303  0.362731 -0.577689 -0.757642  1.391608    2.358621 -0.564732   \n",
       "4    -0.015152  0.355619 -0.241700 -0.277293 -0.181818   -0.006897 -0.250446   \n",
       "...        ...       ...       ...       ...       ...         ...       ...   \n",
       "2692  1.681818  0.526316 -0.175299 -0.302038  0.447552    1.068966 -0.108482   \n",
       "2693 -0.034091 -0.711238 -0.713147 -0.732169 -0.370629   -1.331034 -0.657589   \n",
       "2694  6.136364  0.426031  1.093625  0.333333  2.000000    0.800000  1.198661   \n",
       "2695  0.102273  0.236131 -0.764940 -0.725619 -0.832168   -2.510345 -0.754018   \n",
       "2696  7.193182  0.291607  0.583665  0.700146 -0.139860    0.551724  0.577232   \n",
       "\n",
       "            FA    FF_Pct  FF_Pct_rel  oiSH_Pct  oiSV_Pct        PDO   oZS_Pct  \\\n",
       "0    -0.002874 -0.007117    0.157143 -0.725806 -0.056604  -0.652778 -0.174274   \n",
       "1     0.568966 -0.249110    0.250000  0.838710 -0.698113   0.208333  0.398340   \n",
       "2    -1.137931 -3.309609   -3.964286 -3.161290 -0.339623 -15.305556 -0.161826   \n",
       "3    -0.753831  1.444840    2.671429 -1.629032 -2.301887  -3.097222 -0.593361   \n",
       "4    -0.302682 -0.113879    0.014286  0.016129 -0.207547  -0.125000 -0.925311   \n",
       "...        ...       ...         ...       ...       ...        ...       ...   \n",
       "2692 -0.252874  0.519573    1.071429  0.677419 -3.018868  -1.583333 -0.522822   \n",
       "2693 -0.718391 -0.014235   -0.900000  0.967742  1.283019   1.791667  1.692946   \n",
       "2694  0.488506  1.779359    0.685714  0.048387 -0.528302  -0.375000  0.099585   \n",
       "2695 -0.712644 -0.825623   -2.871429 -0.629032  0.830189   0.083333  0.796680   \n",
       "2696  0.620690 -0.014235    0.235714  0.919355 -0.415094   0.500000 -1.331950   \n",
       "\n",
       "       dZS_Pct        TK        GV     SAtt.  Thru_Pct  SOT_Att  SOT_Scored  \\\n",
       "0     0.174274  0.175439  0.236220  0.587282  0.350949     0.25         0.0   \n",
       "1    -0.398340  1.368421  1.070866  1.327930  0.128726     2.25         3.0   \n",
       "2     0.161826 -0.754386 -0.803150 -1.051122  1.955285     0.00         0.0   \n",
       "3     0.593361 -0.491228 -0.519685 -0.546135 -0.166667     0.00         0.0   \n",
       "4     0.925311 -0.210526 -0.425197 -0.100998  0.930894     0.00         0.0   \n",
       "...        ...       ...       ...       ...       ...      ...         ...   \n",
       "2692  0.522822 -0.052632  0.094488  0.471322  0.329268     4.50         6.0   \n",
       "2693 -1.692946 -0.684211 -0.330709 -0.650873  1.296748     0.00         0.0   \n",
       "2694 -0.099585  1.210526  0.992126  2.618454  0.418699     6.75         9.0   \n",
       "2695 -0.796680 -0.263158 -0.472441 -0.231920  0.573171     0.00         0.0   \n",
       "2696  1.331950  1.368421  1.133858  1.099751  0.004065     0.00         0.0   \n",
       "\n",
       "      SOT_Saved   SOT_Pct  LENGTH  \n",
       "0      0.333333  0.000000     0.0  \n",
       "1      2.000000  1.501502     3.0  \n",
       "2      0.000000  0.000000     0.0  \n",
       "3      0.000000  0.000000    -0.5  \n",
       "4      0.000000  0.000000     0.0  \n",
       "...         ...       ...     ...  \n",
       "2692   4.000000  3.000000     1.0  \n",
       "2693   0.000000  0.000000     0.5  \n",
       "2694   6.000000  3.000000     5.0  \n",
       "2695   0.000000  0.000000    -0.5  \n",
       "2696   0.000000  0.000000     1.0  \n",
       "\n",
       "[2697 rows x 48 columns]"
      ]
     },
     "execution_count": 132,
     "metadata": {},
     "output_type": "execute_result"
    }
   ],
   "source": [
    "X_scaled= RobustScaler().fit_transform(X,y)\n",
    "X_scaled_df= pd.DataFrame(X_scaled)\n",
    "X_scaled_df.columns= X.columns\n",
    "X_scaled_df"
   ]
  },
  {
   "cell_type": "code",
   "execution_count": 139,
   "metadata": {
    "id": "kE0-EdH98cNa"
   },
   "outputs": [],
   "source": [
    "# Colab cell\n",
    "\n",
    "# explainer = shap.TreeExplainer(rf)\n",
    "# shap_values= explainer.shap_values(X_scaled)\n",
    "# shap.summary_plot(shap_values, X_scaled, plot_type='bar')\n"
   ]
  },
  {
   "cell_type": "code",
   "execution_count": 140,
   "metadata": {
    "id": "UXZB3NSqwX1m"
   },
   "outputs": [
    {
     "data": {
      "text/plain": [
       "2292056.094920282"
      ]
     },
     "execution_count": 140,
     "metadata": {},
     "output_type": "execute_result"
    }
   ],
   "source": [
    "y.mean()"
   ]
  },
  {
   "cell_type": "code",
   "execution_count": 141,
   "metadata": {
    "id": "MI_u8ey6HBQQ"
   },
   "outputs": [
    {
     "data": {
      "text/plain": [
       "Index(['Season', 'AGE', 'Pos_C', 'Pos_LW', 'Pos_RW', 'Pos_D', 'GP', 'G', 'A',\n",
       "       'PTS', 'PlusMinus', 'ATOI', 'TOI(EV)', 'PIM', 'PS', 'EV_A', 'PP_A',\n",
       "       'SH_A', 'GW', 'S', 'S_Pct', 'BLK', 'HIT', 'FOW', 'FOL', 'FO_Pct', 'CF',\n",
       "       'CA', 'CF_Pct', 'CF_Pct_rel', 'FF', 'FA', 'FF_Pct', 'FF_Pct_rel',\n",
       "       'oiSH_Pct', 'oiSV_Pct', 'PDO', 'oZS_Pct', 'dZS_Pct', 'TK', 'GV',\n",
       "       'SAtt.', 'Thru_Pct', 'SOT_Att', 'SOT_Scored', 'SOT_Saved', 'SOT_Pct',\n",
       "       'LENGTH'],\n",
       "      dtype='object')"
      ]
     },
     "execution_count": 141,
     "metadata": {},
     "output_type": "execute_result"
    }
   ],
   "source": [
    "X_scaled_df.columns"
   ]
  },
  {
   "cell_type": "code",
   "execution_count": 142,
   "metadata": {
    "id": "GMyyg-IZHGHs"
   },
   "outputs": [
    {
     "data": {
      "text/plain": [
       "(2697, 48)"
      ]
     },
     "execution_count": 142,
     "metadata": {},
     "output_type": "execute_result"
    }
   ],
   "source": [
    "X_scaled_df.shape"
   ]
  },
  {
   "cell_type": "code",
   "execution_count": 143,
   "metadata": {
    "id": "yAOYwmZ2FqT_"
   },
   "outputs": [],
   "source": [
    "# Colab cell\n",
    "\n",
    "#shap.summary_plot(shap_values, X_scaled_df.columns)"
   ]
  },
  {
   "cell_type": "markdown",
   "metadata": {
    "id": "QmhXQMe35hAX"
   },
   "source": [
    "Now I look at the Variance Inflation Factor scores of the feature variables to determine the level of collinearity between the variables. Here there is a notable level of collinearity, which is expected amongst the scoring metrics (ie, Goals, Game Winning Goals, Assists, Points, Points per Game, etc). A as a standard rule of thumb, the data should have features with less than scores of 10 becuase larger scores will imply a larger degree of variability in the final model's results.\n",
    "\n",
    "The section below this aims to reduce this variance, so a number of smaller, less-collinear subsets of features were created for further testing."
   ]
  },
  {
   "cell_type": "code",
   "execution_count": null,
   "metadata": {
    "id": "K90tVPS90dty"
   },
   "outputs": [],
   "source": [
    "vif = pd.DataFrame()\n",
    "\n",
    "vif['VIF'] = [variance_inflation_factor(X_scaled_df.values, i) for i in range(X_scaled_df.shape[1])]\n",
    "vif['variable'] = X_scaled_df.columns\n",
    "vif"
   ]
  },
  {
   "cell_type": "code",
   "execution_count": null,
   "metadata": {
    "id": "07CM2TxNra7Q"
   },
   "outputs": [],
   "source": [
    "\n",
    "f_removed1= X_scaled_df.drop(columns=['EV_A','FOW','FOL'])\n",
    "\n",
    "f_removed2= X_scaled_df.drop(columns=['EV_A','FOW','FOL', 'SOT_Att','SOT_Saved', 'TOI(EV)'])\n",
    "\n",
    "f_removed3= X_scaled_df.drop(columns=['EV_A','FOW','FOL', 'SOT_Att','SOT_Saved', 'TOI(EV)', 'S', 'CF', 'CA', 'FF','FA'])\n",
    "\n",
    "f_removed4ps= X_scaled_df.drop(columns=['EV_A','FOW','FOL', 'SOT_Att','SOT_Saved', 'TOI(EV)', 'S', 'CF', 'CA', 'FF','FA','PS'])\n",
    "f_removed4ppg= X_scaled_df.drop(columns=['EV_A','FOW','FOL', 'SOT_Att','SOT_Saved', 'TOI(EV)', 'S', 'CF', 'CA', 'FF','FA', 'PPG'])\n",
    "f_removed5pts= X_scaled_df.drop(columns=['EV_A','FOW','FOL', 'SOT_Att','SOT_Saved', 'TOI(EV)', 'S', 'CF', 'CA', 'FF','FA', 'PTS'])\n",
    "\n",
    "f_removed6ptsother= X_scaled_df.drop(columns=['EV_A','FOW','FOL', 'SOT_Att','SOT_Saved', 'TOI(EV)', 'S', 'CF', 'CA', 'FF','FA', 'PTS', 'dZS_Pct','oZS_Pct'])\n",
    "f_removed6ppgother= X_scaled_df.drop(columns=['EV_A','FOW','FOL', 'SOT_Att','SOT_Saved', 'TOI(EV)', 'S', 'CF', 'CA', 'FF','FA', 'PPG', 'dZS_Pct','oZS_Pct'])\n",
    "f_removed6psother= X_scaled_df.drop(columns=['EV_A','FOW','FOL', 'SOT_Att','SOT_Saved', 'TOI(EV)', 'S', 'CF', 'CA', 'FF','FA', 'PS', 'dZS_Pct','oZS_Pct'])\n",
    "\n",
    "f_removed7= X_scaled_df.drop(columns=['EV_A','FOW','FOL', 'SOT_Att','SOT_Saved', 'TOI(EV)', 'S', 'CF', 'CA', 'FF','FA', 'PTS', 'dZS_Pct','oZS_Pct','PS'])\n",
    "\n",
    "f_removed8= X_scaled_df.drop(columns=['EV_A','FOW','FOL', 'SOT_Att','SOT_Saved', 'TOI(EV)', 'S', 'CF', 'CA', 'FF','FA', 'PTS', 'dZS_Pct','oZS_Pct','PS', 'S_Pct'])\n",
    "\n",
    "f_removed9rel= X_scaled_df.drop(columns=['EV_A','FOW','FOL', 'SOT_Att','SOT_Saved', 'TOI(EV)', 'S', 'CF', 'CA', 'FF','FA', 'PTS', 'dZS_Pct','oZS_Pct','PS', 'S_Pct','CF_Pct_rel', 'FF_Pct_rel' ])\n",
    "f_removed9act= X_scaled_df.drop(columns=['EV_A','FOW','FOL', 'SOT_Att','SOT_Saved', 'TOI(EV)', 'S', 'CF', 'CA', 'FF','FA', 'PTS', 'dZS_Pct','oZS_Pct','PS', 'S_Pct', 'CF_Pct', 'FF_Pct'])\n",
    "#f_remove actual \n",
    "f_removed10=  X_scaled_df.drop(columns=['EV_A','FOW','FOL', 'SOT_Att','SOT_Saved', 'TOI(EV)', 'S', 'CF', 'CA', 'FF','FA', 'PPG', 'PTS' ,'dZS_Pct','oZS_Pct','S_Pct','CF_Pct', 'FF_Pct'])\n",
    "\n",
    "f_removed11ganda= X_scaled_df.drop(columns=['EV_A','FOW','FOL', 'SOT_Att','SOT_Saved', 'TOI(EV)', 'S', 'CF', 'CA', 'FF','FA', 'PPG', 'PTS' ,'dZS_Pct','oZS_Pct','S_Pct','CF_Pct', 'FF_Pct', 'G', 'A'])\n",
    "\n",
    "f_removed12 =X_scaled_df.drop(columns=['EV_A','FOW','FOL', 'SOT_Att','SOT_Saved', 'TOI(EV)', 'S', 'CF', 'CA', 'FF','FA', 'PS', 'PTS' ,'dZS_Pct','oZS_Pct','S_Pct','CF_Pct', 'FF_Pct', 'G', 'A'])\n",
    "\n",
    "f_removed13shpp=X_scaled_df.drop(columns=['EV_A','FOW','FOL', 'SOT_Att','SOT_Saved', 'TOI(EV)', 'S', 'CF', 'CA', 'FF','FA', 'PS', 'PTS' ,'dZS_Pct','oZS_Pct','S_Pct','CF_Pct', 'FF_Pct', 'SH_A', 'PP_A'])\n",
    "\n",
    "f_removed14corsi= X_scaled_df.drop(columns=['EV_A','FOW','FOL', 'SOT_Att','SOT_Saved', 'TOI(EV)', 'S', 'CF', 'CA', 'FF','FA', 'PS', 'PTS' ,'dZS_Pct','oZS_Pct','S_Pct','CF_Pct', 'FF_Pct', 'SH_A', 'PP_A', 'CF_Pct_rel'])\n",
    "\n",
    "f_removed15= X_scaled_df.drop(columns=['EV_A','FOW','FOL', 'SOT_Att','SOT_Saved', 'TOI(EV)', 'S', 'CF', 'CA', 'FF','FA', 'PPG', 'PTS' ,'dZS_Pct','oZS_Pct','S_Pct','CF_Pct', 'FF_Pct', 'SH_A', 'PP_A', 'CF_Pct_rel'])\n",
    "\n",
    "f_removed16= X_scaled_df.drop(columns=['EV_A','FOW','FOL', 'SOT_Att','SOT_Saved', 'TOI(EV)', 'S', 'CF', 'CA', 'FF','FA', 'PPG', 'PTS' ,'dZS_Pct','oZS_Pct','S_Pct','CF_Pct', 'FF_Pct', 'SH_A', 'PP_A', 'CF_Pct_rel', 'G','A'])\n",
    "\n",
    "f_removed17= X_scaled_df.drop(columns=['EV_A','FOW','FOL', 'SOT_Att','SOT_Saved', 'TOI(EV)', 'S', 'CF', 'CA', 'FF','FA', 'PTS', 'PS' ,'dZS_Pct','oZS_Pct','S_Pct','CF_Pct', 'FF_Pct', 'SH_A', 'PP_A', 'CF_Pct_rel', 'Thru_Pct'])\n",
    "\n",
    "f_removed18= X_scaled_df.drop(columns=['EV_A','FOW','FOL', 'SOT_Att','SOT_Saved', 'TOI(EV)', 'S', 'CF', 'CA', 'FF','FA', 'PTS', 'PS' ,'dZS_Pct','oZS_Pct','S_Pct','CF_Pct', 'FF_Pct', 'SH_A', 'PP_A', 'CF_Pct_rel', 'Thru_Pct', 'PDO'])\n",
    "\n",
    "f_removed19= X_scaled_df.drop(columns=['EV_A','FOW','FOL', 'SOT_Att','SOT_Saved', 'TOI(EV)', 'S', 'CF', 'CA', 'FF','FA', 'PTS', 'PPG' ,'dZS_Pct','oZS_Pct','S_Pct','CF_Pct', 'FF_Pct', 'SH_A', 'PP_A', 'CF_Pct_rel', 'Thru_Pct', 'PDO'])\n",
    "\n",
    "f_removed20= X_scaled_df.drop(columns=['EV_A','FOW','FOL', 'SOT_Att','SOT_Saved', 'ATOI', 'S', 'CF', 'CA', 'FF','FA', 'PTS', 'PPG' ,'dZS_Pct','oZS_Pct','S_Pct','CF_Pct', 'FF_Pct', 'SH_A', 'PP_A', 'CF_Pct_rel', 'Thru_Pct', 'PDO'])\n",
    "\n",
    "f_removed21= X_scaled_df.drop(columns=['EV_A','FOW','FOL', 'SOT_Att','SOT_Saved', 'ATOI', 'S', 'CF', 'CA', 'FF','FA', 'PTS', 'PPG' ,'dZS_Pct','oZS_Pct','S_Pct','CF_Pct', 'FF_Pct', 'SH_A', 'PP_A', 'FF_Pct_rel', 'Thru_Pct', 'PDO'])\n",
    "#(cf has higher vif than ff)\n",
    "\n",
    "f_removed22= X_scaled_df.drop(columns=['EV_A','SH_A','PP_A', 'FOW','FOL', 'SOT_Att','SOT_Saved', 'ATOI', 'S', 'CF', 'CA', 'FF','FA', 'PTS', 'PS' ,'dZS_Pct','oZS_Pct','S_Pct','CF_Pct', 'FF_Pct', 'CF_Pct_rel', 'Thru_Pct', 'PDO'])\n",
    "\n",
    "f_removed23= X_scaled_df.drop(columns=['SAtt.', 'EV_A','SH_A','PP_A', 'FOW','FOL', 'SOT_Att','SOT_Saved', 'ATOI', 'S', 'CF', 'CA', 'FF','FA', 'PTS', 'PS' ,'dZS_Pct','oZS_Pct','S_Pct','CF_Pct', 'FF_Pct', 'CF_Pct_rel', 'Thru_Pct', 'PDO'])\n",
    "\n",
    "f_removed24= X_scaled_df.drop(columns=['SAtt.', 'A','SH_A','PP_A', 'FOW','FOL', 'SOT_Att','SOT_Saved', 'ATOI', 'S', 'CF', 'CA', 'FF','FA', 'PTS', 'PS' ,'dZS_Pct','oZS_Pct','S_Pct','CF_Pct', 'FF_Pct', 'CF_Pct_rel', 'Thru_Pct', 'PDO'])\n",
    "\n",
    "f_removed25= X_scaled_df.drop(columns=['SAtt.', 'EV_A', 'SH_A','PP_A', 'FOW','FOL', 'SOT_Att','SOT_Saved', 'ATOI', 'S', 'CF', 'CA', 'FF','FA', 'PTS', 'PS', 'PPG' ,'dZS_Pct','oZS_Pct','S_Pct','CF_Pct', 'FF_Pct', 'CF_Pct_rel', 'Thru_Pct', 'PDO'])\n",
    "\n"
   ]
  },
  {
   "cell_type": "markdown",
   "metadata": {
    "id": "j7YurNeTqOjR"
   },
   "source": [
    "am i understanding this correctly.....\n",
    "so for example, vif =2.5 means the variance of one variable is 2.5 greater than it would be if the vif=1, \n",
    "which means that the overall predictoin (or set of predictions) will have greater degree of underlying bias ?"
   ]
  },
  {
   "cell_type": "code",
   "execution_count": null,
   "metadata": {
    "id": "FiUrm49Wi_N4"
   },
   "outputs": [],
   "source": [
    "#'SAtt.', 'EV_A', 'SH_A','PP_A', 'FOW','FOL', 'SOT_Att','SOT_Saved', 'ATOI', 'S', 'CF', 'CA', 'FF','FA', 'PTS',\n",
    "# 'PS', 'PPG' ,'dZS_Pct','oZS_Pct','S_Pct','CF_Pct', 'FF_Pct', 'CF_Pct_rel', 'Thru_Pct', 'PDO'])\n",
    "\n",
    "vif = pd.DataFrame()\n",
    "\n",
    "vif['VIF'] = [variance_inflation_factor(f_removed25.values, i) for i in range(f_removed25.shape[1])]\n",
    "vif['variable'] = f_removed25.columns\n",
    "vif"
   ]
  },
  {
   "cell_type": "code",
   "execution_count": null,
   "metadata": {
    "id": "bqEeN4fNLksZ"
   },
   "outputs": [],
   "source": [
    "#['EV_A','SH_A','PP_A', 'FOW','FOL', 'SOT_Att','SOT_Saved', 'ATOI', 'S', 'CF', 'CA', 'FF','FA', 'PTS', 'PS' ,\n",
    "#'dZS_Pct','oZS_Pct','S_Pct','CF_Pct', 'FF_Pct', 'CF_Pct_rel', 'Thru_Pct', 'PDO']\n",
    "\n",
    "vif = pd.DataFrame()\n",
    "\n",
    "vif['VIF'] = [variance_inflation_factor(f_removed22.values, i) for i in range(f_removed22.shape[1])]\n",
    "vif['variable'] = f_removed22.columns\n",
    "vif"
   ]
  },
  {
   "cell_type": "code",
   "execution_count": null,
   "metadata": {
    "id": "KNdvSrOe8w8h"
   },
   "outputs": [],
   "source": [
    "#'SAtt.', 'A','SH_A','PP_A', 'FOW','FOL', 'SOT_Att','SOT_Saved', 'ATOI', 'S', 'CF', 'CA', 'FF','FA', 'PTS', 'PS' ,\n",
    "#'dZS_Pct','oZS_Pct','S_Pct','CF_Pct', 'FF_Pct', 'CF_Pct_rel', 'Thru_Pct', 'PDO'])\n",
    "\n",
    "vif = pd.DataFrame()\n",
    "\n",
    "vif['VIF'] = [variance_inflation_factor(f_removed24.values, i) for i in range(f_removed24.shape[1])]\n",
    "vif['variable'] = f_removed24.columns\n",
    "vif"
   ]
  },
  {
   "cell_type": "code",
   "execution_count": null,
   "metadata": {
    "id": "_qOu0Ng15YpN"
   },
   "outputs": [],
   "source": [
    "#'SAtt.', 'EV_A','SH_A','PP_A', 'FOW','FOL', 'SOT_Att','SOT_Saved', 'ATOI', 'S', 'CF', 'CA', 'FF','FA', 'PTS', 'PS' \n",
    "#'dZS_Pct','oZS_Pct','S_Pct','CF_Pct', 'FF_Pct', 'CF_Pct_rel', 'Thru_Pct', 'PDO'])\n",
    "\n",
    "vif = pd.DataFrame()\n",
    "\n",
    "vif['VIF'] = [variance_inflation_factor(f_removed23.values, i) for i in range(f_removed23.shape[1])]\n",
    "vif['variable'] = f_removed23.columns\n",
    "vif"
   ]
  },
  {
   "cell_type": "code",
   "execution_count": null,
   "metadata": {
    "id": "7SUFNF675MeK"
   },
   "outputs": [],
   "source": [
    "#'EV_A','FOW','FOL', 'SOT_Att','SOT_Saved', 'ATOI', 'S', 'CF', 'CA', 'FF','FA', 'PTS', 'PPG' ,'dZS_Pct',\n",
    "#'oZS_Pct','S_Pct','CF_Pct', 'FF_Pct', 'SH_A', 'PP_A', 'CF_Pct_rel', 'Thru_Pct', 'PDO'])\n",
    "\n",
    "vif = pd.DataFrame()\n",
    "\n",
    "vif['VIF'] = [variance_inflation_factor(f_removed20.values, i) for i in range(f_removed20.shape[1])]\n",
    "vif['variable'] = f_removed20.columns\n",
    "vif"
   ]
  },
  {
   "cell_type": "code",
   "execution_count": null,
   "metadata": {
    "id": "tK6UW1CDtGez"
   },
   "outputs": [],
   "source": [
    "#'EV_A','FOW','FOL', 'SOT_Att','SOT_Saved', 'TOI(EV)', 'S', 'CF', 'CA', 'FF','FA', 'PTS', 'PPG' ,'dZS_Pct',\n",
    "#'oZS_Pct','S_Pct','CF_Pct', 'FF_Pct', 'SH_A', 'PP_A', 'CF_Pct_rel', 'Thru_Pct', 'PDO'])\n",
    "\n",
    "\n",
    "vif = pd.DataFrame()\n",
    "\n",
    "vif['VIF'] = [variance_inflation_factor(f_removed19.values, i) for i in range(f_removed19.shape[1])]\n",
    "vif['variable'] = f_removed19.columns\n",
    "vif"
   ]
  },
  {
   "cell_type": "code",
   "execution_count": null,
   "metadata": {
    "id": "81BnoMIQsqxP"
   },
   "outputs": [],
   "source": [
    "#'EV_A','FOW','FOL', 'SOT_Att','SOT_Saved', 'TOI(EV)', 'S', 'CF', 'CA', 'FF','FA', 'PS', 'PTS' ,\n",
    "#'dZS_Pct','oZS_Pct','S_Pct','CF_Pct', 'FF_Pct', 'SH_A', 'PP_A'])\n",
    "\n",
    "\n",
    "f_removed13shpp= f_removed13shpp.drop(columns='PDO')\n",
    "vif = pd.DataFrame()\n",
    "\n",
    "vif['VIF'] = [variance_inflation_factor(f_removed13shpp.values, i) for i in range(f_removed13shpp.shape[1])]\n",
    "vif['variable'] = f_removed13shpp.columns\n",
    "vif"
   ]
  },
  {
   "cell_type": "code",
   "execution_count": null,
   "metadata": {
    "id": "oqvb7CtgsMQd"
   },
   "outputs": [],
   "source": [
    "#'EV_A','FOW','FOL', 'SOT_Att','SOT_Saved', 'TOI(EV)', 'S', 'CF', 'CA', 'FF','FA', 'PS', 'PTS' ,\n",
    "#'dZS_Pct','oZS_Pct','S_Pct','CF_Pct', 'FF_Pct', 'G', 'A'])\n",
    "\n",
    "\n",
    "vif = pd.DataFrame()\n",
    "\n",
    "vif['VIF'] = [variance_inflation_factor(f_removed12.values, i) for i in range(f_removed12.shape[1])]\n",
    "vif['variable'] = f_removed12.columns\n",
    "vif"
   ]
  },
  {
   "cell_type": "code",
   "execution_count": null,
   "metadata": {
    "id": "as6t37ZLkZ-5"
   },
   "outputs": [],
   "source": [
    "Xall= X_scaled_df\n",
    "\n",
    "Xrf20= X_scaled_df[['PS','PPG','LENGTH','TOI(EV)','Season','PTS','TK','A','ATOI','GV','HIT','AGE','G','PIM','BLK','SAtt.','CA','FA','S_Pct','oiSV_Pct']]\n",
    "\n",
    "Xrf10= X_scaled_df[['PS','PPG','LENGTH','TOI(EV)','Season','PTS','TK','A','ATOI','GV']]\n",
    "\n",
    "Xrf5=  X_scaled_df[['PS','LENGTH','TOI(EV)','Season','TK']]\n",
    "\n",
    "Xshap_top= X_scaled_df[['LENGTH','PS','PPG','Season','PTS','TOI(EV)','G']]\n",
    "\n",
    "#gw and a (f_removed24)\n",
    "Xcust1= X_scaled_df[['Season', 'AGE', 'Pos_C', 'Pos_LW', 'Pos_RW', 'GP', 'PPG', 'PlusMinus', 'TOI(EV)', 'PIM', 'EV_A', 'GW',\n",
    "                     'BLK', 'HIT', 'FO_Pct','FF_Pct_rel', 'oiSH_Pct', 'oiSV_Pct', 'TK', 'GV', 'SOT_Scored','SOT_Pct', 'LENGTH']]\n",
    "\n",
    "#ppg (f_removed25)\n",
    "Xcust2= X_scaled_df[['Season', 'AGE', 'Pos_C', 'Pos_LW', 'Pos_RW', 'GP', 'G', 'A', 'PlusMinus', 'TOI(EV)', 'PIM', 'GW', 'BLK', 'HIT',\n",
    "                     'FO_Pct','FF_Pct_rel', 'oiSH_Pct', 'oiSV_Pct', 'TK', 'GV', 'SOT_Scored','SOT_Pct', 'LENGTH']]\n",
    "\n",
    "#pts (f_removed minus ppg g and a)\n",
    "Xcust3= X_scaled_df[['Season', 'AGE', 'Pos_C', 'Pos_LW', 'Pos_RW', 'GP', 'PTS','PlusMinus', 'TOI(EV)', 'PIM', 'GW', 'BLK', 'HIT', \n",
    "                     'FO_Pct','FF_Pct_rel', 'oiSH_Pct', 'oiSV_Pct', 'TK', 'GV', 'SOT_Scored', 'SOT_Pct', 'LENGTH']]\n",
    "\n",
    "#just ps (f_removed19 minus g and a)\n",
    "Xcust4= X_scaled_df[['Season', 'AGE', 'Pos_C', 'Pos_LW', 'Pos_RW', 'GP', 'PlusMinus', 'ATOI', 'PIM', 'PS', 'GW', 'BLK', 'HIT', 'FO_Pct',\n",
    "                     'FF_Pct_rel', 'oiSH_Pct', 'oiSV_Pct', 'TK', 'GV', 'SAtt.', 'SOT_Scored','SOT_Pct', 'LENGTH']]\n",
    "\n",
    "#special teams pts and gw (f_removed12 minus ffpctrel and ppg)\n",
    "Xcust5= X_scaled_df[['Season', 'AGE', 'Pos_C', 'Pos_LW', 'Pos_RW', 'GP', 'PlusMinus', 'ATOI', 'PIM', 'PP_A', 'SH_A', 'GW', 'BLK', 'HIT',\n",
    "                     'FO_Pct', 'CF_Pct_rel','oiSH_Pct', 'oiSV_Pct', 'PDO', 'TK', 'GV', 'SAtt.', 'Thru_Pct','SOT_Scored', 'SOT_Pct', 'LENGTH']]\n"
   ]
  },
  {
   "cell_type": "code",
   "execution_count": null,
   "metadata": {
    "id": "c439cT8Xs8-X"
   },
   "outputs": [],
   "source": [
    "y.mean()"
   ]
  },
  {
   "cell_type": "code",
   "execution_count": null,
   "metadata": {
    "id": "bxaLUjjYvmIN"
   },
   "outputs": [],
   "source": [
    "def summary(xtrain, ytrain, xtest, ytest)\n",
    "  #create DF\n",
    "  scores_df= pd.DataFrame(columns = ['Pred AAV' , 'R2 Score', 'Mean Avg Err'], index=['Linear Regression', 'Elastic Net', 'Ridge Regression','Lasso Regression','Huber Regression','RANSAC'])\n",
    "  #Linear Regression\n",
    "  scores_df.loc['Linear Regression','Pred AAV']= np.mean(LinearRegression().fit(xtrain, ytrain).predict(xtest))\n",
    "  scores_df.loc['Linear Regression','R2 Score']= r2_score(ytest,  (LinearRegression().fit(xtrain, ytrain).predict(xtest)) )\n",
    "  scores_df.loc['Linear Regression','Mean Avg Err']= mean_average_error(ytest,  (LinearRegression().fit(xtrain, ytrain).predict(xtest)) )\n",
    "\n",
    "  scores_df.loc['Elastic Net','Pred AAV']= np.mean(ElasticNet().fit(xtrain, ytrain).predict(xtest))\n",
    "  scores_df.loc['Elastic Net','R2 Score']= r2_score(ytest,  (ElasticNet().fit(xtrain, ytrain).predict(xtest)) )\n",
    "  scores_df.loc['Elastic Net','Mean Avg Err']= mean_average_error(ytest,  (ElasticNet().fit(xtrain, ytrain).predict(xtest)) )\n",
    "\n",
    "  "
   ]
  },
  {
   "cell_type": "code",
   "execution_count": null,
   "metadata": {
    "id": "DyC3WL5IENbt"
   },
   "outputs": [],
   "source": [
    "  scores_df.loc['Elastic Net','Pred AAV']= np.mean(ElasticNet().fit(xtrain, ytrain).predict(xtest))\n",
    "  scores_df.loc['Elastic Net','R2 Score']= r2_score(ytest,  (ElasticNet().fit(xtrain, ytrain).predict(xtest)) )\n",
    "  scores_df.loc['Elastic Net','Mean Avg Err']= mean_average_error(ytest,  (ElasticNet().fit(xtrain, ytrain).predict(xtest)) )"
   ]
  },
  {
   "cell_type": "code",
   "execution_count": null,
   "metadata": {
    "id": "toTiUMj23qzG"
   },
   "outputs": [],
   "source": [
    "for row in scores_df.iterrows:\n",
    "  scores_df[row]['']"
   ]
  },
  {
   "cell_type": "markdown",
   "metadata": {
    "id": "Fvw8hzhUu6G3"
   },
   "source": [
    "**Xall**"
   ]
  },
  {
   "cell_type": "code",
   "execution_count": null,
   "metadata": {
    "id": "_c-8kY44oovN"
   },
   "outputs": [],
   "source": [
    "X_train, X_test, y_train, y_test= train_test_split(Xall,y, test_size=0.2, random_state=12)\n",
    "#x all\n",
    "lr  = LinearRegression().fit(X_train, y_train)\n",
    "y_pred= lr.predict(X_test)\n",
    "print('LINEAR REGRESSION')\n",
    "print('x all: ', y_pred.mean())\n",
    "print('r2: ', r2_score((y_test), (y_pred)))\n",
    "print('mean sq error: ', np.sqrt(mean_squared_error(y_test,y_pred)))\n",
    "\n",
    "print('----------------------------------------')\n",
    "\n",
    "en= ElasticNet().fit(X_train, y_train)\n",
    "y_pred= en.predict(X_test)\n",
    "print('ELASTIC NET')\n",
    "print('x all: ', y_pred.mean())\n",
    "print('r2: ', r2_score((y_test), (y_pred)))\n",
    "print('mean sq error: ', np.sqrt(mean_squared_error(y_test,y_pred)))\n",
    "\n",
    "print('----------------------------------------')\n",
    "\n",
    "rm= Ridge().fit(X_train, y_train)\n",
    "y_pred= rm.predict(X_test)\n",
    "print('RIDGE REGRESSION')\n",
    "print('x all: ', y_pred.mean())\n",
    "print('r2: ', r2_score((y_test), (y_pred)))\n",
    "print('mean sq error: ', np.sqrt(mean_squared_error(y_test,y_pred)))\n",
    "\n",
    "print('----------------------------------------')\n",
    "\n",
    "lm= Lasso().fit(X_train, y_train)\n",
    "y_pred= lm.predict(X_test)\n",
    "print('LASSO REGRESSION')\n",
    "print('x all: ', y_pred.mean())\n",
    "print('r2: ', r2_score((y_test), (y_pred)))\n",
    "print('mean sq error: ', np.sqrt(mean_squared_error(y_test,y_pred)))\n",
    "\n",
    "print('----------------------------------------')\n",
    "\n",
    "LINEAR REGRESSION\n",
    "Xcust4:  2302798.15629773\n",
    "r2:  0.8282067857710385\n",
    "mean sq error:  810458.102986484"
   ]
  },
  {
   "cell_type": "markdown",
   "metadata": {
    "id": "13XdsgSVvBb3"
   },
   "source": [
    "**Xrf20**"
   ]
  },
  {
   "cell_type": "code",
   "execution_count": null,
   "metadata": {
    "id": "YBEjAP_GpHLs"
   },
   "outputs": [],
   "source": [
    "#Xrf20\n",
    "X_train, X_test, y_train, y_test= train_test_split(Xrf20,y, test_size=0.2, random_state=12)\n",
    "\n",
    "lr  = LinearRegression().fit(X_train, y_train)\n",
    "y_pred= lr.predict(X_test)\n",
    "print('LINEAR REGRESSION')\n",
    "print('Xrf20: ', y_pred.mean())\n",
    "print('r2: ', r2_score((y_test), (y_pred)))\n",
    "print('mean sq error: ', np.sqrt(mean_squared_error(y_test,y_pred)))\n",
    "\n",
    "\n",
    "print('----------------------------------------')\n",
    "\n",
    "en= ElasticNet().fit(X_train, y_train)\n",
    "y_pred= en.predict(X_test)\n",
    "print('ELASTIC NET')\n",
    "print('Xrf20: ', y_pred.mean())\n",
    "print('r2: ', r2_score((y_test), (y_pred)))\n",
    "print('mean sq error: ', np.sqrt(mean_squared_error(y_test,y_pred)))\n",
    "\n",
    "print('----------------------------------------')\n",
    "\n",
    "rm= Ridge().fit(X_train, y_train)\n",
    "y_pred= rm.predict(X_test)\n",
    "print('RIDGE REGRESSION')\n",
    "print('Xrf20: ', y_pred.mean())\n",
    "print('r2: ', r2_score((y_test), (y_pred)))\n",
    "print('mean sq error: ', np.sqrt(mean_squared_error(y_test,y_pred)))\n",
    "\n",
    "print('----------------------------------------')\n",
    "\n",
    "lm= Lasso().fit(X_train, y_train)\n",
    "y_pred= lm.predict(X_test)\n",
    "print('LASSO REGRESSION')\n",
    "print('Xrf20: ', y_pred.mean())\n",
    "print('r2: ', r2_score((y_test), (y_pred)))\n",
    "print('mean sq error: ', np.sqrt(mean_squared_error(y_test,y_pred)))\n",
    "\n",
    "print('----------------------------------------')\n",
    "\n"
   ]
  },
  {
   "cell_type": "markdown",
   "metadata": {
    "id": "Ul_33tZivEeb"
   },
   "source": [
    "**Xrf10**"
   ]
  },
  {
   "cell_type": "code",
   "execution_count": null,
   "metadata": {
    "id": "CdzUi6vdpVP-"
   },
   "outputs": [],
   "source": [
    "#Xrf10\n",
    "X_train, X_test, y_train, y_test= train_test_split(Xrf10,y, test_size=0.2, random_state=12)\n",
    "\n",
    "lr  = LinearRegression().fit(X_train, y_train)\n",
    "y_pred= lr.predict(X_test)\n",
    "print('LINEAR REGRESSION')\n",
    "print('Xrf10: ', y_pred.mean())\n",
    "print('r2: ', r2_score((y_test), (y_pred)))\n",
    "print('mean sq error: ', np.sqrt(mean_squared_error(y_test,y_pred)))\n",
    "\n",
    "\n",
    "print('----------------------------------------')\n",
    "\n",
    "en= ElasticNet().fit(X_train, y_train)\n",
    "y_pred= en.predict(X_test)\n",
    "print('ELASTIC NET')\n",
    "print('Xrf10: ', y_pred.mean())\n",
    "print('r2: ', r2_score((y_test), (y_pred)))\n",
    "print('mean sq error: ', np.sqrt(mean_squared_error(y_test,y_pred)))\n",
    "\n",
    "print('----------------------------------------')\n",
    "\n",
    "rm= Ridge().fit(X_train, y_train)\n",
    "y_pred= rm.predict(X_test)\n",
    "print('RIDGE REGRESSION')\n",
    "print('Xrf10: ', y_pred.mean())\n",
    "print('r2: ', r2_score((y_test), (y_pred)))\n",
    "print('mean sq error: ', np.sqrt(mean_squared_error(y_test,y_pred)))\n",
    "\n",
    "print('----------------------------------------')\n",
    "\n",
    "lm= Lasso().fit(X_train, y_train)\n",
    "y_pred= lm.predict(X_test)\n",
    "print('LASSO REGRESSION')\n",
    "print('Xrf10: ', y_pred.mean())\n",
    "print('r2: ', r2_score((y_test), (y_pred)))\n",
    "print('mean sq error: ', np.sqrt(mean_squared_error(y_test,y_pred)))\n",
    "\n",
    "print('----------------------------------------')\n",
    "\n"
   ]
  },
  {
   "cell_type": "markdown",
   "metadata": {
    "id": "DVjLRD6gvHFs"
   },
   "source": [
    "**Xrf5**"
   ]
  },
  {
   "cell_type": "code",
   "execution_count": null,
   "metadata": {
    "id": "XCbxRrllpcBc"
   },
   "outputs": [],
   "source": [
    "#Xrf5\n",
    "X_train, X_test, y_train, y_test= train_test_split(Xrf5,y, test_size=0.2, random_state=12)\n",
    "\n",
    "lr  = LinearRegression().fit(X_train, y_train)\n",
    "y_pred= lr.predict(X_test)\n",
    "print('LINEAR REGRESSION')\n",
    "print('Xrf5: ', y_pred.mean())\n",
    "print('r2: ', r2_score((y_test), (y_pred)))\n",
    "print('mean sq error: ', np.sqrt(mean_squared_error(y_test,y_pred)))\n",
    "\n",
    "\n",
    "print('----------------------------------------')\n",
    "\n",
    "en= ElasticNet().fit(X_train, y_train)\n",
    "y_pred= en.predict(X_test)\n",
    "print('ELASTIC NET')\n",
    "print('Xrf5: ', y_pred.mean())\n",
    "print('r2: ', r2_score((y_test), (y_pred)))\n",
    "print('mean sq error: ', np.sqrt(mean_squared_error(y_test,y_pred)))\n",
    "\n",
    "print('----------------------------------------')\n",
    "\n",
    "rm= Ridge().fit(X_train, y_train)\n",
    "y_pred= rm.predict(X_test)\n",
    "print('RIDGE REGRESSION')\n",
    "print('Xrf5: ', y_pred.mean())\n",
    "print('r2: ', r2_score((y_test), (y_pred)))\n",
    "print('mean sq error: ', np.sqrt(mean_squared_error(y_test,y_pred)))\n",
    "\n",
    "print('----------------------------------------')\n",
    "\n",
    "lm= Lasso().fit(X_train, y_train)\n",
    "y_pred= lm.predict(X_test)\n",
    "print('LASSO REGRESSION')\n",
    "print('Xrf5: ', y_pred.mean())\n",
    "print('r2: ', r2_score((y_test), (y_pred)))\n",
    "print('mean sq error: ', np.sqrt(mean_squared_error(y_test,y_pred)))\n",
    "\n",
    "print('----------------------------------------')\n",
    "\n"
   ]
  },
  {
   "cell_type": "markdown",
   "metadata": {
    "id": "35svC2IZvI_s"
   },
   "source": [
    "**Xshap_top**"
   ]
  },
  {
   "cell_type": "code",
   "execution_count": null,
   "metadata": {
    "id": "ShBjHx-uooyA"
   },
   "outputs": [],
   "source": [
    "#Xshap_top\n",
    "X_train, X_test, y_train, y_test= train_test_split(Xshap_top,y, test_size=0.2, random_state=12)\n",
    "\n",
    "lr  = LinearRegression().fit(X_train, y_train)\n",
    "y_pred= lr.predict(X_test)\n",
    "print('LINEAR REGRESSION')\n",
    "print('Xshap_top: ', y_pred.mean())\n",
    "print('r2: ', r2_score((y_test), (y_pred)))\n",
    "print('mean sq error: ', np.sqrt(mean_squared_error(y_test,y_pred)))\n",
    "\n",
    "\n",
    "print('----------------------------------------')\n",
    "\n",
    "en= ElasticNet().fit(X_train, y_train)\n",
    "y_pred= en.predict(X_test)\n",
    "print('ELASTIC NET')\n",
    "print('Xshap_top: ', y_pred.mean())\n",
    "print('r2: ', r2_score((y_test), (y_pred)))\n",
    "print('mean sq error: ', np.sqrt(mean_squared_error(y_test,y_pred)))\n",
    "\n",
    "print('----------------------------------------')\n",
    "\n",
    "rm= Ridge().fit(X_train, y_train)\n",
    "y_pred= rm.predict(X_test)\n",
    "print('RIDGE REGRESSION')\n",
    "print('Xshap_top: ', y_pred.mean())\n",
    "print('r2: ', r2_score((y_test), (y_pred)))\n",
    "print('mean sq error: ', np.sqrt(mean_squared_error(y_test,y_pred)))\n",
    "\n",
    "print('----------------------------------------')\n",
    "\n",
    "lm= Lasso().fit(X_train, y_train)\n",
    "y_pred= lm.predict(X_test)\n",
    "print('LASSO REGRESSION')\n",
    "print('Xshap_top: ', y_pred.mean())\n",
    "print('r2: ', r2_score((y_test), (y_pred)))\n",
    "print('mean sq error: ', np.sqrt(mean_squared_error(y_test,y_pred)))\n",
    "\n",
    "print('----------------------------------------')\n",
    "\n"
   ]
  },
  {
   "cell_type": "markdown",
   "metadata": {
    "id": "sTMcBER7vKz9"
   },
   "source": [
    "**Xcust1**"
   ]
  },
  {
   "cell_type": "code",
   "execution_count": null,
   "metadata": {
    "id": "8MLBH2xcqSPq"
   },
   "outputs": [],
   "source": [
    "#Xcust1\n",
    "X_train, X_test, y_train, y_test= train_test_split(Xcust1,y, test_size=0.2, random_state=12)\n",
    "\n",
    "lr  = LinearRegression().fit(X_train, y_train)\n",
    "y_pred= lr.predict(X_test)\n",
    "print('LINEAR REGRESSION')\n",
    "print('Xcust1: ', y_pred.mean())\n",
    "print('r2: ', r2_score((y_test), (y_pred)))\n",
    "print('mean sq error: ', np.sqrt(mean_squared_error(y_test,y_pred)))\n",
    "\n",
    "\n",
    "print('----------------------------------------')\n",
    "\n",
    "en= ElasticNet().fit(X_train, y_train)\n",
    "y_pred= en.predict(X_test)\n",
    "print('ELASTIC NET')\n",
    "print('Xcust1: ', y_pred.mean())\n",
    "print('r2: ', r2_score((y_test), (y_pred)))\n",
    "print('mean sq error: ', np.sqrt(mean_squared_error(y_test,y_pred)))\n",
    "\n",
    "print('----------------------------------------')\n",
    "\n",
    "rm= Ridge().fit(X_train, y_train)\n",
    "y_pred= rm.predict(X_test)\n",
    "print('RIDGE REGRESSION')\n",
    "print('Xcust1: ', y_pred.mean())\n",
    "print('r2: ', r2_score((y_test), (y_pred)))\n",
    "print('mean sq error: ', np.sqrt(mean_squared_error(y_test,y_pred)))\n",
    "\n",
    "print('----------------------------------------')\n",
    "\n",
    "lm= Lasso().fit(X_train, y_train)\n",
    "y_pred= lm.predict(X_test)\n",
    "print('LASSO REGRESSION')\n",
    "print('Xcust1: ', y_pred.mean())\n",
    "print('r2: ', r2_score((y_test), (y_pred)))\n",
    "print('mean sq error: ', np.sqrt(mean_squared_error(y_test,y_pred)))\n",
    "\n",
    "print('----------------------------------------')\n",
    "\n"
   ]
  },
  {
   "cell_type": "markdown",
   "metadata": {
    "id": "EPp45VVFvPkZ"
   },
   "source": [
    "**Xcust2**"
   ]
  },
  {
   "cell_type": "code",
   "execution_count": null,
   "metadata": {
    "id": "-eFLnSsouN-A"
   },
   "outputs": [],
   "source": [
    "#Xcust2\n",
    "X_train, X_test, y_train, y_test= train_test_split(Xcust2,y, test_size=0.2, random_state=12)\n",
    "\n",
    "lr  = LinearRegression().fit(X_train, y_train)\n",
    "y_pred= lr.predict(X_test)\n",
    "print('LINEAR REGRESSION')\n",
    "print('Xcust2: ', y_pred.mean())\n",
    "print('r2: ', r2_score((y_test), (y_pred)))\n",
    "print('mean sq error: ', np.sqrt(mean_squared_error(y_test,y_pred)))\n",
    "\n",
    "\n",
    "print('----------------------------------------')\n",
    "\n",
    "en= ElasticNet().fit(X_train, y_train)\n",
    "y_pred= en.predict(X_test)\n",
    "print('ELASTIC NET')\n",
    "print('Xcust2: ', y_pred.mean())\n",
    "print('r2: ', r2_score((y_test), (y_pred)))\n",
    "print('mean sq error: ', np.sqrt(mean_squared_error(y_test,y_pred)))\n",
    "\n",
    "print('----------------------------------------')\n",
    "\n",
    "rm= Ridge().fit(X_train, y_train)\n",
    "y_pred= rm.predict(X_test)\n",
    "print('RIDGE REGRESSION')\n",
    "print('Xcust2: ', y_pred.mean())\n",
    "print('r2: ', r2_score((y_test), (y_pred)))\n",
    "print('mean sq error: ', np.sqrt(mean_squared_error(y_test,y_pred)))\n",
    "\n",
    "print('----------------------------------------')\n",
    "\n",
    "lm= Lasso().fit(X_train, y_train)\n",
    "y_pred= lm.predict(X_test)\n",
    "print('LASSO REGRESSION')\n",
    "print('Xcust2: ', y_pred.mean())\n",
    "print('r2: ', r2_score((y_test), (y_pred)))\n",
    "print('mean sq error: ', np.sqrt(mean_squared_error(y_test,y_pred)))\n",
    "\n",
    "print('----------------------------------------')\n",
    "\n"
   ]
  },
  {
   "cell_type": "markdown",
   "metadata": {
    "id": "PKniV7vivSME"
   },
   "source": [
    "**Xcust3**"
   ]
  },
  {
   "cell_type": "code",
   "execution_count": null,
   "metadata": {
    "id": "QSryHDbCuVeP"
   },
   "outputs": [],
   "source": [
    "#Xcust3\n",
    "X_train, X_test, y_train, y_test= train_test_split(Xcust3,y, test_size=0.2, random_state=12)\n",
    "\n",
    "lr  = LinearRegression().fit(X_train, y_train)\n",
    "y_pred= lr.predict(X_test)\n",
    "print('LINEAR REGRESSION')\n",
    "print('Xcust3: ', y_pred.mean())\n",
    "print('r2: ', r2_score((y_test), (y_pred)))\n",
    "print('mean sq error: ', np.sqrt(mean_squared_error(y_test,y_pred)))\n",
    "\n",
    "\n",
    "print('----------------------------------------')\n",
    "\n",
    "en= ElasticNet().fit(X_train, y_train)\n",
    "y_pred= en.predict(X_test)\n",
    "print('ELASTIC NET')\n",
    "print('Xcust3: ', y_pred.mean())\n",
    "print('r2: ', r2_score((y_test), (y_pred)))\n",
    "print('mean sq error: ', np.sqrt(mean_squared_error(y_test,y_pred)))\n",
    "\n",
    "print('----------------------------------------')\n",
    "\n",
    "rm= Ridge().fit(X_train, y_train)\n",
    "y_pred= rm.predict(X_test)\n",
    "print('RIDGE REGRESSION')\n",
    "print('Xcust3: ', y_pred.mean())\n",
    "print('r2: ', r2_score((y_test), (y_pred)))\n",
    "print('mean sq error: ', np.sqrt(mean_squared_error(y_test,y_pred)))\n",
    "\n",
    "print('----------------------------------------')\n",
    "\n",
    "lm= Lasso().fit(X_train, y_train)\n",
    "y_pred= lm.predict(X_test)\n",
    "print('LASSO REGRESSION')\n",
    "print('Xcust3: ', y_pred.mean())\n",
    "print('r2: ', r2_score((y_test), (y_pred)))\n",
    "print('mean sq error: ', np.sqrt(mean_squared_error(y_test,y_pred)))\n",
    "\n",
    "print('----------------------------------------')\n",
    "\n"
   ]
  },
  {
   "cell_type": "markdown",
   "metadata": {
    "id": "aC5LQ4tYvU94"
   },
   "source": [
    "**Xcust4**"
   ]
  },
  {
   "cell_type": "code",
   "execution_count": null,
   "metadata": {
    "id": "UOcpp3svudun"
   },
   "outputs": [],
   "source": [
    "#Xcust4\n",
    "X_train, X_test, y_train, y_test= train_test_split(Xcust4,y, test_size=0.2, random_state=12)\n",
    "\n",
    "lr  = LinearRegression().fit(X_train, y_train)\n",
    "y_pred= lr.predict(X_test)\n",
    "print('LINEAR REGRESSION')\n",
    "print('Xcust4: ', y_pred.mean())\n",
    "print('r2: ', r2_score((y_test), (y_pred)))\n",
    "print('mean sq error: ', np.sqrt(mean_squared_error(y_test,y_pred)))\n",
    "\n",
    "\n",
    "print('----------------------------------------')\n",
    "\n",
    "en= ElasticNet().fit(X_train, y_train)\n",
    "y_pred= en.predict(X_test)\n",
    "print('ELASTIC NET')\n",
    "print('Xcust4: ', y_pred.mean())\n",
    "print('r2: ', r2_score((y_test), (y_pred)))\n",
    "print('mean sq error: ', np.sqrt(mean_squared_error(y_test,y_pred)))\n",
    "\n",
    "print('----------------------------------------')\n",
    "\n",
    "rm= Ridge().fit(X_train, y_train)\n",
    "y_pred= rm.predict(X_test)\n",
    "print('RIDGE REGRESSION')\n",
    "print('Xcust4: ', y_pred.mean())\n",
    "print('r2: ', r2_score((y_test), (y_pred)))\n",
    "print('mean sq error: ', np.sqrt(mean_squared_error(y_test,y_pred)))\n",
    "\n",
    "print('----------------------------------------')\n",
    "\n",
    "lm= Lasso().fit(X_train, y_train)\n",
    "y_pred= lm.predict(X_test)\n",
    "print('LASSO REGRESSION')\n",
    "print('Xcust4: ', y_pred.mean())\n",
    "print('r2: ', r2_score((y_test), (y_pred)))\n",
    "print('mean sq error: ', np.sqrt(mean_squared_error(y_test,y_pred)))\n",
    "\n",
    "print('----------------------------------------')\n",
    "\n"
   ]
  },
  {
   "cell_type": "markdown",
   "metadata": {
    "id": "AQUcqzCPvYGk"
   },
   "source": [
    "**Xcust5**"
   ]
  },
  {
   "cell_type": "code",
   "execution_count": null,
   "metadata": {
    "id": "0oQ_mERnujHf"
   },
   "outputs": [],
   "source": [
    "#Xcust5\n",
    "X_train, X_test, y_train, y_test= train_test_split(Xcust5,y, test_size=0.2, random_state=12)\n",
    "\n",
    "lr  = LinearRegression().fit(X_train, y_train)\n",
    "y_pred= lr.predict(X_test)\n",
    "print('LINEAR REGRESSION')\n",
    "print('Xcust5: ', y_pred.mean())\n",
    "print('r2: ', r2_score((y_test), (y_pred)))\n",
    "print('mean sq error: ', np.sqrt(mean_squared_error(y_test,y_pred)))\n",
    "\n",
    "\n",
    "print('----------------------------------------')\n",
    "\n",
    "en= ElasticNet().fit(X_train, y_train)\n",
    "y_pred= en.predict(X_test)\n",
    "print('ELASTIC NET')\n",
    "print('Xcust5: ', y_pred.mean())\n",
    "print('r2: ', r2_score((y_test), (y_pred)))\n",
    "print('mean sq error: ', np.sqrt(mean_squared_error(y_test,y_pred)))\n",
    "\n",
    "print('----------------------------------------')\n",
    "\n",
    "rm= Ridge().fit(X_train, y_train)\n",
    "y_pred= rm.predict(X_test)\n",
    "print('RIDGE REGRESSION')\n",
    "print('Xcust5: ', y_pred.mean())\n",
    "print('r2: ', r2_score((y_test), (y_pred)))\n",
    "print('mean sq error: ', np.sqrt(mean_squared_error(y_test,y_pred)))\n",
    "\n",
    "print('----------------------------------------')\n",
    "\n",
    "lm= Lasso().fit(X_train, y_train)\n",
    "y_pred= lm.predict(X_test)\n",
    "print('LASSO REGRESSION')\n",
    "print('Xcust5: ', y_pred.mean())\n",
    "print('r2: ', r2_score((y_test), (y_pred)))\n",
    "print('mean sq error: ', np.sqrt(mean_squared_error(y_test,y_pred)))\n",
    "\n",
    "print('----------------------------------------')\n",
    "\n"
   ]
  },
  {
   "cell_type": "markdown",
   "metadata": {
    "id": "zfDM84dhQDGJ"
   },
   "source": [
    "# DEFENSE"
   ]
  },
  {
   "cell_type": "code",
   "execution_count": null,
   "metadata": {
    "id": "CcyZk0t8QEBA"
   },
   "outputs": [],
   "source": [
    "X= defense.iloc[:,1:-1]\n",
    "y= defense.iloc[:, -1]\n",
    "\n",
    "X_train, X_test, y_train, y_test= train_test_split(X,y, test_size=0.2, random_state=12)"
   ]
  },
  {
   "cell_type": "code",
   "execution_count": null,
   "metadata": {
    "id": "0gJOOTHTPv_g"
   },
   "outputs": [],
   "source": [
    "rf= RandomForestRegressor(n_estimators=100)\n",
    "rf.fit(X_train, y_train)\n",
    "rf.feature_importances_\n",
    "\n",
    "plt.figure(figsize= (7,7))\n",
    "sorted_idx= rf.feature_importances_.argsort()\n",
    "plt.barh(X.columns[sorted_idx], rf.feature_importances_[sorted_idx])\n",
    "plt.xlabel('Random Forest Feature Importance')"
   ]
  },
  {
   "cell_type": "code",
   "execution_count": null,
   "metadata": {
    "id": "ApBbl0ByPwF2"
   },
   "outputs": [],
   "source": [
    "X_scaled= RobustScaler().fit_transform(X,y)\n",
    "X_scaled_df= pd.DataFrame(X_scaled)\n",
    "X_scaled_df.columns= X.columns\n",
    "X_scaled_df"
   ]
  },
  {
   "cell_type": "code",
   "execution_count": null,
   "metadata": {
    "id": "h04wKtoePwL9"
   },
   "outputs": [],
   "source": [
    "\n",
    "\n",
    "vif = pd.DataFrame()\n",
    "\n",
    "vif['VIF'] = [variance_inflation_factor(X_scaled_df.values, i) for i in range(X_scaled_df.shape[1])]\n",
    "vif['variable'] = X_scaled_df.columns\n",
    "vif"
   ]
  },
  {
   "cell_type": "code",
   "execution_count": null,
   "metadata": {
    "id": "9oe89LjTPwTA"
   },
   "outputs": [],
   "source": []
  },
  {
   "cell_type": "code",
   "execution_count": null,
   "metadata": {
    "id": "I48BNPvqPwYt"
   },
   "outputs": [],
   "source": []
  },
  {
   "cell_type": "code",
   "execution_count": null,
   "metadata": {
    "id": "2WSP81SNPweo"
   },
   "outputs": [],
   "source": []
  },
  {
   "cell_type": "markdown",
   "metadata": {
    "id": "fepKIaYbQFHz"
   },
   "source": [
    "# GOALIES"
   ]
  },
  {
   "cell_type": "code",
   "execution_count": 165,
   "metadata": {
    "id": "rBWmjITBQF-s"
   },
   "outputs": [],
   "source": [
    "X= goalies.iloc[:,1:-1]\n",
    "y= goalies.iloc[:, -1]\n",
    "\n",
    "X_train, X_test, y_train, y_test= train_test_split(X,y, test_size=0.2, random_state=12)"
   ]
  },
  {
   "cell_type": "markdown",
   "metadata": {},
   "source": [
    "Feature Importances"
   ]
  },
  {
   "cell_type": "code",
   "execution_count": 166,
   "metadata": {
    "id": "B8w7GYO_RtI8"
   },
   "outputs": [
    {
     "data": {
      "text/plain": [
       "Text(0.5, 0, 'Random Forest Feature Importance')"
      ]
     },
     "execution_count": 166,
     "metadata": {},
     "output_type": "execute_result"
    },
    {
     "data": {
      "image/png": "[encoded data removed]",
      "text/plain": [
       "<Figure size 504x504 with 1 Axes>"
      ]
     },
     "metadata": {
      "needs_background": "light"
     },
     "output_type": "display_data"
    }
   ],
   "source": [
    "rf= RandomForestRegressor(n_estimators=100)\n",
    "rf.fit(X_train, y_train)\n",
    "rf.feature_importances_\n",
    "\n",
    "plt.figure(figsize= (7,7))\n",
    "sorted_idx= rf.feature_importances_.argsort()\n",
    "plt.barh(X.columns[sorted_idx], rf.feature_importances_[sorted_idx])\n",
    "plt.xlabel('Random Forest Feature Importance')"
   ]
  },
  {
   "cell_type": "markdown",
   "metadata": {},
   "source": [
    "Goalie Pipeline"
   ]
  },
  {
   "cell_type": "code",
   "execution_count": 175,
   "metadata": {},
   "outputs": [
    {
     "data": {
      "text/plain": [
       "(0.7152566418820469, 0.054654842850322065)"
      ]
     },
     "execution_count": 175,
     "metadata": {},
     "output_type": "execute_result"
    }
   ],
   "source": [
    "# Test out Extra Trees Regressor\n",
    "\n",
    "ef_gpipe= make_pipeline( ExtraTreesRegressor( random_state=47, max_depth= None))\n",
    "cv_results= cross_validate(ef_gpipe, X_train, y_train, cv=5)\n",
    "np.mean(cv_results['test_score']), np.std(cv_results['test_score'])"
   ]
  },
  {
   "cell_type": "code",
   "execution_count": 177,
   "metadata": {},
   "outputs": [
    {
     "data": {
      "text/plain": [
       "(0.6855483052043355, 0.07873244642482964)"
      ]
     },
     "execution_count": 177,
     "metadata": {},
     "output_type": "execute_result"
    }
   ],
   "source": [
    "\n",
    "ef_gpipe= make_pipeline( RobustScaler(), LinearRegression())\n",
    "cv_results= cross_validate(ef_gpipe, X_train, y_train, cv=5)\n",
    "np.mean(cv_results['test_score']), np.std(cv_results['test_score'])"
   ]
  },
  {
   "cell_type": "code",
   "execution_count": 178,
   "metadata": {},
   "outputs": [
    {
     "data": {
      "text/plain": [
       "(0.6714064637423103, 0.05429561549747049)"
      ]
     },
     "execution_count": 178,
     "metadata": {},
     "output_type": "execute_result"
    }
   ],
   "source": [
    "ef_gpipe= make_pipeline( RandomForestRegressor( random_state=47, max_depth= None))\n",
    "cv_results= cross_validate(ef_gpipe, X_train, y_train, cv=5)\n",
    "np.mean(cv_results['test_score']), np.std(cv_results['test_score'])"
   ]
  },
  {
   "cell_type": "code",
   "execution_count": 179,
   "metadata": {},
   "outputs": [
    {
     "name": "stderr",
     "output_type": "stream",
     "text": [
      "C:\\Users\\essmar\\AppData\\Local\\Programs\\Python\\Python39\\lib\\site-packages\\sklearn\\linear_model\\_coordinate_descent.py:530: ConvergenceWarning: Objective did not converge. You might want to increase the number of iterations. Duality gap: 76111052546565.86, tolerance: 62212314618.19785\n",
      "  model = cd_fast.enet_coordinate_descent(\n",
      "C:\\Users\\essmar\\AppData\\Local\\Programs\\Python\\Python39\\lib\\site-packages\\sklearn\\linear_model\\_coordinate_descent.py:530: ConvergenceWarning: Objective did not converge. You might want to increase the number of iterations. Duality gap: 80201077223448.08, tolerance: 68825002738.36346\n",
      "  model = cd_fast.enet_coordinate_descent(\n",
      "C:\\Users\\essmar\\AppData\\Local\\Programs\\Python\\Python39\\lib\\site-packages\\sklearn\\linear_model\\_coordinate_descent.py:530: ConvergenceWarning: Objective did not converge. You might want to increase the number of iterations. Duality gap: 76342602428499.77, tolerance: 74503558336.06451\n",
      "  model = cd_fast.enet_coordinate_descent(\n",
      "C:\\Users\\essmar\\AppData\\Local\\Programs\\Python\\Python39\\lib\\site-packages\\sklearn\\linear_model\\_coordinate_descent.py:530: ConvergenceWarning: Objective did not converge. You might want to increase the number of iterations. Duality gap: 77265574635568.52, tolerance: 73439324328.33554\n",
      "  model = cd_fast.enet_coordinate_descent(\n",
      "C:\\Users\\essmar\\AppData\\Local\\Programs\\Python\\Python39\\lib\\site-packages\\sklearn\\linear_model\\_coordinate_descent.py:530: ConvergenceWarning: Objective did not converge. You might want to increase the number of iterations. Duality gap: 83616531669563.22, tolerance: 76360594921.66681\n",
      "  model = cd_fast.enet_coordinate_descent(\n"
     ]
    },
    {
     "data": {
      "text/plain": [
       "(0.6857518925987935, 0.07984020591976261)"
      ]
     },
     "execution_count": 179,
     "metadata": {},
     "output_type": "execute_result"
    }
   ],
   "source": [
    "ef_gpipe= make_pipeline( Lasso())\n",
    "cv_results= cross_validate(ef_gpipe, X_train, y_train, cv=5)\n",
    "np.mean(cv_results['test_score']), np.std(cv_results['test_score'])"
   ]
  },
  {
   "cell_type": "code",
   "execution_count": 180,
   "metadata": {},
   "outputs": [
    {
     "data": {
      "text/plain": [
       "(0.6838846011343322, 0.07446211270086991)"
      ]
     },
     "execution_count": 180,
     "metadata": {},
     "output_type": "execute_result"
    }
   ],
   "source": [
    "ef_gpipe= make_pipeline( Ridge())\n",
    "cv_results= cross_validate(ef_gpipe, X_train, y_train, cv=5)\n",
    "np.mean(cv_results['test_score']), np.std(cv_results['test_score'])"
   ]
  },
  {
   "cell_type": "code",
   "execution_count": 182,
   "metadata": {},
   "outputs": [],
   "source": [
    "# gridsearch"
   ]
  },
  {
   "cell_type": "code",
   "execution_count": 198,
   "metadata": {},
   "outputs": [],
   "source": [
    "# g_params= {\n",
    "#     'extratreesregressor__criterion': ['mse','mae'],\n",
    "#      'extratreesregressor__max_depth': [3,4,5,6,7,8],\n",
    "#     'extratreesregressor__max_features':['auto', 'sqrt','log2', 45],\n",
    "#     'extratreesregressor__n_estimators':[85,87,90,92,95]\n",
    "# }"
   ]
  },
  {
   "cell_type": "code",
   "execution_count": 199,
   "metadata": {},
   "outputs": [],
   "source": [
    "ef_gpipe= make_pipeline( ExtraTreesRegressor( random_state=47, max_depth= None))"
   ]
  },
  {
   "cell_type": "code",
   "execution_count": 200,
   "metadata": {},
   "outputs": [],
   "source": [
    "ef_goalie_grid_cv= GridSearchCV(ef_gpipe, param_grid=extra_params, cv=5, n_jobs=-1)"
   ]
  },
  {
   "cell_type": "code",
   "execution_count": 201,
   "metadata": {},
   "outputs": [
    {
     "name": "stderr",
     "output_type": "stream",
     "text": [
      "C:\\Users\\essmar\\AppData\\Local\\Programs\\Python\\Python39\\lib\\site-packages\\sklearn\\model_selection\\_search.py:922: UserWarning: One or more of the test scores are non-finite: [0.70163876 0.70252509 0.70290772 0.70226449 0.70244183 0.55817403\n",
      " 0.55524323 0.56191182 0.56094261 0.56199626 0.55817403 0.55524323\n",
      " 0.56191182 0.56094261 0.56199626        nan        nan        nan\n",
      "        nan        nan 0.72214289 0.72206337 0.72180496 0.72170517\n",
      " 0.72134954 0.5894092  0.59027909 0.5938618  0.5910243  0.59052953\n",
      " 0.5894092  0.59027909 0.5938618  0.5910243  0.59052953        nan\n",
      "        nan        nan        nan        nan 0.72337562 0.72430476\n",
      " 0.72473676 0.72459815 0.72388897 0.6128899  0.61174377 0.61422117\n",
      " 0.61391088 0.61558599 0.6128899  0.61174377 0.61422117 0.61391088\n",
      " 0.61558599        nan        nan        nan        nan        nan\n",
      " 0.72181325 0.72181495 0.72196174 0.72283504 0.72360009 0.65454417\n",
      " 0.65395769 0.65653219 0.65541242 0.65578964 0.65454417 0.65395769\n",
      " 0.65653219 0.65541242 0.65578964        nan        nan        nan\n",
      "        nan        nan 0.7193168  0.71917891 0.71948271 0.71970828\n",
      " 0.71933048 0.65236025 0.65266662 0.65604222 0.6544533  0.65707543\n",
      " 0.65236025 0.65266662 0.65604222 0.6544533  0.65707543        nan\n",
      "        nan        nan        nan        nan 0.71524895 0.71682287\n",
      " 0.71587722 0.71706982 0.71592147 0.65076294 0.65100855 0.65327221\n",
      " 0.65113429 0.65437088 0.65076294 0.65100855 0.65327221 0.65113429\n",
      " 0.65437088        nan        nan        nan        nan        nan\n",
      " 0.68765851 0.68831937 0.68894922 0.68852459 0.68936943 0.55894637\n",
      " 0.55696927 0.56294677 0.56045074 0.56278662 0.55894637 0.55696927\n",
      " 0.56294677 0.56045074 0.56278662        nan        nan        nan\n",
      "        nan        nan 0.70732705 0.70815855 0.70836172 0.70844032\n",
      " 0.70923966 0.58965114 0.58920921 0.59276607 0.59088019 0.5899711\n",
      " 0.58965114 0.58920921 0.59276607 0.59088019 0.5899711         nan\n",
      "        nan        nan        nan        nan 0.70165532 0.70371372\n",
      " 0.70250744 0.70321917 0.70298066 0.62110127 0.62210794 0.62564236\n",
      " 0.62369294 0.62466617 0.62110127 0.62210794 0.62564236 0.62369294\n",
      " 0.62466617        nan        nan        nan        nan        nan\n",
      " 0.71083913 0.71351397 0.71399647 0.71330851 0.71424168 0.63951611\n",
      " 0.63838672 0.64041567 0.63983284 0.64014153 0.63951611 0.63838672\n",
      " 0.64041567 0.63983284 0.64014153        nan        nan        nan\n",
      "        nan        nan 0.7102087  0.7114933  0.71060928 0.71156659\n",
      " 0.71252366 0.64409661 0.6419841  0.64501623 0.64600739 0.64769345\n",
      " 0.64409661 0.6419841  0.64501623 0.64600739 0.64769345        nan\n",
      "        nan        nan        nan        nan 0.70416322 0.70649457\n",
      " 0.70419234 0.70469037 0.70414935 0.65098364 0.65148389 0.6548606\n",
      " 0.6543945  0.65352498 0.65098364 0.65148389 0.6548606  0.6543945\n",
      " 0.65352498        nan        nan        nan        nan        nan]\n",
      "  warnings.warn(\n"
     ]
    },
    {
     "data": {
      "text/plain": [
       "(0.7152566418820469, 0.054654842850322065)"
      ]
     },
     "execution_count": 201,
     "metadata": {},
     "output_type": "execute_result"
    }
   ],
   "source": [
    "ef_goalie_grid_cv.fit(X_train, y_train)\n",
    "cv_results= cross_validate(ef_gpipe, X_train, y_train, cv=5)\n",
    "np.mean(cv_results['test_score']), np.std(cv_results['test_score'])\n"
   ]
  },
  {
   "cell_type": "code",
   "execution_count": 202,
   "metadata": {},
   "outputs": [
    {
     "data": {
      "text/plain": [
       "{'extratreesregressor__criterion': 'mse',\n",
       " 'extratreesregressor__max_depth': 5,\n",
       " 'extratreesregressor__max_features': 'auto',\n",
       " 'extratreesregressor__n_estimators': 90}"
      ]
     },
     "execution_count": 202,
     "metadata": {},
     "output_type": "execute_result"
    }
   ],
   "source": [
    "\n",
    "ef_goalie_grid_cv.best_params_"
   ]
  },
  {
   "cell_type": "code",
   "execution_count": 203,
   "metadata": {},
   "outputs": [
    {
     "data": {
      "text/plain": [
       "['D:\\\\Springboard Course\\\\Assignments\\\\Springboard\\\\NHL Salary Predictor\\\\Models/goalie_model.pkl']"
      ]
     },
     "execution_count": 203,
     "metadata": {},
     "output_type": "execute_result"
    }
   ],
   "source": [
    "best_model= ef_grid_cv.best_estimator_\n",
    "best_model.version = '1.0'\n",
    "best_model.pandas_version = pd.__version__\n",
    "best_model.numpy_version = np.__version__\n",
    "best_model.sklearn_version = sklearn_version\n",
    "best_model.X_columns= [col for col in X_train.columns]\n",
    "best_model.build_datetime= datetime.datetime.now()\n",
    "\n",
    "filename= r'D:\\Springboard Course\\Assignments\\Springboard\\NHL Salary Predictor\\Models/goalie_model.pkl'\n",
    "joblib.dump(best_model, filename)"
   ]
  },
  {
   "cell_type": "markdown",
   "metadata": {},
   "source": [
    "Analysis of Variance Inflation Factor for Goalies "
   ]
  },
  {
   "cell_type": "code",
   "execution_count": 167,
   "metadata": {
    "id": "PSHb3dCyST4d"
   },
   "outputs": [
    {
     "data": {
      "text/html": [
       "<div>\n",
       "<style scoped>\n",
       "    .dataframe tbody tr th:only-of-type {\n",
       "        vertical-align: middle;\n",
       "    }\n",
       "\n",
       "    .dataframe tbody tr th {\n",
       "        vertical-align: top;\n",
       "    }\n",
       "\n",
       "    .dataframe thead th {\n",
       "        text-align: right;\n",
       "    }\n",
       "</style>\n",
       "<table border=\"1\" class=\"dataframe\">\n",
       "  <thead>\n",
       "    <tr style=\"text-align: right;\">\n",
       "      <th></th>\n",
       "      <th>Season</th>\n",
       "      <th>AGE</th>\n",
       "      <th>GP</th>\n",
       "      <th>PTS</th>\n",
       "      <th>SOT_Att</th>\n",
       "      <th>SOT_Scored</th>\n",
       "      <th>SOT_Saved</th>\n",
       "      <th>SOT_Pct</th>\n",
       "      <th>GS</th>\n",
       "      <th>W</th>\n",
       "      <th>L</th>\n",
       "      <th>TplusOTL</th>\n",
       "      <th>GA</th>\n",
       "      <th>SA</th>\n",
       "      <th>SV</th>\n",
       "      <th>SV_Pct</th>\n",
       "      <th>GAA</th>\n",
       "      <th>SUT</th>\n",
       "      <th>GPS</th>\n",
       "      <th>MIN</th>\n",
       "      <th>QS</th>\n",
       "      <th>RBS</th>\n",
       "      <th>LENGTH</th>\n",
       "    </tr>\n",
       "  </thead>\n",
       "  <tbody>\n",
       "    <tr>\n",
       "      <th>0</th>\n",
       "      <td>1.0</td>\n",
       "      <td>-0.6</td>\n",
       "      <td>-0.450382</td>\n",
       "      <td>-0.166667</td>\n",
       "      <td>-0.343750</td>\n",
       "      <td>-0.727273</td>\n",
       "      <td>-0.136364</td>\n",
       "      <td>0.697333</td>\n",
       "      <td>-0.307692</td>\n",
       "      <td>-0.342857</td>\n",
       "      <td>-0.125000</td>\n",
       "      <td>-0.777778</td>\n",
       "      <td>-0.249267</td>\n",
       "      <td>-0.249490</td>\n",
       "      <td>-0.242643</td>\n",
       "      <td>-0.136986</td>\n",
       "      <td>0.623782</td>\n",
       "      <td>-0.666667</td>\n",
       "      <td>-0.166667</td>\n",
       "      <td>-0.340044</td>\n",
       "      <td>-0.207792</td>\n",
       "      <td>-0.363636</td>\n",
       "      <td>1.5</td>\n",
       "    </tr>\n",
       "    <tr>\n",
       "      <th>1</th>\n",
       "      <td>1.0</td>\n",
       "      <td>-0.2</td>\n",
       "      <td>0.358779</td>\n",
       "      <td>0.166667</td>\n",
       "      <td>0.000000</td>\n",
       "      <td>-0.181818</td>\n",
       "      <td>0.090909</td>\n",
       "      <td>0.309333</td>\n",
       "      <td>0.433566</td>\n",
       "      <td>0.771429</td>\n",
       "      <td>-0.089286</td>\n",
       "      <td>0.555556</td>\n",
       "      <td>0.284457</td>\n",
       "      <td>0.343878</td>\n",
       "      <td>0.352582</td>\n",
       "      <td>0.301370</td>\n",
       "      <td>-0.639376</td>\n",
       "      <td>0.500000</td>\n",
       "      <td>0.439394</td>\n",
       "      <td>0.460572</td>\n",
       "      <td>0.545455</td>\n",
       "      <td>-0.272727</td>\n",
       "      <td>2.0</td>\n",
       "    </tr>\n",
       "    <tr>\n",
       "      <th>2</th>\n",
       "      <td>1.0</td>\n",
       "      <td>1.2</td>\n",
       "      <td>-0.343511</td>\n",
       "      <td>-0.500000</td>\n",
       "      <td>-0.281250</td>\n",
       "      <td>0.272727</td>\n",
       "      <td>-0.545455</td>\n",
       "      <td>-0.860000</td>\n",
       "      <td>-0.293706</td>\n",
       "      <td>-0.771429</td>\n",
       "      <td>0.160714</td>\n",
       "      <td>0.111111</td>\n",
       "      <td>-0.202346</td>\n",
       "      <td>-0.310714</td>\n",
       "      <td>-0.313715</td>\n",
       "      <td>-0.794521</td>\n",
       "      <td>0.982456</td>\n",
       "      <td>-0.333333</td>\n",
       "      <td>-0.431818</td>\n",
       "      <td>-0.348763</td>\n",
       "      <td>-0.467532</td>\n",
       "      <td>0.090909</td>\n",
       "      <td>-0.5</td>\n",
       "    </tr>\n",
       "    <tr>\n",
       "      <th>3</th>\n",
       "      <td>1.0</td>\n",
       "      <td>2.2</td>\n",
       "      <td>0.755725</td>\n",
       "      <td>1.500000</td>\n",
       "      <td>-0.937500</td>\n",
       "      <td>-0.545455</td>\n",
       "      <td>-1.090909</td>\n",
       "      <td>-2.636000</td>\n",
       "      <td>0.713287</td>\n",
       "      <td>0.171429</td>\n",
       "      <td>1.660714</td>\n",
       "      <td>0.111111</td>\n",
       "      <td>1.434018</td>\n",
       "      <td>1.155612</td>\n",
       "      <td>1.127152</td>\n",
       "      <td>-0.794521</td>\n",
       "      <td>2.035088</td>\n",
       "      <td>0.166667</td>\n",
       "      <td>0.636364</td>\n",
       "      <td>0.738300</td>\n",
       "      <td>0.233766</td>\n",
       "      <td>0.909091</td>\n",
       "      <td>-0.5</td>\n",
       "    </tr>\n",
       "    <tr>\n",
       "      <th>4</th>\n",
       "      <td>1.0</td>\n",
       "      <td>-0.2</td>\n",
       "      <td>-0.938931</td>\n",
       "      <td>0.000000</td>\n",
       "      <td>-0.703125</td>\n",
       "      <td>-0.681818</td>\n",
       "      <td>-0.681818</td>\n",
       "      <td>0.364000</td>\n",
       "      <td>-0.860140</td>\n",
       "      <td>-0.942857</td>\n",
       "      <td>-0.803571</td>\n",
       "      <td>-0.722222</td>\n",
       "      <td>-0.844575</td>\n",
       "      <td>-0.848724</td>\n",
       "      <td>-0.838423</td>\n",
       "      <td>0.068493</td>\n",
       "      <td>0.432749</td>\n",
       "      <td>-0.333333</td>\n",
       "      <td>-0.738636</td>\n",
       "      <td>-0.891525</td>\n",
       "      <td>-0.857143</td>\n",
       "      <td>-0.863636</td>\n",
       "      <td>0.0</td>\n",
       "    </tr>\n",
       "    <tr>\n",
       "      <th>...</th>\n",
       "      <td>...</td>\n",
       "      <td>...</td>\n",
       "      <td>...</td>\n",
       "      <td>...</td>\n",
       "      <td>...</td>\n",
       "      <td>...</td>\n",
       "      <td>...</td>\n",
       "      <td>...</td>\n",
       "      <td>...</td>\n",
       "      <td>...</td>\n",
       "      <td>...</td>\n",
       "      <td>...</td>\n",
       "      <td>...</td>\n",
       "      <td>...</td>\n",
       "      <td>...</td>\n",
       "      <td>...</td>\n",
       "      <td>...</td>\n",
       "      <td>...</td>\n",
       "      <td>...</td>\n",
       "      <td>...</td>\n",
       "      <td>...</td>\n",
       "      <td>...</td>\n",
       "      <td>...</td>\n",
       "    </tr>\n",
       "    <tr>\n",
       "      <th>276</th>\n",
       "      <td>-1.0</td>\n",
       "      <td>0.0</td>\n",
       "      <td>-0.114504</td>\n",
       "      <td>0.500000</td>\n",
       "      <td>-0.093750</td>\n",
       "      <td>0.818182</td>\n",
       "      <td>-0.545455</td>\n",
       "      <td>-1.180000</td>\n",
       "      <td>-0.125874</td>\n",
       "      <td>0.000000</td>\n",
       "      <td>-0.482143</td>\n",
       "      <td>0.444444</td>\n",
       "      <td>-0.131965</td>\n",
       "      <td>0.085714</td>\n",
       "      <td>0.111049</td>\n",
       "      <td>0.931507</td>\n",
       "      <td>0.163743</td>\n",
       "      <td>0.666667</td>\n",
       "      <td>0.522727</td>\n",
       "      <td>-0.145660</td>\n",
       "      <td>0.000000</td>\n",
       "      <td>0.363636</td>\n",
       "      <td>0.0</td>\n",
       "    </tr>\n",
       "    <tr>\n",
       "      <th>277</th>\n",
       "      <td>-1.0</td>\n",
       "      <td>-0.4</td>\n",
       "      <td>1.030534</td>\n",
       "      <td>0.500000</td>\n",
       "      <td>2.156250</td>\n",
       "      <td>2.454545</td>\n",
       "      <td>1.909091</td>\n",
       "      <td>-0.120000</td>\n",
       "      <td>1.048951</td>\n",
       "      <td>0.428571</td>\n",
       "      <td>1.875000</td>\n",
       "      <td>0.444444</td>\n",
       "      <td>1.275660</td>\n",
       "      <td>0.933673</td>\n",
       "      <td>0.900611</td>\n",
       "      <td>-1.123288</td>\n",
       "      <td>0.514620</td>\n",
       "      <td>0.166667</td>\n",
       "      <td>0.522727</td>\n",
       "      <td>1.082190</td>\n",
       "      <td>0.857143</td>\n",
       "      <td>2.545455</td>\n",
       "      <td>-0.5</td>\n",
       "    </tr>\n",
       "    <tr>\n",
       "      <th>278</th>\n",
       "      <td>-1.0</td>\n",
       "      <td>-0.4</td>\n",
       "      <td>-0.893130</td>\n",
       "      <td>-0.500000</td>\n",
       "      <td>-1.125000</td>\n",
       "      <td>-1.090909</td>\n",
       "      <td>-1.090909</td>\n",
       "      <td>-2.636000</td>\n",
       "      <td>-1.048951</td>\n",
       "      <td>-1.200000</td>\n",
       "      <td>-0.589286</td>\n",
       "      <td>-0.888889</td>\n",
       "      <td>-0.888563</td>\n",
       "      <td>-0.981122</td>\n",
       "      <td>-0.978345</td>\n",
       "      <td>-1.945205</td>\n",
       "      <td>2.222222</td>\n",
       "      <td>-0.833333</td>\n",
       "      <td>-0.954545</td>\n",
       "      <td>-1.005770</td>\n",
       "      <td>-1.090909</td>\n",
       "      <td>-0.727273</td>\n",
       "      <td>0.0</td>\n",
       "    </tr>\n",
       "    <tr>\n",
       "      <th>279</th>\n",
       "      <td>-1.0</td>\n",
       "      <td>1.2</td>\n",
       "      <td>0.938931</td>\n",
       "      <td>0.500000</td>\n",
       "      <td>1.500000</td>\n",
       "      <td>1.363636</td>\n",
       "      <td>1.500000</td>\n",
       "      <td>0.080000</td>\n",
       "      <td>0.965035</td>\n",
       "      <td>1.800000</td>\n",
       "      <td>-0.053571</td>\n",
       "      <td>1.111111</td>\n",
       "      <td>0.571848</td>\n",
       "      <td>1.183163</td>\n",
       "      <td>1.238756</td>\n",
       "      <td>1.671233</td>\n",
       "      <td>-1.263158</td>\n",
       "      <td>1.666667</td>\n",
       "      <td>2.136364</td>\n",
       "      <td>1.102962</td>\n",
       "      <td>1.792208</td>\n",
       "      <td>-0.454545</td>\n",
       "      <td>1.0</td>\n",
       "    </tr>\n",
       "    <tr>\n",
       "      <th>280</th>\n",
       "      <td>-1.0</td>\n",
       "      <td>0.6</td>\n",
       "      <td>1.717557</td>\n",
       "      <td>-0.500000</td>\n",
       "      <td>0.843750</td>\n",
       "      <td>0.272727</td>\n",
       "      <td>1.090909</td>\n",
       "      <td>0.412000</td>\n",
       "      <td>1.720280</td>\n",
       "      <td>1.885714</td>\n",
       "      <td>1.339286</td>\n",
       "      <td>1.444444</td>\n",
       "      <td>1.363636</td>\n",
       "      <td>1.741837</td>\n",
       "      <td>1.771793</td>\n",
       "      <td>0.849315</td>\n",
       "      <td>-0.725146</td>\n",
       "      <td>3.166667</td>\n",
       "      <td>2.340909</td>\n",
       "      <td>1.740736</td>\n",
       "      <td>2.415584</td>\n",
       "      <td>1.181818</td>\n",
       "      <td>1.0</td>\n",
       "    </tr>\n",
       "  </tbody>\n",
       "</table>\n",
       "<p>281 rows × 23 columns</p>\n",
       "</div>"
      ],
      "text/plain": [
       "     Season  AGE        GP       PTS   SOT_Att  SOT_Scored  SOT_Saved  \\\n",
       "0       1.0 -0.6 -0.450382 -0.166667 -0.343750   -0.727273  -0.136364   \n",
       "1       1.0 -0.2  0.358779  0.166667  0.000000   -0.181818   0.090909   \n",
       "2       1.0  1.2 -0.343511 -0.500000 -0.281250    0.272727  -0.545455   \n",
       "3       1.0  2.2  0.755725  1.500000 -0.937500   -0.545455  -1.090909   \n",
       "4       1.0 -0.2 -0.938931  0.000000 -0.703125   -0.681818  -0.681818   \n",
       "..      ...  ...       ...       ...       ...         ...        ...   \n",
       "276    -1.0  0.0 -0.114504  0.500000 -0.093750    0.818182  -0.545455   \n",
       "277    -1.0 -0.4  1.030534  0.500000  2.156250    2.454545   1.909091   \n",
       "278    -1.0 -0.4 -0.893130 -0.500000 -1.125000   -1.090909  -1.090909   \n",
       "279    -1.0  1.2  0.938931  0.500000  1.500000    1.363636   1.500000   \n",
       "280    -1.0  0.6  1.717557 -0.500000  0.843750    0.272727   1.090909   \n",
       "\n",
       "      SOT_Pct        GS         W         L  TplusOTL        GA        SA  \\\n",
       "0    0.697333 -0.307692 -0.342857 -0.125000 -0.777778 -0.249267 -0.249490   \n",
       "1    0.309333  0.433566  0.771429 -0.089286  0.555556  0.284457  0.343878   \n",
       "2   -0.860000 -0.293706 -0.771429  0.160714  0.111111 -0.202346 -0.310714   \n",
       "3   -2.636000  0.713287  0.171429  1.660714  0.111111  1.434018  1.155612   \n",
       "4    0.364000 -0.860140 -0.942857 -0.803571 -0.722222 -0.844575 -0.848724   \n",
       "..        ...       ...       ...       ...       ...       ...       ...   \n",
       "276 -1.180000 -0.125874  0.000000 -0.482143  0.444444 -0.131965  0.085714   \n",
       "277 -0.120000  1.048951  0.428571  1.875000  0.444444  1.275660  0.933673   \n",
       "278 -2.636000 -1.048951 -1.200000 -0.589286 -0.888889 -0.888563 -0.981122   \n",
       "279  0.080000  0.965035  1.800000 -0.053571  1.111111  0.571848  1.183163   \n",
       "280  0.412000  1.720280  1.885714  1.339286  1.444444  1.363636  1.741837   \n",
       "\n",
       "           SV    SV_Pct       GAA       SUT       GPS       MIN        QS  \\\n",
       "0   -0.242643 -0.136986  0.623782 -0.666667 -0.166667 -0.340044 -0.207792   \n",
       "1    0.352582  0.301370 -0.639376  0.500000  0.439394  0.460572  0.545455   \n",
       "2   -0.313715 -0.794521  0.982456 -0.333333 -0.431818 -0.348763 -0.467532   \n",
       "3    1.127152 -0.794521  2.035088  0.166667  0.636364  0.738300  0.233766   \n",
       "4   -0.838423  0.068493  0.432749 -0.333333 -0.738636 -0.891525 -0.857143   \n",
       "..        ...       ...       ...       ...       ...       ...       ...   \n",
       "276  0.111049  0.931507  0.163743  0.666667  0.522727 -0.145660  0.000000   \n",
       "277  0.900611 -1.123288  0.514620  0.166667  0.522727  1.082190  0.857143   \n",
       "278 -0.978345 -1.945205  2.222222 -0.833333 -0.954545 -1.005770 -1.090909   \n",
       "279  1.238756  1.671233 -1.263158  1.666667  2.136364  1.102962  1.792208   \n",
       "280  1.771793  0.849315 -0.725146  3.166667  2.340909  1.740736  2.415584   \n",
       "\n",
       "          RBS  LENGTH  \n",
       "0   -0.363636     1.5  \n",
       "1   -0.272727     2.0  \n",
       "2    0.090909    -0.5  \n",
       "3    0.909091    -0.5  \n",
       "4   -0.863636     0.0  \n",
       "..        ...     ...  \n",
       "276  0.363636     0.0  \n",
       "277  2.545455    -0.5  \n",
       "278 -0.727273     0.0  \n",
       "279 -0.454545     1.0  \n",
       "280  1.181818     1.0  \n",
       "\n",
       "[281 rows x 23 columns]"
      ]
     },
     "execution_count": 167,
     "metadata": {},
     "output_type": "execute_result"
    }
   ],
   "source": [
    "X_scaled= RobustScaler().fit_transform(X,y)\n",
    "X_scaled_df= pd.DataFrame(X_scaled)\n",
    "X_scaled_df.columns= X.columns\n",
    "X_scaled_df"
   ]
  },
  {
   "cell_type": "code",
   "execution_count": 168,
   "metadata": {
    "id": "KWYYEANUShT_"
   },
   "outputs": [],
   "source": [
    "g_removed1= X_scaled_df.drop(columns=['SA','GA', 'SOT_Att', 'SOT_Scored','SOT_Saved'])\n",
    "\n",
    "g_removed2= X_scaled_df.drop(columns=['SA','GA', 'SOT_Att', 'SOT_Scored','SOT_Saved','MIN'])\n",
    "\n",
    "g_removed3= X_scaled_df.drop(columns=['SA','GA', 'SOT_Att', 'SOT_Scored','SOT_Saved','GP'])\n",
    "\n",
    "g_removed4= X_scaled_df.drop(columns=['SA','GA', 'SOT_Att', 'SOT_Scored','SOT_Saved','GP', 'MIN','GS'])\n",
    "\n",
    "g_removed5= X_scaled_df.drop(columns=['SA','GA', 'SOT_Att', 'SOT_Scored','SOT_Saved','GP', 'MIN','GS','L'])\n"
   ]
  },
  {
   "cell_type": "code",
   "execution_count": 169,
   "metadata": {
    "id": "K-nYJ3_RUh5X"
   },
   "outputs": [
    {
     "data": {
      "text/html": [
       "<div>\n",
       "<style scoped>\n",
       "    .dataframe tbody tr th:only-of-type {\n",
       "        vertical-align: middle;\n",
       "    }\n",
       "\n",
       "    .dataframe tbody tr th {\n",
       "        vertical-align: top;\n",
       "    }\n",
       "\n",
       "    .dataframe thead th {\n",
       "        text-align: right;\n",
       "    }\n",
       "</style>\n",
       "<table border=\"1\" class=\"dataframe\">\n",
       "  <thead>\n",
       "    <tr style=\"text-align: right;\">\n",
       "      <th></th>\n",
       "      <th>VIF</th>\n",
       "      <th>variable</th>\n",
       "    </tr>\n",
       "  </thead>\n",
       "  <tbody>\n",
       "    <tr>\n",
       "      <th>0</th>\n",
       "      <td>1.413341</td>\n",
       "      <td>Season</td>\n",
       "    </tr>\n",
       "    <tr>\n",
       "      <th>1</th>\n",
       "      <td>1.248366</td>\n",
       "      <td>AGE</td>\n",
       "    </tr>\n",
       "    <tr>\n",
       "      <th>2</th>\n",
       "      <td>1.561199</td>\n",
       "      <td>PTS</td>\n",
       "    </tr>\n",
       "    <tr>\n",
       "      <th>3</th>\n",
       "      <td>1.243068</td>\n",
       "      <td>SOT_Pct</td>\n",
       "    </tr>\n",
       "    <tr>\n",
       "      <th>4</th>\n",
       "      <td>14.212856</td>\n",
       "      <td>W</td>\n",
       "    </tr>\n",
       "    <tr>\n",
       "      <th>5</th>\n",
       "      <td>2.508351</td>\n",
       "      <td>TplusOTL</td>\n",
       "    </tr>\n",
       "    <tr>\n",
       "      <th>6</th>\n",
       "      <td>70.611108</td>\n",
       "      <td>SV</td>\n",
       "    </tr>\n",
       "    <tr>\n",
       "      <th>7</th>\n",
       "      <td>5.980974</td>\n",
       "      <td>SV_Pct</td>\n",
       "    </tr>\n",
       "    <tr>\n",
       "      <th>8</th>\n",
       "      <td>6.719259</td>\n",
       "      <td>GAA</td>\n",
       "    </tr>\n",
       "    <tr>\n",
       "      <th>9</th>\n",
       "      <td>4.150171</td>\n",
       "      <td>SUT</td>\n",
       "    </tr>\n",
       "    <tr>\n",
       "      <th>10</th>\n",
       "      <td>69.807388</td>\n",
       "      <td>GPS</td>\n",
       "    </tr>\n",
       "    <tr>\n",
       "      <th>11</th>\n",
       "      <td>37.497350</td>\n",
       "      <td>QS</td>\n",
       "    </tr>\n",
       "    <tr>\n",
       "      <th>12</th>\n",
       "      <td>5.664894</td>\n",
       "      <td>RBS</td>\n",
       "    </tr>\n",
       "    <tr>\n",
       "      <th>13</th>\n",
       "      <td>1.809253</td>\n",
       "      <td>LENGTH</td>\n",
       "    </tr>\n",
       "  </tbody>\n",
       "</table>\n",
       "</div>"
      ],
      "text/plain": [
       "          VIF  variable\n",
       "0    1.413341    Season\n",
       "1    1.248366       AGE\n",
       "2    1.561199       PTS\n",
       "3    1.243068   SOT_Pct\n",
       "4   14.212856         W\n",
       "5    2.508351  TplusOTL\n",
       "6   70.611108        SV\n",
       "7    5.980974    SV_Pct\n",
       "8    6.719259       GAA\n",
       "9    4.150171       SUT\n",
       "10  69.807388       GPS\n",
       "11  37.497350        QS\n",
       "12   5.664894       RBS\n",
       "13   1.809253    LENGTH"
      ]
     },
     "execution_count": 169,
     "metadata": {},
     "output_type": "execute_result"
    }
   ],
   "source": [
    "#'SA','GA', 'SOT_Att', 'SOT_Scored','SOT_Saved','GP', 'MIN','GS','L'\n",
    "\n",
    "vif = pd.DataFrame()\n",
    "\n",
    "vif['VIF'] = [variance_inflation_factor(g_removed5.values, i) for i in range(g_removed5.shape[1])]\n",
    "vif['variable'] = g_removed5.columns\n",
    "vif"
   ]
  },
  {
   "cell_type": "code",
   "execution_count": 170,
   "metadata": {
    "id": "Nj-Yp2LET3_G"
   },
   "outputs": [
    {
     "data": {
      "text/html": [
       "<div>\n",
       "<style scoped>\n",
       "    .dataframe tbody tr th:only-of-type {\n",
       "        vertical-align: middle;\n",
       "    }\n",
       "\n",
       "    .dataframe tbody tr th {\n",
       "        vertical-align: top;\n",
       "    }\n",
       "\n",
       "    .dataframe thead th {\n",
       "        text-align: right;\n",
       "    }\n",
       "</style>\n",
       "<table border=\"1\" class=\"dataframe\">\n",
       "  <thead>\n",
       "    <tr style=\"text-align: right;\">\n",
       "      <th></th>\n",
       "      <th>VIF</th>\n",
       "      <th>variable</th>\n",
       "    </tr>\n",
       "  </thead>\n",
       "  <tbody>\n",
       "    <tr>\n",
       "      <th>0</th>\n",
       "      <td>1.497757</td>\n",
       "      <td>Season</td>\n",
       "    </tr>\n",
       "    <tr>\n",
       "      <th>1</th>\n",
       "      <td>1.265180</td>\n",
       "      <td>AGE</td>\n",
       "    </tr>\n",
       "    <tr>\n",
       "      <th>2</th>\n",
       "      <td>1.567299</td>\n",
       "      <td>PTS</td>\n",
       "    </tr>\n",
       "    <tr>\n",
       "      <th>3</th>\n",
       "      <td>1.243300</td>\n",
       "      <td>SOT_Pct</td>\n",
       "    </tr>\n",
       "    <tr>\n",
       "      <th>4</th>\n",
       "      <td>62.712175</td>\n",
       "      <td>W</td>\n",
       "    </tr>\n",
       "    <tr>\n",
       "      <th>5</th>\n",
       "      <td>31.458603</td>\n",
       "      <td>L</td>\n",
       "    </tr>\n",
       "    <tr>\n",
       "      <th>6</th>\n",
       "      <td>5.460799</td>\n",
       "      <td>TplusOTL</td>\n",
       "    </tr>\n",
       "    <tr>\n",
       "      <th>7</th>\n",
       "      <td>255.144889</td>\n",
       "      <td>SV</td>\n",
       "    </tr>\n",
       "    <tr>\n",
       "      <th>8</th>\n",
       "      <td>7.104334</td>\n",
       "      <td>SV_Pct</td>\n",
       "    </tr>\n",
       "    <tr>\n",
       "      <th>9</th>\n",
       "      <td>9.322271</td>\n",
       "      <td>GAA</td>\n",
       "    </tr>\n",
       "    <tr>\n",
       "      <th>10</th>\n",
       "      <td>4.243296</td>\n",
       "      <td>SUT</td>\n",
       "    </tr>\n",
       "    <tr>\n",
       "      <th>11</th>\n",
       "      <td>87.377792</td>\n",
       "      <td>GPS</td>\n",
       "    </tr>\n",
       "    <tr>\n",
       "      <th>12</th>\n",
       "      <td>42.772140</td>\n",
       "      <td>QS</td>\n",
       "    </tr>\n",
       "    <tr>\n",
       "      <th>13</th>\n",
       "      <td>5.932472</td>\n",
       "      <td>RBS</td>\n",
       "    </tr>\n",
       "    <tr>\n",
       "      <th>14</th>\n",
       "      <td>1.814062</td>\n",
       "      <td>LENGTH</td>\n",
       "    </tr>\n",
       "  </tbody>\n",
       "</table>\n",
       "</div>"
      ],
      "text/plain": [
       "           VIF  variable\n",
       "0     1.497757    Season\n",
       "1     1.265180       AGE\n",
       "2     1.567299       PTS\n",
       "3     1.243300   SOT_Pct\n",
       "4    62.712175         W\n",
       "5    31.458603         L\n",
       "6     5.460799  TplusOTL\n",
       "7   255.144889        SV\n",
       "8     7.104334    SV_Pct\n",
       "9     9.322271       GAA\n",
       "10    4.243296       SUT\n",
       "11   87.377792       GPS\n",
       "12   42.772140        QS\n",
       "13    5.932472       RBS\n",
       "14    1.814062    LENGTH"
      ]
     },
     "execution_count": 170,
     "metadata": {},
     "output_type": "execute_result"
    }
   ],
   "source": [
    "#'SA','GA', 'SOT_Att', 'SOT_Scored','SOT_Saved','GP', 'MIN','GS'\n",
    "\n",
    "vif = pd.DataFrame()\n",
    "\n",
    "vif['VIF'] = [variance_inflation_factor(g_removed4.values, i) for i in range(g_removed4.shape[1])]\n",
    "vif['variable'] = g_removed4.columns\n",
    "vif"
   ]
  },
  {
   "cell_type": "code",
   "execution_count": 171,
   "metadata": {
    "id": "bhvrx5NeTIMd"
   },
   "outputs": [
    {
     "data": {
      "text/html": [
       "<div>\n",
       "<style scoped>\n",
       "    .dataframe tbody tr th:only-of-type {\n",
       "        vertical-align: middle;\n",
       "    }\n",
       "\n",
       "    .dataframe tbody tr th {\n",
       "        vertical-align: top;\n",
       "    }\n",
       "\n",
       "    .dataframe thead th {\n",
       "        text-align: right;\n",
       "    }\n",
       "</style>\n",
       "<table border=\"1\" class=\"dataframe\">\n",
       "  <thead>\n",
       "    <tr style=\"text-align: right;\">\n",
       "      <th></th>\n",
       "      <th>VIF</th>\n",
       "      <th>variable</th>\n",
       "    </tr>\n",
       "  </thead>\n",
       "  <tbody>\n",
       "    <tr>\n",
       "      <th>0</th>\n",
       "      <td>1.553377</td>\n",
       "      <td>Season</td>\n",
       "    </tr>\n",
       "    <tr>\n",
       "      <th>1</th>\n",
       "      <td>1.267762</td>\n",
       "      <td>AGE</td>\n",
       "    </tr>\n",
       "    <tr>\n",
       "      <th>2</th>\n",
       "      <td>116.349485</td>\n",
       "      <td>GP</td>\n",
       "    </tr>\n",
       "    <tr>\n",
       "      <th>3</th>\n",
       "      <td>1.609514</td>\n",
       "      <td>PTS</td>\n",
       "    </tr>\n",
       "    <tr>\n",
       "      <th>4</th>\n",
       "      <td>1.260082</td>\n",
       "      <td>SOT_Pct</td>\n",
       "    </tr>\n",
       "    <tr>\n",
       "      <th>5</th>\n",
       "      <td>324.647923</td>\n",
       "      <td>GS</td>\n",
       "    </tr>\n",
       "    <tr>\n",
       "      <th>6</th>\n",
       "      <td>114.981376</td>\n",
       "      <td>W</td>\n",
       "    </tr>\n",
       "    <tr>\n",
       "      <th>7</th>\n",
       "      <td>55.253195</td>\n",
       "      <td>L</td>\n",
       "    </tr>\n",
       "    <tr>\n",
       "      <th>8</th>\n",
       "      <td>7.918063</td>\n",
       "      <td>TplusOTL</td>\n",
       "    </tr>\n",
       "    <tr>\n",
       "      <th>9</th>\n",
       "      <td>311.060863</td>\n",
       "      <td>SV</td>\n",
       "    </tr>\n",
       "    <tr>\n",
       "      <th>10</th>\n",
       "      <td>7.282531</td>\n",
       "      <td>SV_Pct</td>\n",
       "    </tr>\n",
       "    <tr>\n",
       "      <th>11</th>\n",
       "      <td>9.687583</td>\n",
       "      <td>GAA</td>\n",
       "    </tr>\n",
       "    <tr>\n",
       "      <th>12</th>\n",
       "      <td>4.373852</td>\n",
       "      <td>SUT</td>\n",
       "    </tr>\n",
       "    <tr>\n",
       "      <th>13</th>\n",
       "      <td>100.525438</td>\n",
       "      <td>GPS</td>\n",
       "    </tr>\n",
       "    <tr>\n",
       "      <th>14</th>\n",
       "      <td>50.816156</td>\n",
       "      <td>QS</td>\n",
       "    </tr>\n",
       "    <tr>\n",
       "      <th>15</th>\n",
       "      <td>6.301383</td>\n",
       "      <td>RBS</td>\n",
       "    </tr>\n",
       "    <tr>\n",
       "      <th>16</th>\n",
       "      <td>1.831101</td>\n",
       "      <td>LENGTH</td>\n",
       "    </tr>\n",
       "  </tbody>\n",
       "</table>\n",
       "</div>"
      ],
      "text/plain": [
       "           VIF  variable\n",
       "0     1.553377    Season\n",
       "1     1.267762       AGE\n",
       "2   116.349485        GP\n",
       "3     1.609514       PTS\n",
       "4     1.260082   SOT_Pct\n",
       "5   324.647923        GS\n",
       "6   114.981376         W\n",
       "7    55.253195         L\n",
       "8     7.918063  TplusOTL\n",
       "9   311.060863        SV\n",
       "10    7.282531    SV_Pct\n",
       "11    9.687583       GAA\n",
       "12    4.373852       SUT\n",
       "13  100.525438       GPS\n",
       "14   50.816156        QS\n",
       "15    6.301383       RBS\n",
       "16    1.831101    LENGTH"
      ]
     },
     "execution_count": 171,
     "metadata": {},
     "output_type": "execute_result"
    }
   ],
   "source": [
    "#'SA','GA', 'SOT_Att', 'SOT_Scored','SOT_Saved', 'MIN'\n",
    "\n",
    "vif = pd.DataFrame()\n",
    "\n",
    "vif['VIF'] = [variance_inflation_factor(g_removed2.values, i) for i in range(g_removed2.shape[1])]\n",
    "vif['variable'] = g_removed2.columns\n",
    "vif"
   ]
  },
  {
   "cell_type": "code",
   "execution_count": 172,
   "metadata": {
    "id": "Qt1MYKc3TIh1"
   },
   "outputs": [
    {
     "data": {
      "text/html": [
       "<div>\n",
       "<style scoped>\n",
       "    .dataframe tbody tr th:only-of-type {\n",
       "        vertical-align: middle;\n",
       "    }\n",
       "\n",
       "    .dataframe tbody tr th {\n",
       "        vertical-align: top;\n",
       "    }\n",
       "\n",
       "    .dataframe thead th {\n",
       "        text-align: right;\n",
       "    }\n",
       "</style>\n",
       "<table border=\"1\" class=\"dataframe\">\n",
       "  <thead>\n",
       "    <tr style=\"text-align: right;\">\n",
       "      <th></th>\n",
       "      <th>VIF</th>\n",
       "      <th>variable</th>\n",
       "    </tr>\n",
       "  </thead>\n",
       "  <tbody>\n",
       "    <tr>\n",
       "      <th>0</th>\n",
       "      <td>1.609062</td>\n",
       "      <td>Season</td>\n",
       "    </tr>\n",
       "    <tr>\n",
       "      <th>1</th>\n",
       "      <td>1.277605</td>\n",
       "      <td>AGE</td>\n",
       "    </tr>\n",
       "    <tr>\n",
       "      <th>2</th>\n",
       "      <td>1.571347</td>\n",
       "      <td>PTS</td>\n",
       "    </tr>\n",
       "    <tr>\n",
       "      <th>3</th>\n",
       "      <td>1.293191</td>\n",
       "      <td>SOT_Pct</td>\n",
       "    </tr>\n",
       "    <tr>\n",
       "      <th>4</th>\n",
       "      <td>354.063988</td>\n",
       "      <td>GS</td>\n",
       "    </tr>\n",
       "    <tr>\n",
       "      <th>5</th>\n",
       "      <td>152.086160</td>\n",
       "      <td>W</td>\n",
       "    </tr>\n",
       "    <tr>\n",
       "      <th>6</th>\n",
       "      <td>69.674001</td>\n",
       "      <td>L</td>\n",
       "    </tr>\n",
       "    <tr>\n",
       "      <th>7</th>\n",
       "      <td>9.949535</td>\n",
       "      <td>TplusOTL</td>\n",
       "    </tr>\n",
       "    <tr>\n",
       "      <th>8</th>\n",
       "      <td>356.085902</td>\n",
       "      <td>SV</td>\n",
       "    </tr>\n",
       "    <tr>\n",
       "      <th>9</th>\n",
       "      <td>8.124913</td>\n",
       "      <td>SV_Pct</td>\n",
       "    </tr>\n",
       "    <tr>\n",
       "      <th>10</th>\n",
       "      <td>10.917036</td>\n",
       "      <td>GAA</td>\n",
       "    </tr>\n",
       "    <tr>\n",
       "      <th>11</th>\n",
       "      <td>4.495314</td>\n",
       "      <td>SUT</td>\n",
       "    </tr>\n",
       "    <tr>\n",
       "      <th>12</th>\n",
       "      <td>100.267836</td>\n",
       "      <td>GPS</td>\n",
       "    </tr>\n",
       "    <tr>\n",
       "      <th>13</th>\n",
       "      <td>549.863218</td>\n",
       "      <td>MIN</td>\n",
       "    </tr>\n",
       "    <tr>\n",
       "      <th>14</th>\n",
       "      <td>50.892024</td>\n",
       "      <td>QS</td>\n",
       "    </tr>\n",
       "    <tr>\n",
       "      <th>15</th>\n",
       "      <td>6.600705</td>\n",
       "      <td>RBS</td>\n",
       "    </tr>\n",
       "    <tr>\n",
       "      <th>16</th>\n",
       "      <td>1.843860</td>\n",
       "      <td>LENGTH</td>\n",
       "    </tr>\n",
       "  </tbody>\n",
       "</table>\n",
       "</div>"
      ],
      "text/plain": [
       "           VIF  variable\n",
       "0     1.609062    Season\n",
       "1     1.277605       AGE\n",
       "2     1.571347       PTS\n",
       "3     1.293191   SOT_Pct\n",
       "4   354.063988        GS\n",
       "5   152.086160         W\n",
       "6    69.674001         L\n",
       "7     9.949535  TplusOTL\n",
       "8   356.085902        SV\n",
       "9     8.124913    SV_Pct\n",
       "10   10.917036       GAA\n",
       "11    4.495314       SUT\n",
       "12  100.267836       GPS\n",
       "13  549.863218       MIN\n",
       "14   50.892024        QS\n",
       "15    6.600705       RBS\n",
       "16    1.843860    LENGTH"
      ]
     },
     "execution_count": 172,
     "metadata": {},
     "output_type": "execute_result"
    }
   ],
   "source": [
    "#'SA','GA', 'SOT_Att', 'SOT_Scored','SOT_Saved', 'GP'\n",
    "\n",
    "vif = pd.DataFrame()\n",
    "\n",
    "vif['VIF'] = [variance_inflation_factor(g_removed3.values, i) for i in range(g_removed3.shape[1])]\n",
    "vif['variable'] = g_removed3.columns\n",
    "vif"
   ]
  },
  {
   "cell_type": "code",
   "execution_count": 173,
   "metadata": {
    "id": "vooaJ5vuS2j_"
   },
   "outputs": [
    {
     "data": {
      "text/html": [
       "<div>\n",
       "<style scoped>\n",
       "    .dataframe tbody tr th:only-of-type {\n",
       "        vertical-align: middle;\n",
       "    }\n",
       "\n",
       "    .dataframe tbody tr th {\n",
       "        vertical-align: top;\n",
       "    }\n",
       "\n",
       "    .dataframe thead th {\n",
       "        text-align: right;\n",
       "    }\n",
       "</style>\n",
       "<table border=\"1\" class=\"dataframe\">\n",
       "  <thead>\n",
       "    <tr style=\"text-align: right;\">\n",
       "      <th></th>\n",
       "      <th>VIF</th>\n",
       "      <th>variable</th>\n",
       "    </tr>\n",
       "  </thead>\n",
       "  <tbody>\n",
       "    <tr>\n",
       "      <th>0</th>\n",
       "      <td>1.620343</td>\n",
       "      <td>Season</td>\n",
       "    </tr>\n",
       "    <tr>\n",
       "      <th>1</th>\n",
       "      <td>1.278099</td>\n",
       "      <td>AGE</td>\n",
       "    </tr>\n",
       "    <tr>\n",
       "      <th>2</th>\n",
       "      <td>140.853249</td>\n",
       "      <td>GP</td>\n",
       "    </tr>\n",
       "    <tr>\n",
       "      <th>3</th>\n",
       "      <td>1.635094</td>\n",
       "      <td>PTS</td>\n",
       "    </tr>\n",
       "    <tr>\n",
       "      <th>4</th>\n",
       "      <td>1.294117</td>\n",
       "      <td>SOT_Pct</td>\n",
       "    </tr>\n",
       "    <tr>\n",
       "      <th>5</th>\n",
       "      <td>354.634734</td>\n",
       "      <td>GS</td>\n",
       "    </tr>\n",
       "    <tr>\n",
       "      <th>6</th>\n",
       "      <td>152.102563</td>\n",
       "      <td>W</td>\n",
       "    </tr>\n",
       "    <tr>\n",
       "      <th>7</th>\n",
       "      <td>69.684226</td>\n",
       "      <td>L</td>\n",
       "    </tr>\n",
       "    <tr>\n",
       "      <th>8</th>\n",
       "      <td>9.957611</td>\n",
       "      <td>TplusOTL</td>\n",
       "    </tr>\n",
       "    <tr>\n",
       "      <th>9</th>\n",
       "      <td>358.864919</td>\n",
       "      <td>SV</td>\n",
       "    </tr>\n",
       "    <tr>\n",
       "      <th>10</th>\n",
       "      <td>8.455854</td>\n",
       "      <td>SV_Pct</td>\n",
       "    </tr>\n",
       "    <tr>\n",
       "      <th>11</th>\n",
       "      <td>11.019549</td>\n",
       "      <td>GAA</td>\n",
       "    </tr>\n",
       "    <tr>\n",
       "      <th>12</th>\n",
       "      <td>4.513766</td>\n",
       "      <td>SUT</td>\n",
       "    </tr>\n",
       "    <tr>\n",
       "      <th>13</th>\n",
       "      <td>103.789054</td>\n",
       "      <td>GPS</td>\n",
       "    </tr>\n",
       "    <tr>\n",
       "      <th>14</th>\n",
       "      <td>665.667069</td>\n",
       "      <td>MIN</td>\n",
       "    </tr>\n",
       "    <tr>\n",
       "      <th>15</th>\n",
       "      <td>50.898000</td>\n",
       "      <td>QS</td>\n",
       "    </tr>\n",
       "    <tr>\n",
       "      <th>16</th>\n",
       "      <td>6.628039</td>\n",
       "      <td>RBS</td>\n",
       "    </tr>\n",
       "    <tr>\n",
       "      <th>17</th>\n",
       "      <td>1.877203</td>\n",
       "      <td>LENGTH</td>\n",
       "    </tr>\n",
       "  </tbody>\n",
       "</table>\n",
       "</div>"
      ],
      "text/plain": [
       "           VIF  variable\n",
       "0     1.620343    Season\n",
       "1     1.278099       AGE\n",
       "2   140.853249        GP\n",
       "3     1.635094       PTS\n",
       "4     1.294117   SOT_Pct\n",
       "5   354.634734        GS\n",
       "6   152.102563         W\n",
       "7    69.684226         L\n",
       "8     9.957611  TplusOTL\n",
       "9   358.864919        SV\n",
       "10    8.455854    SV_Pct\n",
       "11   11.019549       GAA\n",
       "12    4.513766       SUT\n",
       "13  103.789054       GPS\n",
       "14  665.667069       MIN\n",
       "15   50.898000        QS\n",
       "16    6.628039       RBS\n",
       "17    1.877203    LENGTH"
      ]
     },
     "execution_count": 173,
     "metadata": {},
     "output_type": "execute_result"
    }
   ],
   "source": [
    "#'SA','GA', 'SOT_Att', 'SOT_Scored','SOT_Saved'\n",
    "\n",
    "vif = pd.DataFrame()\n",
    "\n",
    "vif['VIF'] = [variance_inflation_factor(g_removed1.values, i) for i in range(g_removed1.shape[1])]\n",
    "vif['variable'] = g_removed1.columns\n",
    "vif"
   ]
  },
  {
   "cell_type": "code",
   "execution_count": 174,
   "metadata": {
    "id": "0UyH2s8WSJtI"
   },
   "outputs": [
    {
     "name": "stderr",
     "output_type": "stream",
     "text": [
      "C:\\Users\\essmar\\AppData\\Local\\Programs\\Python\\Python39\\lib\\site-packages\\statsmodels\\stats\\outliers_influence.py:195: RuntimeWarning: divide by zero encountered in double_scalars\n",
      "  vif = 1. / (1. - r_squared_i)\n"
     ]
    },
    {
     "data": {
      "text/html": [
       "<div>\n",
       "<style scoped>\n",
       "    .dataframe tbody tr th:only-of-type {\n",
       "        vertical-align: middle;\n",
       "    }\n",
       "\n",
       "    .dataframe tbody tr th {\n",
       "        vertical-align: top;\n",
       "    }\n",
       "\n",
       "    .dataframe thead th {\n",
       "        text-align: right;\n",
       "    }\n",
       "</style>\n",
       "<table border=\"1\" class=\"dataframe\">\n",
       "  <thead>\n",
       "    <tr style=\"text-align: right;\">\n",
       "      <th></th>\n",
       "      <th>VIF</th>\n",
       "      <th>variable</th>\n",
       "    </tr>\n",
       "  </thead>\n",
       "  <tbody>\n",
       "    <tr>\n",
       "      <th>0</th>\n",
       "      <td>3.115517e+00</td>\n",
       "      <td>Season</td>\n",
       "    </tr>\n",
       "    <tr>\n",
       "      <th>1</th>\n",
       "      <td>1.260777e+00</td>\n",
       "      <td>AGE</td>\n",
       "    </tr>\n",
       "    <tr>\n",
       "      <th>2</th>\n",
       "      <td>1.963430e+02</td>\n",
       "      <td>GP</td>\n",
       "    </tr>\n",
       "    <tr>\n",
       "      <th>3</th>\n",
       "      <td>1.522971e+00</td>\n",
       "      <td>PTS</td>\n",
       "    </tr>\n",
       "    <tr>\n",
       "      <th>4</th>\n",
       "      <td>inf</td>\n",
       "      <td>SOT_Att</td>\n",
       "    </tr>\n",
       "    <tr>\n",
       "      <th>5</th>\n",
       "      <td>inf</td>\n",
       "      <td>SOT_Scored</td>\n",
       "    </tr>\n",
       "    <tr>\n",
       "      <th>6</th>\n",
       "      <td>inf</td>\n",
       "      <td>SOT_Saved</td>\n",
       "    </tr>\n",
       "    <tr>\n",
       "      <th>7</th>\n",
       "      <td>1.840571e+00</td>\n",
       "      <td>SOT_Pct</td>\n",
       "    </tr>\n",
       "    <tr>\n",
       "      <th>8</th>\n",
       "      <td>3.513759e+02</td>\n",
       "      <td>GS</td>\n",
       "    </tr>\n",
       "    <tr>\n",
       "      <th>9</th>\n",
       "      <td>1.531050e+02</td>\n",
       "      <td>W</td>\n",
       "    </tr>\n",
       "    <tr>\n",
       "      <th>10</th>\n",
       "      <td>6.943284e+01</td>\n",
       "      <td>L</td>\n",
       "    </tr>\n",
       "    <tr>\n",
       "      <th>11</th>\n",
       "      <td>1.101267e+01</td>\n",
       "      <td>TplusOTL</td>\n",
       "    </tr>\n",
       "    <tr>\n",
       "      <th>12</th>\n",
       "      <td>9.835910e+02</td>\n",
       "      <td>GA</td>\n",
       "    </tr>\n",
       "    <tr>\n",
       "      <th>13</th>\n",
       "      <td>4.074680e+04</td>\n",
       "      <td>SA</td>\n",
       "    </tr>\n",
       "    <tr>\n",
       "      <th>14</th>\n",
       "      <td>3.638138e+04</td>\n",
       "      <td>SV</td>\n",
       "    </tr>\n",
       "    <tr>\n",
       "      <th>15</th>\n",
       "      <td>8.760877e+00</td>\n",
       "      <td>SV_Pct</td>\n",
       "    </tr>\n",
       "    <tr>\n",
       "      <th>16</th>\n",
       "      <td>1.150990e+01</td>\n",
       "      <td>GAA</td>\n",
       "    </tr>\n",
       "    <tr>\n",
       "      <th>17</th>\n",
       "      <td>4.316904e+00</td>\n",
       "      <td>SUT</td>\n",
       "    </tr>\n",
       "    <tr>\n",
       "      <th>18</th>\n",
       "      <td>4.909746e+02</td>\n",
       "      <td>GPS</td>\n",
       "    </tr>\n",
       "    <tr>\n",
       "      <th>19</th>\n",
       "      <td>7.674660e+02</td>\n",
       "      <td>MIN</td>\n",
       "    </tr>\n",
       "    <tr>\n",
       "      <th>20</th>\n",
       "      <td>5.097759e+01</td>\n",
       "      <td>QS</td>\n",
       "    </tr>\n",
       "    <tr>\n",
       "      <th>21</th>\n",
       "      <td>7.231457e+00</td>\n",
       "      <td>RBS</td>\n",
       "    </tr>\n",
       "    <tr>\n",
       "      <th>22</th>\n",
       "      <td>1.808484e+00</td>\n",
       "      <td>LENGTH</td>\n",
       "    </tr>\n",
       "  </tbody>\n",
       "</table>\n",
       "</div>"
      ],
      "text/plain": [
       "             VIF    variable\n",
       "0   3.115517e+00      Season\n",
       "1   1.260777e+00         AGE\n",
       "2   1.963430e+02          GP\n",
       "3   1.522971e+00         PTS\n",
       "4            inf     SOT_Att\n",
       "5            inf  SOT_Scored\n",
       "6            inf   SOT_Saved\n",
       "7   1.840571e+00     SOT_Pct\n",
       "8   3.513759e+02          GS\n",
       "9   1.531050e+02           W\n",
       "10  6.943284e+01           L\n",
       "11  1.101267e+01    TplusOTL\n",
       "12  9.835910e+02          GA\n",
       "13  4.074680e+04          SA\n",
       "14  3.638138e+04          SV\n",
       "15  8.760877e+00      SV_Pct\n",
       "16  1.150990e+01         GAA\n",
       "17  4.316904e+00         SUT\n",
       "18  4.909746e+02         GPS\n",
       "19  7.674660e+02         MIN\n",
       "20  5.097759e+01          QS\n",
       "21  7.231457e+00         RBS\n",
       "22  1.808484e+00      LENGTH"
      ]
     },
     "execution_count": 174,
     "metadata": {},
     "output_type": "execute_result"
    }
   ],
   "source": [
    "vif = pd.DataFrame()\n",
    "\n",
    "vif['VIF'] = [variance_inflation_factor(X_scaled_df.values, i) for i in range(X_scaled_df.shape[1])]\n",
    "vif['variable'] = X_scaled_df.columns\n",
    "vif"
   ]
  }
 ],
 "metadata": {
  "colab": {
   "collapsed_sections": [],
   "name": "Preprocessing",
   "provenance": []
  },
  "kernelspec": {
   "display_name": "Python 3 (ipykernel)",
   "language": "python",
   "name": "python3"
  },
  "language_info": {
   "codemirror_mode": {
    "name": "ipython",
    "version": 3
   },
   "file_extension": ".py",
   "mimetype": "text/x-python",
   "name": "python",
   "nbconvert_exporter": "python",
   "pygments_lexer": "ipython3",
   "version": "3.9.7"
  }
 },
 "nbformat": 4,
 "nbformat_minor": 1
}
