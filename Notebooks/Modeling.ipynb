{
 "cells": [
  {
   "cell_type": "code",
   "execution_count": 45,
   "id": "98c84a94",
   "metadata": {},
   "outputs": [],
   "source": [
    "import pandas as pd\n",
    "import numpy as np\n",
    "import os\n",
    "import pickle\n",
    "import matplotlib.pyplot as plt\n",
    "import seaborn as sns\n",
    "from sklearn import __version__ as sklearn_version\n",
    "from sklearn.model_selection import cross_validate, train_test_split, cross_val_score\n",
    "import joblib\n",
    "from sklearn.metrics import r2_score, mean_absolute_error, mean_squared_error\n",
    "import statsmodels.api as sm\n",
    "from statsmodels.formula.api import ols\n",
    "\n",
    "pd.set_option('display.max_columns', None) \n"
   ]
  },
  {
   "cell_type": "markdown",
   "id": "67952a22",
   "metadata": {},
   "source": [
    "# Load in Models"
   ]
  },
  {
   "cell_type": "code",
   "execution_count": 15,
   "id": "eb795a25",
   "metadata": {},
   "outputs": [],
   "source": [
    "#this skater model does not have contract length in it\n",
    "skater_model = joblib.load('../Models/skater_model.pkl')\n",
    "\n",
    "goalie_model = joblib.load('../Models/goalie_model2.pkl')"
   ]
  },
  {
   "cell_type": "markdown",
   "id": "71f97e36",
   "metadata": {},
   "source": [
    "# Load in Data"
   ]
  },
  {
   "cell_type": "code",
   "execution_count": 7,
   "id": "7f7c1d64",
   "metadata": {},
   "outputs": [],
   "source": [
    "skaters= pd.read_csv('../Data/skaters_final.csv')\n",
    "\n",
    "goalies= pd.read_csv('../Data/goalies_final.csv')\n",
    "goalies= goalies.drop(columns='Unnamed: 0')"
   ]
  },
  {
   "cell_type": "code",
   "execution_count": 8,
   "id": "af838db9",
   "metadata": {},
   "outputs": [],
   "source": [
    "all_stats= pd.read_csv('../Data/stats_only.csv')\n",
    "all_stats= all_stats.drop(columns='Unnamed: 0')"
   ]
  },
  {
   "cell_type": "markdown",
   "id": "5d762184",
   "metadata": {},
   "source": [
    "# Run on Test Set, Compare ypred with ytrue"
   ]
  },
  {
   "cell_type": "markdown",
   "id": "a84a78c4",
   "metadata": {},
   "source": [
    "## Skaters"
   ]
  },
  {
   "cell_type": "code",
   "execution_count": 48,
   "id": "f2df362d",
   "metadata": {},
   "outputs": [],
   "source": [
    "s_df= skaters[['CF', 'PTS', 'HIT', 'TK', 'oiSV_Pct', 'ATOI', 'AGE', 'Season', 'PPG','PS','AAV']]\n",
    "\n",
    "X= s_df.iloc[:,0:-1]\n",
    "y= s_df.iloc[:, -1]\n",
    "\n",
    "X_train, X_test, y_train, y_test= train_test_split(X,y, test_size=0.2, random_state=12)"
   ]
  },
  {
   "cell_type": "code",
   "execution_count": 49,
   "id": "e7649a7d",
   "metadata": {},
   "outputs": [],
   "source": [
    "y_pred= skater_model.predict(X_test)"
   ]
  },
  {
   "cell_type": "code",
   "execution_count": 50,
   "id": "52001d58",
   "metadata": {},
   "outputs": [
    {
     "data": {
      "text/plain": [
       "0.7640096595743601"
      ]
     },
     "execution_count": 50,
     "metadata": {},
     "output_type": "execute_result"
    }
   ],
   "source": [
    "r2_score(y_test, y_pred)"
   ]
  },
  {
   "cell_type": "code",
   "execution_count": 51,
   "id": "1e228af4",
   "metadata": {},
   "outputs": [
    {
     "data": {
      "text/plain": [
       "609488.1269737317"
      ]
     },
     "execution_count": 51,
     "metadata": {},
     "output_type": "execute_result"
    }
   ],
   "source": [
    "mean_absolute_error(y_test, y_pred)"
   ]
  },
  {
   "cell_type": "code",
   "execution_count": 52,
   "id": "c908aa92",
   "metadata": {},
   "outputs": [
    {
     "name": "stdout",
     "output_type": "stream",
     "text": [
      "                            OLS Regression Results                            \n",
      "==============================================================================\n",
      "Dep. Variable:                    AAV   R-squared:                       0.713\n",
      "Model:                            OLS   Adj. R-squared:                  0.712\n",
      "Method:                 Least Squares   F-statistic:                     666.6\n",
      "Date:                Wed, 20 Oct 2021   Prob (F-statistic):               0.00\n",
      "Time:                        15:03:49   Log-Likelihood:                -41166.\n",
      "No. Observations:                2697   AIC:                         8.235e+04\n",
      "Df Residuals:                    2686   BIC:                         8.242e+04\n",
      "Df Model:                          10                                         \n",
      "Covariance Type:            nonrobust                                         \n",
      "==============================================================================\n",
      "                 coef    std err          t      P>|t|      [0.025      0.975]\n",
      "------------------------------------------------------------------------------\n",
      "Intercept  -1.552e+08    1.2e+07    -12.981      0.000   -1.79e+08   -1.32e+08\n",
      "CF          -658.7071    188.574     -3.493      0.000   -1028.473    -288.942\n",
      "PTS         2348.4303   5493.392      0.428      0.669   -8423.274    1.31e+04\n",
      "HIT         3805.9511    485.381      7.841      0.000    2854.192    4757.710\n",
      "TK          1.937e+04   2666.520      7.264      0.000    1.41e+04    2.46e+04\n",
      "oiSV_Pct   -3022.9421   8508.227     -0.355      0.722   -1.97e+04    1.37e+04\n",
      "ATOI         8.09e+04   1.04e+04      7.787      0.000    6.05e+04    1.01e+05\n",
      "AGE        -6.125e+04   4999.158    -12.252      0.000   -7.11e+04   -5.14e+04\n",
      "Season      7.746e+04   5914.641     13.096      0.000    6.59e+04    8.91e+04\n",
      "PPG          1.41e+06    3.1e+05      4.544      0.000    8.01e+05    2.02e+06\n",
      "PS          5.103e+05   2.84e+04     17.948      0.000    4.55e+05    5.66e+05\n",
      "==============================================================================\n",
      "Omnibus:                      123.704   Durbin-Watson:                   1.747\n",
      "Prob(Omnibus):                  0.000   Jarque-Bera (JB):              231.662\n",
      "Skew:                           0.343   Prob(JB):                     4.96e-51\n",
      "Kurtosis:                       4.262   Cond. No.                     1.28e+06\n",
      "==============================================================================\n",
      "\n",
      "Notes:\n",
      "[1] Standard Errors assume that the covariance matrix of the errors is correctly specified.\n",
      "[2] The condition number is large, 1.28e+06. This might indicate that there are\n",
      "strong multicollinearity or other numerical problems.\n"
     ]
    }
   ],
   "source": [
    "s= ols('AAV ~ CF + PTS + HIT + TK + oiSV_Pct + ATOI + AGE + Season + PPG + PS', s_df).fit()\n",
    "print(s.summary())"
   ]
  },
  {
   "cell_type": "code",
   "execution_count": 61,
   "id": "44150fca",
   "metadata": {},
   "outputs": [
    {
     "data": {
      "image/png": "[encoded data removed]",
      "text/plain": [
       "<Figure size 432x288 with 1 Axes>"
      ]
     },
     "metadata": {
      "needs_background": "light"
     },
     "output_type": "display_data"
    }
   ],
   "source": [
    "yticks=[0, 1000000,2000000,3000000,4000000,5000000,6000000,7000000,8000000,9000000,10000000,11000000,12000000]\n",
    "xticks=[0, 1000000,2000000,3000000,4000000,5000000,6000000,7000000,8000000,9000000,10000000]\n",
    "ytlabels=['0', '$1,000,000','$2,000,000','$3,000,000','$4,000,000','$5,000,000','$6,000,000','$7,000,000','$8,000,000','$9,000,000','$10,000,000','$11,000,000','$12,000,000']\n",
    "xtlabels=['0', '$1,000,000','$2,000,000','$3,000,000','$4,000,000','$5,000,000','$6,000,000','$7,000,000','$8,000,000','$9,000,000','$10,000,000']\n",
    "\n",
    "plt.scatter(x=s.fittedvalues, y=s_df['AAV'], s=3)\n",
    "plt.xticks(ticks= xticks, labels=xtlabels, rotation=290)\n",
    "plt.xlabel(\"Predicted Salaries\")\n",
    "plt.yticks(ticks= yticks, labels=ytlabels, rotation=0)\n",
    "plt.ylabel(\"Actual Salaries\")\n",
    "plt.title('Predicted vs Actual Salaries')\n",
    "\n",
    "\n",
    "plt.show()"
   ]
  },
  {
   "cell_type": "code",
   "execution_count": null,
   "id": "4d292020",
   "metadata": {},
   "outputs": [],
   "source": []
  },
  {
   "cell_type": "code",
   "execution_count": null,
   "id": "5ea7b730",
   "metadata": {},
   "outputs": [],
   "source": []
  },
  {
   "cell_type": "code",
   "execution_count": null,
   "id": "6113f42b",
   "metadata": {},
   "outputs": [],
   "source": []
  },
  {
   "cell_type": "code",
   "execution_count": null,
   "id": "eb7c4a6a",
   "metadata": {},
   "outputs": [],
   "source": []
  },
  {
   "cell_type": "code",
   "execution_count": null,
   "id": "b7c4e0d7",
   "metadata": {},
   "outputs": [],
   "source": []
  },
  {
   "cell_type": "code",
   "execution_count": null,
   "id": "37d7c79b",
   "metadata": {},
   "outputs": [],
   "source": []
  },
  {
   "cell_type": "code",
   "execution_count": null,
   "id": "033df88a",
   "metadata": {},
   "outputs": [],
   "source": []
  },
  {
   "cell_type": "code",
   "execution_count": null,
   "id": "61a8734d",
   "metadata": {},
   "outputs": [],
   "source": []
  },
  {
   "cell_type": "markdown",
   "id": "84d632f4",
   "metadata": {},
   "source": [
    "## Goalies"
   ]
  },
  {
   "cell_type": "code",
   "execution_count": 37,
   "id": "a7df97cf",
   "metadata": {},
   "outputs": [],
   "source": [
    "g_df= goalies[['GP','Season','W','GPS','GAA','SV_Pct','SOT_Pct','AGE','AAV']]\n",
    "\n",
    "X= g_df.iloc[:,1:-1]\n",
    "y= g_df.iloc[:, -1]\n",
    "\n",
    "X_train, X_test, y_train, y_test= train_test_split(X,y, test_size=0.2, random_state=12)"
   ]
  },
  {
   "cell_type": "code",
   "execution_count": 38,
   "id": "b2c106ee",
   "metadata": {},
   "outputs": [],
   "source": [
    "y_pred= goalie_model.predict(X_test)"
   ]
  },
  {
   "cell_type": "code",
   "execution_count": 39,
   "id": "c5e4c729",
   "metadata": {},
   "outputs": [
    {
     "data": {
      "text/plain": [
       "0.30672359086838674"
      ]
     },
     "execution_count": 39,
     "metadata": {},
     "output_type": "execute_result"
    }
   ],
   "source": [
    "r2_score(y_test, y_pred)"
   ]
  },
  {
   "cell_type": "code",
   "execution_count": 40,
   "id": "c9312c8e",
   "metadata": {},
   "outputs": [
    {
     "data": {
      "text/plain": [
       "937110.7028620742"
      ]
     },
     "execution_count": 40,
     "metadata": {},
     "output_type": "execute_result"
    }
   ],
   "source": [
    "mean_absolute_error(y_test, y_pred)"
   ]
  },
  {
   "cell_type": "code",
   "execution_count": null,
   "id": "2b996a77",
   "metadata": {},
   "outputs": [],
   "source": []
  },
  {
   "cell_type": "code",
   "execution_count": null,
   "id": "da7341a2",
   "metadata": {},
   "outputs": [],
   "source": []
  }
 ],
 "metadata": {
  "kernelspec": {
   "display_name": "Python 3 (ipykernel)",
   "language": "python",
   "name": "python3"
  },
  "language_info": {
   "codemirror_mode": {
    "name": "ipython",
    "version": 3
   },
   "file_extension": ".py",
   "mimetype": "text/x-python",
   "name": "python",
   "nbconvert_exporter": "python",
   "pygments_lexer": "ipython3",
   "version": "3.9.7"
  }
 },
 "nbformat": 4,
 "nbformat_minor": 5
}
