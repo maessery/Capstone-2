{
 "cells": [
  {
   "cell_type": "code",
   "execution_count": 1,
   "id": "98c84a94",
   "metadata": {},
   "outputs": [],
   "source": [
    "import pandas as pd\n",
    "import numpy as np\n",
    "import os\n",
    "import pickle\n",
    "import matplotlib.pyplot as plt\n",
    "import seaborn as sns\n",
    "from sklearn import __version__ as sklearn_version\n",
    "from sklearn.model_selection import cross_validate, train_test_split, cross_val_score\n",
    "import joblib\n",
    "from sklearn.metrics import r2_score, mean_absolute_error, mean_squared_error, mean_absolute_percentage_error\n",
    "import statsmodels.api as sm\n",
    "from statsmodels.formula.api import ols, quantreg, wls\n",
    "\n",
    "pd.set_option('display.max_columns', None) \n"
   ]
  },
  {
   "cell_type": "code",
   "execution_count": 2,
   "id": "0ff7f62c",
   "metadata": {},
   "outputs": [],
   "source": [
    "# each team has $81.5 million in cap space for this season\n",
    "# with 23 players allowed on the active roster, possible avg of about $3.5 million per player"
   ]
  },
  {
   "cell_type": "code",
   "execution_count": 3,
   "id": "c1c5a3ec",
   "metadata": {},
   "outputs": [],
   "source": [
    "# in final report, include:\n",
    "# shoootout stuff and associated pay\n",
    "# oiSV% for D\n",
    "# "
   ]
  },
  {
   "cell_type": "code",
   "execution_count": 4,
   "id": "a4d0ddbd",
   "metadata": {},
   "outputs": [],
   "source": [
    "# 'Need to feature select because a lot of colinearity between variables'\n",
    "# ---- having redundant features in our regression models will lead to poorly fitting and unstable models"
   ]
  },
  {
   "cell_type": "markdown",
   "id": "67952a22",
   "metadata": {},
   "source": [
    "# Load in Models"
   ]
  },
  {
   "cell_type": "code",
   "execution_count": 3,
   "id": "eb795a25",
   "metadata": {},
   "outputs": [
    {
     "name": "stderr",
     "output_type": "stream",
     "text": [
      "C:\\Users\\essmar\\AppData\\Local\\Programs\\Python\\Python39\\lib\\site-packages\\sklearn\\base.py:324: UserWarning: Trying to unpickle estimator ExtraTreeRegressor from version 0.24.2 when using version 1.0. This might lead to breaking code or invalid results. Use at your own risk. For more info please refer to:\n",
      "https://scikit-learn.org/stable/modules/model_persistence.html#security-maintainability-limitations\n",
      "  warnings.warn(\n",
      "C:\\Users\\essmar\\AppData\\Local\\Programs\\Python\\Python39\\lib\\site-packages\\sklearn\\base.py:324: UserWarning: Trying to unpickle estimator ExtraTreesRegressor from version 0.24.2 when using version 1.0. This might lead to breaking code or invalid results. Use at your own risk. For more info please refer to:\n",
      "https://scikit-learn.org/stable/modules/model_persistence.html#security-maintainability-limitations\n",
      "  warnings.warn(\n",
      "C:\\Users\\essmar\\AppData\\Local\\Programs\\Python\\Python39\\lib\\site-packages\\sklearn\\base.py:324: UserWarning: Trying to unpickle estimator Pipeline from version 0.24.2 when using version 1.0. This might lead to breaking code or invalid results. Use at your own risk. For more info please refer to:\n",
      "https://scikit-learn.org/stable/modules/model_persistence.html#security-maintainability-limitations\n",
      "  warnings.warn(\n"
     ]
    }
   ],
   "source": [
    "#this skater model does not have contract length in it\n",
    "skater_model = joblib.load('../Models/skater_model.pkl')\n",
    "skater2= joblib.load('../Models/skater_model2.pkl')\n",
    "\n",
    "goalie_model = joblib.load('../Models/goalie_model2.pkl')"
   ]
  },
  {
   "cell_type": "markdown",
   "id": "71f97e36",
   "metadata": {},
   "source": [
    "# Load in Data"
   ]
  },
  {
   "cell_type": "code",
   "execution_count": 4,
   "id": "7f7c1d64",
   "metadata": {},
   "outputs": [],
   "source": [
    "skaters= pd.read_csv('../Data/skaters_final.csv')\n",
    "\n",
    "goalies= pd.read_csv('../Data/goalies_final.csv')\n",
    "goalies= goalies.drop(columns='Unnamed: 0')"
   ]
  },
  {
   "cell_type": "code",
   "execution_count": 5,
   "id": "af838db9",
   "metadata": {},
   "outputs": [],
   "source": [
    "all_stats= pd.read_csv('../Data/stats_only.csv')\n",
    "all_stats= all_stats.drop(columns='Unnamed: 0')"
   ]
  },
  {
   "cell_type": "markdown",
   "id": "5d762184",
   "metadata": {},
   "source": [
    "# Run on Test Set, Compare ypred with ytrue"
   ]
  },
  {
   "cell_type": "markdown",
   "id": "a84a78c4",
   "metadata": {},
   "source": [
    "## Skaters"
   ]
  },
  {
   "cell_type": "code",
   "execution_count": 64,
   "id": "f2df362d",
   "metadata": {},
   "outputs": [],
   "source": [
    "s_df= skaters[['CF', 'PTS', 'HIT', 'TK', 'oiSV_Pct', 'ATOI', 'AGE', 'Season', 'PPG','PS','AAV']]\n",
    "\n",
    "X= s_df.iloc[:,0:-1]\n",
    "y= s_df.iloc[:, -1]\n",
    "\n",
    "X_train, X_test, y_train, y_test= train_test_split(X,y, test_size=0.2, random_state=12)"
   ]
  },
  {
   "cell_type": "code",
   "execution_count": 65,
   "id": "5d658727",
   "metadata": {},
   "outputs": [
    {
     "data": {
      "text/plain": [
       "2292056.094920282"
      ]
     },
     "execution_count": 65,
     "metadata": {},
     "output_type": "execute_result"
    }
   ],
   "source": [
    "np.mean(y)"
   ]
  },
  {
   "cell_type": "code",
   "execution_count": 69,
   "id": "e7649a7d",
   "metadata": {},
   "outputs": [],
   "source": [
    "y_pred= skater_model.predict(X_test)"
   ]
  },
  {
   "cell_type": "code",
   "execution_count": 71,
   "id": "c3fdcade",
   "metadata": {},
   "outputs": [
    {
     "data": {
      "text/plain": [
       "2323736.2284837323"
      ]
     },
     "execution_count": 71,
     "metadata": {},
     "output_type": "execute_result"
    }
   ],
   "source": [
    "np.mean(y_pred)"
   ]
  },
  {
   "cell_type": "code",
   "execution_count": 72,
   "id": "15486e50",
   "metadata": {},
   "outputs": [
    {
     "data": {
      "text/plain": [
       "550000.0"
      ]
     },
     "execution_count": 72,
     "metadata": {},
     "output_type": "execute_result"
    }
   ],
   "source": [
    "np.min(y_pred)"
   ]
  },
  {
   "cell_type": "code",
   "execution_count": 73,
   "id": "52001d58",
   "metadata": {},
   "outputs": [
    {
     "data": {
      "text/plain": [
       "0.7640197827353615"
      ]
     },
     "execution_count": 73,
     "metadata": {},
     "output_type": "execute_result"
    }
   ],
   "source": [
    "r2_score(y_test, y_pred)"
   ]
  },
  {
   "cell_type": "code",
   "execution_count": 74,
   "id": "1e228af4",
   "metadata": {},
   "outputs": [
    {
     "data": {
      "text/plain": [
       "606803.8914403984"
      ]
     },
     "execution_count": 74,
     "metadata": {},
     "output_type": "execute_result"
    }
   ],
   "source": [
    "mean_absolute_error(y_test, y_pred)"
   ]
  },
  {
   "cell_type": "code",
   "execution_count": 75,
   "id": "ce5f38fd",
   "metadata": {},
   "outputs": [
    {
     "data": {
      "text/plain": [
       "0.39807736865072957"
      ]
     },
     "execution_count": 75,
     "metadata": {},
     "output_type": "execute_result"
    }
   ],
   "source": [
    "mean_absolute_percentage_error(y_test, y_pred)"
   ]
  },
  {
   "cell_type": "code",
   "execution_count": null,
   "id": "03638f27",
   "metadata": {},
   "outputs": [],
   "source": [
    "##########################################################################################"
   ]
  },
  {
   "cell_type": "code",
   "execution_count": 6,
   "id": "b43a9aeb",
   "metadata": {},
   "outputs": [],
   "source": [
    "X= skaters.iloc[:,1:-2]\n",
    "y= skaters.iloc[:, -1]\n",
    "\n",
    "X_train, X_test, y_train, y_test= train_test_split(X,y, test_size=0.2, random_state=12)"
   ]
  },
  {
   "cell_type": "code",
   "execution_count": 7,
   "id": "437f42bb",
   "metadata": {},
   "outputs": [],
   "source": [
    "y_pred= skater2.predict(X_test)"
   ]
  },
  {
   "cell_type": "code",
   "execution_count": 8,
   "id": "64a72315",
   "metadata": {},
   "outputs": [
    {
     "data": {
      "text/plain": [
       "0.7877405994184042"
      ]
     },
     "execution_count": 8,
     "metadata": {},
     "output_type": "execute_result"
    }
   ],
   "source": [
    "r2_score(y_test, y_pred)"
   ]
  },
  {
   "cell_type": "code",
   "execution_count": 9,
   "id": "077ada73",
   "metadata": {},
   "outputs": [
    {
     "data": {
      "text/plain": [
       "578202.9857509249"
      ]
     },
     "execution_count": 9,
     "metadata": {},
     "output_type": "execute_result"
    }
   ],
   "source": [
    "mean_absolute_error(y_test, y_pred)"
   ]
  },
  {
   "cell_type": "code",
   "execution_count": 10,
   "id": "c5998cf3",
   "metadata": {},
   "outputs": [
    {
     "data": {
      "text/plain": [
       "0.3793630098514984"
      ]
     },
     "execution_count": 10,
     "metadata": {},
     "output_type": "execute_result"
    }
   ],
   "source": [
    "mean_absolute_percentage_error(y_test, y_pred)"
   ]
  },
  {
   "cell_type": "code",
   "execution_count": 11,
   "id": "a0200f00",
   "metadata": {},
   "outputs": [
    {
     "name": "stderr",
     "output_type": "stream",
     "text": [
      "C:\\Users\\essmar\\AppData\\Local\\Programs\\Python\\Python39\\lib\\site-packages\\seaborn\\_decorators.py:36: FutureWarning: Pass the following variables as keyword args: x, y. From version 0.12, the only valid positional argument will be `data`, and passing other arguments without an explicit keyword will result in an error or misinterpretation.\n",
      "  warnings.warn(\n"
     ]
    },
    {
     "data": {
      "image/png": "[encoded data removed]",
      "text/plain": [
       "<Figure size 432x288 with 1 Axes>"
      ]
     },
     "metadata": {
      "needs_background": "light"
     },
     "output_type": "display_data"
    }
   ],
   "source": [
    "xticks=[0, 1000000,2000000,3000000,4000000,5000000,6000000,7000000,8000000,9000000,10000000,11000000,12000000,13000000]\n",
    "yticks=[0, 1000000,2000000,3000000,4000000,5000000,6000000,7000000,8000000,9000000,10000000]\n",
    "xtlabels=['0', '$1,000,000','$2,000,000','$3,000,000','$4,000,000','$5,000,000','$6,000,000','$7,000,000','$8,000,000','$9,000,000','$10,000,000','$11,000,000','$12,000,000','$13,000,000']\n",
    "ytlabels=['0', '$1,000,000','$2,000,000','$3,000,000','$4,000,000','$5,000,000','$6,000,000','$7,000,000','$8,000,000','$9,000,000','$10,000,000']\n",
    "\n",
    "sns.regplot(y_test, y_pred,scatter_kws={'s':2})\n",
    "plt.xlabel('Actual Salaries')\n",
    "plt.ylabel('Predicted Salaries')\n",
    "plt.xticks(ticks= xticks, labels=xtlabels, rotation=290)\n",
    "plt.yticks(ticks= yticks, labels=ytlabels, rotation=0)\n",
    "plt.title('Predicted vs Actual Salaries -- model')\n",
    "plt.show()"
   ]
  },
  {
   "cell_type": "code",
   "execution_count": null,
   "id": "1ce49edd",
   "metadata": {},
   "outputs": [],
   "source": []
  },
  {
   "cell_type": "code",
   "execution_count": null,
   "id": "2e38f0c8",
   "metadata": {},
   "outputs": [],
   "source": []
  },
  {
   "cell_type": "code",
   "execution_count": 77,
   "id": "c908aa92",
   "metadata": {},
   "outputs": [
    {
     "name": "stdout",
     "output_type": "stream",
     "text": [
      "                            OLS Regression Results                            \n",
      "==============================================================================\n",
      "Dep. Variable:                    AAV   R-squared:                       0.713\n",
      "Model:                            OLS   Adj. R-squared:                  0.712\n",
      "Method:                 Least Squares   F-statistic:                     666.6\n",
      "Date:                Mon, 25 Oct 2021   Prob (F-statistic):               0.00\n",
      "Time:                        17:43:34   Log-Likelihood:                -41166.\n",
      "No. Observations:                2697   AIC:                         8.235e+04\n",
      "Df Residuals:                    2686   BIC:                         8.242e+04\n",
      "Df Model:                          10                                         \n",
      "Covariance Type:            nonrobust                                         \n",
      "==============================================================================\n",
      "                 coef    std err          t      P>|t|      [0.025      0.975]\n",
      "------------------------------------------------------------------------------\n",
      "Intercept  -1.552e+08    1.2e+07    -12.981      0.000   -1.79e+08   -1.32e+08\n",
      "CF          -658.7071    188.574     -3.493      0.000   -1028.473    -288.942\n",
      "PTS         2348.4303   5493.392      0.428      0.669   -8423.274    1.31e+04\n",
      "HIT         3805.9511    485.381      7.841      0.000    2854.192    4757.710\n",
      "TK          1.937e+04   2666.520      7.264      0.000    1.41e+04    2.46e+04\n",
      "oiSV_Pct   -3022.9421   8508.227     -0.355      0.722   -1.97e+04    1.37e+04\n",
      "ATOI         8.09e+04   1.04e+04      7.787      0.000    6.05e+04    1.01e+05\n",
      "AGE        -6.125e+04   4999.158    -12.252      0.000   -7.11e+04   -5.14e+04\n",
      "Season      7.746e+04   5914.641     13.096      0.000    6.59e+04    8.91e+04\n",
      "PPG          1.41e+06    3.1e+05      4.544      0.000    8.01e+05    2.02e+06\n",
      "PS          5.103e+05   2.84e+04     17.948      0.000    4.55e+05    5.66e+05\n",
      "==============================================================================\n",
      "Omnibus:                      123.704   Durbin-Watson:                   1.747\n",
      "Prob(Omnibus):                  0.000   Jarque-Bera (JB):              231.662\n",
      "Skew:                           0.343   Prob(JB):                     4.96e-51\n",
      "Kurtosis:                       4.262   Cond. No.                     1.28e+06\n",
      "==============================================================================\n",
      "\n",
      "Notes:\n",
      "[1] Standard Errors assume that the covariance matrix of the errors is correctly specified.\n",
      "[2] The condition number is large, 1.28e+06. This might indicate that there are\n",
      "strong multicollinearity or other numerical problems.\n"
     ]
    }
   ],
   "source": [
    "s= ols('AAV ~ CF + PTS + HIT + TK + oiSV_Pct + ATOI + AGE + Season + PPG + PS', s_df).fit()\n",
    "print(s.summary())"
   ]
  },
  {
   "cell_type": "code",
   "execution_count": 78,
   "id": "44150fca",
   "metadata": {},
   "outputs": [
    {
     "data": {
      "image/png": "[encoded data removed]",
      "text/plain": [
       "<Figure size 432x288 with 1 Axes>"
      ]
     },
     "metadata": {
      "needs_background": "light"
     },
     "output_type": "display_data"
    }
   ],
   "source": [
    "# yticks=[0, 1000000,2000000,3000000,4000000,5000000,6000000,7000000,8000000,9000000,10000000,11000000,12000000]\n",
    "# xticks=[0, 1000000,2000000,3000000,4000000,5000000,6000000,7000000,8000000,9000000,10000000]\n",
    "# ytlabels=['0', '$1,000,000','$2,000,000','$3,000,000','$4,000,000','$5,000,000','$6,000,000','$7,000,000','$8,000,000','$9,000,000','$10,000,000','$11,000,000','$12,000,000']\n",
    "# xtlabels=['0', '$1,000,000','$2,000,000','$3,000,000','$4,000,000','$5,000,000','$6,000,000','$7,000,000','$8,000,000','$9,000,000','$10,000,000']\n",
    "\n",
    "plt.scatter(y=s.fittedvalues, x=s_df['AAV'], s=3)\n",
    "# plt.xticks(ticks= xticks, labels=xtlabels, rotation=290)\n",
    "plt.ylabel(\"Predicted Salaries\")\n",
    "# plt.yticks(ticks= yticks, labels=ytlabels, rotation=0)\n",
    "plt.xlabel(\"Actual Salaries\")\n",
    "plt.title('Predicted vs Actual Salaries -- OLS')\n",
    "\n",
    "\n",
    "plt.show()"
   ]
  },
  {
   "cell_type": "code",
   "execution_count": 79,
   "id": "654d7ec4",
   "metadata": {},
   "outputs": [],
   "source": [
    "ols_df= skaters[['Player','GP','CF', 'PTS', 'HIT', 'TK', 'oiSV_Pct', 'ATOI', 'AGE', 'Season', 'PPG','PS','AAV']]"
   ]
  },
  {
   "cell_type": "code",
   "execution_count": 80,
   "id": "25899ce0",
   "metadata": {},
   "outputs": [
    {
     "name": "stderr",
     "output_type": "stream",
     "text": [
      "C:\\Users\\essmar\\AppData\\Local\\Temp/ipykernel_2916/2640037013.py:1: SettingWithCopyWarning: \n",
      "A value is trying to be set on a copy of a slice from a DataFrame.\n",
      "Try using .loc[row_indexer,col_indexer] = value instead\n",
      "\n",
      "See the caveats in the documentation: https://pandas.pydata.org/pandas-docs/stable/user_guide/indexing.html#returning-a-view-versus-a-copy\n",
      "  ols_df['Pred']= s.fittedvalues\n",
      "C:\\Users\\essmar\\AppData\\Local\\Temp/ipykernel_2916/2640037013.py:2: SettingWithCopyWarning: \n",
      "A value is trying to be set on a copy of a slice from a DataFrame.\n",
      "Try using .loc[row_indexer,col_indexer] = value instead\n",
      "\n",
      "See the caveats in the documentation: https://pandas.pydata.org/pandas-docs/stable/user_guide/indexing.html#returning-a-view-versus-a-copy\n",
      "  ols_df['Pred']= abs(ols_df['Pred'])\n"
     ]
    }
   ],
   "source": [
    "ols_df['Pred']= s.fittedvalues\n",
    "ols_df['Pred']= abs(ols_df['Pred'])"
   ]
  },
  {
   "cell_type": "code",
   "execution_count": 81,
   "id": "9bc59473",
   "metadata": {},
   "outputs": [
    {
     "name": "stderr",
     "output_type": "stream",
     "text": [
      "C:\\Users\\essmar\\AppData\\Local\\Temp/ipykernel_2916/2370000713.py:1: SettingWithCopyWarning: \n",
      "A value is trying to be set on a copy of a slice from a DataFrame.\n",
      "Try using .loc[row_indexer,col_indexer] = value instead\n",
      "\n",
      "See the caveats in the documentation: https://pandas.pydata.org/pandas-docs/stable/user_guide/indexing.html#returning-a-view-versus-a-copy\n",
      "  ols_df['Residuals']= ols_df['AAV'] - ols_df['Pred']\n"
     ]
    }
   ],
   "source": [
    "ols_df['Residuals']= ols_df['AAV'] - ols_df['Pred']"
   ]
  },
  {
   "cell_type": "code",
   "execution_count": 82,
   "id": "14038ac6",
   "metadata": {},
   "outputs": [
    {
     "name": "stderr",
     "output_type": "stream",
     "text": [
      "C:\\Users\\essmar\\AppData\\Local\\Programs\\Python\\Python39\\lib\\site-packages\\pandas\\core\\indexing.py:1817: SettingWithCopyWarning: \n",
      "A value is trying to be set on a copy of a slice from a DataFrame.\n",
      "Try using .loc[row_indexer,col_indexer] = value instead\n",
      "\n",
      "See the caveats in the documentation: https://pandas.pydata.org/pandas-docs/stable/user_guide/indexing.html#returning-a-view-versus-a-copy\n",
      "  self._setitem_single_column(loc, value, pi)\n"
     ]
    }
   ],
   "source": [
    "ols_df.loc[(ols_df['Pred']<750000), 'Pred'] =750000 "
   ]
  },
  {
   "cell_type": "code",
   "execution_count": 83,
   "id": "707971f6",
   "metadata": {},
   "outputs": [
    {
     "name": "stderr",
     "output_type": "stream",
     "text": [
      "C:\\Users\\essmar\\AppData\\Local\\Temp/ipykernel_2916/3907431944.py:1: SettingWithCopyWarning: \n",
      "A value is trying to be set on a copy of a slice from a DataFrame.\n",
      "Try using .loc[row_indexer,col_indexer] = value instead\n",
      "\n",
      "See the caveats in the documentation: https://pandas.pydata.org/pandas-docs/stable/user_guide/indexing.html#returning-a-view-versus-a-copy\n",
      "  ols_df['MAPE']= mean_absolute_percentage_error(ols_df['AAV'],ols_df['Pred'])\n"
     ]
    }
   ],
   "source": [
    "ols_df['MAPE']= mean_absolute_percentage_error(ols_df['AAV'],ols_df['Pred'])"
   ]
  },
  {
   "cell_type": "code",
   "execution_count": 84,
   "id": "4ecb3ebb",
   "metadata": {},
   "outputs": [
    {
     "data": {
      "text/html": [
       "<div>\n",
       "<style scoped>\n",
       "    .dataframe tbody tr th:only-of-type {\n",
       "        vertical-align: middle;\n",
       "    }\n",
       "\n",
       "    .dataframe tbody tr th {\n",
       "        vertical-align: top;\n",
       "    }\n",
       "\n",
       "    .dataframe thead th {\n",
       "        text-align: right;\n",
       "    }\n",
       "</style>\n",
       "<table border=\"1\" class=\"dataframe\">\n",
       "  <thead>\n",
       "    <tr style=\"text-align: right;\">\n",
       "      <th></th>\n",
       "      <th>Player</th>\n",
       "      <th>GP</th>\n",
       "      <th>CF</th>\n",
       "      <th>PTS</th>\n",
       "      <th>HIT</th>\n",
       "      <th>TK</th>\n",
       "      <th>oiSV_Pct</th>\n",
       "      <th>ATOI</th>\n",
       "      <th>AGE</th>\n",
       "      <th>Season</th>\n",
       "      <th>PPG</th>\n",
       "      <th>PS</th>\n",
       "      <th>AAV</th>\n",
       "      <th>Pred</th>\n",
       "      <th>Residuals</th>\n",
       "      <th>MAPE</th>\n",
       "    </tr>\n",
       "  </thead>\n",
       "  <tbody>\n",
       "    <tr>\n",
       "      <th>2369</th>\n",
       "      <td>Mike Cammalleri</td>\n",
       "      <td>73.000000</td>\n",
       "      <td>1077.500000</td>\n",
       "      <td>66.000000</td>\n",
       "      <td>19.500000</td>\n",
       "      <td>33.000000</td>\n",
       "      <td>90.950000</td>\n",
       "      <td>18.533333</td>\n",
       "      <td>28.0</td>\n",
       "      <td>2010</td>\n",
       "      <td>0.904110</td>\n",
       "      <td>8.150000</td>\n",
       "      <td>1700000.0</td>\n",
       "      <td>5.577571e+06</td>\n",
       "      <td>-3.877571e+06</td>\n",
       "      <td>0.447835</td>\n",
       "    </tr>\n",
       "    <tr>\n",
       "      <th>1745</th>\n",
       "      <td>Jarome Iginla</td>\n",
       "      <td>69.333333</td>\n",
       "      <td>1042.333333</td>\n",
       "      <td>62.000000</td>\n",
       "      <td>97.333333</td>\n",
       "      <td>36.666667</td>\n",
       "      <td>90.266667</td>\n",
       "      <td>20.116667</td>\n",
       "      <td>36.0</td>\n",
       "      <td>2013</td>\n",
       "      <td>0.894231</td>\n",
       "      <td>7.633333</td>\n",
       "      <td>1800000.0</td>\n",
       "      <td>5.553530e+06</td>\n",
       "      <td>-3.753530e+06</td>\n",
       "      <td>0.447835</td>\n",
       "    </tr>\n",
       "    <tr>\n",
       "      <th>2430</th>\n",
       "      <td>Anton Babchuk</td>\n",
       "      <td>72.000000</td>\n",
       "      <td>1080.000000</td>\n",
       "      <td>35.000000</td>\n",
       "      <td>22.000000</td>\n",
       "      <td>22.000000</td>\n",
       "      <td>92.700000</td>\n",
       "      <td>18.066667</td>\n",
       "      <td>26.0</td>\n",
       "      <td>2010</td>\n",
       "      <td>0.486111</td>\n",
       "      <td>7.900000</td>\n",
       "      <td>1400000.0</td>\n",
       "      <td>4.662146e+06</td>\n",
       "      <td>-3.262146e+06</td>\n",
       "      <td>0.447835</td>\n",
       "    </tr>\n",
       "    <tr>\n",
       "      <th>2514</th>\n",
       "      <td>Marc-Andre Bergeron</td>\n",
       "      <td>72.000000</td>\n",
       "      <td>921.000000</td>\n",
       "      <td>32.000000</td>\n",
       "      <td>30.000000</td>\n",
       "      <td>11.000000</td>\n",
       "      <td>92.600000</td>\n",
       "      <td>16.900000</td>\n",
       "      <td>28.0</td>\n",
       "      <td>2009</td>\n",
       "      <td>0.444444</td>\n",
       "      <td>7.400000</td>\n",
       "      <td>750000.0</td>\n",
       "      <td>3.969285e+06</td>\n",
       "      <td>-3.219285e+06</td>\n",
       "      <td>0.447835</td>\n",
       "    </tr>\n",
       "    <tr>\n",
       "      <th>842</th>\n",
       "      <td>Scott Hartnell</td>\n",
       "      <td>78.000000</td>\n",
       "      <td>963.000000</td>\n",
       "      <td>48.666667</td>\n",
       "      <td>128.333333</td>\n",
       "      <td>24.333333</td>\n",
       "      <td>90.266667</td>\n",
       "      <td>14.983333</td>\n",
       "      <td>35.0</td>\n",
       "      <td>2017</td>\n",
       "      <td>0.623932</td>\n",
       "      <td>5.900000</td>\n",
       "      <td>1000000.0</td>\n",
       "      <td>4.143746e+06</td>\n",
       "      <td>-3.143746e+06</td>\n",
       "      <td>0.447835</td>\n",
       "    </tr>\n",
       "    <tr>\n",
       "      <th>...</th>\n",
       "      <td>...</td>\n",
       "      <td>...</td>\n",
       "      <td>...</td>\n",
       "      <td>...</td>\n",
       "      <td>...</td>\n",
       "      <td>...</td>\n",
       "      <td>...</td>\n",
       "      <td>...</td>\n",
       "      <td>...</td>\n",
       "      <td>...</td>\n",
       "      <td>...</td>\n",
       "      <td>...</td>\n",
       "      <td>...</td>\n",
       "      <td>...</td>\n",
       "      <td>...</td>\n",
       "      <td>...</td>\n",
       "    </tr>\n",
       "    <tr>\n",
       "      <th>1475</th>\n",
       "      <td>Patrick Kane</td>\n",
       "      <td>66.000000</td>\n",
       "      <td>1083.666667</td>\n",
       "      <td>63.333333</td>\n",
       "      <td>15.333333</td>\n",
       "      <td>52.333333</td>\n",
       "      <td>90.700000</td>\n",
       "      <td>19.955556</td>\n",
       "      <td>26.0</td>\n",
       "      <td>2014</td>\n",
       "      <td>0.959596</td>\n",
       "      <td>7.700000</td>\n",
       "      <td>10500000.0</td>\n",
       "      <td>6.322577e+06</td>\n",
       "      <td>4.177423e+06</td>\n",
       "      <td>0.447835</td>\n",
       "    </tr>\n",
       "    <tr>\n",
       "      <th>733</th>\n",
       "      <td>Jack Eichel</td>\n",
       "      <td>71.000000</td>\n",
       "      <td>1043.500000</td>\n",
       "      <td>56.500000</td>\n",
       "      <td>34.500000</td>\n",
       "      <td>40.500000</td>\n",
       "      <td>91.050000</td>\n",
       "      <td>19.516667</td>\n",
       "      <td>21.0</td>\n",
       "      <td>2017</td>\n",
       "      <td>0.795775</td>\n",
       "      <td>6.450000</td>\n",
       "      <td>10000000.0</td>\n",
       "      <td>5.809929e+06</td>\n",
       "      <td>4.190071e+06</td>\n",
       "      <td>0.447835</td>\n",
       "    </tr>\n",
       "    <tr>\n",
       "      <th>398</th>\n",
       "      <td>Artemi Panarin</td>\n",
       "      <td>80.666667</td>\n",
       "      <td>1474.333333</td>\n",
       "      <td>81.000000</td>\n",
       "      <td>17.333333</td>\n",
       "      <td>52.666667</td>\n",
       "      <td>91.266667</td>\n",
       "      <td>19.816667</td>\n",
       "      <td>27.0</td>\n",
       "      <td>2019</td>\n",
       "      <td>1.004132</td>\n",
       "      <td>9.500000</td>\n",
       "      <td>11642857.0</td>\n",
       "      <td>7.415263e+06</td>\n",
       "      <td>4.227594e+06</td>\n",
       "      <td>0.447835</td>\n",
       "    </tr>\n",
       "    <tr>\n",
       "      <th>275</th>\n",
       "      <td>Thomas Chabot</td>\n",
       "      <td>44.666667</td>\n",
       "      <td>815.666667</td>\n",
       "      <td>26.666667</td>\n",
       "      <td>38.666667</td>\n",
       "      <td>19.333333</td>\n",
       "      <td>84.466667</td>\n",
       "      <td>16.316667</td>\n",
       "      <td>23.0</td>\n",
       "      <td>2019</td>\n",
       "      <td>0.597015</td>\n",
       "      <td>3.633333</td>\n",
       "      <td>8000000.0</td>\n",
       "      <td>3.571644e+06</td>\n",
       "      <td>4.428356e+06</td>\n",
       "      <td>0.447835</td>\n",
       "    </tr>\n",
       "    <tr>\n",
       "      <th>806</th>\n",
       "      <td>Connor McDavid</td>\n",
       "      <td>63.500000</td>\n",
       "      <td>1094.000000</td>\n",
       "      <td>74.000000</td>\n",
       "      <td>23.000000</td>\n",
       "      <td>54.500000</td>\n",
       "      <td>89.350000</td>\n",
       "      <td>20.008333</td>\n",
       "      <td>21.0</td>\n",
       "      <td>2017</td>\n",
       "      <td>1.165354</td>\n",
       "      <td>9.300000</td>\n",
       "      <td>12500000.0</td>\n",
       "      <td>8.065540e+06</td>\n",
       "      <td>4.434460e+06</td>\n",
       "      <td>0.447835</td>\n",
       "    </tr>\n",
       "  </tbody>\n",
       "</table>\n",
       "<p>2697 rows × 16 columns</p>\n",
       "</div>"
      ],
      "text/plain": [
       "                   Player         GP           CF        PTS         HIT  \\\n",
       "2369      Mike Cammalleri  73.000000  1077.500000  66.000000   19.500000   \n",
       "1745        Jarome Iginla  69.333333  1042.333333  62.000000   97.333333   \n",
       "2430        Anton Babchuk  72.000000  1080.000000  35.000000   22.000000   \n",
       "2514  Marc-Andre Bergeron  72.000000   921.000000  32.000000   30.000000   \n",
       "842        Scott Hartnell  78.000000   963.000000  48.666667  128.333333   \n",
       "...                   ...        ...          ...        ...         ...   \n",
       "1475         Patrick Kane  66.000000  1083.666667  63.333333   15.333333   \n",
       "733           Jack Eichel  71.000000  1043.500000  56.500000   34.500000   \n",
       "398        Artemi Panarin  80.666667  1474.333333  81.000000   17.333333   \n",
       "275         Thomas Chabot  44.666667   815.666667  26.666667   38.666667   \n",
       "806        Connor McDavid  63.500000  1094.000000  74.000000   23.000000   \n",
       "\n",
       "             TK   oiSV_Pct       ATOI   AGE  Season       PPG        PS  \\\n",
       "2369  33.000000  90.950000  18.533333  28.0    2010  0.904110  8.150000   \n",
       "1745  36.666667  90.266667  20.116667  36.0    2013  0.894231  7.633333   \n",
       "2430  22.000000  92.700000  18.066667  26.0    2010  0.486111  7.900000   \n",
       "2514  11.000000  92.600000  16.900000  28.0    2009  0.444444  7.400000   \n",
       "842   24.333333  90.266667  14.983333  35.0    2017  0.623932  5.900000   \n",
       "...         ...        ...        ...   ...     ...       ...       ...   \n",
       "1475  52.333333  90.700000  19.955556  26.0    2014  0.959596  7.700000   \n",
       "733   40.500000  91.050000  19.516667  21.0    2017  0.795775  6.450000   \n",
       "398   52.666667  91.266667  19.816667  27.0    2019  1.004132  9.500000   \n",
       "275   19.333333  84.466667  16.316667  23.0    2019  0.597015  3.633333   \n",
       "806   54.500000  89.350000  20.008333  21.0    2017  1.165354  9.300000   \n",
       "\n",
       "             AAV          Pred     Residuals      MAPE  \n",
       "2369   1700000.0  5.577571e+06 -3.877571e+06  0.447835  \n",
       "1745   1800000.0  5.553530e+06 -3.753530e+06  0.447835  \n",
       "2430   1400000.0  4.662146e+06 -3.262146e+06  0.447835  \n",
       "2514    750000.0  3.969285e+06 -3.219285e+06  0.447835  \n",
       "842    1000000.0  4.143746e+06 -3.143746e+06  0.447835  \n",
       "...          ...           ...           ...       ...  \n",
       "1475  10500000.0  6.322577e+06  4.177423e+06  0.447835  \n",
       "733   10000000.0  5.809929e+06  4.190071e+06  0.447835  \n",
       "398   11642857.0  7.415263e+06  4.227594e+06  0.447835  \n",
       "275    8000000.0  3.571644e+06  4.428356e+06  0.447835  \n",
       "806   12500000.0  8.065540e+06  4.434460e+06  0.447835  \n",
       "\n",
       "[2697 rows x 16 columns]"
      ]
     },
     "execution_count": 84,
     "metadata": {},
     "output_type": "execute_result"
    }
   ],
   "source": [
    "ols_df.sort_values('Residuals')"
   ]
  },
  {
   "cell_type": "code",
   "execution_count": 85,
   "id": "06b26aef",
   "metadata": {},
   "outputs": [
    {
     "data": {
      "text/html": [
       "<div>\n",
       "<style scoped>\n",
       "    .dataframe tbody tr th:only-of-type {\n",
       "        vertical-align: middle;\n",
       "    }\n",
       "\n",
       "    .dataframe tbody tr th {\n",
       "        vertical-align: top;\n",
       "    }\n",
       "\n",
       "    .dataframe thead th {\n",
       "        text-align: right;\n",
       "    }\n",
       "</style>\n",
       "<table border=\"1\" class=\"dataframe\">\n",
       "  <thead>\n",
       "    <tr style=\"text-align: right;\">\n",
       "      <th></th>\n",
       "      <th>Player</th>\n",
       "      <th>GP</th>\n",
       "      <th>CF</th>\n",
       "      <th>PTS</th>\n",
       "      <th>HIT</th>\n",
       "      <th>TK</th>\n",
       "      <th>oiSV_Pct</th>\n",
       "      <th>ATOI</th>\n",
       "      <th>AGE</th>\n",
       "      <th>Season</th>\n",
       "      <th>PPG</th>\n",
       "      <th>PS</th>\n",
       "      <th>AAV</th>\n",
       "      <th>Pred</th>\n",
       "      <th>Residuals</th>\n",
       "      <th>MAPE</th>\n",
       "    </tr>\n",
       "  </thead>\n",
       "  <tbody>\n",
       "    <tr>\n",
       "      <th>0</th>\n",
       "      <td>Wayne Simmonds</td>\n",
       "      <td>61.666667</td>\n",
       "      <td>670.666667</td>\n",
       "      <td>21.333333</td>\n",
       "      <td>115.333333</td>\n",
       "      <td>22.333333</td>\n",
       "      <td>91.733333</td>\n",
       "      <td>14.188889</td>\n",
       "      <td>32.0</td>\n",
       "      <td>2021</td>\n",
       "      <td>0.345946</td>\n",
       "      <td>1.166667</td>\n",
       "      <td>900000.0</td>\n",
       "      <td>1.801337e+06</td>\n",
       "      <td>-9.013366e+05</td>\n",
       "      <td>0.447835</td>\n",
       "    </tr>\n",
       "    <tr>\n",
       "      <th>1</th>\n",
       "      <td>Ryan Nugent-Hopkins</td>\n",
       "      <td>66.333333</td>\n",
       "      <td>893.000000</td>\n",
       "      <td>55.000000</td>\n",
       "      <td>42.666667</td>\n",
       "      <td>45.000000</td>\n",
       "      <td>90.600000</td>\n",
       "      <td>20.444444</td>\n",
       "      <td>28.0</td>\n",
       "      <td>2021</td>\n",
       "      <td>0.829146</td>\n",
       "      <td>5.433333</td>\n",
       "      <td>5125000.0</td>\n",
       "      <td>5.509506e+06</td>\n",
       "      <td>-3.845056e+05</td>\n",
       "      <td>0.447835</td>\n",
       "    </tr>\n",
       "    <tr>\n",
       "      <th>3</th>\n",
       "      <td>Blake Lizotte</td>\n",
       "      <td>35.666667</td>\n",
       "      <td>402.000000</td>\n",
       "      <td>11.000000</td>\n",
       "      <td>24.666667</td>\n",
       "      <td>9.666667</td>\n",
       "      <td>87.766667</td>\n",
       "      <td>12.622222</td>\n",
       "      <td>23.0</td>\n",
       "      <td>2021</td>\n",
       "      <td>0.308411</td>\n",
       "      <td>0.700000</td>\n",
       "      <td>800000.0</td>\n",
       "      <td>1.509057e+06</td>\n",
       "      <td>-7.090573e+05</td>\n",
       "      <td>0.447835</td>\n",
       "    </tr>\n",
       "    <tr>\n",
       "      <th>4</th>\n",
       "      <td>Matt Nieto</td>\n",
       "      <td>54.000000</td>\n",
       "      <td>570.666667</td>\n",
       "      <td>17.000000</td>\n",
       "      <td>37.333333</td>\n",
       "      <td>15.000000</td>\n",
       "      <td>91.466667</td>\n",
       "      <td>13.755556</td>\n",
       "      <td>28.0</td>\n",
       "      <td>2021</td>\n",
       "      <td>0.314815</td>\n",
       "      <td>1.066667</td>\n",
       "      <td>850000.0</td>\n",
       "      <td>1.533954e+06</td>\n",
       "      <td>-6.839541e+05</td>\n",
       "      <td>0.447835</td>\n",
       "    </tr>\n",
       "    <tr>\n",
       "      <th>5</th>\n",
       "      <td>Blake Comeau</td>\n",
       "      <td>61.000000</td>\n",
       "      <td>695.333333</td>\n",
       "      <td>16.000000</td>\n",
       "      <td>140.333333</td>\n",
       "      <td>27.000000</td>\n",
       "      <td>91.300000</td>\n",
       "      <td>15.466667</td>\n",
       "      <td>35.0</td>\n",
       "      <td>2021</td>\n",
       "      <td>0.262295</td>\n",
       "      <td>0.600000</td>\n",
       "      <td>1000000.0</td>\n",
       "      <td>1.471914e+06</td>\n",
       "      <td>-4.719140e+05</td>\n",
       "      <td>0.447835</td>\n",
       "    </tr>\n",
       "    <tr>\n",
       "      <th>...</th>\n",
       "      <td>...</td>\n",
       "      <td>...</td>\n",
       "      <td>...</td>\n",
       "      <td>...</td>\n",
       "      <td>...</td>\n",
       "      <td>...</td>\n",
       "      <td>...</td>\n",
       "      <td>...</td>\n",
       "      <td>...</td>\n",
       "      <td>...</td>\n",
       "      <td>...</td>\n",
       "      <td>...</td>\n",
       "      <td>...</td>\n",
       "      <td>...</td>\n",
       "      <td>...</td>\n",
       "      <td>...</td>\n",
       "    </tr>\n",
       "    <tr>\n",
       "      <th>2686</th>\n",
       "      <td>Tim Jackman</td>\n",
       "      <td>69.000000</td>\n",
       "      <td>558.000000</td>\n",
       "      <td>12.000000</td>\n",
       "      <td>151.000000</td>\n",
       "      <td>41.000000</td>\n",
       "      <td>91.100000</td>\n",
       "      <td>11.750000</td>\n",
       "      <td>27.0</td>\n",
       "      <td>2009</td>\n",
       "      <td>0.173913</td>\n",
       "      <td>-0.200000</td>\n",
       "      <td>550000.0</td>\n",
       "      <td>7.500000e+05</td>\n",
       "      <td>-4.231131e+04</td>\n",
       "      <td>0.447835</td>\n",
       "    </tr>\n",
       "    <tr>\n",
       "      <th>2689</th>\n",
       "      <td>Filip Kuba</td>\n",
       "      <td>71.000000</td>\n",
       "      <td>990.000000</td>\n",
       "      <td>40.000000</td>\n",
       "      <td>44.000000</td>\n",
       "      <td>36.000000</td>\n",
       "      <td>93.000000</td>\n",
       "      <td>23.283333</td>\n",
       "      <td>32.0</td>\n",
       "      <td>2009</td>\n",
       "      <td>0.563380</td>\n",
       "      <td>7.100000</td>\n",
       "      <td>3700000.0</td>\n",
       "      <td>4.764900e+06</td>\n",
       "      <td>-1.064900e+06</td>\n",
       "      <td>0.447835</td>\n",
       "    </tr>\n",
       "    <tr>\n",
       "      <th>2690</th>\n",
       "      <td>Tim Connolly</td>\n",
       "      <td>48.000000</td>\n",
       "      <td>606.000000</td>\n",
       "      <td>47.000000</td>\n",
       "      <td>17.000000</td>\n",
       "      <td>29.000000</td>\n",
       "      <td>92.000000</td>\n",
       "      <td>19.116667</td>\n",
       "      <td>27.0</td>\n",
       "      <td>2009</td>\n",
       "      <td>0.979167</td>\n",
       "      <td>5.700000</td>\n",
       "      <td>4500000.0</td>\n",
       "      <td>4.639875e+06</td>\n",
       "      <td>-1.398750e+05</td>\n",
       "      <td>0.447835</td>\n",
       "    </tr>\n",
       "    <tr>\n",
       "      <th>2691</th>\n",
       "      <td>Alexandre Burrows</td>\n",
       "      <td>82.000000</td>\n",
       "      <td>1016.000000</td>\n",
       "      <td>51.000000</td>\n",
       "      <td>67.000000</td>\n",
       "      <td>63.000000</td>\n",
       "      <td>91.100000</td>\n",
       "      <td>16.850000</td>\n",
       "      <td>27.0</td>\n",
       "      <td>2009</td>\n",
       "      <td>0.621951</td>\n",
       "      <td>6.600000</td>\n",
       "      <td>2000000.0</td>\n",
       "      <td>5.003065e+06</td>\n",
       "      <td>-3.003065e+06</td>\n",
       "      <td>0.447835</td>\n",
       "    </tr>\n",
       "    <tr>\n",
       "      <th>2696</th>\n",
       "      <td>Jordan Staal</td>\n",
       "      <td>82.000000</td>\n",
       "      <td>985.000000</td>\n",
       "      <td>49.000000</td>\n",
       "      <td>156.000000</td>\n",
       "      <td>45.000000</td>\n",
       "      <td>91.100000</td>\n",
       "      <td>19.850000</td>\n",
       "      <td>20.0</td>\n",
       "      <td>2009</td>\n",
       "      <td>0.597561</td>\n",
       "      <td>4.500000</td>\n",
       "      <td>4000000.0</td>\n",
       "      <td>4.574252e+06</td>\n",
       "      <td>-5.742515e+05</td>\n",
       "      <td>0.447835</td>\n",
       "    </tr>\n",
       "  </tbody>\n",
       "</table>\n",
       "<p>1428 rows × 16 columns</p>\n",
       "</div>"
      ],
      "text/plain": [
       "                   Player         GP           CF        PTS         HIT  \\\n",
       "0          Wayne Simmonds  61.666667   670.666667  21.333333  115.333333   \n",
       "1     Ryan Nugent-Hopkins  66.333333   893.000000  55.000000   42.666667   \n",
       "3           Blake Lizotte  35.666667   402.000000  11.000000   24.666667   \n",
       "4              Matt Nieto  54.000000   570.666667  17.000000   37.333333   \n",
       "5            Blake Comeau  61.000000   695.333333  16.000000  140.333333   \n",
       "...                   ...        ...          ...        ...         ...   \n",
       "2686          Tim Jackman  69.000000   558.000000  12.000000  151.000000   \n",
       "2689           Filip Kuba  71.000000   990.000000  40.000000   44.000000   \n",
       "2690         Tim Connolly  48.000000   606.000000  47.000000   17.000000   \n",
       "2691    Alexandre Burrows  82.000000  1016.000000  51.000000   67.000000   \n",
       "2696         Jordan Staal  82.000000   985.000000  49.000000  156.000000   \n",
       "\n",
       "             TK   oiSV_Pct       ATOI   AGE  Season       PPG        PS  \\\n",
       "0     22.333333  91.733333  14.188889  32.0    2021  0.345946  1.166667   \n",
       "1     45.000000  90.600000  20.444444  28.0    2021  0.829146  5.433333   \n",
       "3      9.666667  87.766667  12.622222  23.0    2021  0.308411  0.700000   \n",
       "4     15.000000  91.466667  13.755556  28.0    2021  0.314815  1.066667   \n",
       "5     27.000000  91.300000  15.466667  35.0    2021  0.262295  0.600000   \n",
       "...         ...        ...        ...   ...     ...       ...       ...   \n",
       "2686  41.000000  91.100000  11.750000  27.0    2009  0.173913 -0.200000   \n",
       "2689  36.000000  93.000000  23.283333  32.0    2009  0.563380  7.100000   \n",
       "2690  29.000000  92.000000  19.116667  27.0    2009  0.979167  5.700000   \n",
       "2691  63.000000  91.100000  16.850000  27.0    2009  0.621951  6.600000   \n",
       "2696  45.000000  91.100000  19.850000  20.0    2009  0.597561  4.500000   \n",
       "\n",
       "            AAV          Pred     Residuals      MAPE  \n",
       "0      900000.0  1.801337e+06 -9.013366e+05  0.447835  \n",
       "1     5125000.0  5.509506e+06 -3.845056e+05  0.447835  \n",
       "3      800000.0  1.509057e+06 -7.090573e+05  0.447835  \n",
       "4      850000.0  1.533954e+06 -6.839541e+05  0.447835  \n",
       "5     1000000.0  1.471914e+06 -4.719140e+05  0.447835  \n",
       "...         ...           ...           ...       ...  \n",
       "2686   550000.0  7.500000e+05 -4.231131e+04  0.447835  \n",
       "2689  3700000.0  4.764900e+06 -1.064900e+06  0.447835  \n",
       "2690  4500000.0  4.639875e+06 -1.398750e+05  0.447835  \n",
       "2691  2000000.0  5.003065e+06 -3.003065e+06  0.447835  \n",
       "2696  4000000.0  4.574252e+06 -5.742515e+05  0.447835  \n",
       "\n",
       "[1428 rows x 16 columns]"
      ]
     },
     "execution_count": 85,
     "metadata": {},
     "output_type": "execute_result"
    }
   ],
   "source": [
    "ols_df[ols_df['Residuals']<0]"
   ]
  },
  {
   "cell_type": "code",
   "execution_count": 86,
   "id": "8f986036",
   "metadata": {},
   "outputs": [
    {
     "data": {
      "text/html": [
       "<div>\n",
       "<style scoped>\n",
       "    .dataframe tbody tr th:only-of-type {\n",
       "        vertical-align: middle;\n",
       "    }\n",
       "\n",
       "    .dataframe tbody tr th {\n",
       "        vertical-align: top;\n",
       "    }\n",
       "\n",
       "    .dataframe thead th {\n",
       "        text-align: right;\n",
       "    }\n",
       "</style>\n",
       "<table border=\"1\" class=\"dataframe\">\n",
       "  <thead>\n",
       "    <tr style=\"text-align: right;\">\n",
       "      <th></th>\n",
       "      <th>Player</th>\n",
       "      <th>GP</th>\n",
       "      <th>CF</th>\n",
       "      <th>PTS</th>\n",
       "      <th>HIT</th>\n",
       "      <th>TK</th>\n",
       "      <th>oiSV_Pct</th>\n",
       "      <th>ATOI</th>\n",
       "      <th>AGE</th>\n",
       "      <th>Season</th>\n",
       "      <th>PPG</th>\n",
       "      <th>PS</th>\n",
       "      <th>AAV</th>\n",
       "      <th>Pred</th>\n",
       "      <th>Residuals</th>\n",
       "      <th>MAPE</th>\n",
       "    </tr>\n",
       "  </thead>\n",
       "  <tbody>\n",
       "    <tr>\n",
       "      <th>2</th>\n",
       "      <td>Trent Frederic</td>\n",
       "      <td>19.666667</td>\n",
       "      <td>150.666667</td>\n",
       "      <td>1.666667</td>\n",
       "      <td>29.000000</td>\n",
       "      <td>4.666667</td>\n",
       "      <td>91.233333</td>\n",
       "      <td>9.027778</td>\n",
       "      <td>23.0</td>\n",
       "      <td>2021</td>\n",
       "      <td>0.084746</td>\n",
       "      <td>-0.200000</td>\n",
       "      <td>1050000.0</td>\n",
       "      <td>7.500000e+05</td>\n",
       "      <td>5.535429e+05</td>\n",
       "      <td>0.447835</td>\n",
       "    </tr>\n",
       "    <tr>\n",
       "      <th>10</th>\n",
       "      <td>Ryan Lindgren</td>\n",
       "      <td>38.666667</td>\n",
       "      <td>499.333333</td>\n",
       "      <td>10.000000</td>\n",
       "      <td>67.666667</td>\n",
       "      <td>15.666667</td>\n",
       "      <td>88.033333</td>\n",
       "      <td>17.050000</td>\n",
       "      <td>23.0</td>\n",
       "      <td>2021</td>\n",
       "      <td>0.258621</td>\n",
       "      <td>2.266667</td>\n",
       "      <td>3000000.0</td>\n",
       "      <td>2.809164e+06</td>\n",
       "      <td>1.908357e+05</td>\n",
       "      <td>0.447835</td>\n",
       "    </tr>\n",
       "    <tr>\n",
       "      <th>14</th>\n",
       "      <td>Adam Lowry</td>\n",
       "      <td>59.666667</td>\n",
       "      <td>634.333333</td>\n",
       "      <td>19.000000</td>\n",
       "      <td>173.666667</td>\n",
       "      <td>29.666667</td>\n",
       "      <td>92.800000</td>\n",
       "      <td>15.044444</td>\n",
       "      <td>28.0</td>\n",
       "      <td>2021</td>\n",
       "      <td>0.318436</td>\n",
       "      <td>1.400000</td>\n",
       "      <td>3250000.0</td>\n",
       "      <td>2.575118e+06</td>\n",
       "      <td>6.748820e+05</td>\n",
       "      <td>0.447835</td>\n",
       "    </tr>\n",
       "    <tr>\n",
       "      <th>17</th>\n",
       "      <td>Alex Iafallo</td>\n",
       "      <td>69.000000</td>\n",
       "      <td>922.000000</td>\n",
       "      <td>35.333333</td>\n",
       "      <td>54.000000</td>\n",
       "      <td>19.666667</td>\n",
       "      <td>89.833333</td>\n",
       "      <td>18.550000</td>\n",
       "      <td>27.0</td>\n",
       "      <td>2021</td>\n",
       "      <td>0.512077</td>\n",
       "      <td>3.066667</td>\n",
       "      <td>4000000.0</td>\n",
       "      <td>3.252204e+06</td>\n",
       "      <td>7.477957e+05</td>\n",
       "      <td>0.447835</td>\n",
       "    </tr>\n",
       "    <tr>\n",
       "      <th>19</th>\n",
       "      <td>Tanner Pearson</td>\n",
       "      <td>66.666667</td>\n",
       "      <td>829.666667</td>\n",
       "      <td>30.000000</td>\n",
       "      <td>92.666667</td>\n",
       "      <td>27.000000</td>\n",
       "      <td>91.233333</td>\n",
       "      <td>15.877778</td>\n",
       "      <td>28.0</td>\n",
       "      <td>2021</td>\n",
       "      <td>0.450000</td>\n",
       "      <td>2.566667</td>\n",
       "      <td>3250000.0</td>\n",
       "      <td>2.965363e+06</td>\n",
       "      <td>2.846369e+05</td>\n",
       "      <td>0.447835</td>\n",
       "    </tr>\n",
       "    <tr>\n",
       "      <th>...</th>\n",
       "      <td>...</td>\n",
       "      <td>...</td>\n",
       "      <td>...</td>\n",
       "      <td>...</td>\n",
       "      <td>...</td>\n",
       "      <td>...</td>\n",
       "      <td>...</td>\n",
       "      <td>...</td>\n",
       "      <td>...</td>\n",
       "      <td>...</td>\n",
       "      <td>...</td>\n",
       "      <td>...</td>\n",
       "      <td>...</td>\n",
       "      <td>...</td>\n",
       "      <td>...</td>\n",
       "      <td>...</td>\n",
       "    </tr>\n",
       "    <tr>\n",
       "      <th>2688</th>\n",
       "      <td>Jeff Hamilton</td>\n",
       "      <td>15.000000</td>\n",
       "      <td>159.000000</td>\n",
       "      <td>6.000000</td>\n",
       "      <td>6.000000</td>\n",
       "      <td>6.000000</td>\n",
       "      <td>92.900000</td>\n",
       "      <td>12.950000</td>\n",
       "      <td>30.0</td>\n",
       "      <td>2009</td>\n",
       "      <td>0.400000</td>\n",
       "      <td>0.600000</td>\n",
       "      <td>475000.0</td>\n",
       "      <td>7.500000e+05</td>\n",
       "      <td>2.288354e+05</td>\n",
       "      <td>0.447835</td>\n",
       "    </tr>\n",
       "    <tr>\n",
       "      <th>2692</th>\n",
       "      <td>Andy McDonald</td>\n",
       "      <td>46.000000</td>\n",
       "      <td>604.000000</td>\n",
       "      <td>44.000000</td>\n",
       "      <td>24.000000</td>\n",
       "      <td>18.000000</td>\n",
       "      <td>86.500000</td>\n",
       "      <td>19.083333</td>\n",
       "      <td>31.0</td>\n",
       "      <td>2009</td>\n",
       "      <td>0.956522</td>\n",
       "      <td>4.400000</td>\n",
       "      <td>4700000.0</td>\n",
       "      <td>3.521318e+06</td>\n",
       "      <td>1.178682e+06</td>\n",
       "      <td>0.447835</td>\n",
       "    </tr>\n",
       "    <tr>\n",
       "      <th>2693</th>\n",
       "      <td>George Parros</td>\n",
       "      <td>74.000000</td>\n",
       "      <td>334.000000</td>\n",
       "      <td>10.000000</td>\n",
       "      <td>89.000000</td>\n",
       "      <td>6.000000</td>\n",
       "      <td>94.100000</td>\n",
       "      <td>6.266667</td>\n",
       "      <td>29.0</td>\n",
       "      <td>2009</td>\n",
       "      <td>0.135135</td>\n",
       "      <td>1.000000</td>\n",
       "      <td>875000.0</td>\n",
       "      <td>7.500000e+05</td>\n",
       "      <td>6.788470e+05</td>\n",
       "      <td>0.447835</td>\n",
       "    </tr>\n",
       "    <tr>\n",
       "      <th>2694</th>\n",
       "      <td>Henrik Zetterberg</td>\n",
       "      <td>77.000000</td>\n",
       "      <td>1241.000000</td>\n",
       "      <td>73.000000</td>\n",
       "      <td>54.000000</td>\n",
       "      <td>42.000000</td>\n",
       "      <td>90.900000</td>\n",
       "      <td>19.883333</td>\n",
       "      <td>28.0</td>\n",
       "      <td>2009</td>\n",
       "      <td>0.948052</td>\n",
       "      <td>8.100000</td>\n",
       "      <td>6083333.0</td>\n",
       "      <td>5.860277e+06</td>\n",
       "      <td>2.230560e+05</td>\n",
       "      <td>0.447835</td>\n",
       "    </tr>\n",
       "    <tr>\n",
       "      <th>2695</th>\n",
       "      <td>Brendan Shanahan</td>\n",
       "      <td>34.000000</td>\n",
       "      <td>308.000000</td>\n",
       "      <td>14.000000</td>\n",
       "      <td>18.000000</td>\n",
       "      <td>14.000000</td>\n",
       "      <td>93.300000</td>\n",
       "      <td>14.900000</td>\n",
       "      <td>39.0</td>\n",
       "      <td>2009</td>\n",
       "      <td>0.411765</td>\n",
       "      <td>1.100000</td>\n",
       "      <td>800000.0</td>\n",
       "      <td>7.500000e+05</td>\n",
       "      <td>5.555282e+05</td>\n",
       "      <td>0.447835</td>\n",
       "    </tr>\n",
       "  </tbody>\n",
       "</table>\n",
       "<p>1269 rows × 16 columns</p>\n",
       "</div>"
      ],
      "text/plain": [
       "                 Player         GP           CF        PTS         HIT  \\\n",
       "2        Trent Frederic  19.666667   150.666667   1.666667   29.000000   \n",
       "10        Ryan Lindgren  38.666667   499.333333  10.000000   67.666667   \n",
       "14           Adam Lowry  59.666667   634.333333  19.000000  173.666667   \n",
       "17         Alex Iafallo  69.000000   922.000000  35.333333   54.000000   \n",
       "19       Tanner Pearson  66.666667   829.666667  30.000000   92.666667   \n",
       "...                 ...        ...          ...        ...         ...   \n",
       "2688      Jeff Hamilton  15.000000   159.000000   6.000000    6.000000   \n",
       "2692      Andy McDonald  46.000000   604.000000  44.000000   24.000000   \n",
       "2693      George Parros  74.000000   334.000000  10.000000   89.000000   \n",
       "2694  Henrik Zetterberg  77.000000  1241.000000  73.000000   54.000000   \n",
       "2695   Brendan Shanahan  34.000000   308.000000  14.000000   18.000000   \n",
       "\n",
       "             TK   oiSV_Pct       ATOI   AGE  Season       PPG        PS  \\\n",
       "2      4.666667  91.233333   9.027778  23.0    2021  0.084746 -0.200000   \n",
       "10    15.666667  88.033333  17.050000  23.0    2021  0.258621  2.266667   \n",
       "14    29.666667  92.800000  15.044444  28.0    2021  0.318436  1.400000   \n",
       "17    19.666667  89.833333  18.550000  27.0    2021  0.512077  3.066667   \n",
       "19    27.000000  91.233333  15.877778  28.0    2021  0.450000  2.566667   \n",
       "...         ...        ...        ...   ...     ...       ...       ...   \n",
       "2688   6.000000  92.900000  12.950000  30.0    2009  0.400000  0.600000   \n",
       "2692  18.000000  86.500000  19.083333  31.0    2009  0.956522  4.400000   \n",
       "2693   6.000000  94.100000   6.266667  29.0    2009  0.135135  1.000000   \n",
       "2694  42.000000  90.900000  19.883333  28.0    2009  0.948052  8.100000   \n",
       "2695  14.000000  93.300000  14.900000  39.0    2009  0.411765  1.100000   \n",
       "\n",
       "            AAV          Pred     Residuals      MAPE  \n",
       "2     1050000.0  7.500000e+05  5.535429e+05  0.447835  \n",
       "10    3000000.0  2.809164e+06  1.908357e+05  0.447835  \n",
       "14    3250000.0  2.575118e+06  6.748820e+05  0.447835  \n",
       "17    4000000.0  3.252204e+06  7.477957e+05  0.447835  \n",
       "19    3250000.0  2.965363e+06  2.846369e+05  0.447835  \n",
       "...         ...           ...           ...       ...  \n",
       "2688   475000.0  7.500000e+05  2.288354e+05  0.447835  \n",
       "2692  4700000.0  3.521318e+06  1.178682e+06  0.447835  \n",
       "2693   875000.0  7.500000e+05  6.788470e+05  0.447835  \n",
       "2694  6083333.0  5.860277e+06  2.230560e+05  0.447835  \n",
       "2695   800000.0  7.500000e+05  5.555282e+05  0.447835  \n",
       "\n",
       "[1269 rows x 16 columns]"
      ]
     },
     "execution_count": 86,
     "metadata": {},
     "output_type": "execute_result"
    }
   ],
   "source": [
    "ols_df[ols_df['Residuals']>0]"
   ]
  },
  {
   "cell_type": "code",
   "execution_count": 87,
   "id": "798a4536",
   "metadata": {},
   "outputs": [
    {
     "data": {
      "text/plain": [
       "-1390453.9621246452"
      ]
     },
     "execution_count": 87,
     "metadata": {},
     "output_type": "execute_result"
    }
   ],
   "source": [
    "min(s.fittedvalues)"
   ]
  },
  {
   "cell_type": "code",
   "execution_count": 88,
   "id": "8d42bfbb",
   "metadata": {},
   "outputs": [
    {
     "data": {
      "text/plain": [
       "105"
      ]
     },
     "execution_count": 88,
     "metadata": {},
     "output_type": "execute_result"
    }
   ],
   "source": [
    "len(s.fittedvalues[s.fittedvalues<0])"
   ]
  },
  {
   "cell_type": "code",
   "execution_count": 89,
   "id": "ee1637d2",
   "metadata": {},
   "outputs": [
    {
     "data": {
      "text/plain": [
       "0       1.801337e+06\n",
       "2       4.964571e+05\n",
       "3       1.509057e+06\n",
       "4       1.533954e+06\n",
       "5       1.471914e+06\n",
       "            ...     \n",
       "2685    1.347431e+05\n",
       "2686    5.923113e+05\n",
       "2687    6.679453e+05\n",
       "2688    2.461646e+05\n",
       "2695    2.444718e+05\n",
       "Length: 1223, dtype: float64"
      ]
     },
     "execution_count": 89,
     "metadata": {},
     "output_type": "execute_result"
    }
   ],
   "source": [
    "s.fittedvalues[(s.fittedvalues<2000000) & (s.fittedvalues>0)]"
   ]
  },
  {
   "cell_type": "code",
   "execution_count": 90,
   "id": "e84329c6",
   "metadata": {
    "scrolled": true
   },
   "outputs": [
    {
     "data": {
      "text/plain": [
       "Player        Andy McDonald\n",
       "Season                 2009\n",
       "AGE                    31.0\n",
       "Pos_C                     1\n",
       "Pos_LW                    0\n",
       "Pos_RW                    0\n",
       "Pos_D                     0\n",
       "GP                     46.0\n",
       "G                      15.0\n",
       "A                      29.0\n",
       "PTS                    44.0\n",
       "PPG                0.956522\n",
       "PlusMinus             -13.0\n",
       "ATOI              19.083333\n",
       "TOI(EV)                14.7\n",
       "PIM                    24.0\n",
       "PS                      4.4\n",
       "EV_A                    8.0\n",
       "PP_A                    6.0\n",
       "SH_A                    1.0\n",
       "GW                      1.0\n",
       "S                     128.0\n",
       "S_Pct                  11.7\n",
       "BLK                    18.0\n",
       "HIT                    24.0\n",
       "FOW                   213.0\n",
       "FOL                   154.0\n",
       "FO_Pct                 58.0\n",
       "CF                    604.0\n",
       "CA                    557.0\n",
       "CF_Pct                 52.0\n",
       "CF_Pct_rel              4.4\n",
       "FF                    473.0\n",
       "FA                    432.0\n",
       "FF_Pct                 52.3\n",
       "FF_Pct_rel              4.2\n",
       "oiSH_Pct                9.4\n",
       "oiSV_Pct               86.5\n",
       "PDO                    96.0\n",
       "oZS_Pct                46.5\n",
       "dZS_Pct                53.5\n",
       "TK                     18.0\n",
       "GV                     22.0\n",
       "SAtt.                 216.0\n",
       "Thru_Pct               59.3\n",
       "SOT_Att                 6.0\n",
       "SOT_Scored              2.0\n",
       "SOT_Saved               4.0\n",
       "SOT_Pct                33.3\n",
       "LENGTH                    4\n",
       "AAV               4700000.0\n",
       "Name: 2692, dtype: object"
      ]
     },
     "execution_count": 90,
     "metadata": {},
     "output_type": "execute_result"
    }
   ],
   "source": [
    "skaters.iloc[2692]"
   ]
  },
  {
   "cell_type": "code",
   "execution_count": 91,
   "id": "24c21dcd",
   "metadata": {},
   "outputs": [
    {
     "name": "stdout",
     "output_type": "stream",
     "text": [
      "                         QuantReg Regression Results                          \n",
      "==============================================================================\n",
      "Dep. Variable:                    AAV   Pseudo R-squared:               0.6264\n",
      "Model:                       QuantReg   Bandwidth:                   4.716e+05\n",
      "Method:                 Least Squares   Sparsity:                    2.628e+07\n",
      "Date:                Mon, 25 Oct 2021   No. Observations:                 2697\n",
      "Time:                        17:43:39   Df Residuals:                     2686\n",
      "                                        Df Model:                           10\n",
      "==============================================================================\n",
      "                 coef    std err          t      P>|t|      [0.025      0.975]\n",
      "------------------------------------------------------------------------------\n",
      "Intercept  -3146.2213   3.24e+07  -9.71e-05      1.000   -6.35e+07    6.35e+07\n",
      "CF           225.9778    516.242      0.438      0.662    -786.294    1238.250\n",
      "PTS        -1.488e+04   1.42e+04     -1.047      0.295   -4.27e+04     1.3e+04\n",
      "HIT         2927.6331   1722.396      1.700      0.089    -449.723    6304.989\n",
      "TK          2.814e+04   6551.635      4.295      0.000    1.53e+04     4.1e+04\n",
      "oiSV_Pct   -2.634e+04   2.31e+04     -1.140      0.254   -7.16e+04     1.9e+04\n",
      "ATOI        6.151e+04   4.71e+04      1.306      0.192   -3.08e+04    1.54e+05\n",
      "AGE        -2.205e+04   1.57e+04     -1.405      0.160   -5.28e+04    8726.540\n",
      "Season      1624.2580   1.62e+04      0.101      0.920      -3e+04    3.33e+04\n",
      "PPG         4.558e+06    8.6e+05      5.301      0.000    2.87e+06    6.24e+06\n",
      "PS          5.112e+05   8.89e+04      5.747      0.000    3.37e+05    6.86e+05\n",
      "==============================================================================\n",
      "\n",
      "The condition number is large, 1.28e+06. This might indicate that there are\n",
      "strong multicollinearity or other numerical problems.\n"
     ]
    },
    {
     "name": "stderr",
     "output_type": "stream",
     "text": [
      "C:\\Users\\essmar\\AppData\\Local\\Programs\\Python\\Python39\\lib\\site-packages\\statsmodels\\regression\\quantile_regression.py:191: IterationLimitWarning: Maximum number of iterations (1000) reached.\n",
      "  warnings.warn(\"Maximum number of iterations (\" + str(max_iter) +\n"
     ]
    }
   ],
   "source": [
    "mod= quantreg(\"AAV ~ CF + PTS + HIT + TK + oiSV_Pct + ATOI + AGE + Season + PPG + PS\", s_df)\n",
    "res = mod.fit(q=.99)\n",
    "print(res.summary())"
   ]
  },
  {
   "cell_type": "code",
   "execution_count": 92,
   "id": "82ab8397",
   "metadata": {},
   "outputs": [
    {
     "data": {
      "text/plain": [
       "Text(0.5, 1.0, 'Predicted vs Actual Salaries -- quantreg')"
      ]
     },
     "execution_count": 92,
     "metadata": {},
     "output_type": "execute_result"
    },
    {
     "data": {
      "image/png": "[encoded data removed]",
      "text/plain": [
       "<Figure size 432x288 with 1 Axes>"
      ]
     },
     "metadata": {
      "needs_background": "light"
     },
     "output_type": "display_data"
    }
   ],
   "source": [
    "plt.scatter(y,res.fittedvalues, s=3, alpha=.1)\n",
    "plt.ylabel('predicted')\n",
    "plt.xlabel('actual')\n",
    "plt.title('Predicted vs Actual Salaries -- quantreg')"
   ]
  },
  {
   "cell_type": "code",
   "execution_count": 93,
   "id": "5e8d50d6",
   "metadata": {},
   "outputs": [
    {
     "data": {
      "text/plain": [
       "0"
      ]
     },
     "execution_count": 93,
     "metadata": {},
     "output_type": "execute_result"
    }
   ],
   "source": [
    "len(res.fittedvalues[res.fittedvalues<0])"
   ]
  },
  {
   "cell_type": "code",
   "execution_count": 94,
   "id": "4d292020",
   "metadata": {},
   "outputs": [
    {
     "data": {
      "text/plain": [
       "550000.0"
      ]
     },
     "execution_count": 94,
     "metadata": {},
     "output_type": "execute_result"
    }
   ],
   "source": [
    "np.min(y_pred)"
   ]
  },
  {
   "cell_type": "code",
   "execution_count": 95,
   "id": "5ea7b730",
   "metadata": {},
   "outputs": [
    {
     "data": {
      "text/plain": [
       "268728.0914587225"
      ]
     },
     "execution_count": 95,
     "metadata": {},
     "output_type": "execute_result"
    }
   ],
   "source": [
    "np.min(res.fittedvalues)"
   ]
  },
  {
   "cell_type": "code",
   "execution_count": 96,
   "id": "f80815c4",
   "metadata": {},
   "outputs": [
    {
     "data": {
      "text/plain": [
       "2697"
      ]
     },
     "execution_count": 96,
     "metadata": {},
     "output_type": "execute_result"
    }
   ],
   "source": [
    "len(res.fittedvalues)"
   ]
  },
  {
   "cell_type": "code",
   "execution_count": 97,
   "id": "f36cbf2d",
   "metadata": {},
   "outputs": [
    {
     "data": {
      "text/plain": [
       "2697"
      ]
     },
     "execution_count": 97,
     "metadata": {},
     "output_type": "execute_result"
    }
   ],
   "source": [
    "len(X)"
   ]
  },
  {
   "cell_type": "code",
   "execution_count": 98,
   "id": "193a6af9",
   "metadata": {},
   "outputs": [
    {
     "name": "stderr",
     "output_type": "stream",
     "text": [
      "C:\\Users\\essmar\\AppData\\Local\\Temp/ipykernel_2916/1094547132.py:2: SettingWithCopyWarning: \n",
      "A value is trying to be set on a copy of a slice from a DataFrame.\n",
      "Try using .loc[row_indexer,col_indexer] = value instead\n",
      "\n",
      "See the caveats in the documentation: https://pandas.pydata.org/pandas-docs/stable/user_guide/indexing.html#returning-a-view-versus-a-copy\n",
      "  quant_df['Pred']= res.fittedvalues\n",
      "C:\\Users\\essmar\\AppData\\Local\\Temp/ipykernel_2916/1094547132.py:3: SettingWithCopyWarning: \n",
      "A value is trying to be set on a copy of a slice from a DataFrame.\n",
      "Try using .loc[row_indexer,col_indexer] = value instead\n",
      "\n",
      "See the caveats in the documentation: https://pandas.pydata.org/pandas-docs/stable/user_guide/indexing.html#returning-a-view-versus-a-copy\n",
      "  quant_df['Residuals']= quant_df['AAV'] - quant_df['Pred']\n",
      "C:\\Users\\essmar\\AppData\\Local\\Programs\\Python\\Python39\\lib\\site-packages\\pandas\\core\\indexing.py:1817: SettingWithCopyWarning: \n",
      "A value is trying to be set on a copy of a slice from a DataFrame.\n",
      "Try using .loc[row_indexer,col_indexer] = value instead\n",
      "\n",
      "See the caveats in the documentation: https://pandas.pydata.org/pandas-docs/stable/user_guide/indexing.html#returning-a-view-versus-a-copy\n",
      "  self._setitem_single_column(loc, value, pi)\n"
     ]
    },
    {
     "data": {
      "text/html": [
       "<div>\n",
       "<style scoped>\n",
       "    .dataframe tbody tr th:only-of-type {\n",
       "        vertical-align: middle;\n",
       "    }\n",
       "\n",
       "    .dataframe tbody tr th {\n",
       "        vertical-align: top;\n",
       "    }\n",
       "\n",
       "    .dataframe thead th {\n",
       "        text-align: right;\n",
       "    }\n",
       "</style>\n",
       "<table border=\"1\" class=\"dataframe\">\n",
       "  <thead>\n",
       "    <tr style=\"text-align: right;\">\n",
       "      <th></th>\n",
       "      <th>Player</th>\n",
       "      <th>GP</th>\n",
       "      <th>CF</th>\n",
       "      <th>PTS</th>\n",
       "      <th>HIT</th>\n",
       "      <th>TK</th>\n",
       "      <th>oiSV_Pct</th>\n",
       "      <th>ATOI</th>\n",
       "      <th>AGE</th>\n",
       "      <th>Season</th>\n",
       "      <th>PPG</th>\n",
       "      <th>PS</th>\n",
       "      <th>AAV</th>\n",
       "      <th>Pred</th>\n",
       "      <th>Residuals</th>\n",
       "    </tr>\n",
       "  </thead>\n",
       "  <tbody>\n",
       "    <tr>\n",
       "      <th>0</th>\n",
       "      <td>Wayne Simmonds</td>\n",
       "      <td>61.666667</td>\n",
       "      <td>670.666667</td>\n",
       "      <td>21.333333</td>\n",
       "      <td>115.333333</td>\n",
       "      <td>22.333333</td>\n",
       "      <td>91.733333</td>\n",
       "      <td>14.188889</td>\n",
       "      <td>32.0</td>\n",
       "      <td>2021</td>\n",
       "      <td>0.345946</td>\n",
       "      <td>1.166667</td>\n",
       "      <td>900000.0</td>\n",
       "      <td>4.003738e+06</td>\n",
       "      <td>-3.103738e+06</td>\n",
       "    </tr>\n",
       "    <tr>\n",
       "      <th>1</th>\n",
       "      <td>Ryan Nugent-Hopkins</td>\n",
       "      <td>66.333333</td>\n",
       "      <td>893.000000</td>\n",
       "      <td>55.000000</td>\n",
       "      <td>42.666667</td>\n",
       "      <td>45.000000</td>\n",
       "      <td>90.600000</td>\n",
       "      <td>20.444444</td>\n",
       "      <td>28.0</td>\n",
       "      <td>2021</td>\n",
       "      <td>0.829146</td>\n",
       "      <td>5.433333</td>\n",
       "      <td>5125000.0</td>\n",
       "      <td>8.864523e+06</td>\n",
       "      <td>-3.739523e+06</td>\n",
       "    </tr>\n",
       "    <tr>\n",
       "      <th>2</th>\n",
       "      <td>Trent Frederic</td>\n",
       "      <td>19.666667</td>\n",
       "      <td>150.666667</td>\n",
       "      <td>1.666667</td>\n",
       "      <td>29.000000</td>\n",
       "      <td>4.666667</td>\n",
       "      <td>91.233333</td>\n",
       "      <td>9.027778</td>\n",
       "      <td>23.0</td>\n",
       "      <td>2021</td>\n",
       "      <td>0.084746</td>\n",
       "      <td>-0.200000</td>\n",
       "      <td>1050000.0</td>\n",
       "      <td>1.433930e+06</td>\n",
       "      <td>-3.839296e+05</td>\n",
       "    </tr>\n",
       "    <tr>\n",
       "      <th>3</th>\n",
       "      <td>Blake Lizotte</td>\n",
       "      <td>35.666667</td>\n",
       "      <td>402.000000</td>\n",
       "      <td>11.000000</td>\n",
       "      <td>24.666667</td>\n",
       "      <td>9.666667</td>\n",
       "      <td>87.766667</td>\n",
       "      <td>12.622222</td>\n",
       "      <td>23.0</td>\n",
       "      <td>2021</td>\n",
       "      <td>0.308411</td>\n",
       "      <td>0.700000</td>\n",
       "      <td>800000.0</td>\n",
       "      <td>3.271855e+06</td>\n",
       "      <td>-2.471855e+06</td>\n",
       "    </tr>\n",
       "    <tr>\n",
       "      <th>4</th>\n",
       "      <td>Matt Nieto</td>\n",
       "      <td>54.000000</td>\n",
       "      <td>570.666667</td>\n",
       "      <td>17.000000</td>\n",
       "      <td>37.333333</td>\n",
       "      <td>15.000000</td>\n",
       "      <td>91.466667</td>\n",
       "      <td>13.755556</td>\n",
       "      <td>28.0</td>\n",
       "      <td>2021</td>\n",
       "      <td>0.314815</td>\n",
       "      <td>1.066667</td>\n",
       "      <td>850000.0</td>\n",
       "      <td>3.486458e+06</td>\n",
       "      <td>-2.636458e+06</td>\n",
       "    </tr>\n",
       "    <tr>\n",
       "      <th>...</th>\n",
       "      <td>...</td>\n",
       "      <td>...</td>\n",
       "      <td>...</td>\n",
       "      <td>...</td>\n",
       "      <td>...</td>\n",
       "      <td>...</td>\n",
       "      <td>...</td>\n",
       "      <td>...</td>\n",
       "      <td>...</td>\n",
       "      <td>...</td>\n",
       "      <td>...</td>\n",
       "      <td>...</td>\n",
       "      <td>...</td>\n",
       "      <td>...</td>\n",
       "      <td>...</td>\n",
       "    </tr>\n",
       "    <tr>\n",
       "      <th>2692</th>\n",
       "      <td>Andy McDonald</td>\n",
       "      <td>46.000000</td>\n",
       "      <td>604.000000</td>\n",
       "      <td>44.000000</td>\n",
       "      <td>24.000000</td>\n",
       "      <td>18.000000</td>\n",
       "      <td>86.500000</td>\n",
       "      <td>19.083333</td>\n",
       "      <td>31.0</td>\n",
       "      <td>2009</td>\n",
       "      <td>0.956522</td>\n",
       "      <td>4.400000</td>\n",
       "      <td>4700000.0</td>\n",
       "      <td>8.139463e+06</td>\n",
       "      <td>-3.439463e+06</td>\n",
       "    </tr>\n",
       "    <tr>\n",
       "      <th>2693</th>\n",
       "      <td>George Parros</td>\n",
       "      <td>74.000000</td>\n",
       "      <td>334.000000</td>\n",
       "      <td>10.000000</td>\n",
       "      <td>89.000000</td>\n",
       "      <td>6.000000</td>\n",
       "      <td>94.100000</td>\n",
       "      <td>6.266667</td>\n",
       "      <td>29.0</td>\n",
       "      <td>2009</td>\n",
       "      <td>0.135135</td>\n",
       "      <td>1.000000</td>\n",
       "      <td>875000.0</td>\n",
       "      <td>2.010457e+06</td>\n",
       "      <td>-1.135457e+06</td>\n",
       "    </tr>\n",
       "    <tr>\n",
       "      <th>2694</th>\n",
       "      <td>Henrik Zetterberg</td>\n",
       "      <td>77.000000</td>\n",
       "      <td>1241.000000</td>\n",
       "      <td>73.000000</td>\n",
       "      <td>54.000000</td>\n",
       "      <td>42.000000</td>\n",
       "      <td>90.900000</td>\n",
       "      <td>19.883333</td>\n",
       "      <td>28.0</td>\n",
       "      <td>2009</td>\n",
       "      <td>0.948052</td>\n",
       "      <td>8.100000</td>\n",
       "      <td>6083333.0</td>\n",
       "      <td>1.046727e+07</td>\n",
       "      <td>-4.383939e+06</td>\n",
       "    </tr>\n",
       "    <tr>\n",
       "      <th>2695</th>\n",
       "      <td>Brendan Shanahan</td>\n",
       "      <td>34.000000</td>\n",
       "      <td>308.000000</td>\n",
       "      <td>14.000000</td>\n",
       "      <td>18.000000</td>\n",
       "      <td>14.000000</td>\n",
       "      <td>93.300000</td>\n",
       "      <td>14.900000</td>\n",
       "      <td>39.0</td>\n",
       "      <td>2009</td>\n",
       "      <td>0.411765</td>\n",
       "      <td>1.100000</td>\n",
       "      <td>800000.0</td>\n",
       "      <td>3.605986e+06</td>\n",
       "      <td>-2.805986e+06</td>\n",
       "    </tr>\n",
       "    <tr>\n",
       "      <th>2696</th>\n",
       "      <td>Jordan Staal</td>\n",
       "      <td>82.000000</td>\n",
       "      <td>985.000000</td>\n",
       "      <td>49.000000</td>\n",
       "      <td>156.000000</td>\n",
       "      <td>45.000000</td>\n",
       "      <td>91.100000</td>\n",
       "      <td>19.850000</td>\n",
       "      <td>20.0</td>\n",
       "      <td>2009</td>\n",
       "      <td>0.597561</td>\n",
       "      <td>4.500000</td>\n",
       "      <td>4000000.0</td>\n",
       "      <td>7.880882e+06</td>\n",
       "      <td>-3.880882e+06</td>\n",
       "    </tr>\n",
       "  </tbody>\n",
       "</table>\n",
       "<p>2697 rows × 15 columns</p>\n",
       "</div>"
      ],
      "text/plain": [
       "                   Player         GP           CF        PTS         HIT  \\\n",
       "0          Wayne Simmonds  61.666667   670.666667  21.333333  115.333333   \n",
       "1     Ryan Nugent-Hopkins  66.333333   893.000000  55.000000   42.666667   \n",
       "2          Trent Frederic  19.666667   150.666667   1.666667   29.000000   \n",
       "3           Blake Lizotte  35.666667   402.000000  11.000000   24.666667   \n",
       "4              Matt Nieto  54.000000   570.666667  17.000000   37.333333   \n",
       "...                   ...        ...          ...        ...         ...   \n",
       "2692        Andy McDonald  46.000000   604.000000  44.000000   24.000000   \n",
       "2693        George Parros  74.000000   334.000000  10.000000   89.000000   \n",
       "2694    Henrik Zetterberg  77.000000  1241.000000  73.000000   54.000000   \n",
       "2695     Brendan Shanahan  34.000000   308.000000  14.000000   18.000000   \n",
       "2696         Jordan Staal  82.000000   985.000000  49.000000  156.000000   \n",
       "\n",
       "             TK   oiSV_Pct       ATOI   AGE  Season       PPG        PS  \\\n",
       "0     22.333333  91.733333  14.188889  32.0    2021  0.345946  1.166667   \n",
       "1     45.000000  90.600000  20.444444  28.0    2021  0.829146  5.433333   \n",
       "2      4.666667  91.233333   9.027778  23.0    2021  0.084746 -0.200000   \n",
       "3      9.666667  87.766667  12.622222  23.0    2021  0.308411  0.700000   \n",
       "4     15.000000  91.466667  13.755556  28.0    2021  0.314815  1.066667   \n",
       "...         ...        ...        ...   ...     ...       ...       ...   \n",
       "2692  18.000000  86.500000  19.083333  31.0    2009  0.956522  4.400000   \n",
       "2693   6.000000  94.100000   6.266667  29.0    2009  0.135135  1.000000   \n",
       "2694  42.000000  90.900000  19.883333  28.0    2009  0.948052  8.100000   \n",
       "2695  14.000000  93.300000  14.900000  39.0    2009  0.411765  1.100000   \n",
       "2696  45.000000  91.100000  19.850000  20.0    2009  0.597561  4.500000   \n",
       "\n",
       "            AAV          Pred     Residuals  \n",
       "0      900000.0  4.003738e+06 -3.103738e+06  \n",
       "1     5125000.0  8.864523e+06 -3.739523e+06  \n",
       "2     1050000.0  1.433930e+06 -3.839296e+05  \n",
       "3      800000.0  3.271855e+06 -2.471855e+06  \n",
       "4      850000.0  3.486458e+06 -2.636458e+06  \n",
       "...         ...           ...           ...  \n",
       "2692  4700000.0  8.139463e+06 -3.439463e+06  \n",
       "2693   875000.0  2.010457e+06 -1.135457e+06  \n",
       "2694  6083333.0  1.046727e+07 -4.383939e+06  \n",
       "2695   800000.0  3.605986e+06 -2.805986e+06  \n",
       "2696  4000000.0  7.880882e+06 -3.880882e+06  \n",
       "\n",
       "[2697 rows x 15 columns]"
      ]
     },
     "execution_count": 98,
     "metadata": {},
     "output_type": "execute_result"
    }
   ],
   "source": [
    "quant_df= skaters[['Player','GP','CF', 'PTS', 'HIT', 'TK', 'oiSV_Pct', 'ATOI', 'AGE', 'Season', 'PPG','PS','AAV']]\n",
    "quant_df['Pred']= res.fittedvalues\n",
    "quant_df['Residuals']= quant_df['AAV'] - quant_df['Pred']\n",
    "\n",
    "quant_df.loc[(quant_df['Pred']<750000), 'Pred'] =750000 \n",
    "\n",
    "quant_df"
   ]
  },
  {
   "cell_type": "code",
   "execution_count": 100,
   "id": "c2e9fead",
   "metadata": {},
   "outputs": [
    {
     "data": {
      "text/plain": [
       "2424255.807149359"
      ]
     },
     "execution_count": 100,
     "metadata": {},
     "output_type": "execute_result"
    }
   ],
   "source": [
    "np.median(abs(quant_df['Residuals']))"
   ]
  },
  {
   "cell_type": "code",
   "execution_count": 42,
   "id": "6113f42b",
   "metadata": {},
   "outputs": [
    {
     "name": "stderr",
     "output_type": "stream",
     "text": [
      "C:\\Users\\essmar\\AppData\\Local\\Programs\\Python\\Python39\\lib\\site-packages\\seaborn\\_decorators.py:36: FutureWarning: Pass the following variables as keyword args: x, y. From version 0.12, the only valid positional argument will be `data`, and passing other arguments without an explicit keyword will result in an error or misinterpretation.\n",
      "  warnings.warn(\n"
     ]
    },
    {
     "data": {
      "image/png": "[encoded data removed]",
      "text/plain": [
       "<Figure size 432x288 with 1 Axes>"
      ]
     },
     "metadata": {
      "needs_background": "light"
     },
     "output_type": "display_data"
    }
   ],
   "source": [
    "xticks=[0, 1000000,2000000,3000000,4000000,5000000,6000000,7000000,8000000,9000000,10000000,11000000,12000000,13000000]\n",
    "yticks=[0, 1000000,2000000,3000000,4000000,5000000,6000000,7000000,8000000,9000000,10000000]\n",
    "xtlabels=['0', '$1,000,000','$2,000,000','$3,000,000','$4,000,000','$5,000,000','$6,000,000','$7,000,000','$8,000,000','$9,000,000','$10,000,000','$11,000,000','$12,000,000','$13,000,000']\n",
    "ytlabels=['0', '$1,000,000','$2,000,000','$3,000,000','$4,000,000','$5,000,000','$6,000,000','$7,000,000','$8,000,000','$9,000,000','$10,000,000']\n",
    "\n",
    "sns.regplot(y_test, y_pred,scatter_kws={'s':2})\n",
    "plt.xlabel('Actual Salaries')\n",
    "plt.ylabel('Predicted Salaries')\n",
    "plt.xticks(ticks= xticks, labels=xtlabels, rotation=290)\n",
    "plt.yticks(ticks= yticks, labels=ytlabels, rotation=0)\n",
    "plt.title('Predicted vs Actual Salaries -- model')\n",
    "plt.show()"
   ]
  },
  {
   "cell_type": "code",
   "execution_count": 43,
   "id": "63055895",
   "metadata": {},
   "outputs": [
    {
     "data": {
      "text/plain": [
       "11000000.0"
      ]
     },
     "execution_count": 43,
     "metadata": {},
     "output_type": "execute_result"
    }
   ],
   "source": [
    "max(y_test)"
   ]
  },
  {
   "cell_type": "code",
   "execution_count": 44,
   "id": "b1773186",
   "metadata": {},
   "outputs": [
    {
     "data": {
      "text/plain": [
       "9820166.650793651"
      ]
     },
     "execution_count": 44,
     "metadata": {},
     "output_type": "execute_result"
    }
   ],
   "source": [
    "max(y_pred)"
   ]
  },
  {
   "cell_type": "code",
   "execution_count": 46,
   "id": "91dcb94c",
   "metadata": {},
   "outputs": [
    {
     "data": {
      "text/plain": [
       "475000.0"
      ]
     },
     "execution_count": 46,
     "metadata": {},
     "output_type": "execute_result"
    }
   ],
   "source": [
    "min(y_test)"
   ]
  },
  {
   "cell_type": "code",
   "execution_count": 47,
   "id": "b7c4e0d7",
   "metadata": {},
   "outputs": [
    {
     "data": {
      "text/plain": [
       "550000.0"
      ]
     },
     "execution_count": 47,
     "metadata": {},
     "output_type": "execute_result"
    }
   ],
   "source": [
    "min(y_pred)"
   ]
  },
  {
   "cell_type": "code",
   "execution_count": 48,
   "id": "25a6699e",
   "metadata": {},
   "outputs": [
    {
     "name": "stderr",
     "output_type": "stream",
     "text": [
      "C:\\Users\\essmar\\AppData\\Local\\Programs\\Python\\Python39\\lib\\site-packages\\sklearn\\base.py:434: UserWarning: X has feature names, but ExtraTreesRegressor was fitted without feature names\n",
      "  warnings.warn(\n"
     ]
    }
   ],
   "source": [
    "pred= skater_model.predict(X)"
   ]
  },
  {
   "cell_type": "code",
   "execution_count": 49,
   "id": "2d107b74",
   "metadata": {
    "scrolled": false
   },
   "outputs": [
    {
     "name": "stderr",
     "output_type": "stream",
     "text": [
      "C:\\Users\\essmar\\AppData\\Local\\Temp/ipykernel_2916/1265576268.py:2: SettingWithCopyWarning: \n",
      "A value is trying to be set on a copy of a slice from a DataFrame.\n",
      "Try using .loc[row_indexer,col_indexer] = value instead\n",
      "\n",
      "See the caveats in the documentation: https://pandas.pydata.org/pandas-docs/stable/user_guide/indexing.html#returning-a-view-versus-a-copy\n",
      "  model_df['Pred']= pred\n",
      "C:\\Users\\essmar\\AppData\\Local\\Temp/ipykernel_2916/1265576268.py:3: SettingWithCopyWarning: \n",
      "A value is trying to be set on a copy of a slice from a DataFrame.\n",
      "Try using .loc[row_indexer,col_indexer] = value instead\n",
      "\n",
      "See the caveats in the documentation: https://pandas.pydata.org/pandas-docs/stable/user_guide/indexing.html#returning-a-view-versus-a-copy\n",
      "  model_df['Residuals']= model_df['AAV'] - model_df['Pred']\n",
      "C:\\Users\\essmar\\AppData\\Local\\Programs\\Python\\Python39\\lib\\site-packages\\pandas\\core\\indexing.py:1817: SettingWithCopyWarning: \n",
      "A value is trying to be set on a copy of a slice from a DataFrame.\n",
      "Try using .loc[row_indexer,col_indexer] = value instead\n",
      "\n",
      "See the caveats in the documentation: https://pandas.pydata.org/pandas-docs/stable/user_guide/indexing.html#returning-a-view-versus-a-copy\n",
      "  self._setitem_single_column(loc, value, pi)\n"
     ]
    },
    {
     "data": {
      "text/html": [
       "<div>\n",
       "<style scoped>\n",
       "    .dataframe tbody tr th:only-of-type {\n",
       "        vertical-align: middle;\n",
       "    }\n",
       "\n",
       "    .dataframe tbody tr th {\n",
       "        vertical-align: top;\n",
       "    }\n",
       "\n",
       "    .dataframe thead th {\n",
       "        text-align: right;\n",
       "    }\n",
       "</style>\n",
       "<table border=\"1\" class=\"dataframe\">\n",
       "  <thead>\n",
       "    <tr style=\"text-align: right;\">\n",
       "      <th></th>\n",
       "      <th>Player</th>\n",
       "      <th>GP</th>\n",
       "      <th>CF</th>\n",
       "      <th>PTS</th>\n",
       "      <th>HIT</th>\n",
       "      <th>TK</th>\n",
       "      <th>oiSV_Pct</th>\n",
       "      <th>ATOI</th>\n",
       "      <th>AGE</th>\n",
       "      <th>Season</th>\n",
       "      <th>PPG</th>\n",
       "      <th>PS</th>\n",
       "      <th>AAV</th>\n",
       "      <th>Pred</th>\n",
       "      <th>Residuals</th>\n",
       "    </tr>\n",
       "  </thead>\n",
       "  <tbody>\n",
       "    <tr>\n",
       "      <th>0</th>\n",
       "      <td>Wayne Simmonds</td>\n",
       "      <td>61.666667</td>\n",
       "      <td>670.666667</td>\n",
       "      <td>21.333333</td>\n",
       "      <td>115.333333</td>\n",
       "      <td>22.333333</td>\n",
       "      <td>91.733333</td>\n",
       "      <td>14.188889</td>\n",
       "      <td>32.0</td>\n",
       "      <td>2021</td>\n",
       "      <td>0.345946</td>\n",
       "      <td>1.166667</td>\n",
       "      <td>900000.0</td>\n",
       "      <td>1.288042e+06</td>\n",
       "      <td>-388042.338624</td>\n",
       "    </tr>\n",
       "    <tr>\n",
       "      <th>1</th>\n",
       "      <td>Ryan Nugent-Hopkins</td>\n",
       "      <td>66.333333</td>\n",
       "      <td>893.000000</td>\n",
       "      <td>55.000000</td>\n",
       "      <td>42.666667</td>\n",
       "      <td>45.000000</td>\n",
       "      <td>90.600000</td>\n",
       "      <td>20.444444</td>\n",
       "      <td>28.0</td>\n",
       "      <td>2021</td>\n",
       "      <td>0.829146</td>\n",
       "      <td>5.433333</td>\n",
       "      <td>5125000.0</td>\n",
       "      <td>5.125992e+06</td>\n",
       "      <td>-992.063492</td>\n",
       "    </tr>\n",
       "    <tr>\n",
       "      <th>2</th>\n",
       "      <td>Trent Frederic</td>\n",
       "      <td>19.666667</td>\n",
       "      <td>150.666667</td>\n",
       "      <td>1.666667</td>\n",
       "      <td>29.000000</td>\n",
       "      <td>4.666667</td>\n",
       "      <td>91.233333</td>\n",
       "      <td>9.027778</td>\n",
       "      <td>23.0</td>\n",
       "      <td>2021</td>\n",
       "      <td>0.084746</td>\n",
       "      <td>-0.200000</td>\n",
       "      <td>1050000.0</td>\n",
       "      <td>1.050000e+06</td>\n",
       "      <td>0.000000</td>\n",
       "    </tr>\n",
       "    <tr>\n",
       "      <th>3</th>\n",
       "      <td>Blake Lizotte</td>\n",
       "      <td>35.666667</td>\n",
       "      <td>402.000000</td>\n",
       "      <td>11.000000</td>\n",
       "      <td>24.666667</td>\n",
       "      <td>9.666667</td>\n",
       "      <td>87.766667</td>\n",
       "      <td>12.622222</td>\n",
       "      <td>23.0</td>\n",
       "      <td>2021</td>\n",
       "      <td>0.308411</td>\n",
       "      <td>0.700000</td>\n",
       "      <td>800000.0</td>\n",
       "      <td>8.124185e+05</td>\n",
       "      <td>-12418.541286</td>\n",
       "    </tr>\n",
       "    <tr>\n",
       "      <th>4</th>\n",
       "      <td>Matt Nieto</td>\n",
       "      <td>54.000000</td>\n",
       "      <td>570.666667</td>\n",
       "      <td>17.000000</td>\n",
       "      <td>37.333333</td>\n",
       "      <td>15.000000</td>\n",
       "      <td>91.466667</td>\n",
       "      <td>13.755556</td>\n",
       "      <td>28.0</td>\n",
       "      <td>2021</td>\n",
       "      <td>0.314815</td>\n",
       "      <td>1.066667</td>\n",
       "      <td>850000.0</td>\n",
       "      <td>8.450066e+05</td>\n",
       "      <td>4993.386243</td>\n",
       "    </tr>\n",
       "    <tr>\n",
       "      <th>...</th>\n",
       "      <td>...</td>\n",
       "      <td>...</td>\n",
       "      <td>...</td>\n",
       "      <td>...</td>\n",
       "      <td>...</td>\n",
       "      <td>...</td>\n",
       "      <td>...</td>\n",
       "      <td>...</td>\n",
       "      <td>...</td>\n",
       "      <td>...</td>\n",
       "      <td>...</td>\n",
       "      <td>...</td>\n",
       "      <td>...</td>\n",
       "      <td>...</td>\n",
       "      <td>...</td>\n",
       "    </tr>\n",
       "    <tr>\n",
       "      <th>2692</th>\n",
       "      <td>Andy McDonald</td>\n",
       "      <td>46.000000</td>\n",
       "      <td>604.000000</td>\n",
       "      <td>44.000000</td>\n",
       "      <td>24.000000</td>\n",
       "      <td>18.000000</td>\n",
       "      <td>86.500000</td>\n",
       "      <td>19.083333</td>\n",
       "      <td>31.0</td>\n",
       "      <td>2009</td>\n",
       "      <td>0.956522</td>\n",
       "      <td>4.400000</td>\n",
       "      <td>4700000.0</td>\n",
       "      <td>4.700000e+06</td>\n",
       "      <td>0.000000</td>\n",
       "    </tr>\n",
       "    <tr>\n",
       "      <th>2693</th>\n",
       "      <td>George Parros</td>\n",
       "      <td>74.000000</td>\n",
       "      <td>334.000000</td>\n",
       "      <td>10.000000</td>\n",
       "      <td>89.000000</td>\n",
       "      <td>6.000000</td>\n",
       "      <td>94.100000</td>\n",
       "      <td>6.266667</td>\n",
       "      <td>29.0</td>\n",
       "      <td>2009</td>\n",
       "      <td>0.135135</td>\n",
       "      <td>1.000000</td>\n",
       "      <td>875000.0</td>\n",
       "      <td>8.711864e+05</td>\n",
       "      <td>3813.597884</td>\n",
       "    </tr>\n",
       "    <tr>\n",
       "      <th>2694</th>\n",
       "      <td>Henrik Zetterberg</td>\n",
       "      <td>77.000000</td>\n",
       "      <td>1241.000000</td>\n",
       "      <td>73.000000</td>\n",
       "      <td>54.000000</td>\n",
       "      <td>42.000000</td>\n",
       "      <td>90.900000</td>\n",
       "      <td>19.883333</td>\n",
       "      <td>28.0</td>\n",
       "      <td>2009</td>\n",
       "      <td>0.948052</td>\n",
       "      <td>8.100000</td>\n",
       "      <td>6083333.0</td>\n",
       "      <td>6.083333e+06</td>\n",
       "      <td>0.000000</td>\n",
       "    </tr>\n",
       "    <tr>\n",
       "      <th>2695</th>\n",
       "      <td>Brendan Shanahan</td>\n",
       "      <td>34.000000</td>\n",
       "      <td>308.000000</td>\n",
       "      <td>14.000000</td>\n",
       "      <td>18.000000</td>\n",
       "      <td>14.000000</td>\n",
       "      <td>93.300000</td>\n",
       "      <td>14.900000</td>\n",
       "      <td>39.0</td>\n",
       "      <td>2009</td>\n",
       "      <td>0.411765</td>\n",
       "      <td>1.100000</td>\n",
       "      <td>800000.0</td>\n",
       "      <td>8.122496e+05</td>\n",
       "      <td>-12249.559083</td>\n",
       "    </tr>\n",
       "    <tr>\n",
       "      <th>2696</th>\n",
       "      <td>Jordan Staal</td>\n",
       "      <td>82.000000</td>\n",
       "      <td>985.000000</td>\n",
       "      <td>49.000000</td>\n",
       "      <td>156.000000</td>\n",
       "      <td>45.000000</td>\n",
       "      <td>91.100000</td>\n",
       "      <td>19.850000</td>\n",
       "      <td>20.0</td>\n",
       "      <td>2009</td>\n",
       "      <td>0.597561</td>\n",
       "      <td>4.500000</td>\n",
       "      <td>4000000.0</td>\n",
       "      <td>3.548265e+06</td>\n",
       "      <td>451734.730159</td>\n",
       "    </tr>\n",
       "  </tbody>\n",
       "</table>\n",
       "<p>2697 rows × 15 columns</p>\n",
       "</div>"
      ],
      "text/plain": [
       "                   Player         GP           CF        PTS         HIT  \\\n",
       "0          Wayne Simmonds  61.666667   670.666667  21.333333  115.333333   \n",
       "1     Ryan Nugent-Hopkins  66.333333   893.000000  55.000000   42.666667   \n",
       "2          Trent Frederic  19.666667   150.666667   1.666667   29.000000   \n",
       "3           Blake Lizotte  35.666667   402.000000  11.000000   24.666667   \n",
       "4              Matt Nieto  54.000000   570.666667  17.000000   37.333333   \n",
       "...                   ...        ...          ...        ...         ...   \n",
       "2692        Andy McDonald  46.000000   604.000000  44.000000   24.000000   \n",
       "2693        George Parros  74.000000   334.000000  10.000000   89.000000   \n",
       "2694    Henrik Zetterberg  77.000000  1241.000000  73.000000   54.000000   \n",
       "2695     Brendan Shanahan  34.000000   308.000000  14.000000   18.000000   \n",
       "2696         Jordan Staal  82.000000   985.000000  49.000000  156.000000   \n",
       "\n",
       "             TK   oiSV_Pct       ATOI   AGE  Season       PPG        PS  \\\n",
       "0     22.333333  91.733333  14.188889  32.0    2021  0.345946  1.166667   \n",
       "1     45.000000  90.600000  20.444444  28.0    2021  0.829146  5.433333   \n",
       "2      4.666667  91.233333   9.027778  23.0    2021  0.084746 -0.200000   \n",
       "3      9.666667  87.766667  12.622222  23.0    2021  0.308411  0.700000   \n",
       "4     15.000000  91.466667  13.755556  28.0    2021  0.314815  1.066667   \n",
       "...         ...        ...        ...   ...     ...       ...       ...   \n",
       "2692  18.000000  86.500000  19.083333  31.0    2009  0.956522  4.400000   \n",
       "2693   6.000000  94.100000   6.266667  29.0    2009  0.135135  1.000000   \n",
       "2694  42.000000  90.900000  19.883333  28.0    2009  0.948052  8.100000   \n",
       "2695  14.000000  93.300000  14.900000  39.0    2009  0.411765  1.100000   \n",
       "2696  45.000000  91.100000  19.850000  20.0    2009  0.597561  4.500000   \n",
       "\n",
       "            AAV          Pred      Residuals  \n",
       "0      900000.0  1.288042e+06 -388042.338624  \n",
       "1     5125000.0  5.125992e+06    -992.063492  \n",
       "2     1050000.0  1.050000e+06       0.000000  \n",
       "3      800000.0  8.124185e+05  -12418.541286  \n",
       "4      850000.0  8.450066e+05    4993.386243  \n",
       "...         ...           ...            ...  \n",
       "2692  4700000.0  4.700000e+06       0.000000  \n",
       "2693   875000.0  8.711864e+05    3813.597884  \n",
       "2694  6083333.0  6.083333e+06       0.000000  \n",
       "2695   800000.0  8.122496e+05  -12249.559083  \n",
       "2696  4000000.0  3.548265e+06  451734.730159  \n",
       "\n",
       "[2697 rows x 15 columns]"
      ]
     },
     "execution_count": 49,
     "metadata": {},
     "output_type": "execute_result"
    }
   ],
   "source": [
    "model_df= skaters[['Player','GP','CF', 'PTS', 'HIT', 'TK', 'oiSV_Pct', 'ATOI', 'AGE', 'Season', 'PPG','PS','AAV']]\n",
    "model_df['Pred']= pred\n",
    "model_df['Residuals']= model_df['AAV'] - model_df['Pred']\n",
    "\n",
    "model_df.loc[(model_df['Pred']<750000), 'Pred'] =750000 \n",
    "\n",
    "model_df"
   ]
  },
  {
   "cell_type": "code",
   "execution_count": 50,
   "id": "934e2ec7",
   "metadata": {},
   "outputs": [
    {
     "data": {
      "text/plain": [
       "-4944896.507936508"
      ]
     },
     "execution_count": 50,
     "metadata": {},
     "output_type": "execute_result"
    }
   ],
   "source": [
    "min(model_df.Residuals)"
   ]
  },
  {
   "cell_type": "code",
   "execution_count": 51,
   "id": "192a0f20",
   "metadata": {},
   "outputs": [
    {
     "data": {
      "text/plain": [
       "106"
      ]
     },
     "execution_count": 51,
     "metadata": {},
     "output_type": "execute_result"
    }
   ],
   "source": [
    "len(model_df[abs(model_df['Residuals'])>1000000])"
   ]
  },
  {
   "cell_type": "code",
   "execution_count": 102,
   "id": "f683ca63",
   "metadata": {},
   "outputs": [
    {
     "data": {
      "text/plain": [
       "128979.73076024094"
      ]
     },
     "execution_count": 102,
     "metadata": {},
     "output_type": "execute_result"
    }
   ],
   "source": [
    "np.mean(abs(model_df['Residuals']))"
   ]
  },
  {
   "cell_type": "code",
   "execution_count": 103,
   "id": "bb153621",
   "metadata": {},
   "outputs": [
    {
     "data": {
      "text/plain": [
       "5997.259637188283"
      ]
     },
     "execution_count": 103,
     "metadata": {},
     "output_type": "execute_result"
    }
   ],
   "source": [
    "np.median(abs(model_df['Residuals']))"
   ]
  },
  {
   "cell_type": "code",
   "execution_count": 104,
   "id": "bfc9e982",
   "metadata": {},
   "outputs": [
    {
     "data": {
      "text/html": [
       "<div>\n",
       "<style scoped>\n",
       "    .dataframe tbody tr th:only-of-type {\n",
       "        vertical-align: middle;\n",
       "    }\n",
       "\n",
       "    .dataframe tbody tr th {\n",
       "        vertical-align: top;\n",
       "    }\n",
       "\n",
       "    .dataframe thead th {\n",
       "        text-align: right;\n",
       "    }\n",
       "</style>\n",
       "<table border=\"1\" class=\"dataframe\">\n",
       "  <thead>\n",
       "    <tr style=\"text-align: right;\">\n",
       "      <th></th>\n",
       "      <th>Player</th>\n",
       "      <th>GP</th>\n",
       "      <th>CF</th>\n",
       "      <th>PTS</th>\n",
       "      <th>HIT</th>\n",
       "      <th>TK</th>\n",
       "      <th>oiSV_Pct</th>\n",
       "      <th>ATOI</th>\n",
       "      <th>AGE</th>\n",
       "      <th>Season</th>\n",
       "      <th>PPG</th>\n",
       "      <th>PS</th>\n",
       "      <th>AAV</th>\n",
       "      <th>Pred</th>\n",
       "      <th>Residuals</th>\n",
       "    </tr>\n",
       "  </thead>\n",
       "  <tbody>\n",
       "    <tr>\n",
       "      <th>1745</th>\n",
       "      <td>Jarome Iginla</td>\n",
       "      <td>69.333333</td>\n",
       "      <td>1042.333333</td>\n",
       "      <td>62.000000</td>\n",
       "      <td>97.333333</td>\n",
       "      <td>36.666667</td>\n",
       "      <td>90.266667</td>\n",
       "      <td>20.116667</td>\n",
       "      <td>36.0</td>\n",
       "      <td>2013</td>\n",
       "      <td>0.894231</td>\n",
       "      <td>7.633333</td>\n",
       "      <td>1800000.0</td>\n",
       "      <td>6.744897e+06</td>\n",
       "      <td>-4.944897e+06</td>\n",
       "    </tr>\n",
       "    <tr>\n",
       "      <th>470</th>\n",
       "      <td>Eric Staal</td>\n",
       "      <td>81.666667</td>\n",
       "      <td>1240.000000</td>\n",
       "      <td>64.333333</td>\n",
       "      <td>41.666667</td>\n",
       "      <td>49.333333</td>\n",
       "      <td>90.300000</td>\n",
       "      <td>18.183333</td>\n",
       "      <td>34.0</td>\n",
       "      <td>2019</td>\n",
       "      <td>0.787755</td>\n",
       "      <td>7.633333</td>\n",
       "      <td>3250000.0</td>\n",
       "      <td>7.266497e+06</td>\n",
       "      <td>-4.016497e+06</td>\n",
       "    </tr>\n",
       "    <tr>\n",
       "      <th>2369</th>\n",
       "      <td>Mike Cammalleri</td>\n",
       "      <td>73.000000</td>\n",
       "      <td>1077.500000</td>\n",
       "      <td>66.000000</td>\n",
       "      <td>19.500000</td>\n",
       "      <td>33.000000</td>\n",
       "      <td>90.950000</td>\n",
       "      <td>18.533333</td>\n",
       "      <td>28.0</td>\n",
       "      <td>2010</td>\n",
       "      <td>0.904110</td>\n",
       "      <td>8.150000</td>\n",
       "      <td>1700000.0</td>\n",
       "      <td>5.421121e+06</td>\n",
       "      <td>-3.721121e+06</td>\n",
       "    </tr>\n",
       "    <tr>\n",
       "      <th>1421</th>\n",
       "      <td>Michael Del Zotto</td>\n",
       "      <td>63.333333</td>\n",
       "      <td>972.000000</td>\n",
       "      <td>26.000000</td>\n",
       "      <td>103.666667</td>\n",
       "      <td>17.666667</td>\n",
       "      <td>92.900000</td>\n",
       "      <td>20.933333</td>\n",
       "      <td>24.0</td>\n",
       "      <td>2014</td>\n",
       "      <td>0.410526</td>\n",
       "      <td>5.400000</td>\n",
       "      <td>1300000.0</td>\n",
       "      <td>4.797745e+06</td>\n",
       "      <td>-3.497745e+06</td>\n",
       "    </tr>\n",
       "    <tr>\n",
       "      <th>978</th>\n",
       "      <td>Jiri Hudler</td>\n",
       "      <td>75.000000</td>\n",
       "      <td>972.333333</td>\n",
       "      <td>58.666667</td>\n",
       "      <td>30.000000</td>\n",
       "      <td>31.666667</td>\n",
       "      <td>90.233333</td>\n",
       "      <td>17.544444</td>\n",
       "      <td>32.0</td>\n",
       "      <td>2016</td>\n",
       "      <td>0.782222</td>\n",
       "      <td>6.966667</td>\n",
       "      <td>2000000.0</td>\n",
       "      <td>5.094577e+06</td>\n",
       "      <td>-3.094577e+06</td>\n",
       "    </tr>\n",
       "    <tr>\n",
       "      <th>...</th>\n",
       "      <td>...</td>\n",
       "      <td>...</td>\n",
       "      <td>...</td>\n",
       "      <td>...</td>\n",
       "      <td>...</td>\n",
       "      <td>...</td>\n",
       "      <td>...</td>\n",
       "      <td>...</td>\n",
       "      <td>...</td>\n",
       "      <td>...</td>\n",
       "      <td>...</td>\n",
       "      <td>...</td>\n",
       "      <td>...</td>\n",
       "      <td>...</td>\n",
       "      <td>...</td>\n",
       "    </tr>\n",
       "    <tr>\n",
       "      <th>383</th>\n",
       "      <td>Tyler Myers</td>\n",
       "      <td>57.666667</td>\n",
       "      <td>930.666667</td>\n",
       "      <td>24.000000</td>\n",
       "      <td>59.000000</td>\n",
       "      <td>23.333333</td>\n",
       "      <td>92.900000</td>\n",
       "      <td>21.327778</td>\n",
       "      <td>29.0</td>\n",
       "      <td>2019</td>\n",
       "      <td>0.416185</td>\n",
       "      <td>4.400000</td>\n",
       "      <td>6000000.0</td>\n",
       "      <td>3.534061e+06</td>\n",
       "      <td>2.465939e+06</td>\n",
       "    </tr>\n",
       "    <tr>\n",
       "      <th>1176</th>\n",
       "      <td>Anze Kopitar</td>\n",
       "      <td>80.666667</td>\n",
       "      <td>1358.000000</td>\n",
       "      <td>69.333333</td>\n",
       "      <td>90.666667</td>\n",
       "      <td>40.666667</td>\n",
       "      <td>91.766667</td>\n",
       "      <td>20.377778</td>\n",
       "      <td>28.0</td>\n",
       "      <td>2016</td>\n",
       "      <td>0.859504</td>\n",
       "      <td>8.700000</td>\n",
       "      <td>10000000.0</td>\n",
       "      <td>7.479875e+06</td>\n",
       "      <td>2.520125e+06</td>\n",
       "    </tr>\n",
       "    <tr>\n",
       "      <th>2600</th>\n",
       "      <td>Francois Beauchemin</td>\n",
       "      <td>20.000000</td>\n",
       "      <td>320.000000</td>\n",
       "      <td>5.000000</td>\n",
       "      <td>26.000000</td>\n",
       "      <td>9.000000</td>\n",
       "      <td>90.400000</td>\n",
       "      <td>24.900000</td>\n",
       "      <td>29.0</td>\n",
       "      <td>2009</td>\n",
       "      <td>0.250000</td>\n",
       "      <td>1.100000</td>\n",
       "      <td>3800000.0</td>\n",
       "      <td>1.156052e+06</td>\n",
       "      <td>2.643948e+06</td>\n",
       "    </tr>\n",
       "    <tr>\n",
       "      <th>744</th>\n",
       "      <td>Bo Horvat</td>\n",
       "      <td>77.000000</td>\n",
       "      <td>853.000000</td>\n",
       "      <td>39.000000</td>\n",
       "      <td>67.666667</td>\n",
       "      <td>25.666667</td>\n",
       "      <td>90.100000</td>\n",
       "      <td>15.811111</td>\n",
       "      <td>22.0</td>\n",
       "      <td>2017</td>\n",
       "      <td>0.506494</td>\n",
       "      <td>3.700000</td>\n",
       "      <td>5500000.0</td>\n",
       "      <td>2.753397e+06</td>\n",
       "      <td>2.746603e+06</td>\n",
       "    </tr>\n",
       "    <tr>\n",
       "      <th>818</th>\n",
       "      <td>Patrick Marleau</td>\n",
       "      <td>82.000000</td>\n",
       "      <td>1182.000000</td>\n",
       "      <td>50.333333</td>\n",
       "      <td>76.333333</td>\n",
       "      <td>44.666667</td>\n",
       "      <td>90.466667</td>\n",
       "      <td>18.588889</td>\n",
       "      <td>37.0</td>\n",
       "      <td>2017</td>\n",
       "      <td>0.613821</td>\n",
       "      <td>5.266667</td>\n",
       "      <td>6250000.0</td>\n",
       "      <td>3.319842e+06</td>\n",
       "      <td>2.930158e+06</td>\n",
       "    </tr>\n",
       "  </tbody>\n",
       "</table>\n",
       "<p>2697 rows × 15 columns</p>\n",
       "</div>"
      ],
      "text/plain": [
       "                   Player         GP           CF        PTS         HIT  \\\n",
       "1745        Jarome Iginla  69.333333  1042.333333  62.000000   97.333333   \n",
       "470            Eric Staal  81.666667  1240.000000  64.333333   41.666667   \n",
       "2369      Mike Cammalleri  73.000000  1077.500000  66.000000   19.500000   \n",
       "1421    Michael Del Zotto  63.333333   972.000000  26.000000  103.666667   \n",
       "978           Jiri Hudler  75.000000   972.333333  58.666667   30.000000   \n",
       "...                   ...        ...          ...        ...         ...   \n",
       "383           Tyler Myers  57.666667   930.666667  24.000000   59.000000   \n",
       "1176         Anze Kopitar  80.666667  1358.000000  69.333333   90.666667   \n",
       "2600  Francois Beauchemin  20.000000   320.000000   5.000000   26.000000   \n",
       "744             Bo Horvat  77.000000   853.000000  39.000000   67.666667   \n",
       "818       Patrick Marleau  82.000000  1182.000000  50.333333   76.333333   \n",
       "\n",
       "             TK   oiSV_Pct       ATOI   AGE  Season       PPG        PS  \\\n",
       "1745  36.666667  90.266667  20.116667  36.0    2013  0.894231  7.633333   \n",
       "470   49.333333  90.300000  18.183333  34.0    2019  0.787755  7.633333   \n",
       "2369  33.000000  90.950000  18.533333  28.0    2010  0.904110  8.150000   \n",
       "1421  17.666667  92.900000  20.933333  24.0    2014  0.410526  5.400000   \n",
       "978   31.666667  90.233333  17.544444  32.0    2016  0.782222  6.966667   \n",
       "...         ...        ...        ...   ...     ...       ...       ...   \n",
       "383   23.333333  92.900000  21.327778  29.0    2019  0.416185  4.400000   \n",
       "1176  40.666667  91.766667  20.377778  28.0    2016  0.859504  8.700000   \n",
       "2600   9.000000  90.400000  24.900000  29.0    2009  0.250000  1.100000   \n",
       "744   25.666667  90.100000  15.811111  22.0    2017  0.506494  3.700000   \n",
       "818   44.666667  90.466667  18.588889  37.0    2017  0.613821  5.266667   \n",
       "\n",
       "             AAV          Pred     Residuals  \n",
       "1745   1800000.0  6.744897e+06 -4.944897e+06  \n",
       "470    3250000.0  7.266497e+06 -4.016497e+06  \n",
       "2369   1700000.0  5.421121e+06 -3.721121e+06  \n",
       "1421   1300000.0  4.797745e+06 -3.497745e+06  \n",
       "978    2000000.0  5.094577e+06 -3.094577e+06  \n",
       "...          ...           ...           ...  \n",
       "383    6000000.0  3.534061e+06  2.465939e+06  \n",
       "1176  10000000.0  7.479875e+06  2.520125e+06  \n",
       "2600   3800000.0  1.156052e+06  2.643948e+06  \n",
       "744    5500000.0  2.753397e+06  2.746603e+06  \n",
       "818    6250000.0  3.319842e+06  2.930158e+06  \n",
       "\n",
       "[2697 rows x 15 columns]"
      ]
     },
     "execution_count": 104,
     "metadata": {},
     "output_type": "execute_result"
    }
   ],
   "source": [
    "model_df.sort_values('Residuals')"
   ]
  },
  {
   "cell_type": "code",
   "execution_count": 112,
   "id": "88ab3c70",
   "metadata": {},
   "outputs": [
    {
     "data": {
      "text/plain": [
       "1207"
      ]
     },
     "execution_count": 112,
     "metadata": {},
     "output_type": "execute_result"
    }
   ],
   "source": [
    "len(model_df[model_df['Residuals']<0])"
   ]
  },
  {
   "cell_type": "code",
   "execution_count": 113,
   "id": "c5f1554a",
   "metadata": {},
   "outputs": [
    {
     "data": {
      "text/plain": [
       "951"
      ]
     },
     "execution_count": 113,
     "metadata": {},
     "output_type": "execute_result"
    }
   ],
   "source": [
    "len(model_df[model_df['Residuals']>0])"
   ]
  },
  {
   "cell_type": "code",
   "execution_count": 114,
   "id": "04bfb944",
   "metadata": {},
   "outputs": [
    {
     "data": {
      "text/plain": [
       "539"
      ]
     },
     "execution_count": 114,
     "metadata": {},
     "output_type": "execute_result"
    }
   ],
   "source": [
    "len(model_df[model_df['Residuals']==0])"
   ]
  },
  {
   "cell_type": "code",
   "execution_count": 115,
   "id": "ff860931",
   "metadata": {},
   "outputs": [
    {
     "data": {
      "text/plain": [
       "4944896.507936508"
      ]
     },
     "execution_count": 115,
     "metadata": {},
     "output_type": "execute_result"
    }
   ],
   "source": [
    "max(abs(model_df['Residuals']))"
   ]
  },
  {
   "cell_type": "code",
   "execution_count": 118,
   "id": "b9f64e48",
   "metadata": {},
   "outputs": [
    {
     "data": {
      "text/html": [
       "<div>\n",
       "<style scoped>\n",
       "    .dataframe tbody tr th:only-of-type {\n",
       "        vertical-align: middle;\n",
       "    }\n",
       "\n",
       "    .dataframe tbody tr th {\n",
       "        vertical-align: top;\n",
       "    }\n",
       "\n",
       "    .dataframe thead th {\n",
       "        text-align: right;\n",
       "    }\n",
       "</style>\n",
       "<table border=\"1\" class=\"dataframe\">\n",
       "  <thead>\n",
       "    <tr style=\"text-align: right;\">\n",
       "      <th></th>\n",
       "      <th>Player</th>\n",
       "      <th>GP</th>\n",
       "      <th>CF</th>\n",
       "      <th>PTS</th>\n",
       "      <th>HIT</th>\n",
       "      <th>TK</th>\n",
       "      <th>oiSV_Pct</th>\n",
       "      <th>ATOI</th>\n",
       "      <th>AGE</th>\n",
       "      <th>Season</th>\n",
       "      <th>PPG</th>\n",
       "      <th>PS</th>\n",
       "      <th>AAV</th>\n",
       "      <th>Pred</th>\n",
       "      <th>Residuals</th>\n",
       "    </tr>\n",
       "  </thead>\n",
       "  <tbody>\n",
       "    <tr>\n",
       "      <th>1745</th>\n",
       "      <td>Jarome Iginla</td>\n",
       "      <td>69.333333</td>\n",
       "      <td>1042.333333</td>\n",
       "      <td>62.0</td>\n",
       "      <td>97.333333</td>\n",
       "      <td>36.666667</td>\n",
       "      <td>90.266667</td>\n",
       "      <td>20.116667</td>\n",
       "      <td>36.0</td>\n",
       "      <td>2013</td>\n",
       "      <td>0.894231</td>\n",
       "      <td>7.633333</td>\n",
       "      <td>1800000.0</td>\n",
       "      <td>6.744897e+06</td>\n",
       "      <td>-4.944897e+06</td>\n",
       "    </tr>\n",
       "  </tbody>\n",
       "</table>\n",
       "</div>"
      ],
      "text/plain": [
       "             Player         GP           CF   PTS        HIT         TK  \\\n",
       "1745  Jarome Iginla  69.333333  1042.333333  62.0  97.333333  36.666667   \n",
       "\n",
       "       oiSV_Pct       ATOI   AGE  Season       PPG        PS        AAV  \\\n",
       "1745  90.266667  20.116667  36.0    2013  0.894231  7.633333  1800000.0   \n",
       "\n",
       "              Pred     Residuals  \n",
       "1745  6.744897e+06 -4.944897e+06  "
      ]
     },
     "execution_count": 118,
     "metadata": {},
     "output_type": "execute_result"
    }
   ],
   "source": [
    "model_df[abs(model_df['Residuals'])==4944896.507936508]"
   ]
  },
  {
   "cell_type": "code",
   "execution_count": 108,
   "id": "d527d2fa",
   "metadata": {},
   "outputs": [
    {
     "data": {
      "text/plain": [
       "-10006.512413512333"
      ]
     },
     "execution_count": 108,
     "metadata": {},
     "output_type": "execute_result"
    }
   ],
   "source": [
    "np.median(model_df[model_df['Residuals']<0]['Residuals'])"
   ]
  },
  {
   "cell_type": "code",
   "execution_count": 109,
   "id": "335edbc0",
   "metadata": {},
   "outputs": [
    {
     "data": {
      "text/plain": [
       "-166570.04318209813"
      ]
     },
     "execution_count": 109,
     "metadata": {},
     "output_type": "execute_result"
    }
   ],
   "source": [
    "np.mean(model_df[model_df['Residuals']<0]['Residuals'])"
   ]
  },
  {
   "cell_type": "code",
   "execution_count": 110,
   "id": "14c3572c",
   "metadata": {},
   "outputs": [
    {
     "data": {
      "text/plain": [
       "10978.83597883489"
      ]
     },
     "execution_count": 110,
     "metadata": {},
     "output_type": "execute_result"
    }
   ],
   "source": [
    "np.median(model_df[model_df['Residuals']>0]['Residuals'])"
   ]
  },
  {
   "cell_type": "code",
   "execution_count": 111,
   "id": "978fe02b",
   "metadata": {},
   "outputs": [
    {
     "data": {
      "text/plain": [
       "154372.54651900876"
      ]
     },
     "execution_count": 111,
     "metadata": {},
     "output_type": "execute_result"
    }
   ],
   "source": [
    "np.mean(model_df[model_df['Residuals']>0]['Residuals'])"
   ]
  },
  {
   "cell_type": "code",
   "execution_count": null,
   "id": "69ab3591",
   "metadata": {},
   "outputs": [],
   "source": []
  },
  {
   "cell_type": "markdown",
   "id": "6835abef",
   "metadata": {},
   "source": [
    "Capstone write-up idea:\n",
    "- mention how predictions may not match actual values because this model's purpose is to determine a player's worth based off his play/stats, whereas in reality the financial situation regarding the player may actually be a lot more complex. For example:\n",
    "        - player could willingly be taking a \"hometown discount\" to play somewhere he wants to be long-term or to keep the team togetjer\n",
    "        - a team's salary cap situation may be incapable of retaining that salary (ie, point 1)\n",
    "        - player is getting old/history of injury/decline in production makes signing him for more money less desirable\n",
    "        - no winning pedigree could possibly be a deterrent/someone with stanley cups or extensive playoff experience could get more money despite having less stats\n",
    "        - could be multiple players up for contract negotiations on the same team, so GM has to make them sign for less to keep the team together (point 1)\n",
    "        - also depends on that particular year, specific team in question (cap space), and the free agency talent pool at the time\n",
    "- salary cap constraints (in addition to a relatively small sample size -- esp goalies) is the biggest factor in limiting this models ability to yield reliable/concrete results because the GMs are limited in how much money they have to disperse\n",
    "        - signing players to even $1 million more per year is much more impactful to a team's payrol than it would be for sports like football, basketball, baseball, or soccer (where there is no salary caps and players can make an obscene amount of money yearly)\n",
    "\n",
    "- despite the pred vs test scatter plot, both have approximately the same mean salary\n",
    "\n",
    "\n",
    "- rebuttal: salary cap is necessary to keep parity within the league since some teams have much more profitable markets (Toronto Maple Leafs vs Florida Panthers)"
   ]
  },
  {
   "cell_type": "code",
   "execution_count": null,
   "id": "4e8125c9",
   "metadata": {},
   "outputs": [],
   "source": []
  },
  {
   "cell_type": "code",
   "execution_count": null,
   "id": "cc7a3bde",
   "metadata": {},
   "outputs": [],
   "source": []
  },
  {
   "cell_type": "code",
   "execution_count": null,
   "id": "033df88a",
   "metadata": {},
   "outputs": [],
   "source": []
  },
  {
   "cell_type": "code",
   "execution_count": null,
   "id": "61a8734d",
   "metadata": {},
   "outputs": [],
   "source": []
  },
  {
   "cell_type": "markdown",
   "id": "84d632f4",
   "metadata": {},
   "source": [
    "## Goalies"
   ]
  },
  {
   "cell_type": "code",
   "execution_count": 52,
   "id": "a7df97cf",
   "metadata": {},
   "outputs": [],
   "source": [
    "g_df= goalies[['GP','Season','W','GPS','GAA','SV_Pct','SOT_Pct','AGE','AAV']]\n",
    "\n",
    "X= g_df.iloc[:,1:-1]\n",
    "y= g_df.iloc[:, -1]\n",
    "\n",
    "X_train, X_test, y_train, y_test= train_test_split(X,y, test_size=0.2, random_state=12)"
   ]
  },
  {
   "cell_type": "code",
   "execution_count": 53,
   "id": "b2c106ee",
   "metadata": {},
   "outputs": [
    {
     "name": "stderr",
     "output_type": "stream",
     "text": [
      "C:\\Users\\essmar\\AppData\\Local\\Programs\\Python\\Python39\\lib\\site-packages\\sklearn\\base.py:434: UserWarning: X has feature names, but ExtraTreesRegressor was fitted without feature names\n",
      "  warnings.warn(\n"
     ]
    }
   ],
   "source": [
    "y_pred= goalie_model.predict(X_test)"
   ]
  },
  {
   "cell_type": "code",
   "execution_count": 54,
   "id": "c5e4c729",
   "metadata": {},
   "outputs": [
    {
     "data": {
      "text/plain": [
       "0.30672359086838674"
      ]
     },
     "execution_count": 54,
     "metadata": {},
     "output_type": "execute_result"
    }
   ],
   "source": [
    "r2_score(y_test, y_pred)"
   ]
  },
  {
   "cell_type": "code",
   "execution_count": 55,
   "id": "c9312c8e",
   "metadata": {},
   "outputs": [
    {
     "data": {
      "text/plain": [
       "937110.7028620742"
      ]
     },
     "execution_count": 55,
     "metadata": {},
     "output_type": "execute_result"
    }
   ],
   "source": [
    "mean_absolute_error(y_test, y_pred)"
   ]
  },
  {
   "cell_type": "code",
   "execution_count": 56,
   "id": "2b996a77",
   "metadata": {},
   "outputs": [
    {
     "data": {
      "text/plain": [
       "(281, 9)"
      ]
     },
     "execution_count": 56,
     "metadata": {},
     "output_type": "execute_result"
    }
   ],
   "source": [
    "g_df.shape"
   ]
  },
  {
   "cell_type": "code",
   "execution_count": 57,
   "id": "da7341a2",
   "metadata": {},
   "outputs": [
    {
     "name": "stderr",
     "output_type": "stream",
     "text": [
      "C:\\Users\\essmar\\AppData\\Local\\Programs\\Python\\Python39\\lib\\site-packages\\seaborn\\_decorators.py:36: FutureWarning: Pass the following variables as keyword args: x, y. From version 0.12, the only valid positional argument will be `data`, and passing other arguments without an explicit keyword will result in an error or misinterpretation.\n",
      "  warnings.warn(\n"
     ]
    },
    {
     "data": {
      "image/png": "[encoded data removed]",
      "text/plain": [
       "<Figure size 432x288 with 1 Axes>"
      ]
     },
     "metadata": {
      "needs_background": "light"
     },
     "output_type": "display_data"
    }
   ],
   "source": [
    "yticks=[0, 1000000,2000000,3000000,4000000,5000000,6000000,7000000]\n",
    "xticks=[0, 1000000,2000000,3000000,4000000,5000000,6000000,7000000]\n",
    "ytlabels=['0', '$1,000,000','$2,000,000','$3,000,000','$4,000,000','$5,000,000','$6,000,000','$7,000,000']\n",
    "xtlabels=['0', '$1,000,000','$2,000,000','$3,000,000','$4,000,000','$5,000,000','$6,000,000','$7,000,000']\n",
    "\n",
    "sns.regplot(y_pred, y_test,scatter_kws={'s':2})\n",
    "plt.ylabel('Actual Salaries')\n",
    "plt.xlabel('Predicted Salaries')\n",
    "plt.xticks(ticks= xticks, labels=xtlabels, rotation=290)\n",
    "plt.yticks(ticks= yticks, labels=ytlabels, rotation=0)\n",
    "plt.title('Predicted vs Actual Salaries -- model')\n",
    "plt.show()"
   ]
  },
  {
   "cell_type": "code",
   "execution_count": null,
   "id": "c0f5e022",
   "metadata": {},
   "outputs": [],
   "source": []
  },
  {
   "cell_type": "code",
   "execution_count": null,
   "id": "342cf6fa",
   "metadata": {},
   "outputs": [],
   "source": []
  },
  {
   "cell_type": "code",
   "execution_count": null,
   "id": "983b80d1",
   "metadata": {},
   "outputs": [],
   "source": []
  },
  {
   "cell_type": "code",
   "execution_count": null,
   "id": "4b3bd5bd",
   "metadata": {},
   "outputs": [],
   "source": []
  }
 ],
 "metadata": {
  "kernelspec": {
   "display_name": "Python 3 (ipykernel)",
   "language": "python",
   "name": "python3"
  },
  "language_info": {
   "codemirror_mode": {
    "name": "ipython",
    "version": 3
   },
   "file_extension": ".py",
   "mimetype": "text/x-python",
   "name": "python",
   "nbconvert_exporter": "python",
   "pygments_lexer": "ipython3",
   "version": "3.9.7"
  }
 },
 "nbformat": 4,
 "nbformat_minor": 5
}
