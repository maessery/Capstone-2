{
 "cells": [
  {
   "cell_type": "code",
   "execution_count": 1,
   "metadata": {
    "colab": {
     "base_uri": "https://localhost:8080/"
    },
    "id": "ob7vfxQimY2S",
    "outputId": "0c781f58-1146-4bfb-a58a-9ff58e014d83"
   },
   "outputs": [],
   "source": [
    "# open in Google Colab in order to run shap\n",
    "#!pip install shap"
   ]
  },
  {
   "cell_type": "code",
   "execution_count": 2,
   "metadata": {},
   "outputs": [],
   "source": [
    "#!pip install statsmodels"
   ]
  },
  {
   "cell_type": "code",
   "execution_count": 3,
   "metadata": {},
   "outputs": [
    {
     "name": "stdout",
     "output_type": "stream",
     "text": [
      "Requirement already satisfied: xgboost in c:\\users\\essmar\\appdata\\local\\programs\\python\\python39\\lib\\site-packages (1.5.0)\n",
      "Requirement already satisfied: numpy in c:\\users\\essmar\\appdata\\local\\programs\\python\\python39\\lib\\site-packages (from xgboost) (1.20.3)\n",
      "Requirement already satisfied: scipy in c:\\users\\essmar\\appdata\\local\\programs\\python\\python39\\lib\\site-packages (from xgboost) (1.7.1)\n"
     ]
    },
    {
     "name": "stderr",
     "output_type": "stream",
     "text": [
      "WARNING: You are using pip version 21.2.4; however, version 21.3 is available.\n",
      "You should consider upgrading via the 'C:\\Users\\essmar\\AppData\\Local\\Programs\\Python\\Python39\\python.exe -m pip install --upgrade pip' command.\n"
     ]
    }
   ],
   "source": [
    "!pip install xgboost"
   ]
  },
  {
   "cell_type": "code",
   "execution_count": 1,
   "metadata": {},
   "outputs": [
    {
     "name": "stdout",
     "output_type": "stream",
     "text": [
      "Requirement already satisfied: statsmodels in c:\\users\\essmar\\appdata\\local\\programs\\python\\python39\\lib\\site-packages (0.13.0)\n",
      "Requirement already satisfied: pandas>=0.25 in c:\\users\\essmar\\appdata\\local\\programs\\python\\python39\\lib\\site-packages (from statsmodels) (1.3.2)\n",
      "Requirement already satisfied: numpy>=1.17 in c:\\users\\essmar\\appdata\\local\\programs\\python\\python39\\lib\\site-packages (from statsmodels) (1.20.3)\n",
      "Requirement already satisfied: patsy>=0.5.2 in c:\\users\\essmar\\appdata\\local\\programs\\python\\python39\\lib\\site-packages (from statsmodels) (0.5.2)\n",
      "Requirement already satisfied: scipy>=1.3 in c:\\users\\essmar\\appdata\\local\\programs\\python\\python39\\lib\\site-packages (from statsmodels) (1.7.1)\n",
      "Requirement already satisfied: python-dateutil>=2.7.3 in c:\\users\\essmar\\appdata\\local\\programs\\python\\python39\\lib\\site-packages (from pandas>=0.25->statsmodels) (2.8.2)\n",
      "Requirement already satisfied: pytz>=2017.3 in c:\\users\\essmar\\appdata\\local\\programs\\python\\python39\\lib\\site-packages (from pandas>=0.25->statsmodels) (2021.1)\n",
      "Requirement already satisfied: six in c:\\users\\essmar\\appdata\\local\\programs\\python\\python39\\lib\\site-packages (from patsy>=0.5.2->statsmodels) (1.16.0)\n"
     ]
    },
    {
     "name": "stderr",
     "output_type": "stream",
     "text": [
      "WARNING: You are using pip version 21.2.3; however, version 21.3 is available.\n",
      "You should consider upgrading via the 'C:\\Users\\essmar\\AppData\\Local\\Programs\\Python\\Python39\\python.exe -m pip install --upgrade pip' command.\n"
     ]
    }
   ],
   "source": [
    "!pip install statsmodels"
   ]
  },
  {
   "cell_type": "code",
   "execution_count": 2,
   "metadata": {
    "id": "Cwg29Ay61dDj"
   },
   "outputs": [],
   "source": [
    "import pandas as pd\n",
    "import numpy as np\n",
    "import pickle\n",
    "from sklearn.ensemble import RandomForestRegressor, ExtraTreesRegressor , GradientBoostingRegressor\n",
    "import xgboost as xgb\n",
    "from sklearn.inspection import permutation_importance\n",
    "import statsmodels.api as sm\n",
    "from statsmodels.stats.outliers_influence import variance_inflation_factor\n",
    "import matplotlib.pyplot as plt\n",
    "import seaborn as sns\n",
    "from sklearn.preprocessing import RobustScaler, StandardScaler\n",
    "from sklearn.model_selection import GridSearchCV,  cross_validate, train_test_split, cross_val_score, learning_curve\n",
    "from sklearn.feature_selection import SelectKBest, f_regression\n",
    "from sklearn.pipeline import make_pipeline\n",
    "from sklearn.linear_model import LinearRegression, SGDRegressor, RANSACRegressor, Lasso, Ridge, ElasticNet\n",
    "from sklearn.metrics import r2_score, mean_absolute_error, mean_squared_error\n",
    "from sklearn.svm import LinearSVR, SVR\n",
    "from sklearn import __version__ as sklearn_version\n",
    "import datetime\n",
    "import joblib\n",
    "import os\n",
    "\n",
    "\n",
    "#import shap\n",
    "\n",
    "\n",
    "pd.set_option('display.max_columns', None) \n",
    "\n"
   ]
  },
  {
   "cell_type": "code",
   "execution_count": 3,
   "metadata": {
    "id": "xYPrIT7cWrW3"
   },
   "outputs": [],
   "source": [
    "sac= pd.read_csv('../Data/stats_and_contracts.csv')\n",
    "skaters= sac.query('(Pos_G==0)')\n",
    "skaters= skaters.drop(columns=['GS','W','L','TplusOTL','GA','GA','SV','SA','SV_Pct','GAA','SUT','GPS','MIN','QS','RBS','TYPE', 'Pos_G'])\n",
    "skaters['AGE']= skaters['AGE'].astype(float)\n",
    "skaters['AAV']= skaters['AAV'].astype(float)\n",
    "skaters= skaters.dropna()\n",
    "skaters= skaters.reset_index()\n",
    "\n",
    "forwards= pd.read_csv('../Data/forwards_final.csv')\n",
    "defense= pd.read_csv('../Data/defense_final.csv')\n",
    "goalies=pd.read_csv('../Data/goalies_final.csv')"
   ]
  },
  {
   "cell_type": "code",
   "execution_count": 4,
   "metadata": {
    "id": "Jxen5IkbST5G"
   },
   "outputs": [],
   "source": [
    "skaters= skaters.drop(columns=['index','Unnamed: 0'])\n",
    "forwards= forwards.drop(columns='Unnamed: 0')\n",
    "defense= defense.drop(columns='Unnamed: 0')\n",
    "goalies= goalies.drop(columns='Unnamed: 0')"
   ]
  },
  {
   "cell_type": "code",
   "execution_count": 5,
   "metadata": {},
   "outputs": [
    {
     "data": {
      "text/html": [
       "<div>\n",
       "<style scoped>\n",
       "    .dataframe tbody tr th:only-of-type {\n",
       "        vertical-align: middle;\n",
       "    }\n",
       "\n",
       "    .dataframe tbody tr th {\n",
       "        vertical-align: top;\n",
       "    }\n",
       "\n",
       "    .dataframe thead th {\n",
       "        text-align: right;\n",
       "    }\n",
       "</style>\n",
       "<table border=\"1\" class=\"dataframe\">\n",
       "  <thead>\n",
       "    <tr style=\"text-align: right;\">\n",
       "      <th></th>\n",
       "      <th>Player</th>\n",
       "      <th>Season</th>\n",
       "      <th>AGE</th>\n",
       "      <th>Pos_C</th>\n",
       "      <th>Pos_LW</th>\n",
       "      <th>Pos_RW</th>\n",
       "      <th>Pos_D</th>\n",
       "      <th>GP</th>\n",
       "      <th>G</th>\n",
       "      <th>A</th>\n",
       "      <th>PTS</th>\n",
       "      <th>PPG</th>\n",
       "      <th>PlusMinus</th>\n",
       "      <th>ATOI</th>\n",
       "      <th>TOI(EV)</th>\n",
       "      <th>PIM</th>\n",
       "      <th>PS</th>\n",
       "      <th>EV_A</th>\n",
       "      <th>PP_A</th>\n",
       "      <th>SH_A</th>\n",
       "      <th>GW</th>\n",
       "      <th>S</th>\n",
       "      <th>S_Pct</th>\n",
       "      <th>BLK</th>\n",
       "      <th>HIT</th>\n",
       "      <th>FOW</th>\n",
       "      <th>FOL</th>\n",
       "      <th>FO_Pct</th>\n",
       "      <th>CF</th>\n",
       "      <th>CA</th>\n",
       "      <th>CF_Pct</th>\n",
       "      <th>CF_Pct_rel</th>\n",
       "      <th>FF</th>\n",
       "      <th>FA</th>\n",
       "      <th>FF_Pct</th>\n",
       "      <th>FF_Pct_rel</th>\n",
       "      <th>oiSH_Pct</th>\n",
       "      <th>oiSV_Pct</th>\n",
       "      <th>PDO</th>\n",
       "      <th>oZS_Pct</th>\n",
       "      <th>dZS_Pct</th>\n",
       "      <th>TK</th>\n",
       "      <th>GV</th>\n",
       "      <th>SAtt.</th>\n",
       "      <th>Thru_Pct</th>\n",
       "      <th>SOT_Att</th>\n",
       "      <th>SOT_Scored</th>\n",
       "      <th>SOT_Saved</th>\n",
       "      <th>SOT_Pct</th>\n",
       "      <th>LENGTH</th>\n",
       "      <th>AAV</th>\n",
       "    </tr>\n",
       "  </thead>\n",
       "  <tbody>\n",
       "    <tr>\n",
       "      <th>0</th>\n",
       "      <td>Wayne Simmonds</td>\n",
       "      <td>2021</td>\n",
       "      <td>32.0</td>\n",
       "      <td>0</td>\n",
       "      <td>1</td>\n",
       "      <td>1</td>\n",
       "      <td>0</td>\n",
       "      <td>61.666667</td>\n",
       "      <td>10.666667</td>\n",
       "      <td>10.666667</td>\n",
       "      <td>21.333333</td>\n",
       "      <td>0.345946</td>\n",
       "      <td>-13.333333</td>\n",
       "      <td>14.188889</td>\n",
       "      <td>12.458333</td>\n",
       "      <td>70.000000</td>\n",
       "      <td>1.166667</td>\n",
       "      <td>6.333333</td>\n",
       "      <td>4.333333</td>\n",
       "      <td>0.000000</td>\n",
       "      <td>1.000000</td>\n",
       "      <td>112.666667</td>\n",
       "      <td>9.600000</td>\n",
       "      <td>24.000000</td>\n",
       "      <td>115.333333</td>\n",
       "      <td>13.000000</td>\n",
       "      <td>21.333333</td>\n",
       "      <td>37.566667</td>\n",
       "      <td>670.666667</td>\n",
       "      <td>716.333333</td>\n",
       "      <td>48.9</td>\n",
       "      <td>-0.533333</td>\n",
       "      <td>499.333333</td>\n",
       "      <td>519.000000</td>\n",
       "      <td>49.833333</td>\n",
       "      <td>-0.066667</td>\n",
       "      <td>6.500000</td>\n",
       "      <td>91.733333</td>\n",
       "      <td>98.233333</td>\n",
       "      <td>49.300000</td>\n",
       "      <td>50.700000</td>\n",
       "      <td>22.333333</td>\n",
       "      <td>25.000000</td>\n",
       "      <td>231.5</td>\n",
       "      <td>59.566667</td>\n",
       "      <td>0.333333</td>\n",
       "      <td>0.0</td>\n",
       "      <td>0.333333</td>\n",
       "      <td>0.000000</td>\n",
       "      <td>2</td>\n",
       "      <td>900000.0</td>\n",
       "    </tr>\n",
       "    <tr>\n",
       "      <th>1</th>\n",
       "      <td>Ryan Nugent-Hopkins</td>\n",
       "      <td>2021</td>\n",
       "      <td>28.0</td>\n",
       "      <td>1</td>\n",
       "      <td>1</td>\n",
       "      <td>0</td>\n",
       "      <td>0</td>\n",
       "      <td>66.333333</td>\n",
       "      <td>22.000000</td>\n",
       "      <td>33.000000</td>\n",
       "      <td>55.000000</td>\n",
       "      <td>0.829146</td>\n",
       "      <td>-5.333333</td>\n",
       "      <td>20.444444</td>\n",
       "      <td>15.041667</td>\n",
       "      <td>27.000000</td>\n",
       "      <td>5.433333</td>\n",
       "      <td>13.666667</td>\n",
       "      <td>8.000000</td>\n",
       "      <td>0.333333</td>\n",
       "      <td>3.000000</td>\n",
       "      <td>171.666667</td>\n",
       "      <td>12.733333</td>\n",
       "      <td>37.666667</td>\n",
       "      <td>42.666667</td>\n",
       "      <td>219.000000</td>\n",
       "      <td>249.000000</td>\n",
       "      <td>47.133333</td>\n",
       "      <td>893.000000</td>\n",
       "      <td>966.333333</td>\n",
       "      <td>48.6</td>\n",
       "      <td>0.500000</td>\n",
       "      <td>667.666667</td>\n",
       "      <td>718.000000</td>\n",
       "      <td>48.700000</td>\n",
       "      <td>0.366667</td>\n",
       "      <td>9.733333</td>\n",
       "      <td>90.600000</td>\n",
       "      <td>100.300000</td>\n",
       "      <td>53.900000</td>\n",
       "      <td>46.100000</td>\n",
       "      <td>45.000000</td>\n",
       "      <td>42.666667</td>\n",
       "      <td>330.5</td>\n",
       "      <td>56.833333</td>\n",
       "      <td>3.000000</td>\n",
       "      <td>1.0</td>\n",
       "      <td>2.000000</td>\n",
       "      <td>16.666667</td>\n",
       "      <td>8</td>\n",
       "      <td>5125000.0</td>\n",
       "    </tr>\n",
       "    <tr>\n",
       "      <th>2</th>\n",
       "      <td>Trent Frederic</td>\n",
       "      <td>2021</td>\n",
       "      <td>23.0</td>\n",
       "      <td>1</td>\n",
       "      <td>1</td>\n",
       "      <td>0</td>\n",
       "      <td>0</td>\n",
       "      <td>19.666667</td>\n",
       "      <td>1.333333</td>\n",
       "      <td>0.333333</td>\n",
       "      <td>1.666667</td>\n",
       "      <td>0.084746</td>\n",
       "      <td>-4.333333</td>\n",
       "      <td>9.027778</td>\n",
       "      <td>7.691667</td>\n",
       "      <td>26.666667</td>\n",
       "      <td>-0.200000</td>\n",
       "      <td>1.333333</td>\n",
       "      <td>0.000000</td>\n",
       "      <td>0.000000</td>\n",
       "      <td>1.000000</td>\n",
       "      <td>21.333333</td>\n",
       "      <td>3.033333</td>\n",
       "      <td>6.000000</td>\n",
       "      <td>29.000000</td>\n",
       "      <td>26.000000</td>\n",
       "      <td>24.333333</td>\n",
       "      <td>34.500000</td>\n",
       "      <td>150.666667</td>\n",
       "      <td>171.333333</td>\n",
       "      <td>35.2</td>\n",
       "      <td>-16.400000</td>\n",
       "      <td>113.333333</td>\n",
       "      <td>124.000000</td>\n",
       "      <td>34.366667</td>\n",
       "      <td>-19.300000</td>\n",
       "      <td>1.466667</td>\n",
       "      <td>91.233333</td>\n",
       "      <td>63.066667</td>\n",
       "      <td>49.400000</td>\n",
       "      <td>50.600000</td>\n",
       "      <td>4.666667</td>\n",
       "      <td>3.000000</td>\n",
       "      <td>12.5</td>\n",
       "      <td>79.300000</td>\n",
       "      <td>0.000000</td>\n",
       "      <td>0.0</td>\n",
       "      <td>0.000000</td>\n",
       "      <td>0.000000</td>\n",
       "      <td>2</td>\n",
       "      <td>1050000.0</td>\n",
       "    </tr>\n",
       "    <tr>\n",
       "      <th>3</th>\n",
       "      <td>Blake Lizotte</td>\n",
       "      <td>2021</td>\n",
       "      <td>23.0</td>\n",
       "      <td>1</td>\n",
       "      <td>0</td>\n",
       "      <td>0</td>\n",
       "      <td>0</td>\n",
       "      <td>35.666667</td>\n",
       "      <td>3.000000</td>\n",
       "      <td>8.000000</td>\n",
       "      <td>11.000000</td>\n",
       "      <td>0.308411</td>\n",
       "      <td>-1.000000</td>\n",
       "      <td>12.622222</td>\n",
       "      <td>11.516667</td>\n",
       "      <td>12.000000</td>\n",
       "      <td>0.700000</td>\n",
       "      <td>1.666667</td>\n",
       "      <td>0.666667</td>\n",
       "      <td>0.666667</td>\n",
       "      <td>0.000000</td>\n",
       "      <td>43.333333</td>\n",
       "      <td>4.666667</td>\n",
       "      <td>14.666667</td>\n",
       "      <td>24.666667</td>\n",
       "      <td>165.333333</td>\n",
       "      <td>162.666667</td>\n",
       "      <td>50.333333</td>\n",
       "      <td>402.000000</td>\n",
       "      <td>348.333333</td>\n",
       "      <td>56.5</td>\n",
       "      <td>10.633333</td>\n",
       "      <td>302.666667</td>\n",
       "      <td>257.666667</td>\n",
       "      <td>56.633333</td>\n",
       "      <td>11.666667</td>\n",
       "      <td>4.633333</td>\n",
       "      <td>87.766667</td>\n",
       "      <td>92.366667</td>\n",
       "      <td>45.933333</td>\n",
       "      <td>54.066667</td>\n",
       "      <td>9.666667</td>\n",
       "      <td>9.000000</td>\n",
       "      <td>80.0</td>\n",
       "      <td>53.200000</td>\n",
       "      <td>0.000000</td>\n",
       "      <td>0.0</td>\n",
       "      <td>0.000000</td>\n",
       "      <td>0.000000</td>\n",
       "      <td>1</td>\n",
       "      <td>800000.0</td>\n",
       "    </tr>\n",
       "    <tr>\n",
       "      <th>4</th>\n",
       "      <td>Matt Nieto</td>\n",
       "      <td>2021</td>\n",
       "      <td>28.0</td>\n",
       "      <td>0</td>\n",
       "      <td>1</td>\n",
       "      <td>1</td>\n",
       "      <td>0</td>\n",
       "      <td>54.000000</td>\n",
       "      <td>5.666667</td>\n",
       "      <td>11.333333</td>\n",
       "      <td>17.000000</td>\n",
       "      <td>0.314815</td>\n",
       "      <td>1.333333</td>\n",
       "      <td>13.755556</td>\n",
       "      <td>10.966667</td>\n",
       "      <td>6.000000</td>\n",
       "      <td>1.066667</td>\n",
       "      <td>4.666667</td>\n",
       "      <td>0.000000</td>\n",
       "      <td>1.000000</td>\n",
       "      <td>1.333333</td>\n",
       "      <td>72.000000</td>\n",
       "      <td>8.400000</td>\n",
       "      <td>22.666667</td>\n",
       "      <td>37.333333</td>\n",
       "      <td>5.000000</td>\n",
       "      <td>4.666667</td>\n",
       "      <td>50.000000</td>\n",
       "      <td>570.666667</td>\n",
       "      <td>568.333333</td>\n",
       "      <td>49.0</td>\n",
       "      <td>-0.800000</td>\n",
       "      <td>420.000000</td>\n",
       "      <td>414.666667</td>\n",
       "      <td>49.333333</td>\n",
       "      <td>-0.733333</td>\n",
       "      <td>8.033333</td>\n",
       "      <td>91.466667</td>\n",
       "      <td>99.500000</td>\n",
       "      <td>43.266667</td>\n",
       "      <td>56.733333</td>\n",
       "      <td>15.000000</td>\n",
       "      <td>11.000000</td>\n",
       "      <td>139.5</td>\n",
       "      <td>66.700000</td>\n",
       "      <td>0.000000</td>\n",
       "      <td>0.0</td>\n",
       "      <td>0.000000</td>\n",
       "      <td>0.000000</td>\n",
       "      <td>2</td>\n",
       "      <td>850000.0</td>\n",
       "    </tr>\n",
       "  </tbody>\n",
       "</table>\n",
       "</div>"
      ],
      "text/plain": [
       "                Player  Season   AGE  Pos_C  Pos_LW  Pos_RW  Pos_D         GP  \\\n",
       "0       Wayne Simmonds    2021  32.0      0       1       1      0  61.666667   \n",
       "1  Ryan Nugent-Hopkins    2021  28.0      1       1       0      0  66.333333   \n",
       "2       Trent Frederic    2021  23.0      1       1       0      0  19.666667   \n",
       "3        Blake Lizotte    2021  23.0      1       0       0      0  35.666667   \n",
       "4           Matt Nieto    2021  28.0      0       1       1      0  54.000000   \n",
       "\n",
       "           G          A        PTS       PPG  PlusMinus       ATOI    TOI(EV)  \\\n",
       "0  10.666667  10.666667  21.333333  0.345946 -13.333333  14.188889  12.458333   \n",
       "1  22.000000  33.000000  55.000000  0.829146  -5.333333  20.444444  15.041667   \n",
       "2   1.333333   0.333333   1.666667  0.084746  -4.333333   9.027778   7.691667   \n",
       "3   3.000000   8.000000  11.000000  0.308411  -1.000000  12.622222  11.516667   \n",
       "4   5.666667  11.333333  17.000000  0.314815   1.333333  13.755556  10.966667   \n",
       "\n",
       "         PIM        PS       EV_A      PP_A      SH_A        GW           S  \\\n",
       "0  70.000000  1.166667   6.333333  4.333333  0.000000  1.000000  112.666667   \n",
       "1  27.000000  5.433333  13.666667  8.000000  0.333333  3.000000  171.666667   \n",
       "2  26.666667 -0.200000   1.333333  0.000000  0.000000  1.000000   21.333333   \n",
       "3  12.000000  0.700000   1.666667  0.666667  0.666667  0.000000   43.333333   \n",
       "4   6.000000  1.066667   4.666667  0.000000  1.000000  1.333333   72.000000   \n",
       "\n",
       "       S_Pct        BLK         HIT         FOW         FOL     FO_Pct  \\\n",
       "0   9.600000  24.000000  115.333333   13.000000   21.333333  37.566667   \n",
       "1  12.733333  37.666667   42.666667  219.000000  249.000000  47.133333   \n",
       "2   3.033333   6.000000   29.000000   26.000000   24.333333  34.500000   \n",
       "3   4.666667  14.666667   24.666667  165.333333  162.666667  50.333333   \n",
       "4   8.400000  22.666667   37.333333    5.000000    4.666667  50.000000   \n",
       "\n",
       "           CF          CA  CF_Pct  CF_Pct_rel          FF          FA  \\\n",
       "0  670.666667  716.333333    48.9   -0.533333  499.333333  519.000000   \n",
       "1  893.000000  966.333333    48.6    0.500000  667.666667  718.000000   \n",
       "2  150.666667  171.333333    35.2  -16.400000  113.333333  124.000000   \n",
       "3  402.000000  348.333333    56.5   10.633333  302.666667  257.666667   \n",
       "4  570.666667  568.333333    49.0   -0.800000  420.000000  414.666667   \n",
       "\n",
       "      FF_Pct  FF_Pct_rel  oiSH_Pct   oiSV_Pct         PDO    oZS_Pct  \\\n",
       "0  49.833333   -0.066667  6.500000  91.733333   98.233333  49.300000   \n",
       "1  48.700000    0.366667  9.733333  90.600000  100.300000  53.900000   \n",
       "2  34.366667  -19.300000  1.466667  91.233333   63.066667  49.400000   \n",
       "3  56.633333   11.666667  4.633333  87.766667   92.366667  45.933333   \n",
       "4  49.333333   -0.733333  8.033333  91.466667   99.500000  43.266667   \n",
       "\n",
       "     dZS_Pct         TK         GV  SAtt.   Thru_Pct   SOT_Att  SOT_Scored  \\\n",
       "0  50.700000  22.333333  25.000000  231.5  59.566667  0.333333         0.0   \n",
       "1  46.100000  45.000000  42.666667  330.5  56.833333  3.000000         1.0   \n",
       "2  50.600000   4.666667   3.000000   12.5  79.300000  0.000000         0.0   \n",
       "3  54.066667   9.666667   9.000000   80.0  53.200000  0.000000         0.0   \n",
       "4  56.733333  15.000000  11.000000  139.5  66.700000  0.000000         0.0   \n",
       "\n",
       "   SOT_Saved    SOT_Pct  LENGTH        AAV  \n",
       "0   0.333333   0.000000       2   900000.0  \n",
       "1   2.000000  16.666667       8  5125000.0  \n",
       "2   0.000000   0.000000       2  1050000.0  \n",
       "3   0.000000   0.000000       1   800000.0  \n",
       "4   0.000000   0.000000       2   850000.0  "
      ]
     },
     "execution_count": 5,
     "metadata": {},
     "output_type": "execute_result"
    }
   ],
   "source": [
    "skaters.head()"
   ]
  },
  {
   "cell_type": "code",
   "execution_count": 14,
   "metadata": {},
   "outputs": [],
   "source": [
    "#skaters.to_csv('../Data/skaters_final.csv', index=False)"
   ]
  },
  {
   "cell_type": "code",
   "execution_count": 15,
   "metadata": {
    "id": "G-J4D-M3xWu1"
   },
   "outputs": [],
   "source": [
    "### create a function called summarize\n",
    "### make an imputer such taht you input goals and hits and then use knn(???) to guess the other stats to have a full row of data to predict salary from\n",
    "### make a function that you can pass all the data through, then it filters by position and applies the correct predictive pipeline for that position\n",
    "### would it make sense to predict on length of contract using all stats + salary (even though we already predicted salary off it)\n",
    "\n",
    "\n",
    "### get a list of all players that are up for new contracts this year===> put their info in and see what they are predicted to make, then compare to what they actually made\n",
    "\n",
    "### how do i incorporate the k best features with "
   ]
  },
  {
   "cell_type": "markdown",
   "metadata": {
    "id": "dD4Tde77P-bz"
   },
   "source": [
    "# **SKATERS**"
   ]
  },
  {
   "cell_type": "markdown",
   "metadata": {
    "id": "o8TpFE4Yxpfj"
   },
   "source": [
    "First order of business: Split the data into a distinct Training and Test set. The work in this notebook will build models from the training data and they will be assessed for accuracy and variability, as well as run through a GridSearch in order to find the most optimal parameters before moving to the model production stage."
   ]
  },
  {
   "cell_type": "code",
   "execution_count": 6,
   "metadata": {
    "colab": {
     "base_uri": "https://localhost:8080/"
    },
    "id": "IgMksr9Pm1n1",
    "outputId": "76471d3d-977c-4f2c-f0c7-ad0eb5ed7565"
   },
   "outputs": [
    {
     "data": {
      "text/plain": [
       "(2697, 51)"
      ]
     },
     "execution_count": 6,
     "metadata": {},
     "output_type": "execute_result"
    }
   ],
   "source": [
    "skaters.shape"
   ]
  },
  {
   "cell_type": "code",
   "execution_count": 7,
   "metadata": {},
   "outputs": [
    {
     "data": {
      "text/html": [
       "<div>\n",
       "<style scoped>\n",
       "    .dataframe tbody tr th:only-of-type {\n",
       "        vertical-align: middle;\n",
       "    }\n",
       "\n",
       "    .dataframe tbody tr th {\n",
       "        vertical-align: top;\n",
       "    }\n",
       "\n",
       "    .dataframe thead th {\n",
       "        text-align: right;\n",
       "    }\n",
       "</style>\n",
       "<table border=\"1\" class=\"dataframe\">\n",
       "  <thead>\n",
       "    <tr style=\"text-align: right;\">\n",
       "      <th></th>\n",
       "      <th>Player</th>\n",
       "      <th>Season</th>\n",
       "      <th>AGE</th>\n",
       "      <th>Pos_C</th>\n",
       "      <th>Pos_LW</th>\n",
       "      <th>Pos_RW</th>\n",
       "      <th>Pos_D</th>\n",
       "      <th>GP</th>\n",
       "      <th>G</th>\n",
       "      <th>A</th>\n",
       "      <th>PTS</th>\n",
       "      <th>PPG</th>\n",
       "      <th>PlusMinus</th>\n",
       "      <th>ATOI</th>\n",
       "      <th>TOI(EV)</th>\n",
       "      <th>PIM</th>\n",
       "      <th>PS</th>\n",
       "      <th>EV_A</th>\n",
       "      <th>PP_A</th>\n",
       "      <th>SH_A</th>\n",
       "      <th>GW</th>\n",
       "      <th>S</th>\n",
       "      <th>S_Pct</th>\n",
       "      <th>BLK</th>\n",
       "      <th>HIT</th>\n",
       "      <th>FOW</th>\n",
       "      <th>FOL</th>\n",
       "      <th>FO_Pct</th>\n",
       "      <th>CF</th>\n",
       "      <th>CA</th>\n",
       "      <th>CF_Pct</th>\n",
       "      <th>CF_Pct_rel</th>\n",
       "      <th>FF</th>\n",
       "      <th>FA</th>\n",
       "      <th>FF_Pct</th>\n",
       "      <th>FF_Pct_rel</th>\n",
       "      <th>oiSH_Pct</th>\n",
       "      <th>oiSV_Pct</th>\n",
       "      <th>PDO</th>\n",
       "      <th>oZS_Pct</th>\n",
       "      <th>dZS_Pct</th>\n",
       "      <th>TK</th>\n",
       "      <th>GV</th>\n",
       "      <th>SAtt.</th>\n",
       "      <th>Thru_Pct</th>\n",
       "      <th>SOT_Att</th>\n",
       "      <th>SOT_Scored</th>\n",
       "      <th>SOT_Saved</th>\n",
       "      <th>SOT_Pct</th>\n",
       "      <th>LENGTH</th>\n",
       "      <th>AAV</th>\n",
       "    </tr>\n",
       "  </thead>\n",
       "  <tbody>\n",
       "    <tr>\n",
       "      <th>0</th>\n",
       "      <td>Wayne Simmonds</td>\n",
       "      <td>2021</td>\n",
       "      <td>32.0</td>\n",
       "      <td>0</td>\n",
       "      <td>1</td>\n",
       "      <td>1</td>\n",
       "      <td>0</td>\n",
       "      <td>61.666667</td>\n",
       "      <td>10.666667</td>\n",
       "      <td>10.666667</td>\n",
       "      <td>21.333333</td>\n",
       "      <td>0.345946</td>\n",
       "      <td>-13.333333</td>\n",
       "      <td>14.188889</td>\n",
       "      <td>12.458333</td>\n",
       "      <td>70.000000</td>\n",
       "      <td>1.166667</td>\n",
       "      <td>6.333333</td>\n",
       "      <td>4.333333</td>\n",
       "      <td>0.000000</td>\n",
       "      <td>1.000000</td>\n",
       "      <td>112.666667</td>\n",
       "      <td>9.600000</td>\n",
       "      <td>24.000000</td>\n",
       "      <td>115.333333</td>\n",
       "      <td>13.000000</td>\n",
       "      <td>21.333333</td>\n",
       "      <td>37.566667</td>\n",
       "      <td>670.666667</td>\n",
       "      <td>716.333333</td>\n",
       "      <td>48.9</td>\n",
       "      <td>-0.533333</td>\n",
       "      <td>499.333333</td>\n",
       "      <td>519.000000</td>\n",
       "      <td>49.833333</td>\n",
       "      <td>-0.066667</td>\n",
       "      <td>6.500000</td>\n",
       "      <td>91.733333</td>\n",
       "      <td>98.233333</td>\n",
       "      <td>49.300000</td>\n",
       "      <td>50.700000</td>\n",
       "      <td>22.333333</td>\n",
       "      <td>25.000000</td>\n",
       "      <td>231.5</td>\n",
       "      <td>59.566667</td>\n",
       "      <td>0.333333</td>\n",
       "      <td>0.0</td>\n",
       "      <td>0.333333</td>\n",
       "      <td>0.000000</td>\n",
       "      <td>2</td>\n",
       "      <td>900000.0</td>\n",
       "    </tr>\n",
       "    <tr>\n",
       "      <th>1</th>\n",
       "      <td>Ryan Nugent-Hopkins</td>\n",
       "      <td>2021</td>\n",
       "      <td>28.0</td>\n",
       "      <td>1</td>\n",
       "      <td>1</td>\n",
       "      <td>0</td>\n",
       "      <td>0</td>\n",
       "      <td>66.333333</td>\n",
       "      <td>22.000000</td>\n",
       "      <td>33.000000</td>\n",
       "      <td>55.000000</td>\n",
       "      <td>0.829146</td>\n",
       "      <td>-5.333333</td>\n",
       "      <td>20.444444</td>\n",
       "      <td>15.041667</td>\n",
       "      <td>27.000000</td>\n",
       "      <td>5.433333</td>\n",
       "      <td>13.666667</td>\n",
       "      <td>8.000000</td>\n",
       "      <td>0.333333</td>\n",
       "      <td>3.000000</td>\n",
       "      <td>171.666667</td>\n",
       "      <td>12.733333</td>\n",
       "      <td>37.666667</td>\n",
       "      <td>42.666667</td>\n",
       "      <td>219.000000</td>\n",
       "      <td>249.000000</td>\n",
       "      <td>47.133333</td>\n",
       "      <td>893.000000</td>\n",
       "      <td>966.333333</td>\n",
       "      <td>48.6</td>\n",
       "      <td>0.500000</td>\n",
       "      <td>667.666667</td>\n",
       "      <td>718.000000</td>\n",
       "      <td>48.700000</td>\n",
       "      <td>0.366667</td>\n",
       "      <td>9.733333</td>\n",
       "      <td>90.600000</td>\n",
       "      <td>100.300000</td>\n",
       "      <td>53.900000</td>\n",
       "      <td>46.100000</td>\n",
       "      <td>45.000000</td>\n",
       "      <td>42.666667</td>\n",
       "      <td>330.5</td>\n",
       "      <td>56.833333</td>\n",
       "      <td>3.000000</td>\n",
       "      <td>1.0</td>\n",
       "      <td>2.000000</td>\n",
       "      <td>16.666667</td>\n",
       "      <td>8</td>\n",
       "      <td>5125000.0</td>\n",
       "    </tr>\n",
       "    <tr>\n",
       "      <th>2</th>\n",
       "      <td>Trent Frederic</td>\n",
       "      <td>2021</td>\n",
       "      <td>23.0</td>\n",
       "      <td>1</td>\n",
       "      <td>1</td>\n",
       "      <td>0</td>\n",
       "      <td>0</td>\n",
       "      <td>19.666667</td>\n",
       "      <td>1.333333</td>\n",
       "      <td>0.333333</td>\n",
       "      <td>1.666667</td>\n",
       "      <td>0.084746</td>\n",
       "      <td>-4.333333</td>\n",
       "      <td>9.027778</td>\n",
       "      <td>7.691667</td>\n",
       "      <td>26.666667</td>\n",
       "      <td>-0.200000</td>\n",
       "      <td>1.333333</td>\n",
       "      <td>0.000000</td>\n",
       "      <td>0.000000</td>\n",
       "      <td>1.000000</td>\n",
       "      <td>21.333333</td>\n",
       "      <td>3.033333</td>\n",
       "      <td>6.000000</td>\n",
       "      <td>29.000000</td>\n",
       "      <td>26.000000</td>\n",
       "      <td>24.333333</td>\n",
       "      <td>34.500000</td>\n",
       "      <td>150.666667</td>\n",
       "      <td>171.333333</td>\n",
       "      <td>35.2</td>\n",
       "      <td>-16.400000</td>\n",
       "      <td>113.333333</td>\n",
       "      <td>124.000000</td>\n",
       "      <td>34.366667</td>\n",
       "      <td>-19.300000</td>\n",
       "      <td>1.466667</td>\n",
       "      <td>91.233333</td>\n",
       "      <td>63.066667</td>\n",
       "      <td>49.400000</td>\n",
       "      <td>50.600000</td>\n",
       "      <td>4.666667</td>\n",
       "      <td>3.000000</td>\n",
       "      <td>12.5</td>\n",
       "      <td>79.300000</td>\n",
       "      <td>0.000000</td>\n",
       "      <td>0.0</td>\n",
       "      <td>0.000000</td>\n",
       "      <td>0.000000</td>\n",
       "      <td>2</td>\n",
       "      <td>1050000.0</td>\n",
       "    </tr>\n",
       "    <tr>\n",
       "      <th>3</th>\n",
       "      <td>Blake Lizotte</td>\n",
       "      <td>2021</td>\n",
       "      <td>23.0</td>\n",
       "      <td>1</td>\n",
       "      <td>0</td>\n",
       "      <td>0</td>\n",
       "      <td>0</td>\n",
       "      <td>35.666667</td>\n",
       "      <td>3.000000</td>\n",
       "      <td>8.000000</td>\n",
       "      <td>11.000000</td>\n",
       "      <td>0.308411</td>\n",
       "      <td>-1.000000</td>\n",
       "      <td>12.622222</td>\n",
       "      <td>11.516667</td>\n",
       "      <td>12.000000</td>\n",
       "      <td>0.700000</td>\n",
       "      <td>1.666667</td>\n",
       "      <td>0.666667</td>\n",
       "      <td>0.666667</td>\n",
       "      <td>0.000000</td>\n",
       "      <td>43.333333</td>\n",
       "      <td>4.666667</td>\n",
       "      <td>14.666667</td>\n",
       "      <td>24.666667</td>\n",
       "      <td>165.333333</td>\n",
       "      <td>162.666667</td>\n",
       "      <td>50.333333</td>\n",
       "      <td>402.000000</td>\n",
       "      <td>348.333333</td>\n",
       "      <td>56.5</td>\n",
       "      <td>10.633333</td>\n",
       "      <td>302.666667</td>\n",
       "      <td>257.666667</td>\n",
       "      <td>56.633333</td>\n",
       "      <td>11.666667</td>\n",
       "      <td>4.633333</td>\n",
       "      <td>87.766667</td>\n",
       "      <td>92.366667</td>\n",
       "      <td>45.933333</td>\n",
       "      <td>54.066667</td>\n",
       "      <td>9.666667</td>\n",
       "      <td>9.000000</td>\n",
       "      <td>80.0</td>\n",
       "      <td>53.200000</td>\n",
       "      <td>0.000000</td>\n",
       "      <td>0.0</td>\n",
       "      <td>0.000000</td>\n",
       "      <td>0.000000</td>\n",
       "      <td>1</td>\n",
       "      <td>800000.0</td>\n",
       "    </tr>\n",
       "    <tr>\n",
       "      <th>4</th>\n",
       "      <td>Matt Nieto</td>\n",
       "      <td>2021</td>\n",
       "      <td>28.0</td>\n",
       "      <td>0</td>\n",
       "      <td>1</td>\n",
       "      <td>1</td>\n",
       "      <td>0</td>\n",
       "      <td>54.000000</td>\n",
       "      <td>5.666667</td>\n",
       "      <td>11.333333</td>\n",
       "      <td>17.000000</td>\n",
       "      <td>0.314815</td>\n",
       "      <td>1.333333</td>\n",
       "      <td>13.755556</td>\n",
       "      <td>10.966667</td>\n",
       "      <td>6.000000</td>\n",
       "      <td>1.066667</td>\n",
       "      <td>4.666667</td>\n",
       "      <td>0.000000</td>\n",
       "      <td>1.000000</td>\n",
       "      <td>1.333333</td>\n",
       "      <td>72.000000</td>\n",
       "      <td>8.400000</td>\n",
       "      <td>22.666667</td>\n",
       "      <td>37.333333</td>\n",
       "      <td>5.000000</td>\n",
       "      <td>4.666667</td>\n",
       "      <td>50.000000</td>\n",
       "      <td>570.666667</td>\n",
       "      <td>568.333333</td>\n",
       "      <td>49.0</td>\n",
       "      <td>-0.800000</td>\n",
       "      <td>420.000000</td>\n",
       "      <td>414.666667</td>\n",
       "      <td>49.333333</td>\n",
       "      <td>-0.733333</td>\n",
       "      <td>8.033333</td>\n",
       "      <td>91.466667</td>\n",
       "      <td>99.500000</td>\n",
       "      <td>43.266667</td>\n",
       "      <td>56.733333</td>\n",
       "      <td>15.000000</td>\n",
       "      <td>11.000000</td>\n",
       "      <td>139.5</td>\n",
       "      <td>66.700000</td>\n",
       "      <td>0.000000</td>\n",
       "      <td>0.0</td>\n",
       "      <td>0.000000</td>\n",
       "      <td>0.000000</td>\n",
       "      <td>2</td>\n",
       "      <td>850000.0</td>\n",
       "    </tr>\n",
       "  </tbody>\n",
       "</table>\n",
       "</div>"
      ],
      "text/plain": [
       "                Player  Season   AGE  Pos_C  Pos_LW  Pos_RW  Pos_D         GP  \\\n",
       "0       Wayne Simmonds    2021  32.0      0       1       1      0  61.666667   \n",
       "1  Ryan Nugent-Hopkins    2021  28.0      1       1       0      0  66.333333   \n",
       "2       Trent Frederic    2021  23.0      1       1       0      0  19.666667   \n",
       "3        Blake Lizotte    2021  23.0      1       0       0      0  35.666667   \n",
       "4           Matt Nieto    2021  28.0      0       1       1      0  54.000000   \n",
       "\n",
       "           G          A        PTS       PPG  PlusMinus       ATOI    TOI(EV)  \\\n",
       "0  10.666667  10.666667  21.333333  0.345946 -13.333333  14.188889  12.458333   \n",
       "1  22.000000  33.000000  55.000000  0.829146  -5.333333  20.444444  15.041667   \n",
       "2   1.333333   0.333333   1.666667  0.084746  -4.333333   9.027778   7.691667   \n",
       "3   3.000000   8.000000  11.000000  0.308411  -1.000000  12.622222  11.516667   \n",
       "4   5.666667  11.333333  17.000000  0.314815   1.333333  13.755556  10.966667   \n",
       "\n",
       "         PIM        PS       EV_A      PP_A      SH_A        GW           S  \\\n",
       "0  70.000000  1.166667   6.333333  4.333333  0.000000  1.000000  112.666667   \n",
       "1  27.000000  5.433333  13.666667  8.000000  0.333333  3.000000  171.666667   \n",
       "2  26.666667 -0.200000   1.333333  0.000000  0.000000  1.000000   21.333333   \n",
       "3  12.000000  0.700000   1.666667  0.666667  0.666667  0.000000   43.333333   \n",
       "4   6.000000  1.066667   4.666667  0.000000  1.000000  1.333333   72.000000   \n",
       "\n",
       "       S_Pct        BLK         HIT         FOW         FOL     FO_Pct  \\\n",
       "0   9.600000  24.000000  115.333333   13.000000   21.333333  37.566667   \n",
       "1  12.733333  37.666667   42.666667  219.000000  249.000000  47.133333   \n",
       "2   3.033333   6.000000   29.000000   26.000000   24.333333  34.500000   \n",
       "3   4.666667  14.666667   24.666667  165.333333  162.666667  50.333333   \n",
       "4   8.400000  22.666667   37.333333    5.000000    4.666667  50.000000   \n",
       "\n",
       "           CF          CA  CF_Pct  CF_Pct_rel          FF          FA  \\\n",
       "0  670.666667  716.333333    48.9   -0.533333  499.333333  519.000000   \n",
       "1  893.000000  966.333333    48.6    0.500000  667.666667  718.000000   \n",
       "2  150.666667  171.333333    35.2  -16.400000  113.333333  124.000000   \n",
       "3  402.000000  348.333333    56.5   10.633333  302.666667  257.666667   \n",
       "4  570.666667  568.333333    49.0   -0.800000  420.000000  414.666667   \n",
       "\n",
       "      FF_Pct  FF_Pct_rel  oiSH_Pct   oiSV_Pct         PDO    oZS_Pct  \\\n",
       "0  49.833333   -0.066667  6.500000  91.733333   98.233333  49.300000   \n",
       "1  48.700000    0.366667  9.733333  90.600000  100.300000  53.900000   \n",
       "2  34.366667  -19.300000  1.466667  91.233333   63.066667  49.400000   \n",
       "3  56.633333   11.666667  4.633333  87.766667   92.366667  45.933333   \n",
       "4  49.333333   -0.733333  8.033333  91.466667   99.500000  43.266667   \n",
       "\n",
       "     dZS_Pct         TK         GV  SAtt.   Thru_Pct   SOT_Att  SOT_Scored  \\\n",
       "0  50.700000  22.333333  25.000000  231.5  59.566667  0.333333         0.0   \n",
       "1  46.100000  45.000000  42.666667  330.5  56.833333  3.000000         1.0   \n",
       "2  50.600000   4.666667   3.000000   12.5  79.300000  0.000000         0.0   \n",
       "3  54.066667   9.666667   9.000000   80.0  53.200000  0.000000         0.0   \n",
       "4  56.733333  15.000000  11.000000  139.5  66.700000  0.000000         0.0   \n",
       "\n",
       "   SOT_Saved    SOT_Pct  LENGTH        AAV  \n",
       "0   0.333333   0.000000       2   900000.0  \n",
       "1   2.000000  16.666667       8  5125000.0  \n",
       "2   0.000000   0.000000       2  1050000.0  \n",
       "3   0.000000   0.000000       1   800000.0  \n",
       "4   0.000000   0.000000       2   850000.0  "
      ]
     },
     "execution_count": 7,
     "metadata": {},
     "output_type": "execute_result"
    }
   ],
   "source": [
    "skaters.head()"
   ]
  },
  {
   "cell_type": "code",
   "execution_count": 90,
   "metadata": {
    "id": "lmfyfs_WPmSR"
   },
   "outputs": [],
   "source": [
    "# removed Length from X \n",
    "X= skaters.iloc[:,1:-2]\n",
    "y= skaters.iloc[:, -1]\n",
    "\n",
    "X_train, X_test, y_train, y_test= train_test_split(X,y, test_size=0.2, random_state=12)"
   ]
  },
  {
   "cell_type": "markdown",
   "metadata": {
    "id": "68j7aMm3GGEn"
   },
   "source": [
    "### **STANDARD-SCALED**"
   ]
  },
  {
   "cell_type": "markdown",
   "metadata": {
    "id": "4OnMOJJOlVUL"
   },
   "source": [
    "Our first rough-drafts at modeling will be using a StandardScaler, and a variety of regressors available through SKLearn. I will try a quick run at all of them first to get an idea of which direction to lean before making a pipeline."
   ]
  },
  {
   "cell_type": "code",
   "execution_count": 12,
   "metadata": {
    "id": "0D9RA5WdGqZL"
   },
   "outputs": [],
   "source": [
    "def results(scale, model, xtrain, ytrain):\n",
    "    pipe= make_pipeline(scale, model)\n",
    "    pipe.fit(xtrain, ytrain)\n",
    "    y_pred= pipe.predict(xtrain)\n",
    "    print(model, scale)\n",
    "    print('R2 Score on Training: %s' % r2_score(y_train, y_pred))\n",
    "    print('MAE on Training: %s' % mean_absolute_error(y_train, y_pred))\n"
   ]
  },
  {
   "cell_type": "markdown",
   "metadata": {
    "id": "B-e_Hcsla3Rb"
   },
   "source": [
    "\n",
    "# Pipelines\n",
    "\n"
   ]
  },
  {
   "cell_type": "markdown",
   "metadata": {
    "id": "dplBJROIpIJO"
   },
   "source": [
    "**Pipeline 1: StandardScaler, SelectKBest, LinearRegression**"
   ]
  },
  {
   "cell_type": "code",
   "execution_count": 20,
   "metadata": {
    "id": "xV_4EfxgUMoi"
   },
   "outputs": [],
   "source": [
    "# define pipeline\n",
    "\n",
    "pipe_sl= make_pipeline(StandardScaler(), SelectKBest(score_func=f_regression), LinearRegression())"
   ]
  },
  {
   "cell_type": "code",
   "execution_count": 21,
   "metadata": {
    "colab": {
     "base_uri": "https://localhost:8080/"
    },
    "id": "25LMAHg9UMsB",
    "outputId": "d7a5542f-20bb-47da-ac7b-a75338780311"
   },
   "outputs": [
    {
     "data": {
      "text/plain": [
       "Pipeline(steps=[('standardscaler', StandardScaler()),\n",
       "                ('selectkbest',\n",
       "                 SelectKBest(score_func=<function f_regression at 0x000002405390F790>)),\n",
       "                ('linearregression', LinearRegression())])"
      ]
     },
     "execution_count": 21,
     "metadata": {},
     "output_type": "execute_result"
    }
   ],
   "source": [
    "# fit pipeline\n",
    "\n",
    "pipe_sl.fit(X_train, y_train)"
   ]
  },
  {
   "cell_type": "code",
   "execution_count": 22,
   "metadata": {
    "id": "PajgoORgUMvP"
   },
   "outputs": [],
   "source": [
    "# assess performance\n",
    "\n",
    "cv_results= cross_validate(pipe_sl, X_train, y_train, cv=5)"
   ]
  },
  {
   "cell_type": "code",
   "execution_count": 23,
   "metadata": {
    "colab": {
     "base_uri": "https://localhost:8080/"
    },
    "id": "rqvPe_eHVJ2S",
    "outputId": "35c2f88b-3b11-47b1-e23c-fedd35bb95f4"
   },
   "outputs": [
    {
     "data": {
      "text/plain": [
       "(0.6619303732387027, 0.029825127414325265)"
      ]
     },
     "execution_count": 23,
     "metadata": {},
     "output_type": "execute_result"
    }
   ],
   "source": [
    "np.mean(cv_results['test_score']), np.std(cv_results['test_score'])"
   ]
  },
  {
   "cell_type": "code",
   "execution_count": 24,
   "metadata": {
    "colab": {
     "base_uri": "https://localhost:8080/"
    },
    "id": "4TPcdDRrVJ46",
    "outputId": "6bec0b07-8768-448c-c5d5-0f5ff501ff6b"
   },
   "outputs": [
    {
     "data": {
      "text/plain": [
       "dict_keys(['memory', 'steps', 'verbose', 'standardscaler', 'selectkbest', 'linearregression', 'standardscaler__copy', 'standardscaler__with_mean', 'standardscaler__with_std', 'selectkbest__k', 'selectkbest__score_func', 'linearregression__copy_X', 'linearregression__fit_intercept', 'linearregression__n_jobs', 'linearregression__normalize', 'linearregression__positive'])"
      ]
     },
     "execution_count": 24,
     "metadata": {},
     "output_type": "execute_result"
    }
   ],
   "source": [
    "pipe_sl.get_params().keys()"
   ]
  },
  {
   "cell_type": "code",
   "execution_count": 25,
   "metadata": {
    "id": "1v_T02qgXSRN"
   },
   "outputs": [],
   "source": [
    "# hyperparameter search with gridsearchcv"
   ]
  },
  {
   "cell_type": "code",
   "execution_count": 26,
   "metadata": {
    "id": "5C1kN_haVJ7V"
   },
   "outputs": [],
   "source": [
    "k = [k+1 for k in range(len(X_train.columns))]\n",
    "grid = {'selectkbest__k': k}"
   ]
  },
  {
   "cell_type": "code",
   "execution_count": 27,
   "metadata": {
    "id": "mcxUU3mFVJ-P"
   },
   "outputs": [],
   "source": [
    "lr_grid_cv= GridSearchCV(pipe_sl, param_grid=grid, cv=5, n_jobs=-1)"
   ]
  },
  {
   "cell_type": "code",
   "execution_count": 28,
   "metadata": {
    "colab": {
     "base_uri": "https://localhost:8080/"
    },
    "id": "FFIsGGMEVKAj",
    "outputId": "7ea044b6-fc79-45fd-ea9b-9949039436c5"
   },
   "outputs": [
    {
     "data": {
      "text/plain": [
       "GridSearchCV(cv=5,\n",
       "             estimator=Pipeline(steps=[('standardscaler', StandardScaler()),\n",
       "                                       ('selectkbest',\n",
       "                                        SelectKBest(score_func=<function f_regression at 0x000002405390F790>)),\n",
       "                                       ('linearregression',\n",
       "                                        LinearRegression())]),\n",
       "             n_jobs=-1,\n",
       "             param_grid={'selectkbest__k': [1, 2, 3, 4, 5, 6, 7, 8, 9, 10, 11,\n",
       "                                            12, 13, 14, 15, 16, 17, 18, 19, 20,\n",
       "                                            21, 22, 23, 24, 25, 26, 27, 28, 29,\n",
       "                                            30, ...]})"
      ]
     },
     "execution_count": 28,
     "metadata": {},
     "output_type": "execute_result"
    }
   ],
   "source": [
    "lr_grid_cv.fit(X_train, y_train)"
   ]
  },
  {
   "cell_type": "code",
   "execution_count": 29,
   "metadata": {
    "id": "w4P3TsfAVKDC"
   },
   "outputs": [],
   "source": [
    "score_mean= lr_grid_cv.cv_results_['mean_test_score']\n",
    "score_std= lr_grid_cv.cv_results_['std_test_score']\n",
    "cv_k= [k for k in lr_grid_cv.cv_results_['param_selectkbest__k']]"
   ]
  },
  {
   "cell_type": "code",
   "execution_count": 30,
   "metadata": {
    "colab": {
     "base_uri": "https://localhost:8080/"
    },
    "id": "B210ZvlpVKF6",
    "outputId": "21d884ab-0b48-4257-8515-6be516d52dd6"
   },
   "outputs": [
    {
     "data": {
      "text/plain": [
       "{'selectkbest__k': 48}"
      ]
     },
     "execution_count": 30,
     "metadata": {},
     "output_type": "execute_result"
    }
   ],
   "source": [
    "lr_grid_cv.best_params_"
   ]
  },
  {
   "cell_type": "code",
   "execution_count": 31,
   "metadata": {
    "colab": {
     "base_uri": "https://localhost:8080/"
    },
    "id": "82hYjZHTrR0A",
    "outputId": "a2f63ab5-c5a0-442a-f676-fe6d0de5507d"
   },
   "outputs": [
    {
     "data": {
      "text/plain": [
       "(0.6818113427843202, 0.030757829747541182)"
      ]
     },
     "execution_count": 31,
     "metadata": {},
     "output_type": "execute_result"
    }
   ],
   "source": [
    "np.mean(score_mean), np.mean(score_std)"
   ]
  },
  {
   "cell_type": "code",
   "execution_count": 32,
   "metadata": {
    "colab": {
     "base_uri": "https://localhost:8080/",
     "height": 350
    },
    "id": "fNtargoZVKI4",
    "outputId": "150476aa-a733-41e4-a143-e505250e1ca1"
   },
   "outputs": [
    {
     "data": {
      "image/png": "[encoded data removed]",
      "text/plain": [
       "<Figure size 720x360 with 1 Axes>"
      ]
     },
     "metadata": {
      "needs_background": "light"
     },
     "output_type": "display_data"
    }
   ],
   "source": [
    "best_k = lr_grid_cv.best_params_['selectkbest__k']\n",
    "plt.subplots(figsize=(10, 5))\n",
    "plt.errorbar(cv_k, score_mean, yerr=score_std)\n",
    "plt.axvline(x=best_k, c='r', ls='--', alpha=.5)\n",
    "plt.xlabel('k')\n",
    "plt.ylabel('CV score (r-squared)')\n",
    "plt.title('Pipeline mean CV score (error bars +/- 1sd)');"
   ]
  },
  {
   "cell_type": "markdown",
   "metadata": {
    "id": "zuGnfOR5rhVH"
   },
   "source": [
    "A pipeline using a all 48 features an average R2 score of 0.8157076986439693, with an avg standard deviation 0.01667776890013122.\n",
    "\n",
    "A GridSearch tells us that an optimal model uses all 48 features, which produces an average R2 of 0.8061950420775156 with a standadrd deviation of 0.01705895802453225. \n",
    "\n",
    "Using all our features produces a more accurate and less variable model. But analzying the plot above, the r2 score seems to level off after 8 or 9 features. \n",
    "\n",
    "So far, this is not a bad model, but it is worth exploring more.\n"
   ]
  },
  {
   "cell_type": "markdown",
   "metadata": {
    "id": "c8VfXXkvqc2O"
   },
   "source": [
    "**Pipeline 2: RobustScaler, SelectKBest, LinearRegression**"
   ]
  },
  {
   "cell_type": "code",
   "execution_count": 33,
   "metadata": {
    "colab": {
     "base_uri": "https://localhost:8080/"
    },
    "id": "OmHjIBHEsrsu",
    "outputId": "fea52bff-792c-48d0-9948-15198fd0a088"
   },
   "outputs": [
    {
     "data": {
      "text/plain": [
       "Pipeline(steps=[('robustscaler', RobustScaler()),\n",
       "                ('selectkbest',\n",
       "                 SelectKBest(score_func=<function f_regression at 0x000002405390F790>)),\n",
       "                ('linearregression', LinearRegression())])"
      ]
     },
     "execution_count": 33,
     "metadata": {},
     "output_type": "execute_result"
    }
   ],
   "source": [
    "pipe_rl= make_pipeline(RobustScaler(), SelectKBest(score_func=f_regression), LinearRegression())\n",
    "pipe_rl.fit(X_train, y_train)"
   ]
  },
  {
   "cell_type": "code",
   "execution_count": 34,
   "metadata": {
    "colab": {
     "base_uri": "https://localhost:8080/"
    },
    "id": "-yEzFcAVs2FD",
    "outputId": "1d0d1458-9838-4a39-a335-3e5be815f0b0"
   },
   "outputs": [
    {
     "data": {
      "text/plain": [
       "(0.6619335364550428, 0.029829475833501474)"
      ]
     },
     "execution_count": 34,
     "metadata": {},
     "output_type": "execute_result"
    }
   ],
   "source": [
    "cv_results= cross_validate(pipe_rl, X_train, y_train, cv=5)\n",
    "np.mean(cv_results['test_score']), np.std(cv_results['test_score'])"
   ]
  },
  {
   "cell_type": "code",
   "execution_count": 35,
   "metadata": {
    "id": "Gu3PCJcos2H8"
   },
   "outputs": [],
   "source": [
    "### ==> almost exactly the same, but slightly better\n"
   ]
  },
  {
   "cell_type": "code",
   "execution_count": 36,
   "metadata": {
    "colab": {
     "base_uri": "https://localhost:8080/"
    },
    "id": "bgeKAzVgqzWv",
    "outputId": "22a19d36-3070-4c14-e9b6-6b6685f32d4f"
   },
   "outputs": [
    {
     "data": {
      "text/plain": [
       "GridSearchCV(cv=5,\n",
       "             estimator=Pipeline(steps=[('robustscaler', RobustScaler()),\n",
       "                                       ('selectkbest',\n",
       "                                        SelectKBest(score_func=<function f_regression at 0x000002405390F790>)),\n",
       "                                       ('linearregression',\n",
       "                                        LinearRegression())]),\n",
       "             n_jobs=-1,\n",
       "             param_grid={'selectkbest__k': [1, 2, 3, 4, 5, 6, 7, 8, 9, 10, 11,\n",
       "                                            12, 13, 14, 15, 16, 17, 18, 19, 20,\n",
       "                                            21, 22, 23, 24, 25, 26, 27, 28, 29,\n",
       "                                            30, ...]})"
      ]
     },
     "execution_count": 36,
     "metadata": {},
     "output_type": "execute_result"
    }
   ],
   "source": [
    "lr_grid_cv= GridSearchCV(pipe_rl, param_grid=grid, cv=5, n_jobs=-1)\n",
    "lr_grid_cv.fit(X_train, y_train)\n"
   ]
  },
  {
   "cell_type": "code",
   "execution_count": 37,
   "metadata": {
    "id": "17NMNbONqzbK"
   },
   "outputs": [],
   "source": [
    "score_mean= lr_grid_cv.cv_results_['mean_test_score']\n",
    "score_std= lr_grid_cv.cv_results_['std_test_score']\n",
    "cv_k= [k for k in lr_grid_cv.cv_results_['param_selectkbest__k']]"
   ]
  },
  {
   "cell_type": "code",
   "execution_count": 38,
   "metadata": {
    "colab": {
     "base_uri": "https://localhost:8080/"
    },
    "id": "prBT8Tb_qzdz",
    "outputId": "59b5fa8b-1c33-42b2-b6c9-005077231989"
   },
   "outputs": [
    {
     "data": {
      "text/plain": [
       "(0.681412371826028, 0.030752078983328903)"
      ]
     },
     "execution_count": 38,
     "metadata": {},
     "output_type": "execute_result"
    }
   ],
   "source": [
    "np.mean(score_mean), np.mean(score_std)"
   ]
  },
  {
   "cell_type": "code",
   "execution_count": 39,
   "metadata": {
    "colab": {
     "base_uri": "https://localhost:8080/"
    },
    "id": "s7eivJH-to3R",
    "outputId": "c44cb509-4d74-4abc-f02c-c1501e6a3b61"
   },
   "outputs": [
    {
     "data": {
      "text/plain": [
       "{'selectkbest__k': 48}"
      ]
     },
     "execution_count": 39,
     "metadata": {},
     "output_type": "execute_result"
    }
   ],
   "source": [
    "lr_grid_cv.best_params_"
   ]
  },
  {
   "cell_type": "markdown",
   "metadata": {
    "id": "4F3ij0ZeuN7s"
   },
   "source": [
    "Using a RobustScaler rather than a StandardScaler does not produce significantly better results, although it does show a miniscule improvement in both the mean R2 score and its standard deviation."
   ]
  },
  {
   "cell_type": "markdown",
   "metadata": {
    "id": "FHoWmAsGui8-"
   },
   "source": [
    "**Pipeline 3: Random Forest Regressor**"
   ]
  },
  {
   "cell_type": "code",
   "execution_count": 40,
   "metadata": {
    "id": "UPFhW2TUVKLp"
   },
   "outputs": [],
   "source": [
    "rf_pipe= make_pipeline(StandardScaler(), RandomForestRegressor(random_state=47))"
   ]
  },
  {
   "cell_type": "code",
   "execution_count": 41,
   "metadata": {
    "id": "5qQD-vuIVKOU"
   },
   "outputs": [],
   "source": [
    "rf_cv_results= cross_validate(rf_pipe, X_train, y_train, cv=5)"
   ]
  },
  {
   "cell_type": "code",
   "execution_count": 42,
   "metadata": {
    "colab": {
     "base_uri": "https://localhost:8080/"
    },
    "id": "OYMr-8UpahUG",
    "outputId": "c4fe6421-0a84-476b-ceea-bec945758699"
   },
   "outputs": [
    {
     "data": {
      "text/plain": [
       "(0.7686085792249964, 0.024344380117671524)"
      ]
     },
     "execution_count": 42,
     "metadata": {},
     "output_type": "execute_result"
    }
   ],
   "source": [
    "np.mean(rf_cv_results['test_score']), np.std(rf_cv_results['test_score'])"
   ]
  },
  {
   "cell_type": "code",
   "execution_count": 43,
   "metadata": {
    "id": "UvoOhGsIahW4"
   },
   "outputs": [],
   "source": [
    "\n",
    "n_est = [int(n) for n in [5,10,20,30,40,50,60,70,80,90,100]]\n",
    "\n",
    "grid_params= {\n",
    "    'randomforestregressor__n_estimators': n_est,\n",
    "    'standardscaler': [StandardScaler(), RobustScaler(), None]\n",
    "}"
   ]
  },
  {
   "cell_type": "code",
   "execution_count": 44,
   "metadata": {
    "id": "OrwqsHAiahZi"
   },
   "outputs": [],
   "source": [
    "rf_grid_cv= GridSearchCV(rf_pipe, param_grid=grid_params, cv=5, n_jobs=-1)"
   ]
  },
  {
   "cell_type": "code",
   "execution_count": 45,
   "metadata": {
    "colab": {
     "base_uri": "https://localhost:8080/"
    },
    "id": "LoZO6FnsVKQx",
    "outputId": "a882535c-c803-4ecc-d7b9-aa1422b2efbc"
   },
   "outputs": [
    {
     "data": {
      "text/plain": [
       "GridSearchCV(cv=5,\n",
       "             estimator=Pipeline(steps=[('standardscaler', StandardScaler()),\n",
       "                                       ('randomforestregressor',\n",
       "                                        RandomForestRegressor(random_state=47))]),\n",
       "             n_jobs=-1,\n",
       "             param_grid={'randomforestregressor__n_estimators': [5, 10, 20, 30,\n",
       "                                                                 40, 50, 60, 70,\n",
       "                                                                 80, 90, 100],\n",
       "                         'standardscaler': [StandardScaler(), RobustScaler(),\n",
       "                                            None]})"
      ]
     },
     "execution_count": 45,
     "metadata": {},
     "output_type": "execute_result"
    }
   ],
   "source": [
    "rf_grid_cv.fit(X_train, y_train)"
   ]
  },
  {
   "cell_type": "code",
   "execution_count": 46,
   "metadata": {
    "colab": {
     "base_uri": "https://localhost:8080/"
    },
    "id": "98vCnATrVKTv",
    "outputId": "544dec2f-a0ba-4290-e230-a359ca0dbaa9"
   },
   "outputs": [
    {
     "data": {
      "text/plain": [
       "{'randomforestregressor__n_estimators': 80, 'standardscaler': StandardScaler()}"
      ]
     },
     "execution_count": 46,
     "metadata": {},
     "output_type": "execute_result"
    }
   ],
   "source": [
    "rf_grid_cv.best_params_"
   ]
  },
  {
   "cell_type": "code",
   "execution_count": 47,
   "metadata": {
    "colab": {
     "base_uri": "https://localhost:8080/"
    },
    "id": "TjD61Vn_dMbE",
    "outputId": "228890d2-4131-473d-a08e-5ed92b0db7a7"
   },
   "outputs": [
    {
     "data": {
      "text/plain": [
       "(0.7688634629178713, 0.024428825020717967)"
      ]
     },
     "execution_count": 47,
     "metadata": {},
     "output_type": "execute_result"
    }
   ],
   "source": [
    "best_scores= cross_validate(rf_grid_cv.best_estimator_, X_train, y_train, cv=5)\n",
    "best_scores= best_scores['test_score']\n",
    "np.mean(best_scores), np.std(best_scores)"
   ]
  },
  {
   "cell_type": "markdown",
   "metadata": {
    "id": "n0IY73jtv05J"
   },
   "source": [
    "A GridSearch reveals that the best scaling option is to use a RobustScaler, as well as using 80 estimators. This pipeline resulted in our best model yet, yielding an R2 score of 0.8711474716459952 with a standard deviation of 0.016167072308366642"
   ]
  },
  {
   "cell_type": "code",
   "execution_count": 48,
   "metadata": {
    "id": "I4imoBQHAOHr"
   },
   "outputs": [],
   "source": [
    "#quantity assessement"
   ]
  },
  {
   "cell_type": "code",
   "execution_count": 49,
   "metadata": {
    "id": "lhADIMo0AOKw"
   },
   "outputs": [],
   "source": [
    "fractions = [.2, .25, .3, .35, .4, .45, .5, .6, .75, .8, 1.0]\n",
    "train_size, train_scores, test_scores = learning_curve(rf_pipe, X_train, y_train, train_sizes=fractions)\n",
    "train_scores_mean = np.mean(train_scores, axis=1)\n",
    "train_scores_std = np.std(train_scores, axis=1)\n",
    "test_scores_mean = np.mean(test_scores, axis=1)\n",
    "test_scores_std = np.std(test_scores, axis=1)"
   ]
  },
  {
   "cell_type": "code",
   "execution_count": 50,
   "metadata": {
    "colab": {
     "base_uri": "https://localhost:8080/",
     "height": 350
    },
    "id": "hzVdXwTMAONw",
    "outputId": "e6be0cd0-859e-4c54-cca2-188356720040"
   },
   "outputs": [
    {
     "data": {
      "image/png": "[encoded data removed]",
      "text/plain": [
       "<Figure size 720x360 with 1 Axes>"
      ]
     },
     "metadata": {
      "needs_background": "light"
     },
     "output_type": "display_data"
    }
   ],
   "source": [
    "plt.subplots(figsize=(10, 5))\n",
    "plt.errorbar(train_size, test_scores_mean, yerr=test_scores_std)\n",
    "plt.xlabel('Training set size')\n",
    "plt.ylabel('CV scores')\n",
    "plt.title('Cross-validation score as training set size increases');"
   ]
  },
  {
   "cell_type": "markdown",
   "metadata": {
    "id": "Fa0YUi4ayxYn"
   },
   "source": [
    "Now, compare these results with the Linear Regression model from Pipeline 2"
   ]
  },
  {
   "cell_type": "code",
   "execution_count": 51,
   "metadata": {
    "colab": {
     "base_uri": "https://localhost:8080/",
     "height": 350
    },
    "id": "J-tmX5yyAOTX",
    "outputId": "9324a584-e4cf-4716-ee86-912cc8327149"
   },
   "outputs": [
    {
     "data": {
      "image/png": "[encoded data removed]",
      "text/plain": [
       "<Figure size 720x360 with 1 Axes>"
      ]
     },
     "metadata": {
      "needs_background": "light"
     },
     "output_type": "display_data"
    }
   ],
   "source": [
    "fractions = [.2, .25, .3, .35, .4, .45, .5, .6, .75, .8, 1.0]\n",
    "train_size, train_scores, test_scores = learning_curve(pipe_rl, X_train, y_train, train_sizes=fractions)\n",
    "train_scores_mean = np.mean(train_scores, axis=1)\n",
    "train_scores_std = np.std(train_scores, axis=1)\n",
    "test_scores_mean = np.mean(test_scores, axis=1)\n",
    "test_scores_std = np.std(test_scores, axis=1)\n",
    "\n",
    "plt.subplots(figsize=(10, 5))\n",
    "plt.errorbar(train_size, test_scores_mean, yerr=test_scores_std)\n",
    "plt.xlabel('Training set size')\n",
    "plt.ylabel('CV scores')\n",
    "plt.title('Cross-validation score as training set size increases');"
   ]
  },
  {
   "cell_type": "markdown",
   "metadata": {
    "id": "t64MN5hdzHVD"
   },
   "source": [
    "**Pipeline 4: Extra Trees Regressor, SelectKBest, Robust Scaler**"
   ]
  },
  {
   "cell_type": "code",
   "execution_count": 52,
   "metadata": {
    "id": "tBeQOUZ7Dzh_"
   },
   "outputs": [],
   "source": [
    "ef_pipe1 = make_pipeline(RobustScaler(), SelectKBest(score_func=f_regression), ExtraTreesRegressor(random_state=47))"
   ]
  },
  {
   "cell_type": "code",
   "execution_count": 53,
   "metadata": {
    "colab": {
     "base_uri": "https://localhost:8080/"
    },
    "id": "N-Owv6D_rmxX",
    "outputId": "2a888d18-d09a-4f31-9a87-3cf467985bce"
   },
   "outputs": [
    {
     "data": {
      "text/plain": [
       "{'memory': None,\n",
       " 'steps': [('robustscaler', RobustScaler()),\n",
       "  ('selectkbest',\n",
       "   SelectKBest(score_func=<function f_regression at 0x000002405390F790>)),\n",
       "  ('extratreesregressor', ExtraTreesRegressor(random_state=47))],\n",
       " 'verbose': False,\n",
       " 'robustscaler': RobustScaler(),\n",
       " 'selectkbest': SelectKBest(score_func=<function f_regression at 0x000002405390F790>),\n",
       " 'extratreesregressor': ExtraTreesRegressor(random_state=47),\n",
       " 'robustscaler__copy': True,\n",
       " 'robustscaler__quantile_range': (25.0, 75.0),\n",
       " 'robustscaler__unit_variance': False,\n",
       " 'robustscaler__with_centering': True,\n",
       " 'robustscaler__with_scaling': True,\n",
       " 'selectkbest__k': 10,\n",
       " 'selectkbest__score_func': <function sklearn.feature_selection._univariate_selection.f_regression(X, y, *, center=True)>,\n",
       " 'extratreesregressor__bootstrap': False,\n",
       " 'extratreesregressor__ccp_alpha': 0.0,\n",
       " 'extratreesregressor__criterion': 'mse',\n",
       " 'extratreesregressor__max_depth': None,\n",
       " 'extratreesregressor__max_features': 'auto',\n",
       " 'extratreesregressor__max_leaf_nodes': None,\n",
       " 'extratreesregressor__max_samples': None,\n",
       " 'extratreesregressor__min_impurity_decrease': 0.0,\n",
       " 'extratreesregressor__min_impurity_split': None,\n",
       " 'extratreesregressor__min_samples_leaf': 1,\n",
       " 'extratreesregressor__min_samples_split': 2,\n",
       " 'extratreesregressor__min_weight_fraction_leaf': 0.0,\n",
       " 'extratreesregressor__n_estimators': 100,\n",
       " 'extratreesregressor__n_jobs': None,\n",
       " 'extratreesregressor__oob_score': False,\n",
       " 'extratreesregressor__random_state': 47,\n",
       " 'extratreesregressor__verbose': 0,\n",
       " 'extratreesregressor__warm_start': False}"
      ]
     },
     "execution_count": 53,
     "metadata": {},
     "output_type": "execute_result"
    }
   ],
   "source": [
    "ef_pipe1.get_params()"
   ]
  },
  {
   "cell_type": "code",
   "execution_count": 54,
   "metadata": {
    "colab": {
     "base_uri": "https://localhost:8080/"
    },
    "id": "GLNuc_atDzk-",
    "outputId": "f8cdc7dd-233b-4673-bf89-648328f36ff9"
   },
   "outputs": [
    {
     "data": {
      "text/plain": [
       "Pipeline(steps=[('robustscaler', RobustScaler()),\n",
       "                ('selectkbest',\n",
       "                 SelectKBest(score_func=<function f_regression at 0x000002405390F790>)),\n",
       "                ('extratreesregressor', ExtraTreesRegressor(random_state=47))])"
      ]
     },
     "execution_count": 54,
     "metadata": {},
     "output_type": "execute_result"
    }
   ],
   "source": [
    "ef_pipe1.fit(X_train, y_train)"
   ]
  },
  {
   "cell_type": "code",
   "execution_count": 55,
   "metadata": {
    "id": "9xv-KMofDznc"
   },
   "outputs": [],
   "source": [
    "cv_results= cross_validate(ef_pipe1, X_train, y_train, cv=5)"
   ]
  },
  {
   "cell_type": "code",
   "execution_count": 56,
   "metadata": {
    "colab": {
     "base_uri": "https://localhost:8080/"
    },
    "id": "OVnVOK0_EEqA",
    "outputId": "0502e76d-364e-4cec-9ac8-05e652852ba6"
   },
   "outputs": [
    {
     "data": {
      "text/plain": [
       "(0.675454468298802, 0.02972470265854194)"
      ]
     },
     "execution_count": 56,
     "metadata": {},
     "output_type": "execute_result"
    }
   ],
   "source": [
    "np.mean(cv_results['test_score']), np.std(cv_results['test_score'])"
   ]
  },
  {
   "cell_type": "markdown",
   "metadata": {
    "id": "RyquY6lc-kfP"
   },
   "source": [
    "**Pipeline 5: Extra Trees Regressor, thorough grid search**"
   ]
  },
  {
   "cell_type": "code",
   "execution_count": 57,
   "metadata": {
    "colab": {
     "base_uri": "https://localhost:8080/"
    },
    "id": "teC6D9MzdMdp",
    "outputId": "e2264fc1-06e6-4316-87a7-ce8b9826b4de"
   },
   "outputs": [
    {
     "data": {
      "text/plain": [
       "(0.7652222318886996, 0.02108761518801243)"
      ]
     },
     "execution_count": 57,
     "metadata": {},
     "output_type": "execute_result"
    }
   ],
   "source": [
    "ef_pipe2= make_pipeline( ExtraTreesRegressor( random_state=47, max_depth= None))\n",
    "cv_results= cross_validate(ef_pipe2, X_train, y_train, cv=5)\n",
    "np.mean(cv_results['test_score']), np.std(cv_results['test_score'])"
   ]
  },
  {
   "cell_type": "code",
   "execution_count": 58,
   "metadata": {
    "id": "qZnmlF2RfNkI"
   },
   "outputs": [],
   "source": [
    "#ef_pipe2.get_params()"
   ]
  },
  {
   "cell_type": "code",
   "execution_count": 59,
   "metadata": {
    "id": "_wDu6uHliL09"
   },
   "outputs": [],
   "source": [
    "extra_params= {\n",
    "    'extratreesregressor__criterion': ['mse','mae'],\n",
    "     'extratreesregressor__max_depth': [None, 4,5,6,7,8,9,10,11,12,15,20,30,40,50,70,90,120,150],\n",
    "    'extratreesregressor__max_features':['auto', 'sqrt','log2', 45],\n",
    "    'extratreesregressor__n_estimators':[5,10,20,30,40,50,60,65,70,80,90,100]\n",
    "}\n",
    "\n",
    "ep= {\n",
    "    'extratreesregressor__criterion': ['mse'],\n",
    "     'extratreesregressor__max_depth': [22,23,24],\n",
    "    'extratreesregressor__max_features':['auto'],\n",
    "    'extratreesregressor__n_estimators':[96,97,98]\n",
    "}\n",
    "#65,70,80,85,90, \n"
   ]
  },
  {
   "cell_type": "code",
   "execution_count": 60,
   "metadata": {
    "id": "dYgCLXM66xoN"
   },
   "outputs": [],
   "source": [
    "ef_grid_cv= GridSearchCV(ef_pipe2, param_grid=ep, cv=5, n_jobs=-1)"
   ]
  },
  {
   "cell_type": "code",
   "execution_count": 61,
   "metadata": {
    "id": "RfVQrMQt7G-a"
   },
   "outputs": [],
   "source": [
    "#ef_grid_cv.get_params().keys()"
   ]
  },
  {
   "cell_type": "code",
   "execution_count": 62,
   "metadata": {
    "colab": {
     "base_uri": "https://localhost:8080/"
    },
    "id": "K6lffnRG6xrC",
    "outputId": "b8cfc553-9c57-4548-d48c-91c9915be05f"
   },
   "outputs": [
    {
     "data": {
      "text/plain": [
       "GridSearchCV(cv=5,\n",
       "             estimator=Pipeline(steps=[('extratreesregressor',\n",
       "                                        ExtraTreesRegressor(random_state=47))]),\n",
       "             n_jobs=-1,\n",
       "             param_grid={'extratreesregressor__criterion': ['mse'],\n",
       "                         'extratreesregressor__max_depth': [22, 23, 24],\n",
       "                         'extratreesregressor__max_features': ['auto'],\n",
       "                         'extratreesregressor__n_estimators': [96, 97, 98]})"
      ]
     },
     "execution_count": 62,
     "metadata": {},
     "output_type": "execute_result"
    }
   ],
   "source": [
    "ef_grid_cv.fit(X_train, y_train)"
   ]
  },
  {
   "cell_type": "code",
   "execution_count": 63,
   "metadata": {
    "id": "1qlplmd09TNI"
   },
   "outputs": [],
   "source": [
    "cv_results= cross_validate(ef_grid_cv, X_train, y_train, cv=5)"
   ]
  },
  {
   "cell_type": "code",
   "execution_count": 64,
   "metadata": {
    "colab": {
     "base_uri": "https://localhost:8080/"
    },
    "id": "57sdau5-6xuC",
    "outputId": "fb0ac2c5-1876-4cc6-e87e-e4bc88361916",
    "scrolled": true
   },
   "outputs": [
    {
     "data": {
      "text/plain": [
       "(0.7705839346478099, 0.02286312357924583)"
      ]
     },
     "execution_count": 64,
     "metadata": {},
     "output_type": "execute_result"
    }
   ],
   "source": [
    "np.mean(cv_results['test_score']), np.std(cv_results['test_score'])"
   ]
  },
  {
   "cell_type": "code",
   "execution_count": 65,
   "metadata": {
    "colab": {
     "base_uri": "https://localhost:8080/"
    },
    "id": "AphsnXDM6xxH",
    "outputId": "d8fb9c7f-bcce-4bd7-d158-847efa22ad99"
   },
   "outputs": [
    {
     "data": {
      "text/plain": [
       "{'extratreesregressor__criterion': 'mse',\n",
       " 'extratreesregressor__max_depth': 22,\n",
       " 'extratreesregressor__max_features': 'auto',\n",
       " 'extratreesregressor__n_estimators': 97}"
      ]
     },
     "execution_count": 65,
     "metadata": {},
     "output_type": "execute_result"
    }
   ],
   "source": [
    "ef_grid_cv.best_params_"
   ]
  },
  {
   "cell_type": "code",
   "execution_count": 66,
   "metadata": {},
   "outputs": [],
   "source": [
    "reg= ExtraTreesRegressor(random_state= 47, max_depth=22, criterion='mse',max_features='auto', n_estimators=97)"
   ]
  },
  {
   "cell_type": "code",
   "execution_count": 67,
   "metadata": {},
   "outputs": [
    {
     "data": {
      "text/plain": [
       "(0.7726342778228024, 0.022121977908206178)"
      ]
     },
     "execution_count": 67,
     "metadata": {},
     "output_type": "execute_result"
    }
   ],
   "source": [
    "reg.fit(X_train, y_train)\n",
    "results= cross_validate(reg, X_train, y_train, cv=5)\n",
    "np.mean(results['test_score']), np.std(results['test_score'])"
   ]
  },
  {
   "cell_type": "markdown",
   "metadata": {
    "id": "0l_vmefWrEdl"
   },
   "source": [
    "**Save best model**"
   ]
  },
  {
   "cell_type": "code",
   "execution_count": 68,
   "metadata": {
    "id": "9VV19UalrC-s"
   },
   "outputs": [],
   "source": [
    "# best_model= ef_grid_cv.best_estimator_\n",
    "# best_model.version = '1.0'\n",
    "# best_model.pandas_version = pd.__version__\n",
    "# best_model.numpy_version = np.__version__\n",
    "# best_model.sklearn_version = sklearn_version\n",
    "# best_model.X_columns= [col for col in X_train.columns]\n",
    "# best_model.build_datetime= datetime.datetime.now()"
   ]
  },
  {
   "cell_type": "code",
   "execution_count": 69,
   "metadata": {},
   "outputs": [],
   "source": [
    "# filename= r'D:\\Springboard Course\\Assignments\\Springboard\\NHL Salary Predictor\\Models/skater_model.pkl'\n",
    "# joblib.dump(best_model, filename)"
   ]
  },
  {
   "cell_type": "markdown",
   "metadata": {
    "id": "hMhT4BOZzPuA"
   },
   "source": [
    "# This secition will dive into feature selection. First a Random Forest Regressor is utilized to determine which features are the most important for the model."
   ]
  },
  {
   "cell_type": "code",
   "execution_count": 102,
   "metadata": {
    "id": "zAnjvEwJ765X"
   },
   "outputs": [
    {
     "data": {
      "text/plain": [
       "Text(0.5, 0, 'Random Forest Feature Importance')"
      ]
     },
     "execution_count": 102,
     "metadata": {},
     "output_type": "execute_result"
    },
    {
     "data": {
      "image/png": "[encoded data removed]",
      "text/plain": [
       "<Figure size 648x648 with 1 Axes>"
      ]
     },
     "metadata": {
      "needs_background": "light"
     },
     "output_type": "display_data"
    }
   ],
   "source": [
    "rf= RandomForestRegressor(n_estimators=80, random_state=47)\n",
    "rf.fit(X_train, y_train)\n",
    "rf.feature_importances_\n",
    "\n",
    "plt.figure(figsize= (9,9))\n",
    "sorted_idx= rf.feature_importances_.argsort()[:]\n",
    "plt.barh(X.columns[sorted_idx], rf.feature_importances_[sorted_idx])\n",
    "plt.xlabel('Random Forest Feature Importance')"
   ]
  },
  {
   "cell_type": "code",
   "execution_count": 103,
   "metadata": {},
   "outputs": [
    {
     "data": {
      "text/plain": [
       "Index(['CF', 'PTS', 'HIT', 'TK', 'TOI(EV)', 'ATOI', 'AGE', 'Season', 'PPG',\n",
       "       'PS'],\n",
       "      dtype='object')"
      ]
     },
     "execution_count": 103,
     "metadata": {},
     "output_type": "execute_result"
    }
   ],
   "source": [
    "top= sorted_idx[-10:]\n",
    "X.columns[top]"
   ]
  },
  {
   "cell_type": "markdown",
   "metadata": {},
   "source": [
    "## Feature sets\n",
    "- all\n",
    "- top 10 rf\n",
    "- top 20 rf\n",
    "- top 30 rf\n",
    "- heatmap 20\n",
    "- custom 18 features\n",
    "- custom 10 features\n",
    "\n",
    "\n"
   ]
  },
  {
   "cell_type": "markdown",
   "metadata": {},
   "source": [
    "#                                                 all features \n"
   ]
  },
  {
   "cell_type": "code",
   "execution_count": 72,
   "metadata": {},
   "outputs": [],
   "source": [
    "# i want ot pass in a function taht reutnrs a dictionary that i can turn into a dataframe\n",
    "# input will be the set of data you will use, and it will outout a dictionary/table with each regressor's \n",
    "# 1) name, 2) scaler, 3) r2 score (after cross validation), 4) features/parameters"
   ]
  },
  {
   "cell_type": "code",
   "execution_count": 100,
   "metadata": {},
   "outputs": [],
   "source": [
    "X= skaters.iloc[:,1:-2]\n",
    "y= skaters.iloc[:, -1]\n",
    "\n",
    "X_train, X_test, y_train, y_test= train_test_split(X,y, test_size=0.2, random_state=12)"
   ]
  },
  {
   "cell_type": "code",
   "execution_count": 22,
   "metadata": {},
   "outputs": [
    {
     "name": "stdout",
     "output_type": "stream",
     "text": [
      "LinearRegression() RobustScaler()\n",
      "R2 Score on Training: 0.7493712365744245\n",
      "MAE on Training: 729106.5810511129\n",
      "------\n",
      "ExtraTreesRegressor(random_state=47) None\n",
      "R2 Score on Training: 0.9999040979987935\n",
      "MAE on Training: 942.6671302735281\n",
      "------\n",
      "RandomForestRegressor(random_state=47) None\n",
      "R2 Score on Training: 0.9699227384746046\n",
      "MAE on Training: 235783.66114190788\n",
      "------\n",
      "Ridge() RobustScaler()\n",
      "R2 Score on Training: 0.7489822047987273\n",
      "MAE on Training: 730177.7625315257\n",
      "------\n",
      "Lasso() RobustScaler()\n",
      "R2 Score on Training: 0.7492301338925637\n",
      "MAE on Training: 729856.3620743896\n",
      "------\n"
     ]
    },
    {
     "name": "stderr",
     "output_type": "stream",
     "text": [
      "C:\\Users\\essmar\\AppData\\Local\\Programs\\Python\\Python39\\lib\\site-packages\\sklearn\\linear_model\\_coordinate_descent.py:530: ConvergenceWarning: Objective did not converge. You might want to increase the number of iterations. Duality gap: 1012672557578645.9, tolerance: 810998490292.6388\n",
      "  model = cd_fast.enet_coordinate_descent(\n"
     ]
    },
    {
     "name": "stdout",
     "output_type": "stream",
     "text": [
      "ElasticNet() RobustScaler()\n",
      "R2 Score on Training: 0.6830777001403541\n",
      "MAE on Training: 802180.3534208323\n",
      "------\n",
      "GradientBoostingRegressor() None\n",
      "R2 Score on Training: 0.8836420180477393\n",
      "MAE on Training: 481732.42295278155\n",
      "------\n",
      "SGDRegressor() RobustScaler()\n",
      "R2 Score on Training: 0.7366240429376298\n",
      "MAE on Training: 750541.808869902\n",
      "------\n",
      "SVR() RobustScaler()\n",
      "R2 Score on Training: -0.17410884587804198\n",
      "MAE on Training: 1424866.756174759\n",
      "------\n",
      "RANSACRegressor() RobustScaler()\n",
      "R2 Score on Training: -0.596033710385945\n",
      "MAE on Training: 1250579.9623227497\n",
      "------\n"
     ]
    }
   ],
   "source": [
    "results(RobustScaler(), LinearRegression(), X_train, y_train)\n",
    "print('------')\n",
    "results(None, ExtraTreesRegressor(random_state=47), X_train, y_train)\n",
    "print('------')\n",
    "results(None, RandomForestRegressor(random_state=47), X_train, y_train)\n",
    "print('------')\n",
    "results(RobustScaler(), Ridge(), X_train, y_train)\n",
    "print('------')\n",
    "results(RobustScaler(), Lasso(), X_train, y_train)\n",
    "print('------')\n",
    "results(RobustScaler(), ElasticNet(), X_train, y_train)\n",
    "print('------')\n",
    "results(None, GradientBoostingRegressor(), X_train, y_train)\n",
    "print('------')\n",
    "results(RobustScaler(), SGDRegressor(), X_train, y_train)\n",
    "print('------')\n",
    "results(RobustScaler(), SVR(), X_train, y_train)\n",
    "print('------')\n",
    "results(RobustScaler(), RANSACRegressor(), X_train, y_train)\n",
    "print('------')"
   ]
  },
  {
   "cell_type": "code",
   "execution_count": 23,
   "metadata": {},
   "outputs": [
    {
     "name": "stderr",
     "output_type": "stream",
     "text": [
      "C:\\Users\\essmar\\AppData\\Local\\Programs\\Python\\Python39\\lib\\site-packages\\statsmodels\\stats\\outliers_influence.py:195: RuntimeWarning: divide by zero encountered in double_scalars\n",
      "  vif = 1. / (1. - r_squared_i)\n"
     ]
    },
    {
     "data": {
      "text/html": [
       "<div>\n",
       "<style scoped>\n",
       "    .dataframe tbody tr th:only-of-type {\n",
       "        vertical-align: middle;\n",
       "    }\n",
       "\n",
       "    .dataframe tbody tr th {\n",
       "        vertical-align: top;\n",
       "    }\n",
       "\n",
       "    .dataframe thead th {\n",
       "        text-align: right;\n",
       "    }\n",
       "</style>\n",
       "<table border=\"1\" class=\"dataframe\">\n",
       "  <thead>\n",
       "    <tr style=\"text-align: right;\">\n",
       "      <th></th>\n",
       "      <th>VIF</th>\n",
       "      <th>variable</th>\n",
       "    </tr>\n",
       "  </thead>\n",
       "  <tbody>\n",
       "    <tr>\n",
       "      <th>0</th>\n",
       "      <td>5.561630e+05</td>\n",
       "      <td>Season</td>\n",
       "    </tr>\n",
       "    <tr>\n",
       "      <th>1</th>\n",
       "      <td>5.759488e+01</td>\n",
       "      <td>AGE</td>\n",
       "    </tr>\n",
       "    <tr>\n",
       "      <th>2</th>\n",
       "      <td>4.268480e+00</td>\n",
       "      <td>Pos_C</td>\n",
       "    </tr>\n",
       "    <tr>\n",
       "      <th>3</th>\n",
       "      <td>2.981899e+00</td>\n",
       "      <td>Pos_LW</td>\n",
       "    </tr>\n",
       "    <tr>\n",
       "      <th>4</th>\n",
       "      <td>3.138431e+00</td>\n",
       "      <td>Pos_RW</td>\n",
       "    </tr>\n",
       "    <tr>\n",
       "      <th>5</th>\n",
       "      <td>2.005067e+01</td>\n",
       "      <td>Pos_D</td>\n",
       "    </tr>\n",
       "    <tr>\n",
       "      <th>6</th>\n",
       "      <td>1.707033e+02</td>\n",
       "      <td>GP</td>\n",
       "    </tr>\n",
       "    <tr>\n",
       "      <th>7</th>\n",
       "      <td>inf</td>\n",
       "      <td>G</td>\n",
       "    </tr>\n",
       "    <tr>\n",
       "      <th>8</th>\n",
       "      <td>inf</td>\n",
       "      <td>A</td>\n",
       "    </tr>\n",
       "    <tr>\n",
       "      <th>9</th>\n",
       "      <td>inf</td>\n",
       "      <td>PTS</td>\n",
       "    </tr>\n",
       "    <tr>\n",
       "      <th>10</th>\n",
       "      <td>7.376036e+01</td>\n",
       "      <td>PPG</td>\n",
       "    </tr>\n",
       "    <tr>\n",
       "      <th>11</th>\n",
       "      <td>3.652138e+00</td>\n",
       "      <td>PlusMinus</td>\n",
       "    </tr>\n",
       "    <tr>\n",
       "      <th>12</th>\n",
       "      <td>6.723552e+02</td>\n",
       "      <td>ATOI</td>\n",
       "    </tr>\n",
       "    <tr>\n",
       "      <th>13</th>\n",
       "      <td>8.376198e+02</td>\n",
       "      <td>TOI(EV)</td>\n",
       "    </tr>\n",
       "    <tr>\n",
       "      <th>14</th>\n",
       "      <td>4.827030e+00</td>\n",
       "      <td>PIM</td>\n",
       "    </tr>\n",
       "    <tr>\n",
       "      <th>15</th>\n",
       "      <td>9.496508e+01</td>\n",
       "      <td>PS</td>\n",
       "    </tr>\n",
       "    <tr>\n",
       "      <th>16</th>\n",
       "      <td>inf</td>\n",
       "      <td>EV_A</td>\n",
       "    </tr>\n",
       "    <tr>\n",
       "      <th>17</th>\n",
       "      <td>inf</td>\n",
       "      <td>PP_A</td>\n",
       "    </tr>\n",
       "    <tr>\n",
       "      <th>18</th>\n",
       "      <td>inf</td>\n",
       "      <td>SH_A</td>\n",
       "    </tr>\n",
       "    <tr>\n",
       "      <th>19</th>\n",
       "      <td>7.785383e+00</td>\n",
       "      <td>GW</td>\n",
       "    </tr>\n",
       "    <tr>\n",
       "      <th>20</th>\n",
       "      <td>3.447289e+02</td>\n",
       "      <td>S</td>\n",
       "    </tr>\n",
       "    <tr>\n",
       "      <th>21</th>\n",
       "      <td>7.932400e+00</td>\n",
       "      <td>S_Pct</td>\n",
       "    </tr>\n",
       "    <tr>\n",
       "      <th>22</th>\n",
       "      <td>2.553705e+01</td>\n",
       "      <td>BLK</td>\n",
       "    </tr>\n",
       "    <tr>\n",
       "      <th>23</th>\n",
       "      <td>6.573171e+00</td>\n",
       "      <td>HIT</td>\n",
       "    </tr>\n",
       "    <tr>\n",
       "      <th>24</th>\n",
       "      <td>4.488960e+01</td>\n",
       "      <td>FOW</td>\n",
       "    </tr>\n",
       "    <tr>\n",
       "      <th>25</th>\n",
       "      <td>4.932742e+01</td>\n",
       "      <td>FOL</td>\n",
       "    </tr>\n",
       "    <tr>\n",
       "      <th>26</th>\n",
       "      <td>7.986033e+00</td>\n",
       "      <td>FO_Pct</td>\n",
       "    </tr>\n",
       "    <tr>\n",
       "      <th>27</th>\n",
       "      <td>3.709300e+03</td>\n",
       "      <td>CF</td>\n",
       "    </tr>\n",
       "    <tr>\n",
       "      <th>28</th>\n",
       "      <td>3.324402e+03</td>\n",
       "      <td>CA</td>\n",
       "    </tr>\n",
       "    <tr>\n",
       "      <th>29</th>\n",
       "      <td>7.321803e+03</td>\n",
       "      <td>CF_Pct</td>\n",
       "    </tr>\n",
       "    <tr>\n",
       "      <th>30</th>\n",
       "      <td>2.955418e+01</td>\n",
       "      <td>CF_Pct_rel</td>\n",
       "    </tr>\n",
       "    <tr>\n",
       "      <th>31</th>\n",
       "      <td>3.792423e+03</td>\n",
       "      <td>FF</td>\n",
       "    </tr>\n",
       "    <tr>\n",
       "      <th>32</th>\n",
       "      <td>2.958356e+03</td>\n",
       "      <td>FA</td>\n",
       "    </tr>\n",
       "    <tr>\n",
       "      <th>33</th>\n",
       "      <td>7.111126e+03</td>\n",
       "      <td>FF_Pct</td>\n",
       "    </tr>\n",
       "    <tr>\n",
       "      <th>34</th>\n",
       "      <td>2.868956e+01</td>\n",
       "      <td>FF_Pct_rel</td>\n",
       "    </tr>\n",
       "    <tr>\n",
       "      <th>35</th>\n",
       "      <td>4.943163e+01</td>\n",
       "      <td>oiSH_Pct</td>\n",
       "    </tr>\n",
       "    <tr>\n",
       "      <th>36</th>\n",
       "      <td>5.247240e+03</td>\n",
       "      <td>oiSV_Pct</td>\n",
       "    </tr>\n",
       "    <tr>\n",
       "      <th>37</th>\n",
       "      <td>4.402083e+03</td>\n",
       "      <td>PDO</td>\n",
       "    </tr>\n",
       "    <tr>\n",
       "      <th>38</th>\n",
       "      <td>1.464798e+05</td>\n",
       "      <td>oZS_Pct</td>\n",
       "    </tr>\n",
       "    <tr>\n",
       "      <th>39</th>\n",
       "      <td>1.405211e+05</td>\n",
       "      <td>dZS_Pct</td>\n",
       "    </tr>\n",
       "    <tr>\n",
       "      <th>40</th>\n",
       "      <td>1.365264e+01</td>\n",
       "      <td>TK</td>\n",
       "    </tr>\n",
       "    <tr>\n",
       "      <th>41</th>\n",
       "      <td>1.355832e+01</td>\n",
       "      <td>GV</td>\n",
       "    </tr>\n",
       "    <tr>\n",
       "      <th>42</th>\n",
       "      <td>3.355777e+02</td>\n",
       "      <td>SAtt.</td>\n",
       "    </tr>\n",
       "    <tr>\n",
       "      <th>43</th>\n",
       "      <td>9.904710e+01</td>\n",
       "      <td>Thru_Pct</td>\n",
       "    </tr>\n",
       "    <tr>\n",
       "      <th>44</th>\n",
       "      <td>inf</td>\n",
       "      <td>SOT_Att</td>\n",
       "    </tr>\n",
       "    <tr>\n",
       "      <th>45</th>\n",
       "      <td>inf</td>\n",
       "      <td>SOT_Scored</td>\n",
       "    </tr>\n",
       "    <tr>\n",
       "      <th>46</th>\n",
       "      <td>inf</td>\n",
       "      <td>SOT_Saved</td>\n",
       "    </tr>\n",
       "    <tr>\n",
       "      <th>47</th>\n",
       "      <td>3.510522e+00</td>\n",
       "      <td>SOT_Pct</td>\n",
       "    </tr>\n",
       "  </tbody>\n",
       "</table>\n",
       "</div>"
      ],
      "text/plain": [
       "             VIF    variable\n",
       "0   5.561630e+05      Season\n",
       "1   5.759488e+01         AGE\n",
       "2   4.268480e+00       Pos_C\n",
       "3   2.981899e+00      Pos_LW\n",
       "4   3.138431e+00      Pos_RW\n",
       "5   2.005067e+01       Pos_D\n",
       "6   1.707033e+02          GP\n",
       "7            inf           G\n",
       "8            inf           A\n",
       "9            inf         PTS\n",
       "10  7.376036e+01         PPG\n",
       "11  3.652138e+00   PlusMinus\n",
       "12  6.723552e+02        ATOI\n",
       "13  8.376198e+02     TOI(EV)\n",
       "14  4.827030e+00         PIM\n",
       "15  9.496508e+01          PS\n",
       "16           inf        EV_A\n",
       "17           inf        PP_A\n",
       "18           inf        SH_A\n",
       "19  7.785383e+00          GW\n",
       "20  3.447289e+02           S\n",
       "21  7.932400e+00       S_Pct\n",
       "22  2.553705e+01         BLK\n",
       "23  6.573171e+00         HIT\n",
       "24  4.488960e+01         FOW\n",
       "25  4.932742e+01         FOL\n",
       "26  7.986033e+00      FO_Pct\n",
       "27  3.709300e+03          CF\n",
       "28  3.324402e+03          CA\n",
       "29  7.321803e+03      CF_Pct\n",
       "30  2.955418e+01  CF_Pct_rel\n",
       "31  3.792423e+03          FF\n",
       "32  2.958356e+03          FA\n",
       "33  7.111126e+03      FF_Pct\n",
       "34  2.868956e+01  FF_Pct_rel\n",
       "35  4.943163e+01    oiSH_Pct\n",
       "36  5.247240e+03    oiSV_Pct\n",
       "37  4.402083e+03         PDO\n",
       "38  1.464798e+05     oZS_Pct\n",
       "39  1.405211e+05     dZS_Pct\n",
       "40  1.365264e+01          TK\n",
       "41  1.355832e+01          GV\n",
       "42  3.355777e+02       SAtt.\n",
       "43  9.904710e+01    Thru_Pct\n",
       "44           inf     SOT_Att\n",
       "45           inf  SOT_Scored\n",
       "46           inf   SOT_Saved\n",
       "47  3.510522e+00     SOT_Pct"
      ]
     },
     "execution_count": 23,
     "metadata": {},
     "output_type": "execute_result"
    }
   ],
   "source": [
    "vif = pd.DataFrame()\n",
    "\n",
    "vif['VIF'] = [variance_inflation_factor(X.values, i) for i in range(X.shape[1])]\n",
    "vif['variable'] = X.columns\n",
    "vif"
   ]
  },
  {
   "cell_type": "code",
   "execution_count": 24,
   "metadata": {},
   "outputs": [],
   "source": [
    "ep= {\n",
    "    'extratreesregressor__criterion': ['mse'],\n",
    "     'extratreesregressor__max_depth': [22],\n",
    "    'extratreesregressor__max_features':['auto'],\n",
    "    'extratreesregressor__n_estimators':[97,98,99,100]\n",
    "}\n",
    "\n",
    "\n",
    "rp= {\n",
    "    'randomforestregressor__n_estimators': [74,75,76,80],\n",
    "    'randomforestregressor__max_depth': [19,20,21],\n",
    "    'randomforestregressor__max_features':['auto'],\n",
    "    'randomforestregressor__criterion':['mse']\n",
    "}"
   ]
  },
  {
   "cell_type": "code",
   "execution_count": 25,
   "metadata": {},
   "outputs": [
    {
     "data": {
      "text/plain": [
       "GridSearchCV(cv=5,\n",
       "             estimator=Pipeline(steps=[('extratreesregressor',\n",
       "                                        ExtraTreesRegressor(random_state=47))]),\n",
       "             n_jobs=-1,\n",
       "             param_grid={'extratreesregressor__criterion': ['mse'],\n",
       "                         'extratreesregressor__max_depth': [22],\n",
       "                         'extratreesregressor__max_features': ['auto'],\n",
       "                         'extratreesregressor__n_estimators': [97, 98, 99,\n",
       "                                                               100]})"
      ]
     },
     "execution_count": 25,
     "metadata": {},
     "output_type": "execute_result"
    }
   ],
   "source": [
    "# find optimal ExtraTrees model\n",
    "\n",
    "et_all_pipe= make_pipeline(ExtraTreesRegressor(random_state=47, max_depth=None))\n",
    "et_all_pipe.fit(X_train, y_train)\n",
    "\n",
    "et_all_grid= GridSearchCV(et_all_pipe, param_grid=ep, cv=5, n_jobs=-1)\n",
    "et_all_grid.fit(X_train, y_train)\n"
   ]
  },
  {
   "cell_type": "code",
   "execution_count": 26,
   "metadata": {},
   "outputs": [
    {
     "data": {
      "text/plain": [
       "{'extratreesregressor__criterion': 'mse',\n",
       " 'extratreesregressor__max_depth': 22,\n",
       " 'extratreesregressor__max_features': 'auto',\n",
       " 'extratreesregressor__n_estimators': 97}"
      ]
     },
     "execution_count": 26,
     "metadata": {},
     "output_type": "execute_result"
    }
   ],
   "source": [
    "et_all_grid.best_params_\n",
    "\n",
    "\n",
    "# {'extratreesregressor__criterion': 'mse',\n",
    "#  'extratreesregressor__max_depth': 22,\n",
    "#  'extratreesregressor__max_features': 'auto',\n",
    "#  'extratreesregressor__n_estimators': 97}"
   ]
  },
  {
   "cell_type": "code",
   "execution_count": 27,
   "metadata": {},
   "outputs": [
    {
     "data": {
      "text/plain": [
       "(0.7726342778228024, 0.022121977908206178)"
      ]
     },
     "execution_count": 27,
     "metadata": {},
     "output_type": "execute_result"
    }
   ],
   "source": [
    "\n",
    "cv_results= cross_validate(et_all_grid.best_estimator_, X_train, y_train, cv=5)\n",
    "\n",
    "np.mean(cv_results['test_score']), np.std(cv_results['test_score'])"
   ]
  },
  {
   "cell_type": "code",
   "execution_count": 29,
   "metadata": {},
   "outputs": [
    {
     "data": {
      "text/plain": [
       "GridSearchCV(cv=5,\n",
       "             estimator=Pipeline(steps=[('randomforestregressor',\n",
       "                                        RandomForestRegressor(random_state=47))]),\n",
       "             n_jobs=-1,\n",
       "             param_grid={'randomforestregressor__criterion': ['mse'],\n",
       "                         'randomforestregressor__max_depth': [19, 20, 21],\n",
       "                         'randomforestregressor__max_features': ['auto'],\n",
       "                         'randomforestregressor__n_estimators': [74, 75, 76,\n",
       "                                                                 80]})"
      ]
     },
     "execution_count": 29,
     "metadata": {},
     "output_type": "execute_result"
    }
   ],
   "source": [
    "# find optimal RF model\n",
    "\n",
    "\n",
    "rf_all_pipe= make_pipeline(RandomForestRegressor(random_state=47, max_depth=None))\n",
    "rf_all_pipe.fit(X_train, y_train)\n",
    "\n",
    "rf_all_grid= GridSearchCV(rf_all_pipe, param_grid=rp, cv=5, n_jobs=-1)\n",
    "rf_all_grid.fit(X_train, y_train)"
   ]
  },
  {
   "cell_type": "code",
   "execution_count": 114,
   "metadata": {},
   "outputs": [
    {
     "data": {
      "text/plain": [
       "{'randomforestregressor__criterion': 'mse',\n",
       " 'randomforestregressor__max_depth': 20,\n",
       " 'randomforestregressor__max_features': 'auto',\n",
       " 'randomforestregressor__n_estimators': 75}"
      ]
     },
     "execution_count": 114,
     "metadata": {},
     "output_type": "execute_result"
    }
   ],
   "source": [
    "rf_all_grid.best_params_\n",
    "\n",
    "# {'randomforestregressor__criterion': 'mse',\n",
    "#  'randomforestregressor__max_depth': 20,\n",
    "#  'randomforestregressor__max_features': 'auto',\n",
    "#  'randomforestregressor__n_estimators': 75}"
   ]
  },
  {
   "cell_type": "code",
   "execution_count": 115,
   "metadata": {},
   "outputs": [
    {
     "data": {
      "text/plain": [
       "(0.76991398716703, 0.024369906032248232)"
      ]
     },
     "execution_count": 115,
     "metadata": {},
     "output_type": "execute_result"
    }
   ],
   "source": [
    "\n",
    "cv_results= cross_validate(rf_all_grid.best_estimator_, X_train, y_train, cv=5)\n",
    "\n",
    "np.mean(cv_results['test_score']), np.std(cv_results['test_score'])"
   ]
  },
  {
   "cell_type": "markdown",
   "metadata": {},
   "source": [
    "# top10 rf features\n"
   ]
  },
  {
   "cell_type": "code",
   "execution_count": 127,
   "metadata": {},
   "outputs": [
    {
     "name": "stdout",
     "output_type": "stream",
     "text": [
      "LinearRegression() RobustScaler()\n",
      "R2 Score on Training: 0.7158433362403405\n",
      "MAE on Training: 779375.5456958718\n",
      "------\n",
      "ExtraTreesRegressor(random_state=47) None\n",
      "R2 Score on Training: 0.9999043103296451\n",
      "MAE on Training: 923.195642095503\n",
      "------\n",
      "RandomForestRegressor(random_state=47) None\n",
      "R2 Score on Training: 0.9706769274375615\n",
      "MAE on Training: 233414.62742107644\n",
      "------\n",
      "Ridge() RobustScaler()\n",
      "R2 Score on Training: 0.7158380154332227\n",
      "MAE on Training: 779301.8046064315\n",
      "------\n",
      "Lasso() RobustScaler()\n",
      "R2 Score on Training: 0.7158433361660084\n",
      "MAE on Training: 779375.034175394\n",
      "------\n",
      "ElasticNet() RobustScaler()\n",
      "R2 Score on Training: 0.6665157666217914\n",
      "MAE on Training: 821127.953647952\n",
      "------\n",
      "GradientBoostingRegressor() None\n",
      "R2 Score on Training: 0.8704120615639763\n",
      "MAE on Training: 504991.09632871405\n",
      "------\n",
      "SGDRegressor() RobustScaler()\n",
      "R2 Score on Training: 0.7147012426081776\n",
      "MAE on Training: 779648.0101328926\n",
      "------\n",
      "SVR() RobustScaler()\n",
      "R2 Score on Training: -0.1740392211878352\n",
      "MAE on Training: 1424800.6516501992\n",
      "------\n",
      "RANSACRegressor() RobustScaler()\n",
      "R2 Score on Training: 0.35377531586894906\n",
      "MAE on Training: 1094560.7430096788\n"
     ]
    }
   ],
   "source": [
    "top10= skaters[['CF', 'PTS', 'HIT', 'TK', 'A', 'ATOI', 'AGE', 'Season', 'PPG','PS','AAV']]\n",
    "\n",
    "X= top10.iloc[:,0:-1]\n",
    "y= top10.iloc[:, -1]\n",
    "\n",
    "X_train, X_test, y_train, y_test= train_test_split(X,y, test_size=0.2, random_state=12)\n",
    "\n",
    "results(RobustScaler(), LinearRegression(), X_train, y_train)\n",
    "print('------')\n",
    "results(None, ExtraTreesRegressor(random_state=47), X_train, y_train)\n",
    "print('------')\n",
    "results(None, RandomForestRegressor(random_state=47), X_train, y_train)\n",
    "print('------')\n",
    "results(RobustScaler(), Ridge(), X_train, y_train)\n",
    "print('------')\n",
    "results(RobustScaler(), Lasso(), X_train, y_train)\n",
    "print('------')\n",
    "results(RobustScaler(), ElasticNet(), X_train, y_train)\n",
    "print('------')\n",
    "results(None, GradientBoostingRegressor(), X_train, y_train)\n",
    "print('------')\n",
    "results(RobustScaler(), SGDRegressor(), X_train, y_train)\n",
    "print('------')\n",
    "results(RobustScaler(), SVR(), X_train, y_train)\n",
    "print('------')\n",
    "results(RobustScaler(), RANSACRegressor(), X_train, y_train)\n"
   ]
  },
  {
   "cell_type": "code",
   "execution_count": 128,
   "metadata": {},
   "outputs": [
    {
     "data": {
      "text/html": [
       "<div>\n",
       "<style scoped>\n",
       "    .dataframe tbody tr th:only-of-type {\n",
       "        vertical-align: middle;\n",
       "    }\n",
       "\n",
       "    .dataframe tbody tr th {\n",
       "        vertical-align: top;\n",
       "    }\n",
       "\n",
       "    .dataframe thead th {\n",
       "        text-align: right;\n",
       "    }\n",
       "</style>\n",
       "<table border=\"1\" class=\"dataframe\">\n",
       "  <thead>\n",
       "    <tr style=\"text-align: right;\">\n",
       "      <th></th>\n",
       "      <th>VIF</th>\n",
       "      <th>variable</th>\n",
       "    </tr>\n",
       "  </thead>\n",
       "  <tbody>\n",
       "    <tr>\n",
       "      <th>0</th>\n",
       "      <td>50.928425</td>\n",
       "      <td>CF</td>\n",
       "    </tr>\n",
       "    <tr>\n",
       "      <th>1</th>\n",
       "      <td>93.659090</td>\n",
       "      <td>PTS</td>\n",
       "    </tr>\n",
       "    <tr>\n",
       "      <th>2</th>\n",
       "      <td>4.543215</td>\n",
       "      <td>HIT</td>\n",
       "    </tr>\n",
       "    <tr>\n",
       "      <th>3</th>\n",
       "      <td>11.352617</td>\n",
       "      <td>TK</td>\n",
       "    </tr>\n",
       "    <tr>\n",
       "      <th>4</th>\n",
       "      <td>46.890933</td>\n",
       "      <td>A</td>\n",
       "    </tr>\n",
       "    <tr>\n",
       "      <th>5</th>\n",
       "      <td>72.213632</td>\n",
       "      <td>ATOI</td>\n",
       "    </tr>\n",
       "    <tr>\n",
       "      <th>6</th>\n",
       "      <td>50.318825</td>\n",
       "      <td>AGE</td>\n",
       "    </tr>\n",
       "    <tr>\n",
       "      <th>7</th>\n",
       "      <td>73.492994</td>\n",
       "      <td>Season</td>\n",
       "    </tr>\n",
       "    <tr>\n",
       "      <th>8</th>\n",
       "      <td>41.590469</td>\n",
       "      <td>PPG</td>\n",
       "    </tr>\n",
       "    <tr>\n",
       "      <th>9</th>\n",
       "      <td>26.003341</td>\n",
       "      <td>PS</td>\n",
       "    </tr>\n",
       "    <tr>\n",
       "      <th>10</th>\n",
       "      <td>7.957889</td>\n",
       "      <td>AAV</td>\n",
       "    </tr>\n",
       "  </tbody>\n",
       "</table>\n",
       "</div>"
      ],
      "text/plain": [
       "          VIF variable\n",
       "0   50.928425       CF\n",
       "1   93.659090      PTS\n",
       "2    4.543215      HIT\n",
       "3   11.352617       TK\n",
       "4   46.890933        A\n",
       "5   72.213632     ATOI\n",
       "6   50.318825      AGE\n",
       "7   73.492994   Season\n",
       "8   41.590469      PPG\n",
       "9   26.003341       PS\n",
       "10   7.957889      AAV"
      ]
     },
     "execution_count": 128,
     "metadata": {},
     "output_type": "execute_result"
    }
   ],
   "source": [
    "vif = pd.DataFrame()\n",
    "\n",
    "vif['VIF'] = [variance_inflation_factor(top10.values, i) for i in range(top10.shape[1])]\n",
    "vif['variable'] = top10.columns\n",
    "vif"
   ]
  },
  {
   "cell_type": "code",
   "execution_count": null,
   "metadata": {},
   "outputs": [],
   "source": [
    "ep= {'extratreesregressor__criterion': ['mse'],\n",
    "     'extratreesregressor__max_depth': [18,19,20,21,22],\n",
    "     'extratreesregressor__max_features': ['auto'],\n",
    "     'extratreesregressor__n_estimators': [86,87,88,89,90,91,92,93,94,95]}"
   ]
  },
  {
   "cell_type": "code",
   "execution_count": 134,
   "metadata": {},
   "outputs": [
    {
     "data": {
      "text/plain": [
       "GridSearchCV(cv=5,\n",
       "             estimator=Pipeline(steps=[('extratreesregressor',\n",
       "                                        ExtraTreesRegressor(random_state=47))]),\n",
       "             n_jobs=-1,\n",
       "             param_grid={'extratreesregressor__criterion': ['mse'],\n",
       "                         'extratreesregressor__max_depth': [18, 19, 20, 21, 22],\n",
       "                         'extratreesregressor__max_features': ['auto'],\n",
       "                         'extratreesregressor__n_estimators': [86, 87, 88, 89,\n",
       "                                                               90, 91, 92, 93,\n",
       "                                                               94, 95]})"
      ]
     },
     "execution_count": 134,
     "metadata": {},
     "output_type": "execute_result"
    }
   ],
   "source": [
    "et_top10_pipe= make_pipeline(ExtraTreesRegressor(random_state=47, max_depth=None))\n",
    "et_top10_pipe.fit(X_train, y_train)\n",
    "\n",
    "et_top10_grid= GridSearchCV(et_top10_pipe, param_grid=ep, cv=5, n_jobs=-1)\n",
    "et_top10_grid.fit(X_train, y_train)\n"
   ]
  },
  {
   "cell_type": "code",
   "execution_count": 135,
   "metadata": {},
   "outputs": [
    {
     "data": {
      "text/plain": [
       "{'extratreesregressor__criterion': 'mse',\n",
       " 'extratreesregressor__max_depth': 20,\n",
       " 'extratreesregressor__max_features': 'auto',\n",
       " 'extratreesregressor__n_estimators': 90}"
      ]
     },
     "execution_count": 135,
     "metadata": {},
     "output_type": "execute_result"
    }
   ],
   "source": [
    "et_top10_grid.best_params_\n",
    "\n",
    "# {'extratreesregressor__criterion': 'mse',\n",
    "#  'extratreesregressor__max_depth': 20,\n",
    "#  'extratreesregressor__max_features': 'auto',\n",
    "#  'extratreesregressor__n_estimators': 79}"
   ]
  },
  {
   "cell_type": "code",
   "execution_count": 136,
   "metadata": {},
   "outputs": [
    {
     "data": {
      "text/plain": [
       "(0.7790645176405614, 0.023524848856801523)"
      ]
     },
     "execution_count": 136,
     "metadata": {},
     "output_type": "execute_result"
    }
   ],
   "source": [
    "cv_results= cross_validate(et_top10_grid.best_estimator_, X_train, y_train, cv=5)\n",
    "\n",
    "np.mean(cv_results['test_score']), np.std(cv_results['test_score'])"
   ]
  },
  {
   "cell_type": "code",
   "execution_count": 137,
   "metadata": {},
   "outputs": [
    {
     "data": {
      "text/plain": [
       "(0.7814011080682148, 0.021828692141198137)"
      ]
     },
     "execution_count": 137,
     "metadata": {},
     "output_type": "execute_result"
    }
   ],
   "source": [
    "# with toi ev\n",
    "(0.7789179158880323, 0.02669323354073644)\n",
    "\n",
    "# with thru% -- md 20 ne 84\n",
    "(0.7809262984651325, 0.023983696884145752)\n",
    "\n",
    "# with a -- md 20 ne 90\n",
    "(0.7790645176405614, 0.023524848856801523)\n",
    "\n",
    "# with oisv%  -- md 19, ne 84\n",
    "(0.7814011080682148, 0.021828692141198137)\n"
   ]
  },
  {
   "cell_type": "markdown",
   "metadata": {},
   "source": [
    "# top 20 rf features"
   ]
  },
  {
   "cell_type": "code",
   "execution_count": 43,
   "metadata": {},
   "outputs": [
    {
     "name": "stdout",
     "output_type": "stream",
     "text": [
      "LinearRegression() RobustScaler()\n",
      "R2 Score on Training: 0.7307520074033325\n",
      "MAE on Training: 751928.1897103318\n",
      "------\n",
      "ExtraTreesRegressor(random_state=47) None\n",
      "R2 Score on Training: 0.9999043063838917\n",
      "MAE on Training: 926.9044969865554\n",
      "------\n",
      "RandomForestRegressor(random_state=47) None\n",
      "R2 Score on Training: 0.9702521000536953\n",
      "MAE on Training: 235264.3166870433\n",
      "------\n",
      "Ridge() RobustScaler()\n",
      "R2 Score on Training: 0.7307381805073033\n",
      "MAE on Training: 751999.9755254576\n",
      "------\n",
      "Lasso() RobustScaler()\n",
      "R2 Score on Training: 0.7307520070719016\n",
      "MAE on Training: 751928.5407172602\n",
      "------\n",
      "ElasticNet() RobustScaler()\n",
      "R2 Score on Training: 0.6798725846730598\n",
      "MAE on Training: 804593.1085956414\n",
      "------\n"
     ]
    },
    {
     "name": "stderr",
     "output_type": "stream",
     "text": [
      "C:\\Users\\essmar\\AppData\\Local\\Programs\\Python\\Python39\\lib\\site-packages\\sklearn\\linear_model\\_coordinate_descent.py:530: ConvergenceWarning: Objective did not converge. You might want to increase the number of iterations. Duality gap: 3318005637197.25, tolerance: 810998490292.6388\n",
      "  model = cd_fast.enet_coordinate_descent(\n"
     ]
    },
    {
     "name": "stdout",
     "output_type": "stream",
     "text": [
      "GradientBoostingRegressor() None\n",
      "R2 Score on Training: 0.8779251015798119\n",
      "MAE on Training: 489624.14349311916\n",
      "------\n",
      "SGDRegressor() RobustScaler()\n",
      "R2 Score on Training: 0.7275480198615949\n",
      "MAE on Training: 760179.6108506189\n",
      "------\n",
      "SVR() RobustScaler()\n",
      "R2 Score on Training: -0.17407983554446416\n",
      "MAE on Training: 1424837.2906583569\n",
      "------\n",
      "RANSACRegressor() RobustScaler()\n",
      "R2 Score on Training: 0.39240182311905525\n",
      "MAE on Training: 1128159.8441047983\n"
     ]
    }
   ],
   "source": [
    "top20= skaters[['S', 'PlusMinus', 'GV', 'BLK', 'PIM', 'SAtt.', 'GP', 'oiSV_Pct', 'A', 'Thru_Pct', 'CF', 'PTS',\n",
    "                'HIT', 'TK', 'TOI(EV)', 'ATOI', 'AGE','Season', 'PPG', 'PS','AAV']]\n",
    "\n",
    "X= top20.iloc[:,0:-1]\n",
    "y= top20.iloc[:, -1]\n",
    "\n",
    "X_train, X_test, y_train, y_test= train_test_split(X,y, test_size=0.2, random_state=12)\n",
    "\n",
    "results(RobustScaler(), LinearRegression(), X_train, y_train)\n",
    "print('------')\n",
    "results(None, ExtraTreesRegressor(random_state=47), X_train, y_train)\n",
    "print('------')\n",
    "results(None, RandomForestRegressor(random_state=47), X_train, y_train)\n",
    "print('------')\n",
    "results(RobustScaler(), Ridge(), X_train, y_train)\n",
    "print('------')\n",
    "results(RobustScaler(), Lasso(), X_train, y_train)\n",
    "print('------')\n",
    "results(RobustScaler(), ElasticNet(), X_train, y_train)\n",
    "print('------')\n",
    "results(None, GradientBoostingRegressor(), X_train, y_train)\n",
    "print('------')\n",
    "results(RobustScaler(), SGDRegressor(), X_train, y_train)\n",
    "print('------')\n",
    "results(RobustScaler(), SVR(), X_train, y_train)\n",
    "print('------')\n",
    "results(RobustScaler(), RANSACRegressor(), X_train, y_train)"
   ]
  },
  {
   "cell_type": "code",
   "execution_count": 38,
   "metadata": {},
   "outputs": [
    {
     "data": {
      "text/html": [
       "<div>\n",
       "<style scoped>\n",
       "    .dataframe tbody tr th:only-of-type {\n",
       "        vertical-align: middle;\n",
       "    }\n",
       "\n",
       "    .dataframe tbody tr th {\n",
       "        vertical-align: top;\n",
       "    }\n",
       "\n",
       "    .dataframe thead th {\n",
       "        text-align: right;\n",
       "    }\n",
       "</style>\n",
       "<table border=\"1\" class=\"dataframe\">\n",
       "  <thead>\n",
       "    <tr style=\"text-align: right;\">\n",
       "      <th></th>\n",
       "      <th>VIF</th>\n",
       "      <th>variable</th>\n",
       "    </tr>\n",
       "  </thead>\n",
       "  <tbody>\n",
       "    <tr>\n",
       "      <th>0</th>\n",
       "      <td>300.628899</td>\n",
       "      <td>S</td>\n",
       "    </tr>\n",
       "    <tr>\n",
       "      <th>1</th>\n",
       "      <td>2.402170</td>\n",
       "      <td>PlusMinus</td>\n",
       "    </tr>\n",
       "    <tr>\n",
       "      <th>2</th>\n",
       "      <td>12.911102</td>\n",
       "      <td>GV</td>\n",
       "    </tr>\n",
       "    <tr>\n",
       "      <th>3</th>\n",
       "      <td>14.173533</td>\n",
       "      <td>BLK</td>\n",
       "    </tr>\n",
       "    <tr>\n",
       "      <th>4</th>\n",
       "      <td>4.315019</td>\n",
       "      <td>PIM</td>\n",
       "    </tr>\n",
       "    <tr>\n",
       "      <th>5</th>\n",
       "      <td>307.947194</td>\n",
       "      <td>SAtt.</td>\n",
       "    </tr>\n",
       "    <tr>\n",
       "      <th>6</th>\n",
       "      <td>121.958578</td>\n",
       "      <td>GP</td>\n",
       "    </tr>\n",
       "    <tr>\n",
       "      <th>7</th>\n",
       "      <td>1687.958283</td>\n",
       "      <td>oiSV_Pct</td>\n",
       "    </tr>\n",
       "    <tr>\n",
       "      <th>8</th>\n",
       "      <td>69.657564</td>\n",
       "      <td>A</td>\n",
       "    </tr>\n",
       "    <tr>\n",
       "      <th>9</th>\n",
       "      <td>80.412480</td>\n",
       "      <td>Thru_Pct</td>\n",
       "    </tr>\n",
       "    <tr>\n",
       "      <th>10</th>\n",
       "      <td>174.692976</td>\n",
       "      <td>CF</td>\n",
       "    </tr>\n",
       "    <tr>\n",
       "      <th>11</th>\n",
       "      <td>217.620603</td>\n",
       "      <td>PTS</td>\n",
       "    </tr>\n",
       "    <tr>\n",
       "      <th>12</th>\n",
       "      <td>6.294501</td>\n",
       "      <td>HIT</td>\n",
       "    </tr>\n",
       "    <tr>\n",
       "      <th>13</th>\n",
       "      <td>12.650104</td>\n",
       "      <td>TK</td>\n",
       "    </tr>\n",
       "    <tr>\n",
       "      <th>14</th>\n",
       "      <td>588.322177</td>\n",
       "      <td>TOI(EV)</td>\n",
       "    </tr>\n",
       "    <tr>\n",
       "      <th>15</th>\n",
       "      <td>474.430726</td>\n",
       "      <td>ATOI</td>\n",
       "    </tr>\n",
       "    <tr>\n",
       "      <th>16</th>\n",
       "      <td>55.593904</td>\n",
       "      <td>AGE</td>\n",
       "    </tr>\n",
       "    <tr>\n",
       "      <th>17</th>\n",
       "      <td>1836.133289</td>\n",
       "      <td>Season</td>\n",
       "    </tr>\n",
       "    <tr>\n",
       "      <th>18</th>\n",
       "      <td>48.374465</td>\n",
       "      <td>PPG</td>\n",
       "    </tr>\n",
       "    <tr>\n",
       "      <th>19</th>\n",
       "      <td>62.192039</td>\n",
       "      <td>PS</td>\n",
       "    </tr>\n",
       "    <tr>\n",
       "      <th>20</th>\n",
       "      <td>8.402876</td>\n",
       "      <td>AAV</td>\n",
       "    </tr>\n",
       "  </tbody>\n",
       "</table>\n",
       "</div>"
      ],
      "text/plain": [
       "            VIF   variable\n",
       "0    300.628899          S\n",
       "1      2.402170  PlusMinus\n",
       "2     12.911102         GV\n",
       "3     14.173533        BLK\n",
       "4      4.315019        PIM\n",
       "5    307.947194      SAtt.\n",
       "6    121.958578         GP\n",
       "7   1687.958283   oiSV_Pct\n",
       "8     69.657564          A\n",
       "9     80.412480   Thru_Pct\n",
       "10   174.692976         CF\n",
       "11   217.620603        PTS\n",
       "12     6.294501        HIT\n",
       "13    12.650104         TK\n",
       "14   588.322177    TOI(EV)\n",
       "15   474.430726       ATOI\n",
       "16    55.593904        AGE\n",
       "17  1836.133289     Season\n",
       "18    48.374465        PPG\n",
       "19    62.192039         PS\n",
       "20     8.402876        AAV"
      ]
     },
     "execution_count": 38,
     "metadata": {},
     "output_type": "execute_result"
    }
   ],
   "source": [
    "vif = pd.DataFrame()\n",
    "\n",
    "vif['VIF'] = [variance_inflation_factor(top20.values, i) for i in range(top20.shape[1])]\n",
    "vif['variable'] = top20.columns\n",
    "vif"
   ]
  },
  {
   "cell_type": "code",
   "execution_count": 48,
   "metadata": {},
   "outputs": [
    {
     "data": {
      "text/plain": [
       "GridSearchCV(cv=5,\n",
       "             estimator=Pipeline(steps=[('extratreesregressor',\n",
       "                                        ExtraTreesRegressor(random_state=47))]),\n",
       "             n_jobs=-1,\n",
       "             param_grid={'extratreesregressor__criterion': ['mse'],\n",
       "                         'extratreesregressor__max_depth': [16, 17, 18, 19, 20,\n",
       "                                                            21, 22, 23, 24],\n",
       "                         'extratreesregressor__max_features': ['auto'],\n",
       "                         'extratreesregressor__n_estimators': [71, 72, 73, 74,\n",
       "                                                               75, 76, 77, 78,\n",
       "                                                               79]})"
      ]
     },
     "execution_count": 48,
     "metadata": {},
     "output_type": "execute_result"
    }
   ],
   "source": [
    "et_top20_pipe= make_pipeline(ExtraTreesRegressor(random_state=47, max_depth=None))\n",
    "et_top20_pipe.fit(X_train, y_train)\n",
    "\n",
    "et_top20_grid= GridSearchCV(et_top20_pipe, param_grid=ep, cv=5, n_jobs=-1)\n",
    "et_top20_grid.fit(X_train, y_train)"
   ]
  },
  {
   "cell_type": "code",
   "execution_count": 49,
   "metadata": {},
   "outputs": [
    {
     "data": {
      "text/plain": [
       "{'extratreesregressor__criterion': 'mse',\n",
       " 'extratreesregressor__max_depth': 16,\n",
       " 'extratreesregressor__max_features': 'auto',\n",
       " 'extratreesregressor__n_estimators': 79}"
      ]
     },
     "execution_count": 49,
     "metadata": {},
     "output_type": "execute_result"
    }
   ],
   "source": [
    "et_top20_grid.best_params_\n",
    "\n",
    "\n",
    "# {'extratreesregressor__criterion': 'mse',\n",
    "#  'extratreesregressor__max_depth': 16,\n",
    "#  'extratreesregressor__max_features': 'auto',\n",
    "#  'extratreesregressor__n_estimators': 79}"
   ]
  },
  {
   "cell_type": "code",
   "execution_count": 50,
   "metadata": {},
   "outputs": [
    {
     "data": {
      "text/plain": [
       "(0.7787565274013681, 0.019188125125429563)"
      ]
     },
     "execution_count": 50,
     "metadata": {},
     "output_type": "execute_result"
    }
   ],
   "source": [
    "cv_results= cross_validate(et_top20_grid.best_estimator_, X_train, y_train, cv=5)\n",
    "\n",
    "np.mean(cv_results['test_score']), np.std(cv_results['test_score'])"
   ]
  },
  {
   "cell_type": "code",
   "execution_count": null,
   "metadata": {},
   "outputs": [],
   "source": []
  },
  {
   "cell_type": "markdown",
   "metadata": {},
   "source": [
    "# heatmap features (refined df with limited colinearity) -- 20 features"
   ]
  },
  {
   "cell_type": "code",
   "execution_count": 51,
   "metadata": {},
   "outputs": [
    {
     "name": "stdout",
     "output_type": "stream",
     "text": [
      "LinearRegression() RobustScaler()\n",
      "R2 Score on Training: 0.7088807104382026\n",
      "MAE on Training: 798854.6992702779\n",
      "------\n",
      "ExtraTreesRegressor(random_state=47) None\n",
      "R2 Score on Training: 0.9999043152772499\n",
      "MAE on Training: 924.8182661103384\n",
      "------\n",
      "RandomForestRegressor(random_state=47) None\n",
      "R2 Score on Training: 0.9690051258143402\n",
      "MAE on Training: 239711.97411246886\n",
      "------\n",
      "Ridge() RobustScaler()\n",
      "R2 Score on Training: 0.7088797598924994\n",
      "MAE on Training: 798789.55044753\n",
      "------\n",
      "Lasso() RobustScaler()\n",
      "R2 Score on Training: 0.7088807104195539\n",
      "MAE on Training: 798854.4510866046\n",
      "------\n",
      "ElasticNet() RobustScaler()\n",
      "R2 Score on Training: 0.6332860849623209\n",
      "MAE on Training: 868088.9181362182\n",
      "------\n",
      "GradientBoostingRegressor() None\n",
      "R2 Score on Training: 0.8771230609486432\n",
      "MAE on Training: 496126.0107868695\n",
      "------\n",
      "SGDRegressor() RobustScaler()\n",
      "R2 Score on Training: 0.7042210212075979\n",
      "MAE on Training: 803417.5058948075\n",
      "------\n",
      "SVR() RobustScaler()\n",
      "R2 Score on Training: -0.17412660615170905\n",
      "MAE on Training: 1424881.3917514167\n",
      "------\n",
      "RANSACRegressor() RobustScaler()\n",
      "R2 Score on Training: 0.14532163282707955\n",
      "MAE on Training: 1292261.7653014099\n"
     ]
    }
   ],
   "source": [
    "heat= skaters[['Season','AGE','Pos_C','Pos_LW','Pos_RW','Pos_D','PPG','GW','SH_A','PlusMinus','ATOI','PIM','BLK','HIT',\n",
    "              'FO_Pct','CF_Pct_rel','oiSH_Pct','oiSV_Pct','TK','SOT_Scored','AAV']]\n",
    "\n",
    "X= heat.iloc[:,0:-1]\n",
    "y= heat.iloc[:, -1]\n",
    "\n",
    "X_train, X_test, y_train, y_test= train_test_split(X,y, test_size=0.2, random_state=12)\n",
    "\n",
    "results(RobustScaler(), LinearRegression(), X_train, y_train)\n",
    "print('------')\n",
    "results(None, ExtraTreesRegressor(random_state=47), X_train, y_train)\n",
    "print('------')\n",
    "results(None, RandomForestRegressor(random_state=47), X_train, y_train)\n",
    "print('------')\n",
    "results(RobustScaler(), Ridge(), X_train, y_train)\n",
    "print('------')\n",
    "results(RobustScaler(), Lasso(), X_train, y_train)\n",
    "print('------')\n",
    "results(RobustScaler(), ElasticNet(), X_train, y_train)\n",
    "print('------')\n",
    "results(None, GradientBoostingRegressor(), X_train, y_train)\n",
    "print('------')\n",
    "results(RobustScaler(), SGDRegressor(), X_train, y_train)\n",
    "print('------')\n",
    "results(RobustScaler(), SVR(), X_train, y_train)\n",
    "print('------')\n",
    "results(RobustScaler(), RANSACRegressor(), X_train, y_train)\n"
   ]
  },
  {
   "cell_type": "code",
   "execution_count": 52,
   "metadata": {},
   "outputs": [
    {
     "data": {
      "text/html": [
       "<div>\n",
       "<style scoped>\n",
       "    .dataframe tbody tr th:only-of-type {\n",
       "        vertical-align: middle;\n",
       "    }\n",
       "\n",
       "    .dataframe tbody tr th {\n",
       "        vertical-align: top;\n",
       "    }\n",
       "\n",
       "    .dataframe thead th {\n",
       "        text-align: right;\n",
       "    }\n",
       "</style>\n",
       "<table border=\"1\" class=\"dataframe\">\n",
       "  <thead>\n",
       "    <tr style=\"text-align: right;\">\n",
       "      <th></th>\n",
       "      <th>VIF</th>\n",
       "      <th>variable</th>\n",
       "    </tr>\n",
       "  </thead>\n",
       "  <tbody>\n",
       "    <tr>\n",
       "      <th>0</th>\n",
       "      <td>1752.463772</td>\n",
       "      <td>Season</td>\n",
       "    </tr>\n",
       "    <tr>\n",
       "      <th>1</th>\n",
       "      <td>53.951547</td>\n",
       "      <td>AGE</td>\n",
       "    </tr>\n",
       "    <tr>\n",
       "      <th>2</th>\n",
       "      <td>3.126439</td>\n",
       "      <td>Pos_C</td>\n",
       "    </tr>\n",
       "    <tr>\n",
       "      <th>3</th>\n",
       "      <td>2.742122</td>\n",
       "      <td>Pos_LW</td>\n",
       "    </tr>\n",
       "    <tr>\n",
       "      <th>4</th>\n",
       "      <td>2.890948</td>\n",
       "      <td>Pos_RW</td>\n",
       "    </tr>\n",
       "    <tr>\n",
       "      <th>5</th>\n",
       "      <td>13.830011</td>\n",
       "      <td>Pos_D</td>\n",
       "    </tr>\n",
       "    <tr>\n",
       "      <th>6</th>\n",
       "      <td>27.898776</td>\n",
       "      <td>PPG</td>\n",
       "    </tr>\n",
       "    <tr>\n",
       "      <th>7</th>\n",
       "      <td>5.222145</td>\n",
       "      <td>GW</td>\n",
       "    </tr>\n",
       "    <tr>\n",
       "      <th>8</th>\n",
       "      <td>1.623299</td>\n",
       "      <td>SH_A</td>\n",
       "    </tr>\n",
       "    <tr>\n",
       "      <th>9</th>\n",
       "      <td>1.436347</td>\n",
       "      <td>PlusMinus</td>\n",
       "    </tr>\n",
       "    <tr>\n",
       "      <th>10</th>\n",
       "      <td>118.854471</td>\n",
       "      <td>ATOI</td>\n",
       "    </tr>\n",
       "    <tr>\n",
       "      <th>11</th>\n",
       "      <td>3.873922</td>\n",
       "      <td>PIM</td>\n",
       "    </tr>\n",
       "    <tr>\n",
       "      <th>12</th>\n",
       "      <td>9.317575</td>\n",
       "      <td>BLK</td>\n",
       "    </tr>\n",
       "    <tr>\n",
       "      <th>13</th>\n",
       "      <td>5.865631</td>\n",
       "      <td>HIT</td>\n",
       "    </tr>\n",
       "    <tr>\n",
       "      <th>14</th>\n",
       "      <td>7.557212</td>\n",
       "      <td>FO_Pct</td>\n",
       "    </tr>\n",
       "    <tr>\n",
       "      <th>15</th>\n",
       "      <td>1.533939</td>\n",
       "      <td>CF_Pct_rel</td>\n",
       "    </tr>\n",
       "    <tr>\n",
       "      <th>16</th>\n",
       "      <td>13.416512</td>\n",
       "      <td>oiSH_Pct</td>\n",
       "    </tr>\n",
       "    <tr>\n",
       "      <th>17</th>\n",
       "      <td>1644.093464</td>\n",
       "      <td>oiSV_Pct</td>\n",
       "    </tr>\n",
       "    <tr>\n",
       "      <th>18</th>\n",
       "      <td>9.438182</td>\n",
       "      <td>TK</td>\n",
       "    </tr>\n",
       "    <tr>\n",
       "      <th>19</th>\n",
       "      <td>1.679671</td>\n",
       "      <td>SOT_Scored</td>\n",
       "    </tr>\n",
       "    <tr>\n",
       "      <th>20</th>\n",
       "      <td>7.540438</td>\n",
       "      <td>AAV</td>\n",
       "    </tr>\n",
       "  </tbody>\n",
       "</table>\n",
       "</div>"
      ],
      "text/plain": [
       "            VIF    variable\n",
       "0   1752.463772      Season\n",
       "1     53.951547         AGE\n",
       "2      3.126439       Pos_C\n",
       "3      2.742122      Pos_LW\n",
       "4      2.890948      Pos_RW\n",
       "5     13.830011       Pos_D\n",
       "6     27.898776         PPG\n",
       "7      5.222145          GW\n",
       "8      1.623299        SH_A\n",
       "9      1.436347   PlusMinus\n",
       "10   118.854471        ATOI\n",
       "11     3.873922         PIM\n",
       "12     9.317575         BLK\n",
       "13     5.865631         HIT\n",
       "14     7.557212      FO_Pct\n",
       "15     1.533939  CF_Pct_rel\n",
       "16    13.416512    oiSH_Pct\n",
       "17  1644.093464    oiSV_Pct\n",
       "18     9.438182          TK\n",
       "19     1.679671  SOT_Scored\n",
       "20     7.540438         AAV"
      ]
     },
     "execution_count": 52,
     "metadata": {},
     "output_type": "execute_result"
    }
   ],
   "source": [
    "vif = pd.DataFrame()\n",
    "\n",
    "vif['VIF'] = [variance_inflation_factor(heat.values, i) for i in range(heat.shape[1])]\n",
    "vif['variable'] = heat.columns\n",
    "vif"
   ]
  },
  {
   "cell_type": "code",
   "execution_count": 54,
   "metadata": {},
   "outputs": [
    {
     "data": {
      "text/plain": [
       "GridSearchCV(cv=5,\n",
       "             estimator=Pipeline(steps=[('extratreesregressor',\n",
       "                                        ExtraTreesRegressor(random_state=47))]),\n",
       "             n_jobs=-1,\n",
       "             param_grid={'extratreesregressor__criterion': ['mse'],\n",
       "                         'extratreesregressor__max_depth': [16, 17, 18, 19, 20,\n",
       "                                                            21, 22, 23, 24],\n",
       "                         'extratreesregressor__max_features': ['auto'],\n",
       "                         'extratreesregressor__n_estimators': [71, 72, 73, 74,\n",
       "                                                               75, 76, 77, 78,\n",
       "                                                               79]})"
      ]
     },
     "execution_count": 54,
     "metadata": {},
     "output_type": "execute_result"
    }
   ],
   "source": [
    "et_heat_pipe= make_pipeline(ExtraTreesRegressor(random_state=47, max_depth=None))\n",
    "et_heat_pipe.fit(X_train, y_train)\n",
    "\n",
    "et_heat_grid= GridSearchCV(et_heat_pipe, param_grid=ep, cv=5, n_jobs=-1)\n",
    "et_heat_grid.fit(X_train, y_train)"
   ]
  },
  {
   "cell_type": "code",
   "execution_count": 55,
   "metadata": {},
   "outputs": [
    {
     "data": {
      "text/plain": [
       "{'extratreesregressor__criterion': 'mse',\n",
       " 'extratreesregressor__max_depth': 20,\n",
       " 'extratreesregressor__max_features': 'auto',\n",
       " 'extratreesregressor__n_estimators': 75}"
      ]
     },
     "execution_count": 55,
     "metadata": {},
     "output_type": "execute_result"
    }
   ],
   "source": [
    "et_heat_grid.best_params_\n",
    "\n",
    "# {'extratreesregressor__criterion': 'mse',\n",
    "#  'extratreesregressor__max_depth': 20,\n",
    "#  'extratreesregressor__max_features': 'auto',\n",
    "#  'extratreesregressor__n_estimators': 75}"
   ]
  },
  {
   "cell_type": "code",
   "execution_count": 56,
   "metadata": {},
   "outputs": [
    {
     "data": {
      "text/plain": [
       "(0.7728488803193041, 0.02961544417046186)"
      ]
     },
     "execution_count": 56,
     "metadata": {},
     "output_type": "execute_result"
    }
   ],
   "source": [
    "cv_results= cross_validate(et_top10_grid.best_estimator_, X_train, y_train, cv=5)\n",
    "\n",
    "np.mean(cv_results['test_score']), np.std(cv_results['test_score'])"
   ]
  },
  {
   "cell_type": "markdown",
   "metadata": {},
   "source": [
    "# top 30 rf features"
   ]
  },
  {
   "cell_type": "code",
   "execution_count": 57,
   "metadata": {},
   "outputs": [
    {
     "name": "stdout",
     "output_type": "stream",
     "text": [
      "LinearRegression() RobustScaler()\n",
      "R2 Score on Training: 0.7375322174043508\n",
      "MAE on Training: 748269.7012056011\n",
      "------\n",
      "ExtraTreesRegressor(random_state=47) None\n",
      "R2 Score on Training: 0.9999042597900936\n",
      "MAE on Training: 933.1631896152063\n",
      "------\n",
      "RandomForestRegressor(random_state=47) None\n",
      "R2 Score on Training: 0.9697485793239646\n",
      "MAE on Training: 236006.12567068462\n",
      "------\n",
      "Ridge() RobustScaler()\n",
      "R2 Score on Training: 0.7370500610956177\n",
      "MAE on Training: 748663.4748116991\n",
      "------\n",
      "Lasso() RobustScaler()\n",
      "R2 Score on Training: 0.7374505383520813\n",
      "MAE on Training: 748459.5266677022\n",
      "------\n",
      "ElasticNet() RobustScaler()\n",
      "R2 Score on Training: 0.6767295754376615\n",
      "MAE on Training: 810164.454977202\n",
      "------\n"
     ]
    },
    {
     "name": "stderr",
     "output_type": "stream",
     "text": [
      "C:\\Users\\essmar\\AppData\\Local\\Programs\\Python\\Python39\\lib\\site-packages\\sklearn\\linear_model\\_coordinate_descent.py:530: ConvergenceWarning: Objective did not converge. You might want to increase the number of iterations. Duality gap: 1056095166008243.5, tolerance: 810998490292.6388\n",
      "  model = cd_fast.enet_coordinate_descent(\n"
     ]
    },
    {
     "name": "stdout",
     "output_type": "stream",
     "text": [
      "GradientBoostingRegressor() None\n",
      "R2 Score on Training: 0.8848532266832427\n",
      "MAE on Training: 480558.95710577286\n",
      "------\n",
      "SGDRegressor() RobustScaler()\n",
      "R2 Score on Training: 0.7336807423460696\n",
      "MAE on Training: 752252.155363891\n",
      "------\n",
      "SVR() RobustScaler()\n",
      "R2 Score on Training: -0.17407938638575615\n",
      "MAE on Training: 1424849.3532444395\n",
      "------\n",
      "RANSACRegressor() RobustScaler()\n",
      "R2 Score on Training: 0.24809542319108258\n",
      "MAE on Training: 1304879.2271285634\n"
     ]
    }
   ],
   "source": [
    "top30= skaters[['CA', 'FF_Pct', 'dZS_Pct', 'oZS_Pct', 'FF', 'FF_Pct_rel', 'CF_Pct_rel', 'PDO', 'oiSH_Pct', 'S_Pct', 'S',\n",
    "                'PlusMinus', 'GV', 'BLK', 'PIM', 'SAtt.', 'GP', 'oiSV_Pct', 'A', 'Thru_Pct', 'CF', 'PTS', 'HIT', 'TK',\n",
    "                'TOI(EV)', 'ATOI', 'AGE', 'Season', 'PPG', 'PS', 'AAV']]\n",
    "\n",
    "X= top30.iloc[:,0:-1]\n",
    "y= top30.iloc[:, -1]\n",
    "\n",
    "X_train, X_test, y_train, y_test= train_test_split(X,y, test_size=0.2, random_state=12)\n",
    "\n",
    "results(RobustScaler(), LinearRegression(), X_train, y_train)\n",
    "print('------')\n",
    "results(None, ExtraTreesRegressor(random_state=47), X_train, y_train)\n",
    "print('------')\n",
    "results(None, RandomForestRegressor(random_state=47), X_train, y_train)\n",
    "print('------')\n",
    "results(RobustScaler(), Ridge(), X_train, y_train)\n",
    "print('------')\n",
    "results(RobustScaler(), Lasso(), X_train, y_train)\n",
    "print('------')\n",
    "results(RobustScaler(), ElasticNet(), X_train, y_train)\n",
    "print('------')\n",
    "results(None, GradientBoostingRegressor(), X_train, y_train)\n",
    "print('------')\n",
    "results(RobustScaler(), SGDRegressor(), X_train, y_train)\n",
    "print('------')\n",
    "results(RobustScaler(), SVR(), X_train, y_train)\n",
    "print('------')\n",
    "results(RobustScaler(), RANSACRegressor(), X_train, y_train)\n"
   ]
  },
  {
   "cell_type": "code",
   "execution_count": 58,
   "metadata": {},
   "outputs": [
    {
     "data": {
      "text/html": [
       "<div>\n",
       "<style scoped>\n",
       "    .dataframe tbody tr th:only-of-type {\n",
       "        vertical-align: middle;\n",
       "    }\n",
       "\n",
       "    .dataframe tbody tr th {\n",
       "        vertical-align: top;\n",
       "    }\n",
       "\n",
       "    .dataframe thead th {\n",
       "        text-align: right;\n",
       "    }\n",
       "</style>\n",
       "<table border=\"1\" class=\"dataframe\">\n",
       "  <thead>\n",
       "    <tr style=\"text-align: right;\">\n",
       "      <th></th>\n",
       "      <th>VIF</th>\n",
       "      <th>variable</th>\n",
       "    </tr>\n",
       "  </thead>\n",
       "  <tbody>\n",
       "    <tr>\n",
       "      <th>0</th>\n",
       "      <td>319.813416</td>\n",
       "      <td>CA</td>\n",
       "    </tr>\n",
       "    <tr>\n",
       "      <th>1</th>\n",
       "      <td>740.089376</td>\n",
       "      <td>FF_Pct</td>\n",
       "    </tr>\n",
       "    <tr>\n",
       "      <th>2</th>\n",
       "      <td>139037.450636</td>\n",
       "      <td>dZS_Pct</td>\n",
       "    </tr>\n",
       "    <tr>\n",
       "      <th>3</th>\n",
       "      <td>144922.414066</td>\n",
       "      <td>oZS_Pct</td>\n",
       "    </tr>\n",
       "    <tr>\n",
       "      <th>4</th>\n",
       "      <td>2528.855133</td>\n",
       "      <td>FF</td>\n",
       "    </tr>\n",
       "    <tr>\n",
       "      <th>5</th>\n",
       "      <td>15.294018</td>\n",
       "      <td>FF_Pct_rel</td>\n",
       "    </tr>\n",
       "    <tr>\n",
       "      <th>6</th>\n",
       "      <td>14.910747</td>\n",
       "      <td>CF_Pct_rel</td>\n",
       "    </tr>\n",
       "    <tr>\n",
       "      <th>7</th>\n",
       "      <td>4369.315172</td>\n",
       "      <td>PDO</td>\n",
       "    </tr>\n",
       "    <tr>\n",
       "      <th>8</th>\n",
       "      <td>49.106927</td>\n",
       "      <td>oiSH_Pct</td>\n",
       "    </tr>\n",
       "    <tr>\n",
       "      <th>9</th>\n",
       "      <td>7.778734</td>\n",
       "      <td>S_Pct</td>\n",
       "    </tr>\n",
       "    <tr>\n",
       "      <th>10</th>\n",
       "      <td>336.984341</td>\n",
       "      <td>S</td>\n",
       "    </tr>\n",
       "    <tr>\n",
       "      <th>11</th>\n",
       "      <td>2.972275</td>\n",
       "      <td>PlusMinus</td>\n",
       "    </tr>\n",
       "    <tr>\n",
       "      <th>12</th>\n",
       "      <td>13.271462</td>\n",
       "      <td>GV</td>\n",
       "    </tr>\n",
       "    <tr>\n",
       "      <th>13</th>\n",
       "      <td>20.053412</td>\n",
       "      <td>BLK</td>\n",
       "    </tr>\n",
       "    <tr>\n",
       "      <th>14</th>\n",
       "      <td>4.842342</td>\n",
       "      <td>PIM</td>\n",
       "    </tr>\n",
       "    <tr>\n",
       "      <th>15</th>\n",
       "      <td>329.225454</td>\n",
       "      <td>SAtt.</td>\n",
       "    </tr>\n",
       "    <tr>\n",
       "      <th>16</th>\n",
       "      <td>169.157470</td>\n",
       "      <td>GP</td>\n",
       "    </tr>\n",
       "    <tr>\n",
       "      <th>17</th>\n",
       "      <td>5213.154808</td>\n",
       "      <td>oiSV_Pct</td>\n",
       "    </tr>\n",
       "    <tr>\n",
       "      <th>18</th>\n",
       "      <td>89.741193</td>\n",
       "      <td>A</td>\n",
       "    </tr>\n",
       "    <tr>\n",
       "      <th>19</th>\n",
       "      <td>87.231133</td>\n",
       "      <td>Thru_Pct</td>\n",
       "    </tr>\n",
       "    <tr>\n",
       "      <th>20</th>\n",
       "      <td>2577.219091</td>\n",
       "      <td>CF</td>\n",
       "    </tr>\n",
       "    <tr>\n",
       "      <th>21</th>\n",
       "      <td>252.226388</td>\n",
       "      <td>PTS</td>\n",
       "    </tr>\n",
       "    <tr>\n",
       "      <th>22</th>\n",
       "      <td>6.399348</td>\n",
       "      <td>HIT</td>\n",
       "    </tr>\n",
       "    <tr>\n",
       "      <th>23</th>\n",
       "      <td>12.903430</td>\n",
       "      <td>TK</td>\n",
       "    </tr>\n",
       "    <tr>\n",
       "      <th>24</th>\n",
       "      <td>708.223247</td>\n",
       "      <td>TOI(EV)</td>\n",
       "    </tr>\n",
       "    <tr>\n",
       "      <th>25</th>\n",
       "      <td>570.354113</td>\n",
       "      <td>ATOI</td>\n",
       "    </tr>\n",
       "    <tr>\n",
       "      <th>26</th>\n",
       "      <td>58.505699</td>\n",
       "      <td>AGE</td>\n",
       "    </tr>\n",
       "    <tr>\n",
       "      <th>27</th>\n",
       "      <td>549208.322244</td>\n",
       "      <td>Season</td>\n",
       "    </tr>\n",
       "    <tr>\n",
       "      <th>28</th>\n",
       "      <td>65.888356</td>\n",
       "      <td>PPG</td>\n",
       "    </tr>\n",
       "    <tr>\n",
       "      <th>29</th>\n",
       "      <td>69.672906</td>\n",
       "      <td>PS</td>\n",
       "    </tr>\n",
       "    <tr>\n",
       "      <th>30</th>\n",
       "      <td>9.108724</td>\n",
       "      <td>AAV</td>\n",
       "    </tr>\n",
       "  </tbody>\n",
       "</table>\n",
       "</div>"
      ],
      "text/plain": [
       "              VIF    variable\n",
       "0      319.813416          CA\n",
       "1      740.089376      FF_Pct\n",
       "2   139037.450636     dZS_Pct\n",
       "3   144922.414066     oZS_Pct\n",
       "4     2528.855133          FF\n",
       "5       15.294018  FF_Pct_rel\n",
       "6       14.910747  CF_Pct_rel\n",
       "7     4369.315172         PDO\n",
       "8       49.106927    oiSH_Pct\n",
       "9        7.778734       S_Pct\n",
       "10     336.984341           S\n",
       "11       2.972275   PlusMinus\n",
       "12      13.271462          GV\n",
       "13      20.053412         BLK\n",
       "14       4.842342         PIM\n",
       "15     329.225454       SAtt.\n",
       "16     169.157470          GP\n",
       "17    5213.154808    oiSV_Pct\n",
       "18      89.741193           A\n",
       "19      87.231133    Thru_Pct\n",
       "20    2577.219091          CF\n",
       "21     252.226388         PTS\n",
       "22       6.399348         HIT\n",
       "23      12.903430          TK\n",
       "24     708.223247     TOI(EV)\n",
       "25     570.354113        ATOI\n",
       "26      58.505699         AGE\n",
       "27  549208.322244      Season\n",
       "28      65.888356         PPG\n",
       "29      69.672906          PS\n",
       "30       9.108724         AAV"
      ]
     },
     "execution_count": 58,
     "metadata": {},
     "output_type": "execute_result"
    }
   ],
   "source": [
    "vif = pd.DataFrame()\n",
    "\n",
    "vif['VIF'] = [variance_inflation_factor(top30.values, i) for i in range(top30.shape[1])]\n",
    "vif['variable'] = top30.columns\n",
    "vif"
   ]
  },
  {
   "cell_type": "code",
   "execution_count": 64,
   "metadata": {},
   "outputs": [
    {
     "data": {
      "text/plain": [
       "GridSearchCV(cv=5,\n",
       "             estimator=Pipeline(steps=[('extratreesregressor',\n",
       "                                        ExtraTreesRegressor(random_state=47))]),\n",
       "             n_jobs=-1,\n",
       "             param_grid={'extratreesregressor__criterion': ['mse'],\n",
       "                         'extratreesregressor__max_depth': [15, 16, 17, 18, 19,\n",
       "                                                            20],\n",
       "                         'extratreesregressor__max_features': ['auto'],\n",
       "                         'extratreesregressor__n_estimators': [50, 60, 61, 62,\n",
       "                                                               63, 64, 65]})"
      ]
     },
     "execution_count": 64,
     "metadata": {},
     "output_type": "execute_result"
    }
   ],
   "source": [
    "et_top30_pipe= make_pipeline(ExtraTreesRegressor(random_state=47, max_depth=None))\n",
    "et_top30_pipe.fit(X_train, y_train)\n",
    "\n",
    "et_top30_grid= GridSearchCV(et_top30_pipe, param_grid=ep, cv=5, n_jobs=-1)\n",
    "et_top30_grid.fit(X_train, y_train)"
   ]
  },
  {
   "cell_type": "code",
   "execution_count": 65,
   "metadata": {},
   "outputs": [
    {
     "data": {
      "text/plain": [
       "{'extratreesregressor__criterion': 'mse',\n",
       " 'extratreesregressor__max_depth': 18,\n",
       " 'extratreesregressor__max_features': 'auto',\n",
       " 'extratreesregressor__n_estimators': 63}"
      ]
     },
     "execution_count": 65,
     "metadata": {},
     "output_type": "execute_result"
    }
   ],
   "source": [
    "et_top30_grid.best_params_\n",
    "\n",
    "# {'extratreesregressor__criterion': 'mse',\n",
    "#  'extratreesregressor__max_depth': 18,\n",
    "#  'extratreesregressor__max_features': 'auto',\n",
    "#  'extratreesregressor__n_estimators': 63}"
   ]
  },
  {
   "cell_type": "code",
   "execution_count": 66,
   "metadata": {},
   "outputs": [
    {
     "data": {
      "text/plain": [
       "(0.770604487373934, 0.02271834143529892)"
      ]
     },
     "execution_count": 66,
     "metadata": {},
     "output_type": "execute_result"
    }
   ],
   "source": [
    "cv_results= cross_validate(et_top10_grid.best_estimator_, X_train, y_train, cv=5)\n",
    "\n",
    "np.mean(cv_results['test_score']), np.std(cv_results['test_score'])"
   ]
  },
  {
   "cell_type": "markdown",
   "metadata": {},
   "source": [
    "# custom feature set -- 18 features"
   ]
  },
  {
   "cell_type": "code",
   "execution_count": 67,
   "metadata": {},
   "outputs": [
    {
     "name": "stdout",
     "output_type": "stream",
     "text": [
      "LinearRegression() RobustScaler()\n",
      "R2 Score on Training: 0.7203837188081772\n",
      "MAE on Training: 763269.1880082634\n",
      "------\n",
      "ExtraTreesRegressor(random_state=47) None\n",
      "R2 Score on Training: 0.9999042932519314\n",
      "MAE on Training: 926.4408901251738\n",
      "------\n",
      "RandomForestRegressor(random_state=47) None\n",
      "R2 Score on Training: 0.9678140936619654\n",
      "MAE on Training: 243201.83075954256\n",
      "------\n",
      "Ridge() RobustScaler()\n",
      "R2 Score on Training: 0.7203783646739702\n",
      "MAE on Training: 763264.450549285\n",
      "------\n",
      "Lasso() RobustScaler()\n",
      "R2 Score on Training: 0.7203837187729298\n",
      "MAE on Training: 763268.989713105\n",
      "------\n",
      "ElasticNet() RobustScaler()\n",
      "R2 Score on Training: 0.6394205562775872\n",
      "MAE on Training: 851439.6823336435\n",
      "------\n",
      "GradientBoostingRegressor() None\n",
      "R2 Score on Training: 0.8769348091618776\n",
      "MAE on Training: 496548.2173679208\n",
      "------\n",
      "SGDRegressor() RobustScaler()\n",
      "R2 Score on Training: 0.7191684848954021\n",
      "MAE on Training: 766671.5327121869\n",
      "------\n",
      "SVR() RobustScaler()\n",
      "R2 Score on Training: -0.17410799617046124\n",
      "MAE on Training: 1424861.6465925397\n",
      "------\n"
     ]
    }
   ],
   "source": [
    "custom= skaters[['Season','AGE','Pos_D','G','A','GP','PlusMinus','ATOI','PIM','S','BLK','HIT','CF','oiSH_Pct',\n",
    "                 'oiSV_Pct','PDO','TK','SOT_Scored','AAV']]\n",
    "\n",
    "X= custom.iloc[:,0:-1]\n",
    "y= custom.iloc[:, -1]\n",
    "\n",
    "X_train, X_test, y_train, y_test= train_test_split(X,y, test_size=0.2, random_state=12)\n",
    "\n",
    "results(RobustScaler(), LinearRegression(), X_train, y_train)\n",
    "print('------')\n",
    "results(None, ExtraTreesRegressor(random_state=47), X_train, y_train)\n",
    "print('------')\n",
    "results(None, RandomForestRegressor(random_state=47), X_train, y_train)\n",
    "print('------')\n",
    "results(RobustScaler(), Ridge(), X_train, y_train)\n",
    "print('------')\n",
    "results(RobustScaler(), Lasso(), X_train, y_train)\n",
    "print('------')\n",
    "results(RobustScaler(), ElasticNet(), X_train, y_train)\n",
    "print('------')\n",
    "results(None, GradientBoostingRegressor(), X_train, y_train)\n",
    "print('------')\n",
    "results(RobustScaler(), SGDRegressor(), X_train, y_train)\n",
    "print('------')\n",
    "results(RobustScaler(), SVR(), X_train, y_train)\n",
    "print('------')"
   ]
  },
  {
   "cell_type": "code",
   "execution_count": 153,
   "metadata": {},
   "outputs": [
    {
     "data": {
      "text/html": [
       "<div>\n",
       "<style scoped>\n",
       "    .dataframe tbody tr th:only-of-type {\n",
       "        vertical-align: middle;\n",
       "    }\n",
       "\n",
       "    .dataframe tbody tr th {\n",
       "        vertical-align: top;\n",
       "    }\n",
       "\n",
       "    .dataframe thead th {\n",
       "        text-align: right;\n",
       "    }\n",
       "</style>\n",
       "<table border=\"1\" class=\"dataframe\">\n",
       "  <thead>\n",
       "    <tr style=\"text-align: right;\">\n",
       "      <th></th>\n",
       "      <th>VIF</th>\n",
       "      <th>variable</th>\n",
       "    </tr>\n",
       "  </thead>\n",
       "  <tbody>\n",
       "    <tr>\n",
       "      <th>0</th>\n",
       "      <td>1709.744568</td>\n",
       "      <td>Season</td>\n",
       "    </tr>\n",
       "    <tr>\n",
       "      <th>1</th>\n",
       "      <td>53.608815</td>\n",
       "      <td>AGE</td>\n",
       "    </tr>\n",
       "    <tr>\n",
       "      <th>2</th>\n",
       "      <td>7.151973</td>\n",
       "      <td>Pos_D</td>\n",
       "    </tr>\n",
       "    <tr>\n",
       "      <th>3</th>\n",
       "      <td>18.468756</td>\n",
       "      <td>G</td>\n",
       "    </tr>\n",
       "    <tr>\n",
       "      <th>4</th>\n",
       "      <td>18.010035</td>\n",
       "      <td>A</td>\n",
       "    </tr>\n",
       "    <tr>\n",
       "      <th>5</th>\n",
       "      <td>94.069835</td>\n",
       "      <td>GP</td>\n",
       "    </tr>\n",
       "    <tr>\n",
       "      <th>6</th>\n",
       "      <td>1.448747</td>\n",
       "      <td>PlusMinus</td>\n",
       "    </tr>\n",
       "    <tr>\n",
       "      <th>7</th>\n",
       "      <td>121.703223</td>\n",
       "      <td>ATOI</td>\n",
       "    </tr>\n",
       "    <tr>\n",
       "      <th>8</th>\n",
       "      <td>4.214495</td>\n",
       "      <td>PIM</td>\n",
       "    </tr>\n",
       "    <tr>\n",
       "      <th>9</th>\n",
       "      <td>35.870126</td>\n",
       "      <td>S</td>\n",
       "    </tr>\n",
       "    <tr>\n",
       "      <th>10</th>\n",
       "      <td>12.225287</td>\n",
       "      <td>BLK</td>\n",
       "    </tr>\n",
       "    <tr>\n",
       "      <th>11</th>\n",
       "      <td>6.116332</td>\n",
       "      <td>HIT</td>\n",
       "    </tr>\n",
       "    <tr>\n",
       "      <th>12</th>\n",
       "      <td>110.074755</td>\n",
       "      <td>CF</td>\n",
       "    </tr>\n",
       "    <tr>\n",
       "      <th>13</th>\n",
       "      <td>40.988221</td>\n",
       "      <td>oiSH_Pct</td>\n",
       "    </tr>\n",
       "    <tr>\n",
       "      <th>14</th>\n",
       "      <td>4676.395553</td>\n",
       "      <td>oiSV_Pct</td>\n",
       "    </tr>\n",
       "    <tr>\n",
       "      <th>15</th>\n",
       "      <td>3907.894244</td>\n",
       "      <td>PDO</td>\n",
       "    </tr>\n",
       "    <tr>\n",
       "      <th>16</th>\n",
       "      <td>11.425753</td>\n",
       "      <td>TK</td>\n",
       "    </tr>\n",
       "    <tr>\n",
       "      <th>17</th>\n",
       "      <td>1.684142</td>\n",
       "      <td>SOT_Scored</td>\n",
       "    </tr>\n",
       "    <tr>\n",
       "      <th>18</th>\n",
       "      <td>8.208497</td>\n",
       "      <td>AAV</td>\n",
       "    </tr>\n",
       "  </tbody>\n",
       "</table>\n",
       "</div>"
      ],
      "text/plain": [
       "            VIF    variable\n",
       "0   1709.744568      Season\n",
       "1     53.608815         AGE\n",
       "2      7.151973       Pos_D\n",
       "3     18.468756           G\n",
       "4     18.010035           A\n",
       "5     94.069835          GP\n",
       "6      1.448747   PlusMinus\n",
       "7    121.703223        ATOI\n",
       "8      4.214495         PIM\n",
       "9     35.870126           S\n",
       "10    12.225287         BLK\n",
       "11     6.116332         HIT\n",
       "12   110.074755          CF\n",
       "13    40.988221    oiSH_Pct\n",
       "14  4676.395553    oiSV_Pct\n",
       "15  3907.894244         PDO\n",
       "16    11.425753          TK\n",
       "17     1.684142  SOT_Scored\n",
       "18     8.208497         AAV"
      ]
     },
     "execution_count": 153,
     "metadata": {},
     "output_type": "execute_result"
    }
   ],
   "source": [
    "vif = pd.DataFrame()\n",
    "\n",
    "vif['VIF'] = [variance_inflation_factor(custom.values, i) for i in range(custom.shape[1])]\n",
    "vif['variable'] = custom.columns\n",
    "vif"
   ]
  },
  {
   "cell_type": "code",
   "execution_count": 68,
   "metadata": {},
   "outputs": [
    {
     "data": {
      "text/plain": [
       "GridSearchCV(cv=5,\n",
       "             estimator=Pipeline(steps=[('extratreesregressor',\n",
       "                                        ExtraTreesRegressor(random_state=47))]),\n",
       "             n_jobs=-1,\n",
       "             param_grid={'extratreesregressor__criterion': ['mse'],\n",
       "                         'extratreesregressor__max_depth': [15, 16, 17, 18, 19,\n",
       "                                                            20],\n",
       "                         'extratreesregressor__max_features': ['auto'],\n",
       "                         'extratreesregressor__n_estimators': [50, 60, 61, 62,\n",
       "                                                               63, 64, 65]})"
      ]
     },
     "execution_count": 68,
     "metadata": {},
     "output_type": "execute_result"
    }
   ],
   "source": [
    "et_cust18_pipe= make_pipeline(ExtraTreesRegressor(random_state=47, max_depth=None))\n",
    "et_cust18_pipe.fit(X_train, y_train)\n",
    "\n",
    "et_cust18_grid= GridSearchCV(et_cust18_pipe, param_grid=ep, cv=5, n_jobs=-1)\n",
    "et_cust18_grid.fit(X_train, y_train)"
   ]
  },
  {
   "cell_type": "code",
   "execution_count": 69,
   "metadata": {},
   "outputs": [
    {
     "data": {
      "text/plain": [
       "{'extratreesregressor__criterion': 'mse',\n",
       " 'extratreesregressor__max_depth': 19,\n",
       " 'extratreesregressor__max_features': 'auto',\n",
       " 'extratreesregressor__n_estimators': 65}"
      ]
     },
     "execution_count": 69,
     "metadata": {},
     "output_type": "execute_result"
    }
   ],
   "source": [
    "et_cust18_grid.best_params_\n",
    "\n",
    "# {'extratreesregressor__criterion': 'mse',\n",
    "#  'extratreesregressor__max_depth': 19,\n",
    "#  'extratreesregressor__max_features': 'auto',\n",
    "#  'extratreesregressor__n_estimators': 65}"
   ]
  },
  {
   "cell_type": "code",
   "execution_count": 70,
   "metadata": {},
   "outputs": [
    {
     "data": {
      "text/plain": [
       "(0.7615903922672975, 0.023431146221766157)"
      ]
     },
     "execution_count": 70,
     "metadata": {},
     "output_type": "execute_result"
    }
   ],
   "source": [
    "cv_results= cross_validate(et_cust18_grid.best_estimator_, X_train, y_train, cv=5)\n",
    "\n",
    "np.mean(cv_results['test_score']), np.std(cv_results['test_score'])"
   ]
  },
  {
   "cell_type": "markdown",
   "metadata": {},
   "source": [
    "# custom2 -- 10 features"
   ]
  },
  {
   "cell_type": "code",
   "execution_count": 71,
   "metadata": {},
   "outputs": [
    {
     "name": "stderr",
     "output_type": "stream",
     "text": [
      "C:\\Users\\essmar\\AppData\\Local\\Temp/ipykernel_4524/3484987553.py:3: SettingWithCopyWarning: \n",
      "A value is trying to be set on a copy of a slice from a DataFrame.\n",
      "Try using .loc[row_indexer,col_indexer] = value instead\n",
      "\n",
      "See the caveats in the documentation: https://pandas.pydata.org/pandas-docs/stable/user_guide/indexing.html#returning-a-view-versus-a-copy\n",
      "  custom2['PPM']= skaters['PPG']/skaters['ATOI']\n"
     ]
    },
    {
     "name": "stdout",
     "output_type": "stream",
     "text": [
      "LinearRegression() RobustScaler()\n",
      "R2 Score on Training: 0.5989585498087461\n",
      "MAE on Training: 929506.4382572202\n",
      "------\n",
      "ExtraTreesRegressor(random_state=47) None\n",
      "R2 Score on Training: 0.9999043229067338\n",
      "MAE on Training: 920.4140009272137\n",
      "------\n",
      "RandomForestRegressor(random_state=47) None\n",
      "R2 Score on Training: 0.9521654634696208\n",
      "MAE on Training: 294879.18487162504\n",
      "------\n",
      "Ridge() RobustScaler()\n",
      "R2 Score on Training: 0.5989564328488289\n",
      "MAE on Training: 929319.2227013941\n",
      "------\n",
      "Lasso() RobustScaler()\n",
      "R2 Score on Training: 0.5989585498005503\n",
      "MAE on Training: 929506.097498947\n",
      "------\n",
      "ElasticNet() RobustScaler()\n",
      "R2 Score on Training: 0.4921921847610583\n",
      "MAE on Training: 1020862.8438664128\n",
      "------\n",
      "GradientBoostingRegressor() None\n",
      "R2 Score on Training: 0.7839039115630112\n",
      "MAE on Training: 660270.0668298055\n",
      "------\n",
      "SGDRegressor() RobustScaler()\n",
      "R2 Score on Training: 0.5977111690378609\n",
      "MAE on Training: 929030.722135832\n",
      "------\n",
      "SVR() RobustScaler()\n",
      "R2 Score on Training: -0.17412788075132357\n",
      "MAE on Training: 1424875.5717785894\n",
      "------\n"
     ]
    },
    {
     "data": {
      "text/html": [
       "<div>\n",
       "<style scoped>\n",
       "    .dataframe tbody tr th:only-of-type {\n",
       "        vertical-align: middle;\n",
       "    }\n",
       "\n",
       "    .dataframe tbody tr th {\n",
       "        vertical-align: top;\n",
       "    }\n",
       "\n",
       "    .dataframe thead th {\n",
       "        text-align: right;\n",
       "    }\n",
       "</style>\n",
       "<table border=\"1\" class=\"dataframe\">\n",
       "  <thead>\n",
       "    <tr style=\"text-align: right;\">\n",
       "      <th></th>\n",
       "      <th>VIF</th>\n",
       "      <th>variable</th>\n",
       "    </tr>\n",
       "  </thead>\n",
       "  <tbody>\n",
       "    <tr>\n",
       "      <th>0</th>\n",
       "      <td>17.916483</td>\n",
       "      <td>AGE</td>\n",
       "    </tr>\n",
       "    <tr>\n",
       "      <th>1</th>\n",
       "      <td>4.508602</td>\n",
       "      <td>Pos_D</td>\n",
       "    </tr>\n",
       "    <tr>\n",
       "      <th>2</th>\n",
       "      <td>17.382292</td>\n",
       "      <td>PPM</td>\n",
       "    </tr>\n",
       "    <tr>\n",
       "      <th>3</th>\n",
       "      <td>1.156173</td>\n",
       "      <td>PlusMinus</td>\n",
       "    </tr>\n",
       "    <tr>\n",
       "      <th>4</th>\n",
       "      <td>3.527521</td>\n",
       "      <td>PIM</td>\n",
       "    </tr>\n",
       "    <tr>\n",
       "      <th>5</th>\n",
       "      <td>12.567991</td>\n",
       "      <td>oiSH_Pct</td>\n",
       "    </tr>\n",
       "    <tr>\n",
       "      <th>6</th>\n",
       "      <td>7.072472</td>\n",
       "      <td>BLK</td>\n",
       "    </tr>\n",
       "    <tr>\n",
       "      <th>7</th>\n",
       "      <td>5.260393</td>\n",
       "      <td>HIT</td>\n",
       "    </tr>\n",
       "    <tr>\n",
       "      <th>8</th>\n",
       "      <td>7.464236</td>\n",
       "      <td>TK</td>\n",
       "    </tr>\n",
       "    <tr>\n",
       "      <th>9</th>\n",
       "      <td>1.592179</td>\n",
       "      <td>SOT_Scored</td>\n",
       "    </tr>\n",
       "    <tr>\n",
       "      <th>10</th>\n",
       "      <td>5.994175</td>\n",
       "      <td>AAV</td>\n",
       "    </tr>\n",
       "  </tbody>\n",
       "</table>\n",
       "</div>"
      ],
      "text/plain": [
       "          VIF    variable\n",
       "0   17.916483         AGE\n",
       "1    4.508602       Pos_D\n",
       "2   17.382292         PPM\n",
       "3    1.156173   PlusMinus\n",
       "4    3.527521         PIM\n",
       "5   12.567991    oiSH_Pct\n",
       "6    7.072472         BLK\n",
       "7    5.260393         HIT\n",
       "8    7.464236          TK\n",
       "9    1.592179  SOT_Scored\n",
       "10   5.994175         AAV"
      ]
     },
     "execution_count": 71,
     "metadata": {},
     "output_type": "execute_result"
    }
   ],
   "source": [
    "custom2= skaters[['AGE','Pos_D','PlusMinus','PIM','oiSH_Pct','BLK','HIT','TK','SOT_Scored','AAV']]\n",
    "# PPM= points per minute --> PTS/GP/ATOI\n",
    "custom2['PPM']= skaters['PPG']/skaters['ATOI']\n",
    "custom2= custom2[['AGE','Pos_D','PPM','PlusMinus','PIM','oiSH_Pct','BLK','HIT','TK','SOT_Scored','AAV']]\n",
    "\n",
    "X= custom2.iloc[:,0:-1]\n",
    "y= custom2.iloc[:, -1]\n",
    "\n",
    "X_train, X_test, y_train, y_test= train_test_split(X,y, test_size=0.2, random_state=12)\n",
    "\n",
    "results(RobustScaler(), LinearRegression(), X_train, y_train)\n",
    "print('------')\n",
    "results(None, ExtraTreesRegressor(random_state=47), X_train, y_train)\n",
    "print('------')\n",
    "results(None, RandomForestRegressor(random_state=47), X_train, y_train)\n",
    "print('------')\n",
    "results(RobustScaler(), Ridge(), X_train, y_train)\n",
    "print('------')\n",
    "results(RobustScaler(), Lasso(), X_train, y_train)\n",
    "print('------')\n",
    "results(RobustScaler(), ElasticNet(), X_train, y_train)\n",
    "print('------')\n",
    "results(None, GradientBoostingRegressor(), X_train, y_train)\n",
    "print('------')\n",
    "results(RobustScaler(), SGDRegressor(), X_train, y_train)\n",
    "print('------')\n",
    "results(RobustScaler(), SVR(), X_train, y_train)\n",
    "print('------')\n",
    "\n",
    "\n",
    "\n",
    "vif = pd.DataFrame()\n",
    "\n",
    "vif['VIF'] = [variance_inflation_factor(custom2.values, i) for i in range(custom2.shape[1])]\n",
    "vif['variable'] = custom2.columns\n",
    "vif"
   ]
  },
  {
   "cell_type": "code",
   "execution_count": 73,
   "metadata": {},
   "outputs": [
    {
     "data": {
      "text/plain": [
       "GridSearchCV(cv=5,\n",
       "             estimator=Pipeline(steps=[('extratreesregressor',\n",
       "                                        ExtraTreesRegressor(random_state=47))]),\n",
       "             n_jobs=-1,\n",
       "             param_grid={'extratreesregressor__criterion': ['mse'],\n",
       "                         'extratreesregressor__max_depth': [24, 25, 26, 27, 28,\n",
       "                                                            29],\n",
       "                         'extratreesregressor__max_features': ['auto'],\n",
       "                         'extratreesregressor__n_estimators': [88, 89, 90, 91,\n",
       "                                                               92, 93, 94,\n",
       "                                                               95]})"
      ]
     },
     "execution_count": 73,
     "metadata": {},
     "output_type": "execute_result"
    }
   ],
   "source": [
    "et_cust2_pipe= make_pipeline(ExtraTreesRegressor(random_state=47, max_depth=None))\n",
    "et_cust2_pipe.fit(X_train, y_train)\n",
    "\n",
    "et_cust2_grid= GridSearchCV(et_cust2_pipe, param_grid=ep, cv=5, n_jobs=-1)\n",
    "et_cust2_grid.fit(X_train, y_train)"
   ]
  },
  {
   "cell_type": "code",
   "execution_count": 72,
   "metadata": {},
   "outputs": [],
   "source": [
    "ep= {\n",
    "    'extratreesregressor__criterion': ['mse'],\n",
    "     'extratreesregressor__max_depth': [24,25,26,27,28,29],\n",
    "    'extratreesregressor__max_features':['auto'],\n",
    "    'extratreesregressor__n_estimators':[88,89,90,91,92,93,94,95]\n",
    "}"
   ]
  },
  {
   "cell_type": "code",
   "execution_count": 74,
   "metadata": {},
   "outputs": [
    {
     "data": {
      "text/plain": [
       "{'extratreesregressor__criterion': 'mse',\n",
       " 'extratreesregressor__max_depth': 28,\n",
       " 'extratreesregressor__max_features': 'auto',\n",
       " 'extratreesregressor__n_estimators': 91}"
      ]
     },
     "execution_count": 74,
     "metadata": {},
     "output_type": "execute_result"
    }
   ],
   "source": [
    "et_cust2_grid.best_params_\n",
    "\n",
    "# {'extratreesregressor__criterion': 'mse',\n",
    "#  'extratreesregressor__max_depth': 28,\n",
    "#  'extratreesregressor__max_features': 'auto',\n",
    "#  'extratreesregressor__n_estimators': 91}"
   ]
  },
  {
   "cell_type": "code",
   "execution_count": 75,
   "metadata": {},
   "outputs": [
    {
     "data": {
      "text/plain": [
       "(0.6553719429939411, 0.0390387287832342)"
      ]
     },
     "execution_count": 75,
     "metadata": {},
     "output_type": "execute_result"
    }
   ],
   "source": [
    "cv_results= cross_validate(et_cust2_grid.best_estimator_, X_train, y_train, cv=5)\n",
    "\n",
    "np.mean(cv_results['test_score']), np.std(cv_results['test_score'])"
   ]
  },
  {
   "cell_type": "markdown",
   "metadata": {},
   "source": [
    "# custom3 -- rf top 10 with oisv% replacing ev toi"
   ]
  },
  {
   "cell_type": "code",
   "execution_count": 154,
   "metadata": {},
   "outputs": [
    {
     "name": "stdout",
     "output_type": "stream",
     "text": [
      "LinearRegression() RobustScaler()\n",
      "R2 Score on Training: 0.7146823741787973\n",
      "MAE on Training: 781834.9734135862\n",
      "------\n",
      "ExtraTreesRegressor(random_state=47) None\n",
      "R2 Score on Training: 0.9999043150306403\n",
      "MAE on Training: 922.0366249420491\n",
      "------\n",
      "RandomForestRegressor(random_state=47) None\n",
      "R2 Score on Training: 0.9701743818656823\n",
      "MAE on Training: 235191.70257439784\n",
      "------\n",
      "Ridge() RobustScaler()\n",
      "R2 Score on Training: 0.7146789347982099\n",
      "MAE on Training: 781758.2235545425\n",
      "------\n",
      "Lasso() RobustScaler()\n",
      "R2 Score on Training: 0.7146823741368934\n",
      "MAE on Training: 781834.2837566147\n",
      "------\n",
      "ElasticNet() RobustScaler()\n",
      "R2 Score on Training: 0.6625078518984764\n",
      "MAE on Training: 828831.9744848891\n",
      "------\n",
      "GradientBoostingRegressor() None\n",
      "R2 Score on Training: 0.8687171768387918\n",
      "MAE on Training: 508722.8800948264\n",
      "------\n",
      "SGDRegressor() RobustScaler()\n",
      "R2 Score on Training: 0.7136204553580499\n",
      "MAE on Training: 783062.6076778944\n",
      "------\n",
      "SVR() RobustScaler()\n",
      "R2 Score on Training: -0.17405955684269103\n",
      "MAE on Training: 1424828.8313235564\n",
      "------\n",
      "RANSACRegressor() RobustScaler()\n",
      "R2 Score on Training: 0.47296209667069655\n",
      "MAE on Training: 1054517.8054936603\n"
     ]
    }
   ],
   "source": [
    "top10_edited= skaters[['CF', 'PTS', 'HIT', 'TK', 'oiSV_Pct', 'ATOI', 'AGE', 'Season', 'PPG','PS','AAV']]\n",
    "\n",
    "X= top10_edited.iloc[:,0:-1]\n",
    "y= top10_edited.iloc[:, -1]\n",
    "\n",
    "X_train, X_test, y_train, y_test= train_test_split(X,y, test_size=0.2, random_state=12)\n",
    "\n",
    "results(RobustScaler(), LinearRegression(), X_train, y_train)\n",
    "print('------')\n",
    "results(None, ExtraTreesRegressor(random_state=47), X_train, y_train)\n",
    "print('------')\n",
    "results(None, RandomForestRegressor(random_state=47), X_train, y_train)\n",
    "print('------')\n",
    "results(RobustScaler(), Ridge(), X_train, y_train)\n",
    "print('------')\n",
    "results(RobustScaler(), Lasso(), X_train, y_train)\n",
    "print('------')\n",
    "results(RobustScaler(), ElasticNet(), X_train, y_train)\n",
    "print('------')\n",
    "results(None, GradientBoostingRegressor(), X_train, y_train)\n",
    "print('------')\n",
    "results(RobustScaler(), SGDRegressor(), X_train, y_train)\n",
    "print('------')\n",
    "results(RobustScaler(), SVR(), X_train, y_train)\n",
    "print('------')\n",
    "results(RobustScaler(), RANSACRegressor(), X_train, y_train)\n"
   ]
  },
  {
   "cell_type": "code",
   "execution_count": 141,
   "metadata": {},
   "outputs": [
    {
     "data": {
      "text/html": [
       "<div>\n",
       "<style scoped>\n",
       "    .dataframe tbody tr th:only-of-type {\n",
       "        vertical-align: middle;\n",
       "    }\n",
       "\n",
       "    .dataframe tbody tr th {\n",
       "        vertical-align: top;\n",
       "    }\n",
       "\n",
       "    .dataframe thead th {\n",
       "        text-align: right;\n",
       "    }\n",
       "</style>\n",
       "<table border=\"1\" class=\"dataframe\">\n",
       "  <thead>\n",
       "    <tr style=\"text-align: right;\">\n",
       "      <th></th>\n",
       "      <th>VIF</th>\n",
       "      <th>variable</th>\n",
       "    </tr>\n",
       "  </thead>\n",
       "  <tbody>\n",
       "    <tr>\n",
       "      <th>0</th>\n",
       "      <td>50.020726</td>\n",
       "      <td>CF</td>\n",
       "    </tr>\n",
       "    <tr>\n",
       "      <th>1</th>\n",
       "      <td>55.935415</td>\n",
       "      <td>PTS</td>\n",
       "    </tr>\n",
       "    <tr>\n",
       "      <th>2</th>\n",
       "      <td>4.367522</td>\n",
       "      <td>HIT</td>\n",
       "    </tr>\n",
       "    <tr>\n",
       "      <th>3</th>\n",
       "      <td>11.183011</td>\n",
       "      <td>TK</td>\n",
       "    </tr>\n",
       "    <tr>\n",
       "      <th>4</th>\n",
       "      <td>1537.512761</td>\n",
       "      <td>oiSV_Pct</td>\n",
       "    </tr>\n",
       "    <tr>\n",
       "      <th>5</th>\n",
       "      <td>68.847964</td>\n",
       "      <td>ATOI</td>\n",
       "    </tr>\n",
       "    <tr>\n",
       "      <th>6</th>\n",
       "      <td>50.073318</td>\n",
       "      <td>AGE</td>\n",
       "    </tr>\n",
       "    <tr>\n",
       "      <th>7</th>\n",
       "      <td>1670.226037</td>\n",
       "      <td>Season</td>\n",
       "    </tr>\n",
       "    <tr>\n",
       "      <th>8</th>\n",
       "      <td>42.933662</td>\n",
       "      <td>PPG</td>\n",
       "    </tr>\n",
       "    <tr>\n",
       "      <th>9</th>\n",
       "      <td>26.717631</td>\n",
       "      <td>PS</td>\n",
       "    </tr>\n",
       "    <tr>\n",
       "      <th>10</th>\n",
       "      <td>7.940734</td>\n",
       "      <td>AAV</td>\n",
       "    </tr>\n",
       "  </tbody>\n",
       "</table>\n",
       "</div>"
      ],
      "text/plain": [
       "            VIF  variable\n",
       "0     50.020726        CF\n",
       "1     55.935415       PTS\n",
       "2      4.367522       HIT\n",
       "3     11.183011        TK\n",
       "4   1537.512761  oiSV_Pct\n",
       "5     68.847964      ATOI\n",
       "6     50.073318       AGE\n",
       "7   1670.226037    Season\n",
       "8     42.933662       PPG\n",
       "9     26.717631        PS\n",
       "10     7.940734       AAV"
      ]
     },
     "execution_count": 141,
     "metadata": {},
     "output_type": "execute_result"
    }
   ],
   "source": [
    "vif = pd.DataFrame()\n",
    "\n",
    "vif['VIF'] = [variance_inflation_factor(top10_edited.values, i) for i in range(top10_edited.shape[1])]\n",
    "vif['variable'] = top10_edited.columns\n",
    "vif"
   ]
  },
  {
   "cell_type": "code",
   "execution_count": 145,
   "metadata": {},
   "outputs": [
    {
     "data": {
      "text/plain": [
       "GridSearchCV(cv=5,\n",
       "             estimator=Pipeline(steps=[('extratreesregressor',\n",
       "                                        ExtraTreesRegressor(random_state=47))]),\n",
       "             n_jobs=-1,\n",
       "             param_grid={'extratreesregressor__criterion': ['mse'],\n",
       "                         'extratreesregressor__max_depth': [18, 19, 20, 21, 22],\n",
       "                         'extratreesregressor__max_features': ['auto'],\n",
       "                         'extratreesregressor__n_estimators': [86, 87, 88, 89,\n",
       "                                                               90, 91, 92, 93,\n",
       "                                                               94, 95]})"
      ]
     },
     "execution_count": 145,
     "metadata": {},
     "output_type": "execute_result"
    }
   ],
   "source": [
    "et_top10E_pipe= make_pipeline(ExtraTreesRegressor(random_state=47, max_depth=None))\n",
    "et_top10E_pipe.fit(X_train, y_train)\n",
    "\n",
    "et_top10E_grid= GridSearchCV(et_top10E_pipe, param_grid=ep, cv=5, n_jobs=-1)\n",
    "et_top10E_grid.fit(X_train, y_train)\n"
   ]
  },
  {
   "cell_type": "code",
   "execution_count": 146,
   "metadata": {},
   "outputs": [
    {
     "data": {
      "text/plain": [
       "{'extratreesregressor__criterion': 'mse',\n",
       " 'extratreesregressor__max_depth': 20,\n",
       " 'extratreesregressor__max_features': 'auto',\n",
       " 'extratreesregressor__n_estimators': 89}"
      ]
     },
     "execution_count": 146,
     "metadata": {},
     "output_type": "execute_result"
    }
   ],
   "source": [
    "et_top10E_grid.best_params_"
   ]
  },
  {
   "cell_type": "code",
   "execution_count": 147,
   "metadata": {},
   "outputs": [
    {
     "data": {
      "text/plain": [
       "(0.7812063463197336, 0.021531731372485225)"
      ]
     },
     "execution_count": 147,
     "metadata": {},
     "output_type": "execute_result"
    }
   ],
   "source": [
    "cv_results= cross_validate(et_top10E_grid.best_estimator_, X_train, y_train, cv=5)\n",
    "\n",
    "np.mean(cv_results['test_score']), np.std(cv_results['test_score'])"
   ]
  },
  {
   "cell_type": "code",
   "execution_count": null,
   "metadata": {},
   "outputs": [],
   "source": []
  },
  {
   "cell_type": "code",
   "execution_count": null,
   "metadata": {},
   "outputs": [],
   "source": []
  },
  {
   "cell_type": "code",
   "execution_count": null,
   "metadata": {},
   "outputs": [],
   "source": []
  },
  {
   "cell_type": "code",
   "execution_count": null,
   "metadata": {},
   "outputs": [],
   "source": []
  },
  {
   "cell_type": "code",
   "execution_count": null,
   "metadata": {},
   "outputs": [],
   "source": [
    "#   model name | best parameters | optimal feature set/# features | cv score(r2) | std cv score"
   ]
  },
  {
   "cell_type": "code",
   "execution_count": 152,
   "metadata": {},
   "outputs": [],
   "source": [
    "my_dict= {\n",
    "    'model':['ExtraTreesRegressor','ExtraTreesRegressor','ExtraTreesRegressor','ExtraTreesRegressor','ExtraTreesRegressor','ExtraTreesRegressor','ExtraTreesRegressor','ExtraTreesRegressor'],\n",
    "    'criterion': ['mse','mse','mse','mse','mse','mse','mse','mse'],\n",
    "    'max depth': [22, 20,16,20,18,19,28,20],\n",
    "    'max features': ['auto','auto','auto','auto','auto','auto','auto','auto'],\n",
    "    'n estimators': [97,79,79,75,63,65,91,89],\n",
    "    'numb of features': ['all', '10 (rf)', '20 (rf)', '20 (hm)', '30 (rf)', '18 (cust)', '10 (cust2)', '10 (cust3)'],\n",
    "    'r2 score':[0.7726342778228024, 0.7789179158880323, 0.7787565274013681, 0.7728488803193041,0.770604487373934, 0.7615903922672975, 0.6553719429939411,  0.7812063463197336],\n",
    "    'std':[0.022121977908206178, 0.02669323354073644, 0.019188125125429563, 0.02961544417046186, 0.02271834143529892, 0.023431146221766157, 0.0390387287832342, 0.021531731372485225]\n",
    "\n",
    "}"
   ]
  },
  {
   "cell_type": "code",
   "execution_count": 153,
   "metadata": {},
   "outputs": [
    {
     "data": {
      "text/html": [
       "<div>\n",
       "<style scoped>\n",
       "    .dataframe tbody tr th:only-of-type {\n",
       "        vertical-align: middle;\n",
       "    }\n",
       "\n",
       "    .dataframe tbody tr th {\n",
       "        vertical-align: top;\n",
       "    }\n",
       "\n",
       "    .dataframe thead th {\n",
       "        text-align: right;\n",
       "    }\n",
       "</style>\n",
       "<table border=\"1\" class=\"dataframe\">\n",
       "  <thead>\n",
       "    <tr style=\"text-align: right;\">\n",
       "      <th></th>\n",
       "      <th>model</th>\n",
       "      <th>criterion</th>\n",
       "      <th>max depth</th>\n",
       "      <th>max features</th>\n",
       "      <th>n estimators</th>\n",
       "      <th>numb of features</th>\n",
       "      <th>r2 score</th>\n",
       "      <th>std</th>\n",
       "    </tr>\n",
       "  </thead>\n",
       "  <tbody>\n",
       "    <tr>\n",
       "      <th>0</th>\n",
       "      <td>ExtraTreesRegressor</td>\n",
       "      <td>mse</td>\n",
       "      <td>22</td>\n",
       "      <td>auto</td>\n",
       "      <td>97</td>\n",
       "      <td>all</td>\n",
       "      <td>0.772634</td>\n",
       "      <td>0.022122</td>\n",
       "    </tr>\n",
       "    <tr>\n",
       "      <th>1</th>\n",
       "      <td>ExtraTreesRegressor</td>\n",
       "      <td>mse</td>\n",
       "      <td>20</td>\n",
       "      <td>auto</td>\n",
       "      <td>79</td>\n",
       "      <td>10 (rf)</td>\n",
       "      <td>0.778918</td>\n",
       "      <td>0.026693</td>\n",
       "    </tr>\n",
       "    <tr>\n",
       "      <th>2</th>\n",
       "      <td>ExtraTreesRegressor</td>\n",
       "      <td>mse</td>\n",
       "      <td>16</td>\n",
       "      <td>auto</td>\n",
       "      <td>79</td>\n",
       "      <td>20 (rf)</td>\n",
       "      <td>0.778757</td>\n",
       "      <td>0.019188</td>\n",
       "    </tr>\n",
       "    <tr>\n",
       "      <th>3</th>\n",
       "      <td>ExtraTreesRegressor</td>\n",
       "      <td>mse</td>\n",
       "      <td>20</td>\n",
       "      <td>auto</td>\n",
       "      <td>75</td>\n",
       "      <td>20 (hm)</td>\n",
       "      <td>0.772849</td>\n",
       "      <td>0.029615</td>\n",
       "    </tr>\n",
       "    <tr>\n",
       "      <th>4</th>\n",
       "      <td>ExtraTreesRegressor</td>\n",
       "      <td>mse</td>\n",
       "      <td>18</td>\n",
       "      <td>auto</td>\n",
       "      <td>63</td>\n",
       "      <td>30 (rf)</td>\n",
       "      <td>0.770604</td>\n",
       "      <td>0.022718</td>\n",
       "    </tr>\n",
       "    <tr>\n",
       "      <th>5</th>\n",
       "      <td>ExtraTreesRegressor</td>\n",
       "      <td>mse</td>\n",
       "      <td>19</td>\n",
       "      <td>auto</td>\n",
       "      <td>65</td>\n",
       "      <td>18 (cust)</td>\n",
       "      <td>0.761590</td>\n",
       "      <td>0.023431</td>\n",
       "    </tr>\n",
       "    <tr>\n",
       "      <th>6</th>\n",
       "      <td>ExtraTreesRegressor</td>\n",
       "      <td>mse</td>\n",
       "      <td>28</td>\n",
       "      <td>auto</td>\n",
       "      <td>91</td>\n",
       "      <td>10 (cust2)</td>\n",
       "      <td>0.655372</td>\n",
       "      <td>0.039039</td>\n",
       "    </tr>\n",
       "    <tr>\n",
       "      <th>7</th>\n",
       "      <td>ExtraTreesRegressor</td>\n",
       "      <td>mse</td>\n",
       "      <td>20</td>\n",
       "      <td>auto</td>\n",
       "      <td>89</td>\n",
       "      <td>10 (cust3)</td>\n",
       "      <td>0.781206</td>\n",
       "      <td>0.021532</td>\n",
       "    </tr>\n",
       "  </tbody>\n",
       "</table>\n",
       "</div>"
      ],
      "text/plain": [
       "                 model criterion  max depth max features  n estimators  \\\n",
       "0  ExtraTreesRegressor       mse         22         auto            97   \n",
       "1  ExtraTreesRegressor       mse         20         auto            79   \n",
       "2  ExtraTreesRegressor       mse         16         auto            79   \n",
       "3  ExtraTreesRegressor       mse         20         auto            75   \n",
       "4  ExtraTreesRegressor       mse         18         auto            63   \n",
       "5  ExtraTreesRegressor       mse         19         auto            65   \n",
       "6  ExtraTreesRegressor       mse         28         auto            91   \n",
       "7  ExtraTreesRegressor       mse         20         auto            89   \n",
       "\n",
       "  numb of features  r2 score       std  \n",
       "0              all  0.772634  0.022122  \n",
       "1          10 (rf)  0.778918  0.026693  \n",
       "2          20 (rf)  0.778757  0.019188  \n",
       "3          20 (hm)  0.772849  0.029615  \n",
       "4          30 (rf)  0.770604  0.022718  \n",
       "5        18 (cust)  0.761590  0.023431  \n",
       "6       10 (cust2)  0.655372  0.039039  \n",
       "7       10 (cust3)  0.781206  0.021532  "
      ]
     },
     "execution_count": 153,
     "metadata": {},
     "output_type": "execute_result"
    }
   ],
   "source": [
    "table= pd.DataFrame.from_dict(my_dict)\n",
    "table"
   ]
  },
  {
   "cell_type": "markdown",
   "metadata": {},
   "source": [
    "### **Save best model**"
   ]
  },
  {
   "cell_type": "code",
   "execution_count": 157,
   "metadata": {},
   "outputs": [],
   "source": [
    "best_model= et_top10E_grid.best_estimator_\n",
    "best_model.version = '1.0'\n",
    "best_model.pandas_version = pd.__version__\n",
    "best_model.numpy_version = np.__version__\n",
    "best_model.sklearn_version = sklearn_version\n",
    "best_model.X_columns= [col for col in X_train.columns]\n",
    "best_model.build_datetime= datetime.datetime.now()\n"
   ]
  },
  {
   "cell_type": "code",
   "execution_count": 158,
   "metadata": {},
   "outputs": [
    {
     "data": {
      "text/plain": [
       "['D:\\\\Springboard Course\\\\Assignments\\\\Springboard\\\\NHL Salary Predictor\\\\Models/skater_model.pkl']"
      ]
     },
     "execution_count": 158,
     "metadata": {},
     "output_type": "execute_result"
    }
   ],
   "source": [
    "filename= r'D:\\Springboard Course\\Assignments\\Springboard\\NHL Salary Predictor\\Models/skater_model.pkl'\n",
    "joblib.dump(best_model, filename)"
   ]
  },
  {
   "cell_type": "code",
   "execution_count": null,
   "metadata": {},
   "outputs": [],
   "source": []
  },
  {
   "cell_type": "markdown",
   "metadata": {
    "id": "fepKIaYbQFHz"
   },
   "source": [
    "# GOALIES"
   ]
  },
  {
   "cell_type": "code",
   "execution_count": null,
   "metadata": {
    "id": "rBWmjITBQF-s"
   },
   "outputs": [],
   "source": [
    "X= goalies.iloc[:,1:-2]\n",
    "y= goalies.iloc[:, -1]\n",
    "\n",
    "X_train, X_test, y_train, y_test= train_test_split(X,y, test_size=0.2, random_state=12)"
   ]
  },
  {
   "cell_type": "code",
   "execution_count": null,
   "metadata": {},
   "outputs": [],
   "source": [
    "X.columns"
   ]
  },
  {
   "cell_type": "markdown",
   "metadata": {},
   "source": [
    "Feature Importances"
   ]
  },
  {
   "cell_type": "code",
   "execution_count": null,
   "metadata": {
    "id": "B8w7GYO_RtI8"
   },
   "outputs": [],
   "source": [
    "rf= RandomForestRegressor(n_estimators=100)\n",
    "rf.fit(X_train, y_train)\n",
    "rf.feature_importances_\n",
    "\n",
    "plt.figure(figsize= (7,7))\n",
    "sorted_idx= rf.feature_importances_.argsort()\n",
    "plt.barh(X.columns[sorted_idx], rf.feature_importances_[sorted_idx])\n",
    "plt.xlabel('Random Forest Feature Importance')"
   ]
  },
  {
   "cell_type": "code",
   "execution_count": null,
   "metadata": {},
   "outputs": [],
   "source": [
    "X.columns[sorted_idx[-14:]]"
   ]
  },
  {
   "cell_type": "markdown",
   "metadata": {},
   "source": [
    "#### all goalie features"
   ]
  },
  {
   "cell_type": "code",
   "execution_count": null,
   "metadata": {},
   "outputs": [],
   "source": [
    "X= goalies.iloc[:,1:-2]\n",
    "y= goalies.iloc[:, -1]\n",
    "\n",
    "X_train, X_test, y_train, y_test= train_test_split(X,y, test_size=0.2, random_state=12)\n",
    "\n",
    "\n",
    "results(RobustScaler(), LinearRegression(), X_train, y_train)\n",
    "print('------')\n",
    "results(None, ExtraTreesRegressor(random_state=47), X_train, y_train)\n",
    "print('------')\n",
    "results(None, RandomForestRegressor(random_state=47), X_train, y_train)\n",
    "print('------')\n",
    "results(RobustScaler(), Ridge(), X_train, y_train)\n",
    "print('------')\n",
    "results(RobustScaler(), Lasso(), X_train, y_train)\n",
    "print('------')\n",
    "results(RobustScaler(), ElasticNet(), X_train, y_train)\n",
    "print('------')\n",
    "results(None, GradientBoostingRegressor(), X_train, y_train)\n",
    "print('------')\n",
    "results(RobustScaler(), SGDRegressor(), X_train, y_train)\n",
    "print('------')\n",
    "results(RobustScaler(), SVR(), X_train, y_train)\n",
    "print('------')\n",
    "\n",
    "vif = pd.DataFrame()\n",
    "\n",
    "vif['VIF'] = [variance_inflation_factor(X.values, i) for i in range(X.shape[1])]\n",
    "vif['variable'] = X.columns\n",
    "vif"
   ]
  },
  {
   "cell_type": "markdown",
   "metadata": {},
   "source": [
    "#### top 10 rf features"
   ]
  },
  {
   "cell_type": "code",
   "execution_count": null,
   "metadata": {},
   "outputs": [],
   "source": [
    "gtop10= goalies[['AGE', 'Season', 'GAA', 'L', 'SUT', 'SOT_Pct', 'SV_Pct', 'QS', 'W','GPS']]\n",
    "\n",
    "X= gtop10.iloc[:,1:-2]\n",
    "y= gtop10.iloc[:, -1]\n",
    "\n",
    "X_train, X_test, y_train, y_test= train_test_split(X,y, test_size=0.2, random_state=12)\n",
    "\n",
    "\n",
    "results(RobustScaler(), LinearRegression(), X_train, y_train)\n",
    "print('------')\n",
    "results(None, ExtraTreesRegressor(random_state=47), X_train, y_train)\n",
    "print('------')\n",
    "results(None, RandomForestRegressor(random_state=47), X_train, y_train)\n",
    "print('------')\n",
    "results(RobustScaler(), Ridge(), X_train, y_train)\n",
    "print('------')\n",
    "results(RobustScaler(), Lasso(), X_train, y_train)\n",
    "print('------')\n",
    "results(RobustScaler(), ElasticNet(), X_train, y_train)\n",
    "print('------')\n",
    "results(None, GradientBoostingRegressor(), X_train, y_train)\n",
    "print('------')\n",
    "results(RobustScaler(), SGDRegressor(), X_train, y_train)\n",
    "print('------')\n",
    "results(RobustScaler(), SVR(), X_train, y_train)\n",
    "print('------')\n",
    "\n",
    "vif = pd.DataFrame()\n",
    "\n",
    "vif['VIF'] = [variance_inflation_factor(gtop10.values, i) for i in range(gtop10.shape[1])]\n",
    "vif['variable'] = gtop10.columns\n",
    "vif"
   ]
  },
  {
   "cell_type": "markdown",
   "metadata": {},
   "source": [
    "#### top 14 rf features"
   ]
  },
  {
   "cell_type": "code",
   "execution_count": null,
   "metadata": {},
   "outputs": [],
   "source": [
    "gtop14= goalies[['SOT_Saved', 'PTS', 'SOT_Att', 'TplusOTL', 'AGE', 'Season', 'GAA', 'L',\n",
    "                 'SUT', 'SOT_Pct', 'SV_Pct', 'QS', 'W', 'GPS']]\n",
    "\n",
    "X= gtop14.iloc[:,1:-2]\n",
    "y= gtop14.iloc[:, -1]\n",
    "\n",
    "X_train, X_test, y_train, y_test= train_test_split(X,y, test_size=0.2, random_state=12)\n",
    "\n",
    "\n",
    "results(RobustScaler(), LinearRegression(), X_train, y_train)\n",
    "print('------')\n",
    "results(None, ExtraTreesRegressor(random_state=47), X_train, y_train)\n",
    "print('------')\n",
    "results(None, RandomForestRegressor(random_state=47), X_train, y_train)\n",
    "print('------')\n",
    "results(RobustScaler(), Ridge(), X_train, y_train)\n",
    "print('------')\n",
    "results(RobustScaler(), Lasso(), X_train, y_train)\n",
    "print('------')\n",
    "results(RobustScaler(), ElasticNet(), X_train, y_train)\n",
    "print('------')\n",
    "results(None, GradientBoostingRegressor(), X_train, y_train)\n",
    "print('------')\n",
    "results(RobustScaler(), SGDRegressor(), X_train, y_train)\n",
    "print('------')\n",
    "results(RobustScaler(), SVR(), X_train, y_train)\n",
    "print('------')\n",
    "\n",
    "vif = pd.DataFrame()\n",
    "\n",
    "vif['VIF'] = [variance_inflation_factor(gtop14.values, i) for i in range(gtop14.shape[1])]\n",
    "vif['variable'] = gtop14.columns\n",
    "vif"
   ]
  },
  {
   "cell_type": "markdown",
   "metadata": {},
   "source": [
    "#### custom -- 8 features"
   ]
  },
  {
   "cell_type": "code",
   "execution_count": null,
   "metadata": {},
   "outputs": [],
   "source": [
    "gcustom= goalies[['GP','Season','W','GPS','GAA','SV_Pct','SOT_Pct','AGE']]\n",
    "\n",
    "X= gcustom.iloc[:,1:-2]\n",
    "y= gcustom.iloc[:, -1]\n",
    "\n",
    "X_train, X_test, y_train, y_test= train_test_split(X,y, test_size=0.2, random_state=12)\n",
    "\n",
    "\n",
    "results(RobustScaler(), LinearRegression(), X_train, y_train)\n",
    "print('------')\n",
    "results(None, ExtraTreesRegressor(random_state=47), X_train, y_train)\n",
    "print('------')\n",
    "results(None, RandomForestRegressor(random_state=47), X_train, y_train)\n",
    "print('------')\n",
    "results(RobustScaler(), Ridge(), X_train, y_train)\n",
    "print('------')\n",
    "results(RobustScaler(), Lasso(), X_train, y_train)\n",
    "print('------')\n",
    "results(RobustScaler(), ElasticNet(), X_train, y_train)\n",
    "print('------')\n",
    "results(None, GradientBoostingRegressor(), X_train, y_train)\n",
    "print('------')\n",
    "results(RobustScaler(), SGDRegressor(), X_train, y_train)\n",
    "print('------')\n",
    "results(RobustScaler(), SVR(), X_train, y_train)\n",
    "print('------')\n",
    "\n",
    "vif = pd.DataFrame()\n",
    "\n",
    "vif['VIF'] = [variance_inflation_factor(gcustom.values, i) for i in range(gcustom.shape[1])]\n",
    "vif['variable'] = gcustom.columns\n",
    "vif\n"
   ]
  },
  {
   "cell_type": "code",
   "execution_count": null,
   "metadata": {},
   "outputs": [],
   "source": []
  },
  {
   "cell_type": "code",
   "execution_count": null,
   "metadata": {},
   "outputs": [],
   "source": []
  },
  {
   "cell_type": "code",
   "execution_count": null,
   "metadata": {},
   "outputs": [],
   "source": []
  },
  {
   "cell_type": "code",
   "execution_count": null,
   "metadata": {},
   "outputs": [],
   "source": []
  },
  {
   "cell_type": "markdown",
   "metadata": {},
   "source": [
    "Goalie Pipeline"
   ]
  },
  {
   "cell_type": "code",
   "execution_count": null,
   "metadata": {},
   "outputs": [],
   "source": [
    "# Test out Extra Trees Regressor\n",
    "\n",
    "ef_gpipe= make_pipeline( ExtraTreesRegressor( random_state=47, max_depth= None))\n",
    "cv_results= cross_validate(ef_gpipe, X_train, y_train, cv=5)\n",
    "np.mean(cv_results['test_score']), np.std(cv_results['test_score'])"
   ]
  },
  {
   "cell_type": "code",
   "execution_count": null,
   "metadata": {},
   "outputs": [],
   "source": [
    "\n",
    "ef_gpipe= make_pipeline( RobustScaler(), LinearRegression())\n",
    "cv_results= cross_validate(ef_gpipe, X_train, y_train, cv=5)\n",
    "np.mean(cv_results['test_score']), np.std(cv_results['test_score'])"
   ]
  },
  {
   "cell_type": "code",
   "execution_count": null,
   "metadata": {},
   "outputs": [],
   "source": [
    "ef_gpipe= make_pipeline( RandomForestRegressor( random_state=47, max_depth= None))\n",
    "cv_results= cross_validate(ef_gpipe, X_train, y_train, cv=5)\n",
    "np.mean(cv_results['test_score']), np.std(cv_results['test_score'])"
   ]
  },
  {
   "cell_type": "code",
   "execution_count": null,
   "metadata": {},
   "outputs": [],
   "source": [
    "ef_gpipe= make_pipeline( Lasso())\n",
    "cv_results= cross_validate(ef_gpipe, X_train, y_train, cv=5)\n",
    "np.mean(cv_results['test_score']), np.std(cv_results['test_score'])"
   ]
  },
  {
   "cell_type": "code",
   "execution_count": null,
   "metadata": {},
   "outputs": [],
   "source": [
    "ef_gpipe= make_pipeline( Ridge())\n",
    "cv_results= cross_validate(ef_gpipe, X_train, y_train, cv=5)\n",
    "np.mean(cv_results['test_score']), np.std(cv_results['test_score'])"
   ]
  },
  {
   "cell_type": "code",
   "execution_count": null,
   "metadata": {},
   "outputs": [],
   "source": [
    "# gridsearch"
   ]
  },
  {
   "cell_type": "code",
   "execution_count": null,
   "metadata": {},
   "outputs": [],
   "source": [
    "# g_params= {\n",
    "#     'extratreesregressor__criterion': ['mse','mae'],\n",
    "#      'extratreesregressor__max_depth': [3,4,5,6,7,8],\n",
    "#     'extratreesregressor__max_features':['auto', 'sqrt','log2', 45],\n",
    "#     'extratreesregressor__n_estimators':[85,87,90,92,95]\n",
    "# }"
   ]
  },
  {
   "cell_type": "code",
   "execution_count": null,
   "metadata": {},
   "outputs": [],
   "source": [
    "ef_gpipe= make_pipeline( ExtraTreesRegressor( random_state=47, max_depth= None))"
   ]
  },
  {
   "cell_type": "code",
   "execution_count": null,
   "metadata": {},
   "outputs": [],
   "source": [
    "ef_goalie_grid_cv= GridSearchCV(ef_gpipe, param_grid=extra_params, cv=5, n_jobs=-1)"
   ]
  },
  {
   "cell_type": "code",
   "execution_count": null,
   "metadata": {},
   "outputs": [],
   "source": [
    "ef_goalie_grid_cv.fit(X_train, y_train)\n",
    "cv_results= cross_validate(ef_gpipe, X_train, y_train, cv=5)\n",
    "np.mean(cv_results['test_score']), np.std(cv_results['test_score'])\n"
   ]
  },
  {
   "cell_type": "code",
   "execution_count": null,
   "metadata": {},
   "outputs": [],
   "source": [
    "\n",
    "ef_goalie_grid_cv.best_params_"
   ]
  },
  {
   "cell_type": "code",
   "execution_count": null,
   "metadata": {},
   "outputs": [],
   "source": [
    "best_model= ef_grid_cv.best_estimator_\n",
    "best_model.version = '1.0'\n",
    "best_model.pandas_version = pd.__version__\n",
    "best_model.numpy_version = np.__version__\n",
    "best_model.sklearn_version = sklearn_version\n",
    "best_model.X_columns= [col for col in X_train.columns]\n",
    "best_model.build_datetime= datetime.datetime.now()\n",
    "\n",
    "filename= r'D:\\Springboard Course\\Assignments\\Springboard\\NHL Salary Predictor\\Models/goalie_model.pkl'\n",
    "joblib.dump(best_model, filename)"
   ]
  },
  {
   "cell_type": "markdown",
   "metadata": {},
   "source": [
    "Analysis of Variance Inflation Factor for Goalies "
   ]
  },
  {
   "cell_type": "code",
   "execution_count": null,
   "metadata": {
    "id": "PSHb3dCyST4d"
   },
   "outputs": [],
   "source": [
    "X_scaled= RobustScaler().fit_transform(X,y)\n",
    "X_scaled_df= pd.DataFrame(X_scaled)\n",
    "X_scaled_df.columns= X.columns\n",
    "X_scaled_df"
   ]
  }
 ],
 "metadata": {
  "colab": {
   "collapsed_sections": [],
   "name": "Preprocessing",
   "provenance": []
  },
  "kernelspec": {
   "display_name": "Python 3 (ipykernel)",
   "language": "python",
   "name": "python3"
  },
  "language_info": {
   "codemirror_mode": {
    "name": "ipython",
    "version": 3
   },
   "file_extension": ".py",
   "mimetype": "text/x-python",
   "name": "python",
   "nbconvert_exporter": "python",
   "pygments_lexer": "ipython3",
   "version": "3.9.7"
  }
 },
 "nbformat": 4,
 "nbformat_minor": 1
}
